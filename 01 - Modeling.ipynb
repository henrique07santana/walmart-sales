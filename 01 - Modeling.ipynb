{
 "cells": [
  {
   "cell_type": "code",
   "execution_count": 1,
   "metadata": {},
   "outputs": [],
   "source": [
    "import pandas as pd"
   ]
  },
  {
   "cell_type": "code",
   "execution_count": 2,
   "metadata": {},
   "outputs": [],
   "source": [
    "dataset = pd.read_csv('final_dataset.csv')"
   ]
  },
  {
   "cell_type": "code",
   "execution_count": 3,
   "metadata": {},
   "outputs": [],
   "source": [
    "y = dataset.Weekly_Sales\n",
    "X = dataset.drop(['Date', 'Weekly_Sales'], axis=1)"
   ]
  },
  {
   "cell_type": "code",
   "execution_count": 4,
   "metadata": {},
   "outputs": [],
   "source": [
    "from sklearn.model_selection import train_test_split"
   ]
  },
  {
   "cell_type": "code",
   "execution_count": 5,
   "metadata": {},
   "outputs": [],
   "source": [
    "X_train, X_test, y_train, y_test  = train_test_split(X, y, test_size=0.2, random_state=1)\n",
    "X_train, X_val, y_train, y_val = train_test_split(X_train, y_train, test_size=0.05, random_state=1)"
   ]
  },
  {
   "cell_type": "code",
   "execution_count": 6,
   "metadata": {},
   "outputs": [
    {
     "name": "stdout",
     "output_type": "stream",
     "text": [
      "X_train :  (320393, 22)\n",
      "y_train :  (320393,)\n",
      "X_test :  (84314, 22)\n",
      "y_test :  (84314,)\n",
      "X_val :  (16863, 22)\n",
      "y_val :  (16863,)\n"
     ]
    }
   ],
   "source": [
    "dfs = [X_train, y_train, X_test, y_test, X_val, y_val]\n",
    "names = ['X_train', 'y_train', 'X_test', 'y_test', 'X_val', 'y_val']\n",
    "zipping = zip(names, dfs)\n",
    "for i in zipping:\n",
    "    print(i[0], ': ', i[1].shape)"
   ]
  },
  {
   "cell_type": "markdown",
   "metadata": {},
   "source": [
    "**Scaling**"
   ]
  },
  {
   "cell_type": "code",
   "execution_count": 7,
   "metadata": {},
   "outputs": [],
   "source": [
    "from sklearn.preprocessing import StandardScaler\n",
    "X_train_s = StandardScaler().fit_transform(X_train)\n",
    "X_test_s = StandardScaler().fit_transform(X_test)\n",
    "X_val_s = StandardScaler().fit_transform(X_val)"
   ]
  },
  {
   "cell_type": "markdown",
   "metadata": {},
   "source": [
    "**Dummy Regressor - Bad Model**"
   ]
  },
  {
   "cell_type": "code",
   "execution_count": 8,
   "metadata": {},
   "outputs": [
    {
     "data": {
      "text/plain": [
       "-2.2330336468812106e-06"
      ]
     },
     "execution_count": 8,
     "metadata": {},
     "output_type": "execute_result"
    }
   ],
   "source": [
    "from sklearn.dummy import DummyRegressor\n",
    "dr = DummyRegressor()\n",
    "dr.fit(X_train, y_train)\n",
    "dr.score(X_test, y_test)"
   ]
  },
  {
   "cell_type": "markdown",
   "metadata": {},
   "source": [
    "**Linear Reggresion**"
   ]
  },
  {
   "cell_type": "code",
   "execution_count": 9,
   "metadata": {},
   "outputs": [
    {
     "data": {
      "text/plain": [
       "0.08954232454027877"
      ]
     },
     "execution_count": 9,
     "metadata": {},
     "output_type": "execute_result"
    }
   ],
   "source": [
    "from sklearn.linear_model import LinearRegression\n",
    "lr = LinearRegression()\n",
    "lr.fit(X_train, y_train)\n",
    "lr.score(X_test, y_test)"
   ]
  },
  {
   "cell_type": "markdown",
   "metadata": {},
   "source": [
    "**Ridge Regression - L1**"
   ]
  },
  {
   "cell_type": "code",
   "execution_count": 161,
   "metadata": {},
   "outputs": [
    {
     "data": {
      "text/plain": [
       "0.08954229757198096"
      ]
     },
     "execution_count": 161,
     "metadata": {},
     "output_type": "execute_result"
    }
   ],
   "source": [
    "from sklearn.linear_model import Ridge\n",
    "ridge = Ridge(alpha=1).fit(X_train, y_train)\n",
    "ridge.score(X_test, y_test)"
   ]
  },
  {
   "cell_type": "markdown",
   "metadata": {},
   "source": [
    "**Lasso Regression - L2**"
   ]
  },
  {
   "cell_type": "code",
   "execution_count": 162,
   "metadata": {},
   "outputs": [
    {
     "name": "stderr",
     "output_type": "stream",
     "text": [
      "/Users/henriquesantana/anaconda3/envs/datascience/lib/python3.7/site-packages/sklearn/linear_model/coordinate_descent.py:475: ConvergenceWarning: Objective did not converge. You might want to increase the number of iterations. Duality gap: 625539514247.1719, tolerance: 16576785544.033773\n",
      "  positive)\n"
     ]
    },
    {
     "data": {
      "text/plain": [
       "0.08953498077475419"
      ]
     },
     "execution_count": 162,
     "metadata": {},
     "output_type": "execute_result"
    }
   ],
   "source": [
    "from sklearn.linear_model import Lasso\n",
    "lasso = Lasso(alpha=1).fit(X_train, y_train)\n",
    "lasso.score(X_test, y_test)"
   ]
  },
  {
   "cell_type": "code",
   "execution_count": null,
   "metadata": {},
   "outputs": [],
   "source": [
    "# from sklearn.svm import SVR\n",
    "# svr = SVR()\n",
    "# svr.fit(X_train_s, y_train)\n",
    "# svr.score(X_test_s, y_test)"
   ]
  },
  {
   "cell_type": "code",
   "execution_count": null,
   "metadata": {},
   "outputs": [],
   "source": [
    "# from sklearn.neighbors import KNeighborsRegressor\n",
    "# knr = KNeighborsRegressor()\n",
    "# knr.fit(X_train_s, y_train)\n",
    "# knr.score(X_test_s, y_test)"
   ]
  },
  {
   "cell_type": "markdown",
   "metadata": {},
   "source": [
    "**Decision Tree**"
   ]
  },
  {
   "cell_type": "code",
   "execution_count": 10,
   "metadata": {},
   "outputs": [
    {
     "data": {
      "text/plain": [
       "0.9453481835142601"
      ]
     },
     "execution_count": 10,
     "metadata": {},
     "output_type": "execute_result"
    }
   ],
   "source": [
    "from sklearn.tree import DecisionTreeRegressor\n",
    "dtr = DecisionTreeRegressor(random_state=42)\n",
    "dtr.fit(X_train, y_train)\n",
    "dtr.score(X_test, y_test)"
   ]
  },
  {
   "cell_type": "markdown",
   "metadata": {},
   "source": [
    "**Random Forest**"
   ]
  },
  {
   "cell_type": "code",
   "execution_count": 11,
   "metadata": {},
   "outputs": [
    {
     "data": {
      "text/plain": [
       "0.9763107443186506"
      ]
     },
     "execution_count": 11,
     "metadata": {},
     "output_type": "execute_result"
    }
   ],
   "source": [
    "from sklearn.ensemble import RandomForestRegressor\n",
    "rfr = RandomForestRegressor(\n",
    "    random_state=42, \n",
    "    n_estimators=100\n",
    ")\n",
    "rfr.fit(X_train, y_train)\n",
    "rfr.score(X_test, y_test)"
   ]
  },
  {
   "cell_type": "markdown",
   "metadata": {},
   "source": [
    "\"Almost 98 percent of the variance in the response variable can be explained by the explanatory variables. The remaining 2 percent can be attributed to unknown, lurking variables or inherent variability.\""
   ]
  },
  {
   "cell_type": "code",
   "execution_count": 12,
   "metadata": {},
   "outputs": [
    {
     "data": {
      "text/html": [
       "<div>\n",
       "<style scoped>\n",
       "    .dataframe tbody tr th:only-of-type {\n",
       "        vertical-align: middle;\n",
       "    }\n",
       "\n",
       "    .dataframe tbody tr th {\n",
       "        vertical-align: top;\n",
       "    }\n",
       "\n",
       "    .dataframe thead th {\n",
       "        text-align: right;\n",
       "    }\n",
       "</style>\n",
       "<table border=\"1\" class=\"dataframe\">\n",
       "  <thead>\n",
       "    <tr style=\"text-align: right;\">\n",
       "      <th></th>\n",
       "      <th>Store</th>\n",
       "      <th>Dept</th>\n",
       "      <th>IsHoliday</th>\n",
       "      <th>Temperature</th>\n",
       "      <th>Fuel_Price</th>\n",
       "      <th>MarkDown1</th>\n",
       "      <th>MarkDown2</th>\n",
       "      <th>MarkDown3</th>\n",
       "      <th>MarkDown4</th>\n",
       "      <th>MarkDown5</th>\n",
       "      <th>...</th>\n",
       "      <th>Size</th>\n",
       "      <th>Year</th>\n",
       "      <th>Month</th>\n",
       "      <th>A</th>\n",
       "      <th>B</th>\n",
       "      <th>C</th>\n",
       "      <th>ChristmasCountDown</th>\n",
       "      <th>ThanksgivingCountDown</th>\n",
       "      <th>LaborDayCountDown</th>\n",
       "      <th>SuperBowlCountDown</th>\n",
       "    </tr>\n",
       "  </thead>\n",
       "  <tbody>\n",
       "    <tr>\n",
       "      <td>113154</td>\n",
       "      <td>12</td>\n",
       "      <td>85</td>\n",
       "      <td>0</td>\n",
       "      <td>93.29</td>\n",
       "      <td>3.805</td>\n",
       "      <td>0.00</td>\n",
       "      <td>0.00</td>\n",
       "      <td>0.00</td>\n",
       "      <td>0.0</td>\n",
       "      <td>0.00</td>\n",
       "      <td>...</td>\n",
       "      <td>112238</td>\n",
       "      <td>2011</td>\n",
       "      <td>7</td>\n",
       "      <td>0</td>\n",
       "      <td>1</td>\n",
       "      <td>0</td>\n",
       "      <td>154</td>\n",
       "      <td>119</td>\n",
       "      <td>42</td>\n",
       "      <td>196</td>\n",
       "    </tr>\n",
       "    <tr>\n",
       "      <td>17576</td>\n",
       "      <td>2</td>\n",
       "      <td>34</td>\n",
       "      <td>0</td>\n",
       "      <td>51.70</td>\n",
       "      <td>3.268</td>\n",
       "      <td>6552.26</td>\n",
       "      <td>4355.69</td>\n",
       "      <td>105.97</td>\n",
       "      <td>1703.1</td>\n",
       "      <td>3376.03</td>\n",
       "      <td>...</td>\n",
       "      <td>202307</td>\n",
       "      <td>2012</td>\n",
       "      <td>1</td>\n",
       "      <td>1</td>\n",
       "      <td>0</td>\n",
       "      <td>0</td>\n",
       "      <td>343</td>\n",
       "      <td>308</td>\n",
       "      <td>231</td>\n",
       "      <td>21</td>\n",
       "    </tr>\n",
       "    <tr>\n",
       "      <td>86683</td>\n",
       "      <td>9</td>\n",
       "      <td>38</td>\n",
       "      <td>0</td>\n",
       "      <td>86.41</td>\n",
       "      <td>3.407</td>\n",
       "      <td>1042.73</td>\n",
       "      <td>8.00</td>\n",
       "      <td>1.66</td>\n",
       "      <td>1129.2</td>\n",
       "      <td>2929.43</td>\n",
       "      <td>...</td>\n",
       "      <td>125833</td>\n",
       "      <td>2012</td>\n",
       "      <td>7</td>\n",
       "      <td>0</td>\n",
       "      <td>1</td>\n",
       "      <td>0</td>\n",
       "      <td>154</td>\n",
       "      <td>119</td>\n",
       "      <td>42</td>\n",
       "      <td>196</td>\n",
       "    </tr>\n",
       "    <tr>\n",
       "      <td>27045</td>\n",
       "      <td>3</td>\n",
       "      <td>91</td>\n",
       "      <td>0</td>\n",
       "      <td>58.06</td>\n",
       "      <td>3.290</td>\n",
       "      <td>774.55</td>\n",
       "      <td>349.99</td>\n",
       "      <td>0.00</td>\n",
       "      <td>4.0</td>\n",
       "      <td>328.72</td>\n",
       "      <td>...</td>\n",
       "      <td>37392</td>\n",
       "      <td>2012</td>\n",
       "      <td>1</td>\n",
       "      <td>0</td>\n",
       "      <td>1</td>\n",
       "      <td>0</td>\n",
       "      <td>336</td>\n",
       "      <td>301</td>\n",
       "      <td>224</td>\n",
       "      <td>14</td>\n",
       "    </tr>\n",
       "    <tr>\n",
       "      <td>342699</td>\n",
       "      <td>36</td>\n",
       "      <td>46</td>\n",
       "      <td>0</td>\n",
       "      <td>64.55</td>\n",
       "      <td>3.282</td>\n",
       "      <td>0.00</td>\n",
       "      <td>0.00</td>\n",
       "      <td>0.00</td>\n",
       "      <td>0.0</td>\n",
       "      <td>0.00</td>\n",
       "      <td>...</td>\n",
       "      <td>39910</td>\n",
       "      <td>2011</td>\n",
       "      <td>3</td>\n",
       "      <td>1</td>\n",
       "      <td>0</td>\n",
       "      <td>0</td>\n",
       "      <td>301</td>\n",
       "      <td>266</td>\n",
       "      <td>189</td>\n",
       "      <td>343</td>\n",
       "    </tr>\n",
       "  </tbody>\n",
       "</table>\n",
       "<p>5 rows × 22 columns</p>\n",
       "</div>"
      ],
      "text/plain": [
       "        Store  Dept  IsHoliday  Temperature  Fuel_Price  MarkDown1  MarkDown2  \\\n",
       "113154     12    85          0        93.29       3.805       0.00       0.00   \n",
       "17576       2    34          0        51.70       3.268    6552.26    4355.69   \n",
       "86683       9    38          0        86.41       3.407    1042.73       8.00   \n",
       "27045       3    91          0        58.06       3.290     774.55     349.99   \n",
       "342699     36    46          0        64.55       3.282       0.00       0.00   \n",
       "\n",
       "        MarkDown3  MarkDown4  MarkDown5  ...    Size  Year  Month  A  B  C  \\\n",
       "113154       0.00        0.0       0.00  ...  112238  2011      7  0  1  0   \n",
       "17576      105.97     1703.1    3376.03  ...  202307  2012      1  1  0  0   \n",
       "86683        1.66     1129.2    2929.43  ...  125833  2012      7  0  1  0   \n",
       "27045        0.00        4.0     328.72  ...   37392  2012      1  0  1  0   \n",
       "342699       0.00        0.0       0.00  ...   39910  2011      3  1  0  0   \n",
       "\n",
       "        ChristmasCountDown  ThanksgivingCountDown  LaborDayCountDown  \\\n",
       "113154                 154                    119                 42   \n",
       "17576                  343                    308                231   \n",
       "86683                  154                    119                 42   \n",
       "27045                  336                    301                224   \n",
       "342699                 301                    266                189   \n",
       "\n",
       "        SuperBowlCountDown  \n",
       "113154                 196  \n",
       "17576                   21  \n",
       "86683                  196  \n",
       "27045                   14  \n",
       "342699                 343  \n",
       "\n",
       "[5 rows x 22 columns]"
      ]
     },
     "execution_count": 12,
     "metadata": {},
     "output_type": "execute_result"
    }
   ],
   "source": [
    "X_val.head()"
   ]
  },
  {
   "cell_type": "code",
   "execution_count": 40,
   "metadata": {},
   "outputs": [],
   "source": [
    "validation = list(zip(y_val.head(20).index, y_val.head(20).values))"
   ]
  },
  {
   "cell_type": "code",
   "execution_count": 45,
   "metadata": {},
   "outputs": [
    {
     "name": "stdout",
     "output_type": "stream",
     "text": [
      "predicted:  [2522.0911] actual:  2147.97\n",
      "predicted:  [12147.5967] actual:  11203.41\n",
      "predicted:  [70611.1239] actual:  69044.18\n",
      "predicted:  [189.7852] actual:  167.72\n",
      "predicted:  [2593.2076] actual:  2692.53\n",
      "predicted:  [2443.5993] actual:  2455.21\n",
      "predicted:  [77779.0108] actual:  90366.66\n",
      "predicted:  [17191.3915] actual:  15570.39\n",
      "predicted:  [13688.0056] actual:  12941.88\n",
      "predicted:  [907.1846] actual:  1000.5\n",
      "predicted:  [1926.873] actual:  1847.38\n",
      "predicted:  [5522.2697] actual:  4510.69\n",
      "predicted:  [2570.994] actual:  2873.99\n",
      "predicted:  [17191.0964] actual:  20149.32\n",
      "predicted:  [1581.155] actual:  2001.38\n",
      "predicted:  [1528.1665] actual:  1870.26\n",
      "predicted:  [3983.672] actual:  3977.33\n",
      "predicted:  [80298.461] actual:  77712.67\n",
      "predicted:  [17305.425] actual:  17253.28\n",
      "predicted:  [18113.5863] actual:  16408.95\n"
     ]
    }
   ],
   "source": [
    "for i in validation:\n",
    "    print('predicted: ', rfr.predict([X_val.loc[i[0]]]), 'actual: ', i[1])"
   ]
  },
  {
   "cell_type": "markdown",
   "metadata": {},
   "source": [
    "## Appendix\n",
    "\n",
    "What else could have been done?"
   ]
  },
  {
   "cell_type": "markdown",
   "metadata": {},
   "source": [
    "### PCA\n",
    "\n",
    "To find the optimal componentes and them apply fit_transform"
   ]
  },
  {
   "cell_type": "code",
   "execution_count": 25,
   "metadata": {},
   "outputs": [
    {
     "data": {
      "image/png": "[encoded data removed]",
      "text/plain": [
       "<Figure size 432x288 with 1 Axes>"
      ]
     },
     "metadata": {
      "needs_background": "light"
     },
     "output_type": "display_data"
    }
   ],
   "source": [
    "X_Train=X_train.values\n",
    "X_Train=pd.np.asarray(X_Train)\n",
    "\n",
    "from sklearn.preprocessing import StandardScaler\n",
    "X_std=StandardScaler().fit_transform(X_Train)\n",
    "\n",
    "from sklearn.decomposition import PCA\n",
    "pca = PCA().fit(X_std)\n",
    "\n",
    "import matplotlib.pyplot as plt\n",
    "plt.plot(pd.np.cumsum(pca.explained_variance_ratio_))\n",
    "plt.xlim(0,22,1)\n",
    "plt.xlabel('Number of components')\n",
    "plt.ylabel('Cumulative explained variance')\n",
    "plt.show()"
   ]
  },
  {
   "cell_type": "markdown",
   "metadata": {},
   "source": [
    "Could use 15 components that explains more than 80% of variance"
   ]
  },
  {
   "cell_type": "markdown",
   "metadata": {},
   "source": [
    "### Using last weekly sales"
   ]
  },
  {
   "cell_type": "code",
   "execution_count": 26,
   "metadata": {},
   "outputs": [],
   "source": [
    "dataset['Weekly_Sales_t_1'] = dataset['Weekly_Sales'].shift(1)\n",
    "dataset['Weekly_Sales_t_2'] = dataset['Weekly_Sales'].shift(2)\n",
    "dataset['Weekly_Sales_t_3'] = dataset['Weekly_Sales'].shift(3)"
   ]
  },
  {
   "cell_type": "code",
   "execution_count": 27,
   "metadata": {},
   "outputs": [
    {
     "data": {
      "text/html": [
       "<div>\n",
       "<style scoped>\n",
       "    .dataframe tbody tr th:only-of-type {\n",
       "        vertical-align: middle;\n",
       "    }\n",
       "\n",
       "    .dataframe tbody tr th {\n",
       "        vertical-align: top;\n",
       "    }\n",
       "\n",
       "    .dataframe thead th {\n",
       "        text-align: right;\n",
       "    }\n",
       "</style>\n",
       "<table border=\"1\" class=\"dataframe\">\n",
       "  <thead>\n",
       "    <tr style=\"text-align: right;\">\n",
       "      <th></th>\n",
       "      <th>Weekly_Sales</th>\n",
       "      <th>Weekly_Sales_t_1</th>\n",
       "      <th>Weekly_Sales_t_2</th>\n",
       "      <th>Weekly_Sales_t_3</th>\n",
       "    </tr>\n",
       "  </thead>\n",
       "  <tbody>\n",
       "    <tr>\n",
       "      <td>0</td>\n",
       "      <td>24924.50</td>\n",
       "      <td>NaN</td>\n",
       "      <td>NaN</td>\n",
       "      <td>NaN</td>\n",
       "    </tr>\n",
       "    <tr>\n",
       "      <td>1</td>\n",
       "      <td>50605.27</td>\n",
       "      <td>24924.50</td>\n",
       "      <td>NaN</td>\n",
       "      <td>NaN</td>\n",
       "    </tr>\n",
       "    <tr>\n",
       "      <td>2</td>\n",
       "      <td>13740.12</td>\n",
       "      <td>50605.27</td>\n",
       "      <td>24924.50</td>\n",
       "      <td>NaN</td>\n",
       "    </tr>\n",
       "    <tr>\n",
       "      <td>3</td>\n",
       "      <td>39954.04</td>\n",
       "      <td>13740.12</td>\n",
       "      <td>50605.27</td>\n",
       "      <td>24924.50</td>\n",
       "    </tr>\n",
       "    <tr>\n",
       "      <td>4</td>\n",
       "      <td>32229.38</td>\n",
       "      <td>39954.04</td>\n",
       "      <td>13740.12</td>\n",
       "      <td>50605.27</td>\n",
       "    </tr>\n",
       "    <tr>\n",
       "      <td>5</td>\n",
       "      <td>5749.03</td>\n",
       "      <td>32229.38</td>\n",
       "      <td>39954.04</td>\n",
       "      <td>13740.12</td>\n",
       "    </tr>\n",
       "    <tr>\n",
       "      <td>6</td>\n",
       "      <td>21084.08</td>\n",
       "      <td>5749.03</td>\n",
       "      <td>32229.38</td>\n",
       "      <td>39954.04</td>\n",
       "    </tr>\n",
       "    <tr>\n",
       "      <td>7</td>\n",
       "      <td>40129.01</td>\n",
       "      <td>21084.08</td>\n",
       "      <td>5749.03</td>\n",
       "      <td>32229.38</td>\n",
       "    </tr>\n",
       "    <tr>\n",
       "      <td>8</td>\n",
       "      <td>16930.99</td>\n",
       "      <td>40129.01</td>\n",
       "      <td>21084.08</td>\n",
       "      <td>5749.03</td>\n",
       "    </tr>\n",
       "    <tr>\n",
       "      <td>9</td>\n",
       "      <td>30721.50</td>\n",
       "      <td>16930.99</td>\n",
       "      <td>40129.01</td>\n",
       "      <td>21084.08</td>\n",
       "    </tr>\n",
       "  </tbody>\n",
       "</table>\n",
       "</div>"
      ],
      "text/plain": [
       "   Weekly_Sales  Weekly_Sales_t_1  Weekly_Sales_t_2  Weekly_Sales_t_3\n",
       "0      24924.50               NaN               NaN               NaN\n",
       "1      50605.27          24924.50               NaN               NaN\n",
       "2      13740.12          50605.27          24924.50               NaN\n",
       "3      39954.04          13740.12          50605.27          24924.50\n",
       "4      32229.38          39954.04          13740.12          50605.27\n",
       "5       5749.03          32229.38          39954.04          13740.12\n",
       "6      21084.08           5749.03          32229.38          39954.04\n",
       "7      40129.01          21084.08           5749.03          32229.38\n",
       "8      16930.99          40129.01          21084.08           5749.03\n",
       "9      30721.50          16930.99          40129.01          21084.08"
      ]
     },
     "execution_count": 27,
     "metadata": {},
     "output_type": "execute_result"
    }
   ],
   "source": [
    "dataset[['Weekly_Sales', 'Weekly_Sales_t_1', 'Weekly_Sales_t_2', 'Weekly_Sales_t_3']].head(10)"
   ]
  },
  {
   "cell_type": "markdown",
   "metadata": {},
   "source": [
    "### Prediction Interval"
   ]
  },
  {
   "cell_type": "code",
   "execution_count": 84,
   "metadata": {},
   "outputs": [],
   "source": [
    "y_pred = rfr.predict(X_test)"
   ]
  },
  {
   "cell_type": "code",
   "execution_count": 140,
   "metadata": {},
   "outputs": [],
   "source": [
    "low_coef = 0.75\n",
    "high_coef = 1 + (1 - low_coef)\n",
    "idx = 52090\n",
    "x_in = pd.np.array(X_test)[idx]\n",
    "y_out = pd.np.array(y_test)[idx]\n",
    "y_pred_out = y_pred[idx]"
   ]
  },
  {
   "cell_type": "code",
   "execution_count": 141,
   "metadata": {},
   "outputs": [
    {
     "name": "stdout",
     "output_type": "stream",
     "text": [
      "Predicted value: 9984.400\n",
      "The true value is between 7488.300 and 12480.500\n",
      "True value: 9221.890\n"
     ]
    }
   ],
   "source": [
    "#print('Prediction Interval: %.3f' % interval)\n",
    "lower, upper = y_pred_out * low_coef, y_pred_out * high_coef\n",
    "print('Predicted value: %.3f' % y_pred_out)\n",
    "print('The true value is between %.3f and %.3f' % (lower, upper))\n",
    "print('True value: %.3f' % y_out)"
   ]
  },
  {
   "cell_type": "markdown",
   "metadata": {},
   "source": [
    "**Note**: I didn't calculated the intervals, I set it to 0.75 to 1.25. I could have used std deviation or quantiles in the sklearn"
   ]
  },
  {
   "cell_type": "markdown",
   "metadata": {},
   "source": [
    "### Grid Search"
   ]
  },
  {
   "cell_type": "code",
   "execution_count": 142,
   "metadata": {},
   "outputs": [],
   "source": [
    "from sklearn.model_selection import cross_val_score, GridSearchCV"
   ]
  },
  {
   "cell_type": "code",
   "execution_count": 153,
   "metadata": {},
   "outputs": [],
   "source": [
    "# def rfr_model(X, y):\n",
    "#     gsc = GridSearchCV(\n",
    "#         estimator=RandomForestRegressor(),\n",
    "#         param_grid={\n",
    "#             'n_estimators': (10, 50, 100, 1000),\n",
    "#         },\n",
    "#         cv=5, \n",
    "#         scoring='r2', \n",
    "#         verbose=0,      \n",
    "#         n_jobs=-1\n",
    "#     )\n",
    "    \n",
    "#     grid_result = gsc.fit(X, y)\n",
    "#     best_params = grid_result.best_params_\n",
    "     \n",
    "#     rfr2 = RandomForestRegressor(max_depth=best_params[\"max_depth\"], \n",
    "#                                  n_estimators=best_params[\"n_estimators\"], \n",
    "#                                  random_state=42, \n",
    "#                                  verbose=False)\n",
    "#     scores = cross_val_score(rfr2, X, y, cv=10, scoring='r2')\n",
    "\n",
    "#     return scores"
   ]
  },
  {
   "cell_type": "code",
   "execution_count": 155,
   "metadata": {},
   "outputs": [],
   "source": [
    "# scores = rfr_model(X_train, y_train)"
   ]
  },
  {
   "cell_type": "code",
   "execution_count": 164,
   "metadata": {},
   "outputs": [
    {
     "name": "stdout",
     "output_type": "stream",
     "text": [
      "Fitting 5 folds for each of 7 candidates, totalling 35 fits\n"
     ]
    },
    {
     "name": "stderr",
     "output_type": "stream",
     "text": [
      "[Parallel(n_jobs=-1)]: Using backend LokyBackend with 12 concurrent workers.\n",
      "[Parallel(n_jobs=-1)]: Done  35 out of  35 | elapsed:  8.7min finished\n"
     ]
    },
    {
     "name": "stdout",
     "output_type": "stream",
     "text": [
      "Best Score:  0.09239704276178444\n",
      "Best Params:  {'alpha': 0.001}\n"
     ]
    },
    {
     "name": "stderr",
     "output_type": "stream",
     "text": [
      "/Users/henriquesantana/anaconda3/envs/datascience/lib/python3.7/site-packages/sklearn/linear_model/coordinate_descent.py:475: ConvergenceWarning: Objective did not converge. You might want to increase the number of iterations. Duality gap: 73903042326428.19, tolerance: 16576785544.033773\n",
      "  positive)\n"
     ]
    }
   ],
   "source": [
    "alpha = [0.001, 0.01, 0.1, 1, 10, 100, 1000]\n",
    "param_grid = dict(alpha=alpha)\n",
    "grid = GridSearchCV(estimator=lasso, param_grid=param_grid, scoring='r2', verbose=1, n_jobs=-1, cv=5)\n",
    "grid_result = grid.fit(X_train, y_train)\n",
    "print('Best Score: ', grid_result.best_score_)\n",
    "print('Best Params: ', grid_result.best_params_)"
   ]
  },
  {
   "cell_type": "code",
   "execution_count": 166,
   "metadata": {},
   "outputs": [
    {
     "name": "stderr",
     "output_type": "stream",
     "text": [
      "/Users/henriquesantana/anaconda3/envs/datascience/lib/python3.7/site-packages/sklearn/linear_model/coordinate_descent.py:475: ConvergenceWarning: Objective did not converge. You might want to increase the number of iterations. Duality gap: 73903042326428.19, tolerance: 16576785544.033773\n",
      "  positive)\n"
     ]
    },
    {
     "data": {
      "text/plain": [
       "0.08954230693255072"
      ]
     },
     "execution_count": 166,
     "metadata": {},
     "output_type": "execute_result"
    }
   ],
   "source": [
    "lasso = Lasso(alpha=0.001).fit(X_train, y_train)\n",
    "lasso.score(X_test, y_test)"
   ]
  },
  {
   "cell_type": "markdown",
   "metadata": {},
   "source": [
    "previous: 0.08953498077475419\n",
    "\n",
    "Not that much improvement"
   ]
  },
  {
   "cell_type": "markdown",
   "metadata": {},
   "source": [
    "### XGBoost"
   ]
  },
  {
   "cell_type": "code",
   "execution_count": 169,
   "metadata": {},
   "outputs": [
    {
     "name": "stderr",
     "output_type": "stream",
     "text": [
      "/Users/henriquesantana/anaconda3/envs/datascience/lib/python3.7/site-packages/xgboost/core.py:587: FutureWarning: Series.base is deprecated and will be removed in a future version\n",
      "  if getattr(data, 'base', None) is not None and \\\n"
     ]
    },
    {
     "name": "stdout",
     "output_type": "stream",
     "text": [
      "[22:43:57] WARNING: src/objective/regression_obj.cu:152: reg:linear is now deprecated in favor of reg:squarederror.\n"
     ]
    },
    {
     "data": {
      "text/plain": [
       "0.7443996148251232"
      ]
     },
     "execution_count": 169,
     "metadata": {},
     "output_type": "execute_result"
    }
   ],
   "source": [
    "import xgboost as xgb\n",
    "xgr = xgb.XGBRegressor(random_state=42)\n",
    "xgr.fit(X_train, y_train)\n",
    "xgr.score(X_test, y_test)"
   ]
  },
  {
   "cell_type": "markdown",
   "metadata": {},
   "source": [
    "Not a good performance (r2), but could improve tuning hyperparameters and using previous explained approachs."
   ]
  },
  {
   "cell_type": "code",
   "execution_count": null,
   "metadata": {},
   "outputs": [],
   "source": []
  }
 ],
 "metadata": {
  "kernelspec": {
   "display_name": "Datascience",
   "language": "python",
   "name": "datascience"
  },
  "language_info": {
   "codemirror_mode": {
    "name": "ipython",
    "version": 3
   },
   "file_extension": ".py",
   "mimetype": "text/x-python",
   "name": "python",
   "nbconvert_exporter": "python",
   "pygments_lexer": "ipython3",
   "version": "3.7.4"
  }
 },
 "nbformat": 4,
 "nbformat_minor": 2
}
