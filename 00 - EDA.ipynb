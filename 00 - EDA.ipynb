{
 "cells": [
  {
   "cell_type": "markdown",
   "metadata": {},
   "source": [
    "<center><h1>  Exporatory Data Analysis </h1></center>"
   ]
  },
  {
   "cell_type": "markdown",
   "metadata": {},
   "source": [
    "### Data Info\n",
    "\n",
    "Historical sales data for 45 Walmart stores located in different regions. Each store contains a number of departments, and the task is predicting the department-wide sales for each store.\n",
    "\n",
    "In addition, Walmart runs several promotional markdown events throughout the year. These markdowns precede prominent holidays, the four largest of which are the Super Bowl, Labor Day, Thanksgiving, and Christmas. The weeks including these holidays are weighted five times higher in the evaluation than non-holiday weeks.\n",
    "\n",
    "Part of the challenge is modeling the effects of markdowns on these holiday weeks in the absence of complete/ideal historical data.\n",
    "\n",
    "- Store - the store number\n",
    "- Dept - the department number\n",
    "- Date - the week\n",
    "- Weekly_Sales -  sales for the given department in the given store\n",
    "- IsHoliday - whether the week is a special holiday week\n",
    "- Store - the store number\n",
    "- Temperature - average temperature in the region\n",
    "- Fuel_Price - cost of fuel in the region\n",
    "- MarkDown1-5 - anonymized data related to promotional markdowns that Walmart is running. MarkDown data is only available after Nov 2011, and is not available for all stores all the time. Any missing value is marked with an NA.\n",
    "- CPI - the consumer price index\n",
    "- Unemployment - the unemployment rate\n",
    "\n",
    "\n",
    "For convenience, the four holidays fall within the following weeks in the dataset (not all holidays are in the data):\n",
    "\n",
    "- **Super Bowl**: 12-Feb-10, 11-Feb-11, 10-Feb-12, 8-Feb-13\n",
    "- **Labor Day**: 10-Sep-10, 9-Sep-11, 7-Sep-12, 6-Sep-13\n",
    "- **Thanksgiving**: 26-Nov-10, 25-Nov-11, 23-Nov-12, 29-Nov-13\n",
    "- **Christmas**: 31-Dec-10, 30-Dec-11, 28-Dec-12, 27-Dec-13"
   ]
  },
  {
   "cell_type": "markdown",
   "metadata": {},
   "source": [
    "### Getting Data"
   ]
  },
  {
   "cell_type": "code",
   "execution_count": 1,
   "metadata": {},
   "outputs": [],
   "source": [
    "import pandas as pd\n",
    "import warnings\n",
    "warnings.filterwarnings('ignore')"
   ]
  },
  {
   "cell_type": "code",
   "execution_count": 2,
   "metadata": {},
   "outputs": [],
   "source": [
    "train_df = pd.read_csv('sales-forecasting/train.csv')\n",
    "test_df = pd.read_csv('sales-forecasting/test.csv')\n",
    "features_df = pd.read_csv('sales-forecasting/features.csv')\n",
    "stores_df = pd.read_csv('sales-forecasting/stores.csv')"
   ]
  },
  {
   "cell_type": "code",
   "execution_count": 3,
   "metadata": {},
   "outputs": [
    {
     "data": {
      "text/html": [
       "<div>\n",
       "<style scoped>\n",
       "    .dataframe tbody tr th:only-of-type {\n",
       "        vertical-align: middle;\n",
       "    }\n",
       "\n",
       "    .dataframe tbody tr th {\n",
       "        vertical-align: top;\n",
       "    }\n",
       "\n",
       "    .dataframe thead th {\n",
       "        text-align: right;\n",
       "    }\n",
       "</style>\n",
       "<table border=\"1\" class=\"dataframe\">\n",
       "  <thead>\n",
       "    <tr style=\"text-align: right;\">\n",
       "      <th></th>\n",
       "      <th>Store</th>\n",
       "      <th>Dept</th>\n",
       "      <th>Date</th>\n",
       "      <th>Weekly_Sales</th>\n",
       "      <th>IsHoliday</th>\n",
       "    </tr>\n",
       "  </thead>\n",
       "  <tbody>\n",
       "    <tr>\n",
       "      <td>0</td>\n",
       "      <td>1</td>\n",
       "      <td>1</td>\n",
       "      <td>2010-02-05</td>\n",
       "      <td>24924.50</td>\n",
       "      <td>False</td>\n",
       "    </tr>\n",
       "    <tr>\n",
       "      <td>1</td>\n",
       "      <td>1</td>\n",
       "      <td>1</td>\n",
       "      <td>2010-02-12</td>\n",
       "      <td>46039.49</td>\n",
       "      <td>True</td>\n",
       "    </tr>\n",
       "    <tr>\n",
       "      <td>2</td>\n",
       "      <td>1</td>\n",
       "      <td>1</td>\n",
       "      <td>2010-02-19</td>\n",
       "      <td>41595.55</td>\n",
       "      <td>False</td>\n",
       "    </tr>\n",
       "    <tr>\n",
       "      <td>3</td>\n",
       "      <td>1</td>\n",
       "      <td>1</td>\n",
       "      <td>2010-02-26</td>\n",
       "      <td>19403.54</td>\n",
       "      <td>False</td>\n",
       "    </tr>\n",
       "    <tr>\n",
       "      <td>4</td>\n",
       "      <td>1</td>\n",
       "      <td>1</td>\n",
       "      <td>2010-03-05</td>\n",
       "      <td>21827.90</td>\n",
       "      <td>False</td>\n",
       "    </tr>\n",
       "  </tbody>\n",
       "</table>\n",
       "</div>"
      ],
      "text/plain": [
       "   Store  Dept        Date  Weekly_Sales  IsHoliday\n",
       "0      1     1  2010-02-05      24924.50      False\n",
       "1      1     1  2010-02-12      46039.49       True\n",
       "2      1     1  2010-02-19      41595.55      False\n",
       "3      1     1  2010-02-26      19403.54      False\n",
       "4      1     1  2010-03-05      21827.90      False"
      ]
     },
     "execution_count": 3,
     "metadata": {},
     "output_type": "execute_result"
    }
   ],
   "source": [
    "train_df.head()"
   ]
  },
  {
   "cell_type": "code",
   "execution_count": 4,
   "metadata": {},
   "outputs": [
    {
     "data": {
      "text/html": [
       "<div>\n",
       "<style scoped>\n",
       "    .dataframe tbody tr th:only-of-type {\n",
       "        vertical-align: middle;\n",
       "    }\n",
       "\n",
       "    .dataframe tbody tr th {\n",
       "        vertical-align: top;\n",
       "    }\n",
       "\n",
       "    .dataframe thead th {\n",
       "        text-align: right;\n",
       "    }\n",
       "</style>\n",
       "<table border=\"1\" class=\"dataframe\">\n",
       "  <thead>\n",
       "    <tr style=\"text-align: right;\">\n",
       "      <th></th>\n",
       "      <th>Store</th>\n",
       "      <th>Date</th>\n",
       "      <th>Temperature</th>\n",
       "      <th>Fuel_Price</th>\n",
       "      <th>MarkDown1</th>\n",
       "      <th>MarkDown2</th>\n",
       "      <th>MarkDown3</th>\n",
       "      <th>MarkDown4</th>\n",
       "      <th>MarkDown5</th>\n",
       "      <th>CPI</th>\n",
       "      <th>Unemployment</th>\n",
       "      <th>IsHoliday</th>\n",
       "    </tr>\n",
       "  </thead>\n",
       "  <tbody>\n",
       "    <tr>\n",
       "      <td>0</td>\n",
       "      <td>1</td>\n",
       "      <td>2010-02-05</td>\n",
       "      <td>42.31</td>\n",
       "      <td>2.572</td>\n",
       "      <td>NaN</td>\n",
       "      <td>NaN</td>\n",
       "      <td>NaN</td>\n",
       "      <td>NaN</td>\n",
       "      <td>NaN</td>\n",
       "      <td>211.096358</td>\n",
       "      <td>8.106</td>\n",
       "      <td>False</td>\n",
       "    </tr>\n",
       "    <tr>\n",
       "      <td>1</td>\n",
       "      <td>1</td>\n",
       "      <td>2010-02-12</td>\n",
       "      <td>38.51</td>\n",
       "      <td>2.548</td>\n",
       "      <td>NaN</td>\n",
       "      <td>NaN</td>\n",
       "      <td>NaN</td>\n",
       "      <td>NaN</td>\n",
       "      <td>NaN</td>\n",
       "      <td>211.242170</td>\n",
       "      <td>8.106</td>\n",
       "      <td>True</td>\n",
       "    </tr>\n",
       "    <tr>\n",
       "      <td>2</td>\n",
       "      <td>1</td>\n",
       "      <td>2010-02-19</td>\n",
       "      <td>39.93</td>\n",
       "      <td>2.514</td>\n",
       "      <td>NaN</td>\n",
       "      <td>NaN</td>\n",
       "      <td>NaN</td>\n",
       "      <td>NaN</td>\n",
       "      <td>NaN</td>\n",
       "      <td>211.289143</td>\n",
       "      <td>8.106</td>\n",
       "      <td>False</td>\n",
       "    </tr>\n",
       "    <tr>\n",
       "      <td>3</td>\n",
       "      <td>1</td>\n",
       "      <td>2010-02-26</td>\n",
       "      <td>46.63</td>\n",
       "      <td>2.561</td>\n",
       "      <td>NaN</td>\n",
       "      <td>NaN</td>\n",
       "      <td>NaN</td>\n",
       "      <td>NaN</td>\n",
       "      <td>NaN</td>\n",
       "      <td>211.319643</td>\n",
       "      <td>8.106</td>\n",
       "      <td>False</td>\n",
       "    </tr>\n",
       "    <tr>\n",
       "      <td>4</td>\n",
       "      <td>1</td>\n",
       "      <td>2010-03-05</td>\n",
       "      <td>46.50</td>\n",
       "      <td>2.625</td>\n",
       "      <td>NaN</td>\n",
       "      <td>NaN</td>\n",
       "      <td>NaN</td>\n",
       "      <td>NaN</td>\n",
       "      <td>NaN</td>\n",
       "      <td>211.350143</td>\n",
       "      <td>8.106</td>\n",
       "      <td>False</td>\n",
       "    </tr>\n",
       "  </tbody>\n",
       "</table>\n",
       "</div>"
      ],
      "text/plain": [
       "   Store        Date  Temperature  Fuel_Price  MarkDown1  MarkDown2  \\\n",
       "0      1  2010-02-05        42.31       2.572        NaN        NaN   \n",
       "1      1  2010-02-12        38.51       2.548        NaN        NaN   \n",
       "2      1  2010-02-19        39.93       2.514        NaN        NaN   \n",
       "3      1  2010-02-26        46.63       2.561        NaN        NaN   \n",
       "4      1  2010-03-05        46.50       2.625        NaN        NaN   \n",
       "\n",
       "   MarkDown3  MarkDown4  MarkDown5         CPI  Unemployment  IsHoliday  \n",
       "0        NaN        NaN        NaN  211.096358         8.106      False  \n",
       "1        NaN        NaN        NaN  211.242170         8.106       True  \n",
       "2        NaN        NaN        NaN  211.289143         8.106      False  \n",
       "3        NaN        NaN        NaN  211.319643         8.106      False  \n",
       "4        NaN        NaN        NaN  211.350143         8.106      False  "
      ]
     },
     "execution_count": 4,
     "metadata": {},
     "output_type": "execute_result"
    }
   ],
   "source": [
    "features_df.head()"
   ]
  },
  {
   "cell_type": "code",
   "execution_count": 5,
   "metadata": {},
   "outputs": [
    {
     "data": {
      "text/html": [
       "<div>\n",
       "<style scoped>\n",
       "    .dataframe tbody tr th:only-of-type {\n",
       "        vertical-align: middle;\n",
       "    }\n",
       "\n",
       "    .dataframe tbody tr th {\n",
       "        vertical-align: top;\n",
       "    }\n",
       "\n",
       "    .dataframe thead th {\n",
       "        text-align: right;\n",
       "    }\n",
       "</style>\n",
       "<table border=\"1\" class=\"dataframe\">\n",
       "  <thead>\n",
       "    <tr style=\"text-align: right;\">\n",
       "      <th></th>\n",
       "      <th>Store</th>\n",
       "      <th>Type</th>\n",
       "      <th>Size</th>\n",
       "    </tr>\n",
       "  </thead>\n",
       "  <tbody>\n",
       "    <tr>\n",
       "      <td>0</td>\n",
       "      <td>1</td>\n",
       "      <td>A</td>\n",
       "      <td>151315</td>\n",
       "    </tr>\n",
       "    <tr>\n",
       "      <td>1</td>\n",
       "      <td>2</td>\n",
       "      <td>A</td>\n",
       "      <td>202307</td>\n",
       "    </tr>\n",
       "    <tr>\n",
       "      <td>2</td>\n",
       "      <td>3</td>\n",
       "      <td>B</td>\n",
       "      <td>37392</td>\n",
       "    </tr>\n",
       "    <tr>\n",
       "      <td>3</td>\n",
       "      <td>4</td>\n",
       "      <td>A</td>\n",
       "      <td>205863</td>\n",
       "    </tr>\n",
       "    <tr>\n",
       "      <td>4</td>\n",
       "      <td>5</td>\n",
       "      <td>B</td>\n",
       "      <td>34875</td>\n",
       "    </tr>\n",
       "  </tbody>\n",
       "</table>\n",
       "</div>"
      ],
      "text/plain": [
       "   Store Type    Size\n",
       "0      1    A  151315\n",
       "1      2    A  202307\n",
       "2      3    B   37392\n",
       "3      4    A  205863\n",
       "4      5    B   34875"
      ]
     },
     "execution_count": 5,
     "metadata": {},
     "output_type": "execute_result"
    }
   ],
   "source": [
    "stores_df.head()"
   ]
  },
  {
   "cell_type": "code",
   "execution_count": 6,
   "metadata": {},
   "outputs": [],
   "source": [
    "df = pd.merge(train_df, features_df, on=['Store','Date','IsHoliday'], how='inner')\n",
    "df = pd.merge(df, stores_df, on='Store', how='inner')"
   ]
  },
  {
   "cell_type": "markdown",
   "metadata": {},
   "source": [
    "### Profile Report"
   ]
  },
  {
   "cell_type": "code",
   "execution_count": 7,
   "metadata": {},
   "outputs": [],
   "source": [
    "import pandas_profiling"
   ]
  },
  {
   "cell_type": "code",
   "execution_count": 8,
   "metadata": {
    "scrolled": false
   },
   "outputs": [
    {
     "data": {
      "application/vnd.jupyter.widget-view+json": {
       "model_id": "42e4a19f121a49f3b0537c250e006a1f",
       "version_major": 2,
       "version_minor": 0
      },
      "text/plain": [
       "Tab(children=(HTML(value='<div id=\"overview-content\" class=\"row variable spacing\">\\n    <div class=\"row\">\\n   …"
      ]
     },
     "metadata": {},
     "output_type": "display_data"
    },
    {
     "data": {
      "text/html": [
       "Report generated with <a href=\"https://github.com/pandas-profiling/pandas-profiling\">pandas-profiling</a>."
      ],
      "text/plain": [
       "<IPython.core.display.HTML object>"
      ]
     },
     "metadata": {},
     "output_type": "display_data"
    },
    {
     "data": {
      "text/plain": []
     },
     "execution_count": 8,
     "metadata": {},
     "output_type": "execute_result"
    }
   ],
   "source": [
    "pandas_profiling.ProfileReport(df, minimal=True)"
   ]
  },
  {
   "cell_type": "markdown",
   "metadata": {},
   "source": [
    "### Visualizations"
   ]
  },
  {
   "cell_type": "code",
   "execution_count": 9,
   "metadata": {},
   "outputs": [
    {
     "data": {
      "text/html": [
       "        <script type=\"text/javascript\">\n",
       "        window.PlotlyConfig = {MathJaxConfig: 'local'};\n",
       "        if (window.MathJax) {MathJax.Hub.Config({SVG: {font: \"STIX-Web\"}});}\n",
       "        if (typeof require !== 'undefined') {\n",
       "        require.undef(\"plotly\");\n",
       "        requirejs.config({\n",
       "            paths: {\n",
       "                'plotly': ['https://cdn.plot.ly/plotly-latest.min']\n",
       "            }\n",
       "        });\n",
       "        require(['plotly'], function(Plotly) {\n",
       "            window._Plotly = Plotly;\n",
       "        });\n",
       "        }\n",
       "        </script>\n",
       "        "
      ]
     },
     "metadata": {},
     "output_type": "display_data"
    },
    {
     "data": {
      "text/html": [
       "        <script type=\"text/javascript\">\n",
       "        window.PlotlyConfig = {MathJaxConfig: 'local'};\n",
       "        if (window.MathJax) {MathJax.Hub.Config({SVG: {font: \"STIX-Web\"}});}\n",
       "        if (typeof require !== 'undefined') {\n",
       "        require.undef(\"plotly\");\n",
       "        requirejs.config({\n",
       "            paths: {\n",
       "                'plotly': ['https://cdn.plot.ly/plotly-latest.min']\n",
       "            }\n",
       "        });\n",
       "        require(['plotly'], function(Plotly) {\n",
       "            window._Plotly = Plotly;\n",
       "        });\n",
       "        }\n",
       "        </script>\n",
       "        "
      ]
     },
     "metadata": {},
     "output_type": "display_data"
    }
   ],
   "source": [
    "import ipywidgets as widgets\n",
    "from ipywidgets import interact, interact_manual\n",
    "import cufflinks as cf\n",
    "from plotly.offline import download_plotlyjs, init_notebook_mode, plot, iplot \n",
    "init_notebook_mode(connected=True)\n",
    "cf.go_offline()"
   ]
  },
  {
   "cell_type": "code",
   "execution_count": 10,
   "metadata": {},
   "outputs": [],
   "source": [
    "dept_store_df = pd.DataFrame(df.groupby(['Date', 'Dept', 'Store'])['Weekly_Sales'].sum()).reset_index()\n",
    "dept_store_df.Date = pd.to_datetime(dept_store_df['Date'])"
   ]
  },
  {
   "cell_type": "code",
   "execution_count": 11,
   "metadata": {
    "scrolled": false
   },
   "outputs": [
    {
     "data": {
      "application/vnd.jupyter.widget-view+json": {
       "model_id": "95768230edb54109bfecd0e9f5b0d6f4",
       "version_major": 2,
       "version_minor": 0
      },
      "text/plain": [
       "interactive(children=(Dropdown(description='plot_type', options=('line', 'box'), value='line'), Dropdown(descr…"
      ]
     },
     "metadata": {},
     "output_type": "display_data"
    }
   ],
   "source": [
    "def plot_series(plot_type,\n",
    "                x,\n",
    "                y,\n",
    "                up_to_date,\n",
    "                store,\n",
    "                dept,\n",
    "            ):\n",
    "    date = up_to_date\n",
    "    title = f'Interactive Dashboard: Weekly Sales'\n",
    "    if store == 'None' and dept == 'None':\n",
    "        dept_store_df[(dept_store_df['Date'] <= date)].groupby('Date')['Weekly_Sales'].sum().iplot(kind=plot_type, title=title)\n",
    "    if store == 'None' and dept != 'None':\n",
    "        dept_store_df[(dept_store_df['Dept'] == dept) & (dept_store_df['Date'] <= date)].groupby('Date')['Weekly_Sales'].sum().iplot(kind=plot_type, title=title) \n",
    "    if store != 'None' and dept == 'None':\n",
    "        dept_store_df[(dept_store_df['Store'] == store) & (dept_store_df['Date'] <= date)].groupby('Date')['Weekly_Sales'].sum().iplot(kind=plot_type, title=title)\n",
    "    if store != 'None' and dept != 'None':\n",
    "        dept_store_df[(dept_store_df['Dept'] == dept) & (dept_store_df['Store'] == store) & (dept_store_df['Date'] <= date)].groupby('Date')['Weekly_Sales'].sum().iplot(kind=plot_type, title=title)    \n",
    "        \n",
    "_ = interact(plot_series,\n",
    "             plot_type = ['line', 'box'],\n",
    "             store=widgets.Dropdown(options=['None']+list(dept_store_df.Store.unique())),\n",
    "             dept=widgets.Dropdown(options=['None']+list(dept_store_df.Dept.unique())),\n",
    "             up_to_date = widgets.DatePicker(value=pd.Timestamp('2012-10-26')),\n",
    "             x=['Date'],\n",
    "             y=['Weekly_Sales']\n",
    "            )"
   ]
  },
  {
   "cell_type": "code",
   "execution_count": 12,
   "metadata": {},
   "outputs": [
    {
     "name": "stdout",
     "output_type": "stream",
     "text": [
      "Total Weekly Sales Rank per Store\n"
     ]
    },
    {
     "data": {
      "text/html": [
       "<div>\n",
       "<style scoped>\n",
       "    .dataframe tbody tr th:only-of-type {\n",
       "        vertical-align: middle;\n",
       "    }\n",
       "\n",
       "    .dataframe tbody tr th {\n",
       "        vertical-align: top;\n",
       "    }\n",
       "\n",
       "    .dataframe thead th {\n",
       "        text-align: right;\n",
       "    }\n",
       "</style>\n",
       "<table border=\"1\" class=\"dataframe\">\n",
       "  <thead>\n",
       "    <tr style=\"text-align: right;\">\n",
       "      <th></th>\n",
       "      <th>Store</th>\n",
       "      <th>Weekly_Sales</th>\n",
       "    </tr>\n",
       "  </thead>\n",
       "  <tbody>\n",
       "    <tr>\n",
       "      <td>0</td>\n",
       "      <td>20</td>\n",
       "      <td>3.013978e+08</td>\n",
       "    </tr>\n",
       "    <tr>\n",
       "      <td>1</td>\n",
       "      <td>4</td>\n",
       "      <td>2.995440e+08</td>\n",
       "    </tr>\n",
       "    <tr>\n",
       "      <td>2</td>\n",
       "      <td>14</td>\n",
       "      <td>2.889999e+08</td>\n",
       "    </tr>\n",
       "    <tr>\n",
       "      <td>3</td>\n",
       "      <td>13</td>\n",
       "      <td>2.865177e+08</td>\n",
       "    </tr>\n",
       "    <tr>\n",
       "      <td>4</td>\n",
       "      <td>2</td>\n",
       "      <td>2.753824e+08</td>\n",
       "    </tr>\n",
       "    <tr>\n",
       "      <td>5</td>\n",
       "      <td>10</td>\n",
       "      <td>2.716177e+08</td>\n",
       "    </tr>\n",
       "    <tr>\n",
       "      <td>6</td>\n",
       "      <td>27</td>\n",
       "      <td>2.538559e+08</td>\n",
       "    </tr>\n",
       "    <tr>\n",
       "      <td>7</td>\n",
       "      <td>6</td>\n",
       "      <td>2.237561e+08</td>\n",
       "    </tr>\n",
       "    <tr>\n",
       "      <td>8</td>\n",
       "      <td>1</td>\n",
       "      <td>2.224028e+08</td>\n",
       "    </tr>\n",
       "    <tr>\n",
       "      <td>9</td>\n",
       "      <td>39</td>\n",
       "      <td>2.074455e+08</td>\n",
       "    </tr>\n",
       "    <tr>\n",
       "      <td>10</td>\n",
       "      <td>19</td>\n",
       "      <td>2.066349e+08</td>\n",
       "    </tr>\n",
       "    <tr>\n",
       "      <td>11</td>\n",
       "      <td>31</td>\n",
       "      <td>1.996139e+08</td>\n",
       "    </tr>\n",
       "    <tr>\n",
       "      <td>12</td>\n",
       "      <td>23</td>\n",
       "      <td>1.987506e+08</td>\n",
       "    </tr>\n",
       "    <tr>\n",
       "      <td>13</td>\n",
       "      <td>24</td>\n",
       "      <td>1.940160e+08</td>\n",
       "    </tr>\n",
       "    <tr>\n",
       "      <td>14</td>\n",
       "      <td>11</td>\n",
       "      <td>1.939628e+08</td>\n",
       "    </tr>\n",
       "    <tr>\n",
       "      <td>15</td>\n",
       "      <td>28</td>\n",
       "      <td>1.892637e+08</td>\n",
       "    </tr>\n",
       "    <tr>\n",
       "      <td>16</td>\n",
       "      <td>41</td>\n",
       "      <td>1.813419e+08</td>\n",
       "    </tr>\n",
       "    <tr>\n",
       "      <td>17</td>\n",
       "      <td>32</td>\n",
       "      <td>1.668192e+08</td>\n",
       "    </tr>\n",
       "    <tr>\n",
       "      <td>18</td>\n",
       "      <td>18</td>\n",
       "      <td>1.551147e+08</td>\n",
       "    </tr>\n",
       "    <tr>\n",
       "      <td>19</td>\n",
       "      <td>22</td>\n",
       "      <td>1.470756e+08</td>\n",
       "    </tr>\n",
       "    <tr>\n",
       "      <td>20</td>\n",
       "      <td>12</td>\n",
       "      <td>1.442872e+08</td>\n",
       "    </tr>\n",
       "    <tr>\n",
       "      <td>21</td>\n",
       "      <td>26</td>\n",
       "      <td>1.434164e+08</td>\n",
       "    </tr>\n",
       "    <tr>\n",
       "      <td>22</td>\n",
       "      <td>34</td>\n",
       "      <td>1.382498e+08</td>\n",
       "    </tr>\n",
       "    <tr>\n",
       "      <td>23</td>\n",
       "      <td>40</td>\n",
       "      <td>1.378703e+08</td>\n",
       "    </tr>\n",
       "    <tr>\n",
       "      <td>24</td>\n",
       "      <td>35</td>\n",
       "      <td>1.315207e+08</td>\n",
       "    </tr>\n",
       "    <tr>\n",
       "      <td>25</td>\n",
       "      <td>8</td>\n",
       "      <td>1.299512e+08</td>\n",
       "    </tr>\n",
       "    <tr>\n",
       "      <td>26</td>\n",
       "      <td>17</td>\n",
       "      <td>1.277821e+08</td>\n",
       "    </tr>\n",
       "    <tr>\n",
       "      <td>27</td>\n",
       "      <td>45</td>\n",
       "      <td>1.123953e+08</td>\n",
       "    </tr>\n",
       "    <tr>\n",
       "      <td>28</td>\n",
       "      <td>21</td>\n",
       "      <td>1.081179e+08</td>\n",
       "    </tr>\n",
       "    <tr>\n",
       "      <td>29</td>\n",
       "      <td>25</td>\n",
       "      <td>1.010612e+08</td>\n",
       "    </tr>\n",
       "    <tr>\n",
       "      <td>30</td>\n",
       "      <td>43</td>\n",
       "      <td>9.056544e+07</td>\n",
       "    </tr>\n",
       "    <tr>\n",
       "      <td>31</td>\n",
       "      <td>15</td>\n",
       "      <td>8.913368e+07</td>\n",
       "    </tr>\n",
       "    <tr>\n",
       "      <td>32</td>\n",
       "      <td>7</td>\n",
       "      <td>8.159828e+07</td>\n",
       "    </tr>\n",
       "    <tr>\n",
       "      <td>33</td>\n",
       "      <td>42</td>\n",
       "      <td>7.956575e+07</td>\n",
       "    </tr>\n",
       "    <tr>\n",
       "      <td>34</td>\n",
       "      <td>9</td>\n",
       "      <td>7.778922e+07</td>\n",
       "    </tr>\n",
       "    <tr>\n",
       "      <td>35</td>\n",
       "      <td>29</td>\n",
       "      <td>7.714155e+07</td>\n",
       "    </tr>\n",
       "    <tr>\n",
       "      <td>36</td>\n",
       "      <td>16</td>\n",
       "      <td>7.425243e+07</td>\n",
       "    </tr>\n",
       "    <tr>\n",
       "      <td>37</td>\n",
       "      <td>37</td>\n",
       "      <td>7.420274e+07</td>\n",
       "    </tr>\n",
       "    <tr>\n",
       "      <td>38</td>\n",
       "      <td>30</td>\n",
       "      <td>6.271689e+07</td>\n",
       "    </tr>\n",
       "    <tr>\n",
       "      <td>39</td>\n",
       "      <td>3</td>\n",
       "      <td>5.758674e+07</td>\n",
       "    </tr>\n",
       "    <tr>\n",
       "      <td>40</td>\n",
       "      <td>38</td>\n",
       "      <td>5.515963e+07</td>\n",
       "    </tr>\n",
       "    <tr>\n",
       "      <td>41</td>\n",
       "      <td>36</td>\n",
       "      <td>5.341221e+07</td>\n",
       "    </tr>\n",
       "    <tr>\n",
       "      <td>42</td>\n",
       "      <td>5</td>\n",
       "      <td>4.547569e+07</td>\n",
       "    </tr>\n",
       "    <tr>\n",
       "      <td>43</td>\n",
       "      <td>44</td>\n",
       "      <td>4.329309e+07</td>\n",
       "    </tr>\n",
       "    <tr>\n",
       "      <td>44</td>\n",
       "      <td>33</td>\n",
       "      <td>3.716022e+07</td>\n",
       "    </tr>\n",
       "  </tbody>\n",
       "</table>\n",
       "</div>"
      ],
      "text/plain": [
       "    Store  Weekly_Sales\n",
       "0      20  3.013978e+08\n",
       "1       4  2.995440e+08\n",
       "2      14  2.889999e+08\n",
       "3      13  2.865177e+08\n",
       "4       2  2.753824e+08\n",
       "5      10  2.716177e+08\n",
       "6      27  2.538559e+08\n",
       "7       6  2.237561e+08\n",
       "8       1  2.224028e+08\n",
       "9      39  2.074455e+08\n",
       "10     19  2.066349e+08\n",
       "11     31  1.996139e+08\n",
       "12     23  1.987506e+08\n",
       "13     24  1.940160e+08\n",
       "14     11  1.939628e+08\n",
       "15     28  1.892637e+08\n",
       "16     41  1.813419e+08\n",
       "17     32  1.668192e+08\n",
       "18     18  1.551147e+08\n",
       "19     22  1.470756e+08\n",
       "20     12  1.442872e+08\n",
       "21     26  1.434164e+08\n",
       "22     34  1.382498e+08\n",
       "23     40  1.378703e+08\n",
       "24     35  1.315207e+08\n",
       "25      8  1.299512e+08\n",
       "26     17  1.277821e+08\n",
       "27     45  1.123953e+08\n",
       "28     21  1.081179e+08\n",
       "29     25  1.010612e+08\n",
       "30     43  9.056544e+07\n",
       "31     15  8.913368e+07\n",
       "32      7  8.159828e+07\n",
       "33     42  7.956575e+07\n",
       "34      9  7.778922e+07\n",
       "35     29  7.714155e+07\n",
       "36     16  7.425243e+07\n",
       "37     37  7.420274e+07\n",
       "38     30  6.271689e+07\n",
       "39      3  5.758674e+07\n",
       "40     38  5.515963e+07\n",
       "41     36  5.341221e+07\n",
       "42      5  4.547569e+07\n",
       "43     44  4.329309e+07\n",
       "44     33  3.716022e+07"
      ]
     },
     "execution_count": 12,
     "metadata": {},
     "output_type": "execute_result"
    }
   ],
   "source": [
    "print('Total Weekly Sales Rank per Store')\n",
    "pd.DataFrame(df.groupby('Store')['Weekly_Sales'].sum().sort_values(ascending=False)).reset_index()"
   ]
  },
  {
   "cell_type": "code",
   "execution_count": 13,
   "metadata": {},
   "outputs": [
    {
     "name": "stdout",
     "output_type": "stream",
     "text": [
      "Total Weekly Sales Rank per Dept\n"
     ]
    },
    {
     "data": {
      "text/html": [
       "<div>\n",
       "<style scoped>\n",
       "    .dataframe tbody tr th:only-of-type {\n",
       "        vertical-align: middle;\n",
       "    }\n",
       "\n",
       "    .dataframe tbody tr th {\n",
       "        vertical-align: top;\n",
       "    }\n",
       "\n",
       "    .dataframe thead th {\n",
       "        text-align: right;\n",
       "    }\n",
       "</style>\n",
       "<table border=\"1\" class=\"dataframe\">\n",
       "  <thead>\n",
       "    <tr style=\"text-align: right;\">\n",
       "      <th></th>\n",
       "      <th>Dept</th>\n",
       "      <th>Weekly_Sales</th>\n",
       "    </tr>\n",
       "  </thead>\n",
       "  <tbody>\n",
       "    <tr>\n",
       "      <td>0</td>\n",
       "      <td>92</td>\n",
       "      <td>4.839433e+08</td>\n",
       "    </tr>\n",
       "    <tr>\n",
       "      <td>1</td>\n",
       "      <td>95</td>\n",
       "      <td>4.493202e+08</td>\n",
       "    </tr>\n",
       "    <tr>\n",
       "      <td>2</td>\n",
       "      <td>38</td>\n",
       "      <td>3.931181e+08</td>\n",
       "    </tr>\n",
       "    <tr>\n",
       "      <td>3</td>\n",
       "      <td>72</td>\n",
       "      <td>3.057252e+08</td>\n",
       "    </tr>\n",
       "    <tr>\n",
       "      <td>4</td>\n",
       "      <td>90</td>\n",
       "      <td>2.910685e+08</td>\n",
       "    </tr>\n",
       "    <tr>\n",
       "      <td>...</td>\n",
       "      <td>...</td>\n",
       "      <td>...</td>\n",
       "    </tr>\n",
       "    <tr>\n",
       "      <td>76</td>\n",
       "      <td>51</td>\n",
       "      <td>3.057283e+04</td>\n",
       "    </tr>\n",
       "    <tr>\n",
       "      <td>77</td>\n",
       "      <td>78</td>\n",
       "      <td>1.714710e+03</td>\n",
       "    </tr>\n",
       "    <tr>\n",
       "      <td>78</td>\n",
       "      <td>39</td>\n",
       "      <td>1.779800e+02</td>\n",
       "    </tr>\n",
       "    <tr>\n",
       "      <td>79</td>\n",
       "      <td>43</td>\n",
       "      <td>1.432000e+01</td>\n",
       "    </tr>\n",
       "    <tr>\n",
       "      <td>80</td>\n",
       "      <td>47</td>\n",
       "      <td>-4.962930e+03</td>\n",
       "    </tr>\n",
       "  </tbody>\n",
       "</table>\n",
       "<p>81 rows × 2 columns</p>\n",
       "</div>"
      ],
      "text/plain": [
       "    Dept  Weekly_Sales\n",
       "0     92  4.839433e+08\n",
       "1     95  4.493202e+08\n",
       "2     38  3.931181e+08\n",
       "3     72  3.057252e+08\n",
       "4     90  2.910685e+08\n",
       "..   ...           ...\n",
       "76    51  3.057283e+04\n",
       "77    78  1.714710e+03\n",
       "78    39  1.779800e+02\n",
       "79    43  1.432000e+01\n",
       "80    47 -4.962930e+03\n",
       "\n",
       "[81 rows x 2 columns]"
      ]
     },
     "execution_count": 13,
     "metadata": {},
     "output_type": "execute_result"
    }
   ],
   "source": [
    "print('Total Weekly Sales Rank per Dept')\n",
    "pd.DataFrame(df.groupby('Dept')['Weekly_Sales'].sum().sort_values(ascending=False)).reset_index()"
   ]
  },
  {
   "cell_type": "code",
   "execution_count": 14,
   "metadata": {},
   "outputs": [
    {
     "name": "stdout",
     "output_type": "stream",
     "text": [
      "Max Weekly Sales Info per Store\n"
     ]
    },
    {
     "data": {
      "text/html": [
       "<div>\n",
       "<style scoped>\n",
       "    .dataframe tbody tr th:only-of-type {\n",
       "        vertical-align: middle;\n",
       "    }\n",
       "\n",
       "    .dataframe tbody tr th {\n",
       "        vertical-align: top;\n",
       "    }\n",
       "\n",
       "    .dataframe thead th {\n",
       "        text-align: right;\n",
       "    }\n",
       "</style>\n",
       "<table border=\"1\" class=\"dataframe\">\n",
       "  <thead>\n",
       "    <tr style=\"text-align: right;\">\n",
       "      <th></th>\n",
       "      <th>Store</th>\n",
       "      <th>Dept</th>\n",
       "      <th>Date</th>\n",
       "      <th>IsHoliday</th>\n",
       "      <th>Weekly_Sales</th>\n",
       "    </tr>\n",
       "  </thead>\n",
       "  <tbody>\n",
       "    <tr>\n",
       "      <td>6784</td>\n",
       "      <td>1</td>\n",
       "      <td>72</td>\n",
       "      <td>2011-11-25</td>\n",
       "      <td>True</td>\n",
       "      <td>203670.47</td>\n",
       "    </tr>\n",
       "    <tr>\n",
       "      <td>13293</td>\n",
       "      <td>2</td>\n",
       "      <td>72</td>\n",
       "      <td>2010-11-26</td>\n",
       "      <td>True</td>\n",
       "      <td>285353.53</td>\n",
       "    </tr>\n",
       "    <tr>\n",
       "      <td>20517</td>\n",
       "      <td>3</td>\n",
       "      <td>38</td>\n",
       "      <td>2010-02-05</td>\n",
       "      <td>False</td>\n",
       "      <td>155897.94</td>\n",
       "    </tr>\n",
       "    <tr>\n",
       "      <td>36312</td>\n",
       "      <td>4</td>\n",
       "      <td>72</td>\n",
       "      <td>2011-11-25</td>\n",
       "      <td>True</td>\n",
       "      <td>385051.04</td>\n",
       "    </tr>\n",
       "    <tr>\n",
       "      <td>45745</td>\n",
       "      <td>5</td>\n",
       "      <td>72</td>\n",
       "      <td>2011-11-25</td>\n",
       "      <td>True</td>\n",
       "      <td>93517.72</td>\n",
       "    </tr>\n",
       "    <tr>\n",
       "      <td>51826</td>\n",
       "      <td>6</td>\n",
       "      <td>72</td>\n",
       "      <td>2010-11-26</td>\n",
       "      <td>True</td>\n",
       "      <td>342578.65</td>\n",
       "    </tr>\n",
       "    <tr>\n",
       "      <td>65444</td>\n",
       "      <td>7</td>\n",
       "      <td>72</td>\n",
       "      <td>2011-11-25</td>\n",
       "      <td>True</td>\n",
       "      <td>222921.09</td>\n",
       "    </tr>\n",
       "    <tr>\n",
       "      <td>71724</td>\n",
       "      <td>8</td>\n",
       "      <td>72</td>\n",
       "      <td>2010-11-26</td>\n",
       "      <td>True</td>\n",
       "      <td>153431.69</td>\n",
       "    </tr>\n",
       "    <tr>\n",
       "      <td>84492</td>\n",
       "      <td>9</td>\n",
       "      <td>72</td>\n",
       "      <td>2011-11-25</td>\n",
       "      <td>True</td>\n",
       "      <td>139427.43</td>\n",
       "    </tr>\n",
       "    <tr>\n",
       "      <td>90645</td>\n",
       "      <td>10</td>\n",
       "      <td>72</td>\n",
       "      <td>2010-11-26</td>\n",
       "      <td>True</td>\n",
       "      <td>693099.36</td>\n",
       "    </tr>\n",
       "    <tr>\n",
       "      <td>100820</td>\n",
       "      <td>11</td>\n",
       "      <td>72</td>\n",
       "      <td>2010-11-26</td>\n",
       "      <td>True</td>\n",
       "      <td>245767.47</td>\n",
       "    </tr>\n",
       "    <tr>\n",
       "      <td>114299</td>\n",
       "      <td>12</td>\n",
       "      <td>72</td>\n",
       "      <td>2011-11-25</td>\n",
       "      <td>True</td>\n",
       "      <td>360140.66</td>\n",
       "    </tr>\n",
       "    <tr>\n",
       "      <td>120996</td>\n",
       "      <td>13</td>\n",
       "      <td>7</td>\n",
       "      <td>2010-12-24</td>\n",
       "      <td>False</td>\n",
       "      <td>292165.78</td>\n",
       "    </tr>\n",
       "    <tr>\n",
       "      <td>131088</td>\n",
       "      <td>14</td>\n",
       "      <td>72</td>\n",
       "      <td>2010-11-26</td>\n",
       "      <td>True</td>\n",
       "      <td>474330.10</td>\n",
       "    </tr>\n",
       "    <tr>\n",
       "      <td>141070</td>\n",
       "      <td>15</td>\n",
       "      <td>72</td>\n",
       "      <td>2010-11-26</td>\n",
       "      <td>True</td>\n",
       "      <td>292555.25</td>\n",
       "    </tr>\n",
       "    <tr>\n",
       "      <td>154168</td>\n",
       "      <td>16</td>\n",
       "      <td>72</td>\n",
       "      <td>2011-11-25</td>\n",
       "      <td>True</td>\n",
       "      <td>129372.97</td>\n",
       "    </tr>\n",
       "    <tr>\n",
       "      <td>163958</td>\n",
       "      <td>17</td>\n",
       "      <td>72</td>\n",
       "      <td>2011-11-25</td>\n",
       "      <td>True</td>\n",
       "      <td>194660.52</td>\n",
       "    </tr>\n",
       "    <tr>\n",
       "      <td>170247</td>\n",
       "      <td>18</td>\n",
       "      <td>72</td>\n",
       "      <td>2010-11-26</td>\n",
       "      <td>True</td>\n",
       "      <td>353008.64</td>\n",
       "    </tr>\n",
       "    <tr>\n",
       "      <td>180227</td>\n",
       "      <td>19</td>\n",
       "      <td>72</td>\n",
       "      <td>2010-11-26</td>\n",
       "      <td>True</td>\n",
       "      <td>339846.03</td>\n",
       "    </tr>\n",
       "    <tr>\n",
       "      <td>190370</td>\n",
       "      <td>20</td>\n",
       "      <td>72</td>\n",
       "      <td>2010-11-26</td>\n",
       "      <td>True</td>\n",
       "      <td>422306.25</td>\n",
       "    </tr>\n",
       "    <tr>\n",
       "      <td>203868</td>\n",
       "      <td>21</td>\n",
       "      <td>72</td>\n",
       "      <td>2011-11-25</td>\n",
       "      <td>True</td>\n",
       "      <td>244640.55</td>\n",
       "    </tr>\n",
       "    <tr>\n",
       "      <td>210037</td>\n",
       "      <td>22</td>\n",
       "      <td>72</td>\n",
       "      <td>2010-11-26</td>\n",
       "      <td>True</td>\n",
       "      <td>393705.20</td>\n",
       "    </tr>\n",
       "    <tr>\n",
       "      <td>219800</td>\n",
       "      <td>23</td>\n",
       "      <td>72</td>\n",
       "      <td>2010-11-26</td>\n",
       "      <td>True</td>\n",
       "      <td>369830.98</td>\n",
       "    </tr>\n",
       "    <tr>\n",
       "      <td>229912</td>\n",
       "      <td>24</td>\n",
       "      <td>72</td>\n",
       "      <td>2010-11-26</td>\n",
       "      <td>True</td>\n",
       "      <td>233371.62</td>\n",
       "    </tr>\n",
       "    <tr>\n",
       "      <td>240020</td>\n",
       "      <td>25</td>\n",
       "      <td>72</td>\n",
       "      <td>2010-11-26</td>\n",
       "      <td>True</td>\n",
       "      <td>198719.71</td>\n",
       "    </tr>\n",
       "    <tr>\n",
       "      <td>249822</td>\n",
       "      <td>26</td>\n",
       "      <td>72</td>\n",
       "      <td>2010-11-26</td>\n",
       "      <td>True</td>\n",
       "      <td>196615.87</td>\n",
       "    </tr>\n",
       "    <tr>\n",
       "      <td>259799</td>\n",
       "      <td>27</td>\n",
       "      <td>72</td>\n",
       "      <td>2010-11-26</td>\n",
       "      <td>True</td>\n",
       "      <td>420586.57</td>\n",
       "    </tr>\n",
       "    <tr>\n",
       "      <td>269997</td>\n",
       "      <td>28</td>\n",
       "      <td>72</td>\n",
       "      <td>2010-11-26</td>\n",
       "      <td>True</td>\n",
       "      <td>355356.39</td>\n",
       "    </tr>\n",
       "    <tr>\n",
       "      <td>279915</td>\n",
       "      <td>29</td>\n",
       "      <td>72</td>\n",
       "      <td>2010-11-26</td>\n",
       "      <td>True</td>\n",
       "      <td>266480.63</td>\n",
       "    </tr>\n",
       "    <tr>\n",
       "      <td>292348</td>\n",
       "      <td>30</td>\n",
       "      <td>38</td>\n",
       "      <td>2012-04-20</td>\n",
       "      <td>False</td>\n",
       "      <td>80457.01</td>\n",
       "    </tr>\n",
       "    <tr>\n",
       "      <td>300426</td>\n",
       "      <td>31</td>\n",
       "      <td>72</td>\n",
       "      <td>2011-11-25</td>\n",
       "      <td>True</td>\n",
       "      <td>274558.07</td>\n",
       "    </tr>\n",
       "    <tr>\n",
       "      <td>310613</td>\n",
       "      <td>32</td>\n",
       "      <td>72</td>\n",
       "      <td>2011-11-25</td>\n",
       "      <td>True</td>\n",
       "      <td>220379.93</td>\n",
       "    </tr>\n",
       "    <tr>\n",
       "      <td>314655</td>\n",
       "      <td>33</td>\n",
       "      <td>93</td>\n",
       "      <td>2010-05-14</td>\n",
       "      <td>False</td>\n",
       "      <td>49129.77</td>\n",
       "    </tr>\n",
       "    <tr>\n",
       "      <td>327346</td>\n",
       "      <td>34</td>\n",
       "      <td>72</td>\n",
       "      <td>2011-11-25</td>\n",
       "      <td>True</td>\n",
       "      <td>161262.15</td>\n",
       "    </tr>\n",
       "    <tr>\n",
       "      <td>337053</td>\n",
       "      <td>35</td>\n",
       "      <td>72</td>\n",
       "      <td>2011-11-25</td>\n",
       "      <td>True</td>\n",
       "      <td>649770.18</td>\n",
       "    </tr>\n",
       "    <tr>\n",
       "      <td>340706</td>\n",
       "      <td>36</td>\n",
       "      <td>94</td>\n",
       "      <td>2010-04-16</td>\n",
       "      <td>False</td>\n",
       "      <td>78974.83</td>\n",
       "    </tr>\n",
       "    <tr>\n",
       "      <td>348847</td>\n",
       "      <td>37</td>\n",
       "      <td>38</td>\n",
       "      <td>2011-01-07</td>\n",
       "      <td>False</td>\n",
       "      <td>99514.86</td>\n",
       "    </tr>\n",
       "    <tr>\n",
       "      <td>360297</td>\n",
       "      <td>38</td>\n",
       "      <td>38</td>\n",
       "      <td>2012-07-20</td>\n",
       "      <td>False</td>\n",
       "      <td>100618.04</td>\n",
       "    </tr>\n",
       "    <tr>\n",
       "      <td>367624</td>\n",
       "      <td>39</td>\n",
       "      <td>72</td>\n",
       "      <td>2011-11-25</td>\n",
       "      <td>True</td>\n",
       "      <td>351553.98</td>\n",
       "    </tr>\n",
       "    <tr>\n",
       "      <td>377568</td>\n",
       "      <td>40</td>\n",
       "      <td>72</td>\n",
       "      <td>2011-11-25</td>\n",
       "      <td>True</td>\n",
       "      <td>145504.24</td>\n",
       "    </tr>\n",
       "    <tr>\n",
       "      <td>383950</td>\n",
       "      <td>41</td>\n",
       "      <td>72</td>\n",
       "      <td>2010-11-26</td>\n",
       "      <td>True</td>\n",
       "      <td>290809.17</td>\n",
       "    </tr>\n",
       "    <tr>\n",
       "      <td>395455</td>\n",
       "      <td>42</td>\n",
       "      <td>92</td>\n",
       "      <td>2011-11-11</td>\n",
       "      <td>False</td>\n",
       "      <td>112152.35</td>\n",
       "    </tr>\n",
       "    <tr>\n",
       "      <td>402685</td>\n",
       "      <td>43</td>\n",
       "      <td>92</td>\n",
       "      <td>2011-12-23</td>\n",
       "      <td>False</td>\n",
       "      <td>108517.42</td>\n",
       "    </tr>\n",
       "    <tr>\n",
       "      <td>411906</td>\n",
       "      <td>44</td>\n",
       "      <td>38</td>\n",
       "      <td>2012-10-26</td>\n",
       "      <td>False</td>\n",
       "      <td>66629.98</td>\n",
       "    </tr>\n",
       "    <tr>\n",
       "      <td>414800</td>\n",
       "      <td>45</td>\n",
       "      <td>72</td>\n",
       "      <td>2010-11-26</td>\n",
       "      <td>True</td>\n",
       "      <td>240758.86</td>\n",
       "    </tr>\n",
       "  </tbody>\n",
       "</table>\n",
       "</div>"
      ],
      "text/plain": [
       "        Store  Dept        Date  IsHoliday  Weekly_Sales\n",
       "6784        1    72  2011-11-25       True     203670.47\n",
       "13293       2    72  2010-11-26       True     285353.53\n",
       "20517       3    38  2010-02-05      False     155897.94\n",
       "36312       4    72  2011-11-25       True     385051.04\n",
       "45745       5    72  2011-11-25       True      93517.72\n",
       "51826       6    72  2010-11-26       True     342578.65\n",
       "65444       7    72  2011-11-25       True     222921.09\n",
       "71724       8    72  2010-11-26       True     153431.69\n",
       "84492       9    72  2011-11-25       True     139427.43\n",
       "90645      10    72  2010-11-26       True     693099.36\n",
       "100820     11    72  2010-11-26       True     245767.47\n",
       "114299     12    72  2011-11-25       True     360140.66\n",
       "120996     13     7  2010-12-24      False     292165.78\n",
       "131088     14    72  2010-11-26       True     474330.10\n",
       "141070     15    72  2010-11-26       True     292555.25\n",
       "154168     16    72  2011-11-25       True     129372.97\n",
       "163958     17    72  2011-11-25       True     194660.52\n",
       "170247     18    72  2010-11-26       True     353008.64\n",
       "180227     19    72  2010-11-26       True     339846.03\n",
       "190370     20    72  2010-11-26       True     422306.25\n",
       "203868     21    72  2011-11-25       True     244640.55\n",
       "210037     22    72  2010-11-26       True     393705.20\n",
       "219800     23    72  2010-11-26       True     369830.98\n",
       "229912     24    72  2010-11-26       True     233371.62\n",
       "240020     25    72  2010-11-26       True     198719.71\n",
       "249822     26    72  2010-11-26       True     196615.87\n",
       "259799     27    72  2010-11-26       True     420586.57\n",
       "269997     28    72  2010-11-26       True     355356.39\n",
       "279915     29    72  2010-11-26       True     266480.63\n",
       "292348     30    38  2012-04-20      False      80457.01\n",
       "300426     31    72  2011-11-25       True     274558.07\n",
       "310613     32    72  2011-11-25       True     220379.93\n",
       "314655     33    93  2010-05-14      False      49129.77\n",
       "327346     34    72  2011-11-25       True     161262.15\n",
       "337053     35    72  2011-11-25       True     649770.18\n",
       "340706     36    94  2010-04-16      False      78974.83\n",
       "348847     37    38  2011-01-07      False      99514.86\n",
       "360297     38    38  2012-07-20      False     100618.04\n",
       "367624     39    72  2011-11-25       True     351553.98\n",
       "377568     40    72  2011-11-25       True     145504.24\n",
       "383950     41    72  2010-11-26       True     290809.17\n",
       "395455     42    92  2011-11-11      False     112152.35\n",
       "402685     43    92  2011-12-23      False     108517.42\n",
       "411906     44    38  2012-10-26      False      66629.98\n",
       "414800     45    72  2010-11-26       True     240758.86"
      ]
     },
     "execution_count": 14,
     "metadata": {},
     "output_type": "execute_result"
    }
   ],
   "source": [
    "print('Max Weekly Sales Info per Store')\n",
    "df.loc[df.reset_index().groupby(['Store'])['Weekly_Sales'].idxmax()][['Store', 'Dept', 'Date', 'IsHoliday', 'Weekly_Sales']]"
   ]
  },
  {
   "cell_type": "code",
   "execution_count": 15,
   "metadata": {},
   "outputs": [
    {
     "name": "stdout",
     "output_type": "stream",
     "text": [
      "Max Weekly Sales Info per Dept\n"
     ]
    },
    {
     "data": {
      "text/html": [
       "<div>\n",
       "<style scoped>\n",
       "    .dataframe tbody tr th:only-of-type {\n",
       "        vertical-align: middle;\n",
       "    }\n",
       "\n",
       "    .dataframe tbody tr th {\n",
       "        vertical-align: top;\n",
       "    }\n",
       "\n",
       "    .dataframe thead th {\n",
       "        text-align: right;\n",
       "    }\n",
       "</style>\n",
       "<table border=\"1\" class=\"dataframe\">\n",
       "  <thead>\n",
       "    <tr style=\"text-align: right;\">\n",
       "      <th></th>\n",
       "      <th>Dept</th>\n",
       "      <th>Store</th>\n",
       "      <th>Date</th>\n",
       "      <th>IsHoliday</th>\n",
       "      <th>Weekly_Sales</th>\n",
       "    </tr>\n",
       "  </thead>\n",
       "  <tbody>\n",
       "    <tr>\n",
       "      <td>120990</td>\n",
       "      <td>1</td>\n",
       "      <td>13</td>\n",
       "      <td>2010-12-24</td>\n",
       "      <td>False</td>\n",
       "      <td>172225.55</td>\n",
       "    </tr>\n",
       "    <tr>\n",
       "      <td>94629</td>\n",
       "      <td>2</td>\n",
       "      <td>10</td>\n",
       "      <td>2011-12-23</td>\n",
       "      <td>False</td>\n",
       "      <td>151090.50</td>\n",
       "    </tr>\n",
       "    <tr>\n",
       "      <td>123551</td>\n",
       "      <td>3</td>\n",
       "      <td>13</td>\n",
       "      <td>2011-08-26</td>\n",
       "      <td>False</td>\n",
       "      <td>131564.25</td>\n",
       "    </tr>\n",
       "    <tr>\n",
       "      <td>36261</td>\n",
       "      <td>4</td>\n",
       "      <td>4</td>\n",
       "      <td>2011-11-25</td>\n",
       "      <td>True</td>\n",
       "      <td>72179.92</td>\n",
       "    </tr>\n",
       "    <tr>\n",
       "      <td>90884</td>\n",
       "      <td>5</td>\n",
       "      <td>10</td>\n",
       "      <td>2010-12-24</td>\n",
       "      <td>False</td>\n",
       "      <td>259955.82</td>\n",
       "    </tr>\n",
       "    <tr>\n",
       "      <td>...</td>\n",
       "      <td>...</td>\n",
       "      <td>...</td>\n",
       "      <td>...</td>\n",
       "      <td>...</td>\n",
       "      <td>...</td>\n",
       "    </tr>\n",
       "    <tr>\n",
       "      <td>128148</td>\n",
       "      <td>95</td>\n",
       "      <td>14</td>\n",
       "      <td>2010-02-05</td>\n",
       "      <td>False</td>\n",
       "      <td>213042.66</td>\n",
       "    </tr>\n",
       "    <tr>\n",
       "      <td>274760</td>\n",
       "      <td>96</td>\n",
       "      <td>28</td>\n",
       "      <td>2012-03-09</td>\n",
       "      <td>False</td>\n",
       "      <td>63978.78</td>\n",
       "    </tr>\n",
       "    <tr>\n",
       "      <td>17325</td>\n",
       "      <td>97</td>\n",
       "      <td>2</td>\n",
       "      <td>2011-12-23</td>\n",
       "      <td>False</td>\n",
       "      <td>49034.16</td>\n",
       "    </tr>\n",
       "    <tr>\n",
       "      <td>131384</td>\n",
       "      <td>98</td>\n",
       "      <td>14</td>\n",
       "      <td>2010-12-24</td>\n",
       "      <td>False</td>\n",
       "      <td>33759.90</td>\n",
       "    </tr>\n",
       "    <tr>\n",
       "      <td>194111</td>\n",
       "      <td>99</td>\n",
       "      <td>20</td>\n",
       "      <td>2011-11-25</td>\n",
       "      <td>True</td>\n",
       "      <td>12550.00</td>\n",
       "    </tr>\n",
       "  </tbody>\n",
       "</table>\n",
       "<p>81 rows × 5 columns</p>\n",
       "</div>"
      ],
      "text/plain": [
       "        Dept  Store        Date  IsHoliday  Weekly_Sales\n",
       "120990     1     13  2010-12-24      False     172225.55\n",
       "94629      2     10  2011-12-23      False     151090.50\n",
       "123551     3     13  2011-08-26      False     131564.25\n",
       "36261      4      4  2011-11-25       True      72179.92\n",
       "90884      5     10  2010-12-24      False     259955.82\n",
       "...      ...    ...         ...        ...           ...\n",
       "128148    95     14  2010-02-05      False     213042.66\n",
       "274760    96     28  2012-03-09      False      63978.78\n",
       "17325     97      2  2011-12-23      False      49034.16\n",
       "131384    98     14  2010-12-24      False      33759.90\n",
       "194111    99     20  2011-11-25       True      12550.00\n",
       "\n",
       "[81 rows x 5 columns]"
      ]
     },
     "execution_count": 15,
     "metadata": {},
     "output_type": "execute_result"
    }
   ],
   "source": [
    "print('Max Weekly Sales Info per Dept')\n",
    "df.loc[df.reset_index().groupby(['Dept'])['Weekly_Sales'].idxmax()][['Dept', 'Store', 'Date', 'IsHoliday', 'Weekly_Sales']]"
   ]
  },
  {
   "cell_type": "code",
   "execution_count": 16,
   "metadata": {},
   "outputs": [
    {
     "data": {
      "text/html": [
       "<div>\n",
       "<style scoped>\n",
       "    .dataframe tbody tr th:only-of-type {\n",
       "        vertical-align: middle;\n",
       "    }\n",
       "\n",
       "    .dataframe tbody tr th {\n",
       "        vertical-align: top;\n",
       "    }\n",
       "\n",
       "    .dataframe thead th {\n",
       "        text-align: right;\n",
       "    }\n",
       "</style>\n",
       "<table border=\"1\" class=\"dataframe\">\n",
       "  <thead>\n",
       "    <tr style=\"text-align: right;\">\n",
       "      <th>IsHoliday</th>\n",
       "      <th>False</th>\n",
       "      <th>True</th>\n",
       "    </tr>\n",
       "    <tr>\n",
       "      <th>Date</th>\n",
       "      <th></th>\n",
       "      <th></th>\n",
       "    </tr>\n",
       "  </thead>\n",
       "  <tbody>\n",
       "    <tr>\n",
       "      <td>2010-02-05</td>\n",
       "      <td>49750740.50</td>\n",
       "      <td>NaN</td>\n",
       "    </tr>\n",
       "    <tr>\n",
       "      <td>2010-02-12</td>\n",
       "      <td>NaN</td>\n",
       "      <td>48336677.63</td>\n",
       "    </tr>\n",
       "    <tr>\n",
       "      <td>2010-02-19</td>\n",
       "      <td>48276993.78</td>\n",
       "      <td>NaN</td>\n",
       "    </tr>\n",
       "    <tr>\n",
       "      <td>2010-02-26</td>\n",
       "      <td>43968571.13</td>\n",
       "      <td>NaN</td>\n",
       "    </tr>\n",
       "    <tr>\n",
       "      <td>2010-03-05</td>\n",
       "      <td>46871470.30</td>\n",
       "      <td>NaN</td>\n",
       "    </tr>\n",
       "    <tr>\n",
       "      <td>...</td>\n",
       "      <td>...</td>\n",
       "      <td>...</td>\n",
       "    </tr>\n",
       "    <tr>\n",
       "      <td>2012-09-28</td>\n",
       "      <td>43734899.40</td>\n",
       "      <td>NaN</td>\n",
       "    </tr>\n",
       "    <tr>\n",
       "      <td>2012-10-05</td>\n",
       "      <td>47566639.31</td>\n",
       "      <td>NaN</td>\n",
       "    </tr>\n",
       "    <tr>\n",
       "      <td>2012-10-12</td>\n",
       "      <td>46128514.25</td>\n",
       "      <td>NaN</td>\n",
       "    </tr>\n",
       "    <tr>\n",
       "      <td>2012-10-19</td>\n",
       "      <td>45122410.57</td>\n",
       "      <td>NaN</td>\n",
       "    </tr>\n",
       "    <tr>\n",
       "      <td>2012-10-26</td>\n",
       "      <td>45544116.29</td>\n",
       "      <td>NaN</td>\n",
       "    </tr>\n",
       "  </tbody>\n",
       "</table>\n",
       "<p>143 rows × 2 columns</p>\n",
       "</div>"
      ],
      "text/plain": [
       "IsHoliday         False        True \n",
       "Date                                \n",
       "2010-02-05  49750740.50          NaN\n",
       "2010-02-12          NaN  48336677.63\n",
       "2010-02-19  48276993.78          NaN\n",
       "2010-02-26  43968571.13          NaN\n",
       "2010-03-05  46871470.30          NaN\n",
       "...                 ...          ...\n",
       "2012-09-28  43734899.40          NaN\n",
       "2012-10-05  47566639.31          NaN\n",
       "2012-10-12  46128514.25          NaN\n",
       "2012-10-19  45122410.57          NaN\n",
       "2012-10-26  45544116.29          NaN\n",
       "\n",
       "[143 rows x 2 columns]"
      ]
     },
     "execution_count": 16,
     "metadata": {},
     "output_type": "execute_result"
    }
   ],
   "source": [
    "holiday_df = pd.DataFrame(train_df[['Date', 'IsHoliday', 'Weekly_Sales']].groupby(['Date', 'IsHoliday'])['Weekly_Sales'].sum()).reset_index()\n",
    "isholiday_sales_pivot = holiday_df.assign(key=holiday_df.groupby('IsHoliday').cumcount()).pivot('Date','IsHoliday','Weekly_Sales')\n",
    "isholiday_sales_pivot"
   ]
  },
  {
   "cell_type": "code",
   "execution_count": 17,
   "metadata": {},
   "outputs": [
    {
     "data": {
      "application/vnd.plotly.v1+json": {
       "config": {
        "linkText": "Export to plot.ly",
        "plotlyServerURL": "https://plot.ly",
        "showLink": true
       },
       "data": [
        {
         "boxpoints": false,
         "line": {
          "width": 1.3
         },
         "marker": {
          "color": "rgba(255, 153, 51, 1.0)"
         },
         "name": "False",
         "orientation": "v",
         "type": "box",
         "y": [
          49750740.49999988,
          null,
          48276993.78000006,
          43968571.12999993,
          46871470.3,
          45925396.50999998,
          44988974.64000006,
          44133961.050000034,
          50423831.260000035,
          47365290.440000035,
          45183667.080000006,
          44734452.56000002,
          43705126.709999874,
          48503243.51999991,
          45330080.19999999,
          45120108.05999994,
          47757502.56000001,
          50188543.119999915,
          47826546.72000009,
          47622046.22999998,
          46609036.29000002,
          48917484.50000017,
          47899529.37000009,
          46243899.57999996,
          44888849.109999955,
          44630363.41999992,
          48204999.11999994,
          46464418.40999996,
          47060952.919999994,
          45909740.44000011,
          47194257.61,
          null,
          43080726.50999983,
          41358514.41000003,
          42239875.86999992,
          45102974.229999974,
          43149473.45000014,
          43066669.51999998,
          43602830.94999994,
          45781981.89,
          46124800.829999916,
          45125584.18000006,
          null,
          49909027.88000007,
          55666770.389999814,
          61820799.85,
          80931415.60000007,
          null,
          42775787.76999989,
          40673678.039999954,
          40654648.029999994,
          39599852.990000054,
          46153111.12,
          null,
          48716164.119999975,
          44125859.84000007,
          46980603.73999991,
          44627319.39999998,
          44872325.97000003,
          42876199.18000005,
          43458991.190000035,
          45887466.799999945,
          44973328.14000003,
          48676692.05999989,
          43530032.77999999,
          46861958.2900002,
          45446144.81999999,
          44046598.01000008,
          45293457.03999987,
          48771994.18000002,
          47669734.66000002,
          47447561.77000003,
          45884094.579999946,
          47578519.50000006,
          47859263.78,
          45515929.91999994,
          45274411.39000012,
          43683274.27999995,
          48015466.97000004,
          46249569.2100001,
          46917347.61999986,
          47416948.45000011,
          45376623.26999996,
          null,
          43793960.07999998,
          42718096.7299999,
          42195830.80999997,
          47211688.36000014,
          44374820.29999992,
          45818953.43999992,
          45855821.05000005,
          48655544.3000002,
          48474224.75000006,
          46438980.559999995,
          null,
          49390556.4899999,
          55561147.70000017,
          60085695.93999998,
          76998241.30999984,
          null,
          44955421.950000025,
          42023078.47999996,
          42080996.56000003,
          39834974.670000054,
          46085608.08999996,
          null,
          50197056.95999993,
          45771506.56999987,
          46861034.97000005,
          47480454.110000014,
          46901504.940000065,
          44993794.45000002,
          45272862.01999999,
          53502315.87,
          46629261.409999974,
          45072529.780000016,
          43716798.88999998,
          47124197.930000074,
          46925878.99000018,
          46823939.22000004,
          47892463.30999993,
          48281649.72000005,
          49651171.78000006,
          48412110.70000001,
          47668284.96999992,
          46597112.12000013,
          51253021.87999992,
          46099732.099999964,
          46059543.450000085,
          44097154.970000006,
          47485899.55999997,
          47403451.04000004,
          47354452.05000001,
          47447323.60000003,
          47159639.42999998,
          null,
          44226038.6499999,
          44354547.1100001,
          43734899.40000004,
          47566639.310000025,
          46128514.250000045,
          45122410.57000012,
          45544116.290000014
         ]
        },
        {
         "boxpoints": false,
         "line": {
          "width": 1.3
         },
         "marker": {
          "color": "rgba(55, 128, 191, 1.0)"
         },
         "name": "True",
         "orientation": "v",
         "type": "box",
         "y": [
          null,
          48336677.63000006,
          null,
          null,
          null,
          null,
          null,
          null,
          null,
          null,
          null,
          null,
          null,
          null,
          null,
          null,
          null,
          null,
          null,
          null,
          null,
          null,
          null,
          null,
          null,
          null,
          null,
          null,
          null,
          null,
          null,
          45634397.840000056,
          null,
          null,
          null,
          null,
          null,
          null,
          null,
          null,
          null,
          null,
          65821003.240000084,
          null,
          null,
          null,
          null,
          40432519.000000075,
          null,
          null,
          null,
          null,
          null,
          47336192.78999979,
          null,
          null,
          null,
          null,
          null,
          null,
          null,
          null,
          null,
          null,
          null,
          null,
          null,
          null,
          null,
          null,
          null,
          null,
          null,
          null,
          null,
          null,
          null,
          null,
          null,
          null,
          null,
          null,
          null,
          46763227.53000005,
          null,
          null,
          null,
          null,
          null,
          null,
          null,
          null,
          null,
          null,
          66593605.25999993,
          null,
          null,
          null,
          null,
          46042461.03999984,
          null,
          null,
          null,
          null,
          null,
          50009407.91999999,
          null,
          null,
          null,
          null,
          null,
          null,
          null,
          null,
          null,
          null,
          null,
          null,
          null,
          null,
          null,
          null,
          null,
          null,
          null,
          null,
          null,
          null,
          null,
          null,
          null,
          null,
          null,
          null,
          null,
          48330059.30999995,
          null,
          null,
          null,
          null,
          null,
          null,
          null
         ]
        }
       ],
       "layout": {
        "legend": {
         "bgcolor": "#F5F6F9",
         "font": {
          "color": "#4D5663"
         }
        },
        "paper_bgcolor": "#F5F6F9",
        "plot_bgcolor": "#F5F6F9",
        "template": {
         "data": {
          "bar": [
           {
            "error_x": {
             "color": "#2a3f5f"
            },
            "error_y": {
             "color": "#2a3f5f"
            },
            "marker": {
             "line": {
              "color": "#E5ECF6",
              "width": 0.5
             }
            },
            "type": "bar"
           }
          ],
          "barpolar": [
           {
            "marker": {
             "line": {
              "color": "#E5ECF6",
              "width": 0.5
             }
            },
            "type": "barpolar"
           }
          ],
          "carpet": [
           {
            "aaxis": {
             "endlinecolor": "#2a3f5f",
             "gridcolor": "white",
             "linecolor": "white",
             "minorgridcolor": "white",
             "startlinecolor": "#2a3f5f"
            },
            "baxis": {
             "endlinecolor": "#2a3f5f",
             "gridcolor": "white",
             "linecolor": "white",
             "minorgridcolor": "white",
             "startlinecolor": "#2a3f5f"
            },
            "type": "carpet"
           }
          ],
          "choropleth": [
           {
            "colorbar": {
             "outlinewidth": 0,
             "ticks": ""
            },
            "type": "choropleth"
           }
          ],
          "contour": [
           {
            "colorbar": {
             "outlinewidth": 0,
             "ticks": ""
            },
            "colorscale": [
             [
              0,
              "#0d0887"
             ],
             [
              0.1111111111111111,
              "#46039f"
             ],
             [
              0.2222222222222222,
              "#7201a8"
             ],
             [
              0.3333333333333333,
              "#9c179e"
             ],
             [
              0.4444444444444444,
              "#bd3786"
             ],
             [
              0.5555555555555556,
              "#d8576b"
             ],
             [
              0.6666666666666666,
              "#ed7953"
             ],
             [
              0.7777777777777778,
              "#fb9f3a"
             ],
             [
              0.8888888888888888,
              "#fdca26"
             ],
             [
              1,
              "#f0f921"
             ]
            ],
            "type": "contour"
           }
          ],
          "contourcarpet": [
           {
            "colorbar": {
             "outlinewidth": 0,
             "ticks": ""
            },
            "type": "contourcarpet"
           }
          ],
          "heatmap": [
           {
            "colorbar": {
             "outlinewidth": 0,
             "ticks": ""
            },
            "colorscale": [
             [
              0,
              "#0d0887"
             ],
             [
              0.1111111111111111,
              "#46039f"
             ],
             [
              0.2222222222222222,
              "#7201a8"
             ],
             [
              0.3333333333333333,
              "#9c179e"
             ],
             [
              0.4444444444444444,
              "#bd3786"
             ],
             [
              0.5555555555555556,
              "#d8576b"
             ],
             [
              0.6666666666666666,
              "#ed7953"
             ],
             [
              0.7777777777777778,
              "#fb9f3a"
             ],
             [
              0.8888888888888888,
              "#fdca26"
             ],
             [
              1,
              "#f0f921"
             ]
            ],
            "type": "heatmap"
           }
          ],
          "heatmapgl": [
           {
            "colorbar": {
             "outlinewidth": 0,
             "ticks": ""
            },
            "colorscale": [
             [
              0,
              "#0d0887"
             ],
             [
              0.1111111111111111,
              "#46039f"
             ],
             [
              0.2222222222222222,
              "#7201a8"
             ],
             [
              0.3333333333333333,
              "#9c179e"
             ],
             [
              0.4444444444444444,
              "#bd3786"
             ],
             [
              0.5555555555555556,
              "#d8576b"
             ],
             [
              0.6666666666666666,
              "#ed7953"
             ],
             [
              0.7777777777777778,
              "#fb9f3a"
             ],
             [
              0.8888888888888888,
              "#fdca26"
             ],
             [
              1,
              "#f0f921"
             ]
            ],
            "type": "heatmapgl"
           }
          ],
          "histogram": [
           {
            "marker": {
             "colorbar": {
              "outlinewidth": 0,
              "ticks": ""
             }
            },
            "type": "histogram"
           }
          ],
          "histogram2d": [
           {
            "colorbar": {
             "outlinewidth": 0,
             "ticks": ""
            },
            "colorscale": [
             [
              0,
              "#0d0887"
             ],
             [
              0.1111111111111111,
              "#46039f"
             ],
             [
              0.2222222222222222,
              "#7201a8"
             ],
             [
              0.3333333333333333,
              "#9c179e"
             ],
             [
              0.4444444444444444,
              "#bd3786"
             ],
             [
              0.5555555555555556,
              "#d8576b"
             ],
             [
              0.6666666666666666,
              "#ed7953"
             ],
             [
              0.7777777777777778,
              "#fb9f3a"
             ],
             [
              0.8888888888888888,
              "#fdca26"
             ],
             [
              1,
              "#f0f921"
             ]
            ],
            "type": "histogram2d"
           }
          ],
          "histogram2dcontour": [
           {
            "colorbar": {
             "outlinewidth": 0,
             "ticks": ""
            },
            "colorscale": [
             [
              0,
              "#0d0887"
             ],
             [
              0.1111111111111111,
              "#46039f"
             ],
             [
              0.2222222222222222,
              "#7201a8"
             ],
             [
              0.3333333333333333,
              "#9c179e"
             ],
             [
              0.4444444444444444,
              "#bd3786"
             ],
             [
              0.5555555555555556,
              "#d8576b"
             ],
             [
              0.6666666666666666,
              "#ed7953"
             ],
             [
              0.7777777777777778,
              "#fb9f3a"
             ],
             [
              0.8888888888888888,
              "#fdca26"
             ],
             [
              1,
              "#f0f921"
             ]
            ],
            "type": "histogram2dcontour"
           }
          ],
          "mesh3d": [
           {
            "colorbar": {
             "outlinewidth": 0,
             "ticks": ""
            },
            "type": "mesh3d"
           }
          ],
          "parcoords": [
           {
            "line": {
             "colorbar": {
              "outlinewidth": 0,
              "ticks": ""
             }
            },
            "type": "parcoords"
           }
          ],
          "scatter": [
           {
            "marker": {
             "colorbar": {
              "outlinewidth": 0,
              "ticks": ""
             }
            },
            "type": "scatter"
           }
          ],
          "scatter3d": [
           {
            "line": {
             "colorbar": {
              "outlinewidth": 0,
              "ticks": ""
             }
            },
            "marker": {
             "colorbar": {
              "outlinewidth": 0,
              "ticks": ""
             }
            },
            "type": "scatter3d"
           }
          ],
          "scattercarpet": [
           {
            "marker": {
             "colorbar": {
              "outlinewidth": 0,
              "ticks": ""
             }
            },
            "type": "scattercarpet"
           }
          ],
          "scattergeo": [
           {
            "marker": {
             "colorbar": {
              "outlinewidth": 0,
              "ticks": ""
             }
            },
            "type": "scattergeo"
           }
          ],
          "scattergl": [
           {
            "marker": {
             "colorbar": {
              "outlinewidth": 0,
              "ticks": ""
             }
            },
            "type": "scattergl"
           }
          ],
          "scattermapbox": [
           {
            "marker": {
             "colorbar": {
              "outlinewidth": 0,
              "ticks": ""
             }
            },
            "type": "scattermapbox"
           }
          ],
          "scatterpolar": [
           {
            "marker": {
             "colorbar": {
              "outlinewidth": 0,
              "ticks": ""
             }
            },
            "type": "scatterpolar"
           }
          ],
          "scatterpolargl": [
           {
            "marker": {
             "colorbar": {
              "outlinewidth": 0,
              "ticks": ""
             }
            },
            "type": "scatterpolargl"
           }
          ],
          "scatterternary": [
           {
            "marker": {
             "colorbar": {
              "outlinewidth": 0,
              "ticks": ""
             }
            },
            "type": "scatterternary"
           }
          ],
          "surface": [
           {
            "colorbar": {
             "outlinewidth": 0,
             "ticks": ""
            },
            "colorscale": [
             [
              0,
              "#0d0887"
             ],
             [
              0.1111111111111111,
              "#46039f"
             ],
             [
              0.2222222222222222,
              "#7201a8"
             ],
             [
              0.3333333333333333,
              "#9c179e"
             ],
             [
              0.4444444444444444,
              "#bd3786"
             ],
             [
              0.5555555555555556,
              "#d8576b"
             ],
             [
              0.6666666666666666,
              "#ed7953"
             ],
             [
              0.7777777777777778,
              "#fb9f3a"
             ],
             [
              0.8888888888888888,
              "#fdca26"
             ],
             [
              1,
              "#f0f921"
             ]
            ],
            "type": "surface"
           }
          ],
          "table": [
           {
            "cells": {
             "fill": {
              "color": "#EBF0F8"
             },
             "line": {
              "color": "white"
             }
            },
            "header": {
             "fill": {
              "color": "#C8D4E3"
             },
             "line": {
              "color": "white"
             }
            },
            "type": "table"
           }
          ]
         },
         "layout": {
          "annotationdefaults": {
           "arrowcolor": "#2a3f5f",
           "arrowhead": 0,
           "arrowwidth": 1
          },
          "colorscale": {
           "diverging": [
            [
             0,
             "#8e0152"
            ],
            [
             0.1,
             "#c51b7d"
            ],
            [
             0.2,
             "#de77ae"
            ],
            [
             0.3,
             "#f1b6da"
            ],
            [
             0.4,
             "#fde0ef"
            ],
            [
             0.5,
             "#f7f7f7"
            ],
            [
             0.6,
             "#e6f5d0"
            ],
            [
             0.7,
             "#b8e186"
            ],
            [
             0.8,
             "#7fbc41"
            ],
            [
             0.9,
             "#4d9221"
            ],
            [
             1,
             "#276419"
            ]
           ],
           "sequential": [
            [
             0,
             "#0d0887"
            ],
            [
             0.1111111111111111,
             "#46039f"
            ],
            [
             0.2222222222222222,
             "#7201a8"
            ],
            [
             0.3333333333333333,
             "#9c179e"
            ],
            [
             0.4444444444444444,
             "#bd3786"
            ],
            [
             0.5555555555555556,
             "#d8576b"
            ],
            [
             0.6666666666666666,
             "#ed7953"
            ],
            [
             0.7777777777777778,
             "#fb9f3a"
            ],
            [
             0.8888888888888888,
             "#fdca26"
            ],
            [
             1,
             "#f0f921"
            ]
           ],
           "sequentialminus": [
            [
             0,
             "#0d0887"
            ],
            [
             0.1111111111111111,
             "#46039f"
            ],
            [
             0.2222222222222222,
             "#7201a8"
            ],
            [
             0.3333333333333333,
             "#9c179e"
            ],
            [
             0.4444444444444444,
             "#bd3786"
            ],
            [
             0.5555555555555556,
             "#d8576b"
            ],
            [
             0.6666666666666666,
             "#ed7953"
            ],
            [
             0.7777777777777778,
             "#fb9f3a"
            ],
            [
             0.8888888888888888,
             "#fdca26"
            ],
            [
             1,
             "#f0f921"
            ]
           ]
          },
          "colorway": [
           "#636efa",
           "#EF553B",
           "#00cc96",
           "#ab63fa",
           "#FFA15A",
           "#19d3f3",
           "#FF6692",
           "#B6E880",
           "#FF97FF",
           "#FECB52"
          ],
          "font": {
           "color": "#2a3f5f"
          },
          "geo": {
           "bgcolor": "white",
           "lakecolor": "white",
           "landcolor": "#E5ECF6",
           "showlakes": true,
           "showland": true,
           "subunitcolor": "white"
          },
          "hoverlabel": {
           "align": "left"
          },
          "hovermode": "closest",
          "mapbox": {
           "style": "light"
          },
          "paper_bgcolor": "white",
          "plot_bgcolor": "#E5ECF6",
          "polar": {
           "angularaxis": {
            "gridcolor": "white",
            "linecolor": "white",
            "ticks": ""
           },
           "bgcolor": "#E5ECF6",
           "radialaxis": {
            "gridcolor": "white",
            "linecolor": "white",
            "ticks": ""
           }
          },
          "scene": {
           "xaxis": {
            "backgroundcolor": "#E5ECF6",
            "gridcolor": "white",
            "gridwidth": 2,
            "linecolor": "white",
            "showbackground": true,
            "ticks": "",
            "zerolinecolor": "white"
           },
           "yaxis": {
            "backgroundcolor": "#E5ECF6",
            "gridcolor": "white",
            "gridwidth": 2,
            "linecolor": "white",
            "showbackground": true,
            "ticks": "",
            "zerolinecolor": "white"
           },
           "zaxis": {
            "backgroundcolor": "#E5ECF6",
            "gridcolor": "white",
            "gridwidth": 2,
            "linecolor": "white",
            "showbackground": true,
            "ticks": "",
            "zerolinecolor": "white"
           }
          },
          "shapedefaults": {
           "line": {
            "color": "#2a3f5f"
           }
          },
          "ternary": {
           "aaxis": {
            "gridcolor": "white",
            "linecolor": "white",
            "ticks": ""
           },
           "baxis": {
            "gridcolor": "white",
            "linecolor": "white",
            "ticks": ""
           },
           "bgcolor": "#E5ECF6",
           "caxis": {
            "gridcolor": "white",
            "linecolor": "white",
            "ticks": ""
           }
          },
          "title": {
           "x": 0.05
          },
          "xaxis": {
           "automargin": true,
           "gridcolor": "white",
           "linecolor": "white",
           "ticks": "",
           "zerolinecolor": "white",
           "zerolinewidth": 2
          },
          "yaxis": {
           "automargin": true,
           "gridcolor": "white",
           "linecolor": "white",
           "ticks": "",
           "zerolinecolor": "white",
           "zerolinewidth": 2
          }
         }
        },
        "title": {
         "font": {
          "color": "#4D5663"
         },
         "text": "Boxplot: IsHoliday x Sales"
        },
        "xaxis": {
         "gridcolor": "#E1E5ED",
         "showgrid": true,
         "tickfont": {
          "color": "#4D5663"
         },
         "title": {
          "font": {
           "color": "#4D5663"
          },
          "text": ""
         },
         "zerolinecolor": "#E1E5ED"
        },
        "yaxis": {
         "gridcolor": "#E1E5ED",
         "showgrid": true,
         "tickfont": {
          "color": "#4D5663"
         },
         "title": {
          "font": {
           "color": "#4D5663"
          },
          "text": ""
         },
         "zerolinecolor": "#E1E5ED"
        }
       }
      },
      "text/html": [
       "<div>\n",
       "        \n",
       "        \n",
       "            <div id=\"b57ee841-a034-45a8-93e6-c22ee27193e2\" class=\"plotly-graph-div\" style=\"height:525px; width:100%;\"></div>\n",
       "            <script type=\"text/javascript\">\n",
       "                require([\"plotly\"], function(Plotly) {\n",
       "                    window.PLOTLYENV=window.PLOTLYENV || {};\n",
       "                    window.PLOTLYENV.BASE_URL='https://plot.ly';\n",
       "                    \n",
       "                if (document.getElementById(\"b57ee841-a034-45a8-93e6-c22ee27193e2\")) {\n",
       "                    Plotly.newPlot(\n",
       "                        'b57ee841-a034-45a8-93e6-c22ee27193e2',\n",
       "                        [{\"boxpoints\": false, \"line\": {\"width\": 1.3}, \"marker\": {\"color\": \"rgba(255, 153, 51, 1.0)\"}, \"name\": \"False\", \"orientation\": \"v\", \"type\": \"box\", \"y\": [49750740.49999988, null, 48276993.78000006, 43968571.12999993, 46871470.3, 45925396.50999998, 44988974.64000006, 44133961.050000034, 50423831.260000035, 47365290.440000035, 45183667.080000006, 44734452.56000002, 43705126.709999874, 48503243.51999991, 45330080.19999999, 45120108.05999994, 47757502.56000001, 50188543.119999915, 47826546.72000009, 47622046.22999998, 46609036.29000002, 48917484.50000017, 47899529.37000009, 46243899.57999996, 44888849.109999955, 44630363.41999992, 48204999.11999994, 46464418.40999996, 47060952.919999994, 45909740.44000011, 47194257.61, null, 43080726.50999983, 41358514.41000003, 42239875.86999992, 45102974.229999974, 43149473.45000014, 43066669.51999998, 43602830.94999994, 45781981.89, 46124800.829999916, 45125584.18000006, null, 49909027.88000007, 55666770.389999814, 61820799.85, 80931415.60000007, null, 42775787.76999989, 40673678.039999954, 40654648.029999994, 39599852.990000054, 46153111.12, null, 48716164.119999975, 44125859.84000007, 46980603.73999991, 44627319.39999998, 44872325.97000003, 42876199.18000005, 43458991.190000035, 45887466.799999945, 44973328.14000003, 48676692.05999989, 43530032.77999999, 46861958.2900002, 45446144.81999999, 44046598.01000008, 45293457.03999987, 48771994.18000002, 47669734.66000002, 47447561.77000003, 45884094.579999946, 47578519.50000006, 47859263.78, 45515929.91999994, 45274411.39000012, 43683274.27999995, 48015466.97000004, 46249569.2100001, 46917347.61999986, 47416948.45000011, 45376623.26999996, null, 43793960.07999998, 42718096.7299999, 42195830.80999997, 47211688.36000014, 44374820.29999992, 45818953.43999992, 45855821.05000005, 48655544.3000002, 48474224.75000006, 46438980.559999995, null, 49390556.4899999, 55561147.70000017, 60085695.93999998, 76998241.30999984, null, 44955421.950000025, 42023078.47999996, 42080996.56000003, 39834974.670000054, 46085608.08999996, null, 50197056.95999993, 45771506.56999987, 46861034.97000005, 47480454.110000014, 46901504.940000065, 44993794.45000002, 45272862.01999999, 53502315.87, 46629261.409999974, 45072529.780000016, 43716798.88999998, 47124197.930000074, 46925878.99000018, 46823939.22000004, 47892463.30999993, 48281649.72000005, 49651171.78000006, 48412110.70000001, 47668284.96999992, 46597112.12000013, 51253021.87999992, 46099732.099999964, 46059543.450000085, 44097154.970000006, 47485899.55999997, 47403451.04000004, 47354452.05000001, 47447323.60000003, 47159639.42999998, null, 44226038.6499999, 44354547.1100001, 43734899.40000004, 47566639.310000025, 46128514.250000045, 45122410.57000012, 45544116.290000014]}, {\"boxpoints\": false, \"line\": {\"width\": 1.3}, \"marker\": {\"color\": \"rgba(55, 128, 191, 1.0)\"}, \"name\": \"True\", \"orientation\": \"v\", \"type\": \"box\", \"y\": [null, 48336677.63000006, null, null, null, null, null, null, null, null, null, null, null, null, null, null, null, null, null, null, null, null, null, null, null, null, null, null, null, null, null, 45634397.840000056, null, null, null, null, null, null, null, null, null, null, 65821003.240000084, null, null, null, null, 40432519.000000075, null, null, null, null, null, 47336192.78999979, null, null, null, null, null, null, null, null, null, null, null, null, null, null, null, null, null, null, null, null, null, null, null, null, null, null, null, null, null, 46763227.53000005, null, null, null, null, null, null, null, null, null, null, 66593605.25999993, null, null, null, null, 46042461.03999984, null, null, null, null, null, 50009407.91999999, null, null, null, null, null, null, null, null, null, null, null, null, null, null, null, null, null, null, null, null, null, null, null, null, null, null, null, null, null, 48330059.30999995, null, null, null, null, null, null, null]}],\n",
       "                        {\"legend\": {\"bgcolor\": \"#F5F6F9\", \"font\": {\"color\": \"#4D5663\"}}, \"paper_bgcolor\": \"#F5F6F9\", \"plot_bgcolor\": \"#F5F6F9\", \"template\": {\"data\": {\"bar\": [{\"error_x\": {\"color\": \"#2a3f5f\"}, \"error_y\": {\"color\": \"#2a3f5f\"}, \"marker\": {\"line\": {\"color\": \"#E5ECF6\", \"width\": 0.5}}, \"type\": \"bar\"}], \"barpolar\": [{\"marker\": {\"line\": {\"color\": \"#E5ECF6\", \"width\": 0.5}}, \"type\": \"barpolar\"}], \"carpet\": [{\"aaxis\": {\"endlinecolor\": \"#2a3f5f\", \"gridcolor\": \"white\", \"linecolor\": \"white\", \"minorgridcolor\": \"white\", \"startlinecolor\": \"#2a3f5f\"}, \"baxis\": {\"endlinecolor\": \"#2a3f5f\", \"gridcolor\": \"white\", \"linecolor\": \"white\", \"minorgridcolor\": \"white\", \"startlinecolor\": \"#2a3f5f\"}, \"type\": \"carpet\"}], \"choropleth\": [{\"colorbar\": {\"outlinewidth\": 0, \"ticks\": \"\"}, \"type\": \"choropleth\"}], \"contour\": [{\"colorbar\": {\"outlinewidth\": 0, \"ticks\": \"\"}, \"colorscale\": [[0.0, \"#0d0887\"], [0.1111111111111111, \"#46039f\"], [0.2222222222222222, \"#7201a8\"], [0.3333333333333333, \"#9c179e\"], [0.4444444444444444, \"#bd3786\"], [0.5555555555555556, \"#d8576b\"], [0.6666666666666666, \"#ed7953\"], [0.7777777777777778, \"#fb9f3a\"], [0.8888888888888888, \"#fdca26\"], [1.0, \"#f0f921\"]], \"type\": \"contour\"}], \"contourcarpet\": [{\"colorbar\": {\"outlinewidth\": 0, \"ticks\": \"\"}, \"type\": \"contourcarpet\"}], \"heatmap\": [{\"colorbar\": {\"outlinewidth\": 0, \"ticks\": \"\"}, \"colorscale\": [[0.0, \"#0d0887\"], [0.1111111111111111, \"#46039f\"], [0.2222222222222222, \"#7201a8\"], [0.3333333333333333, \"#9c179e\"], [0.4444444444444444, \"#bd3786\"], [0.5555555555555556, \"#d8576b\"], [0.6666666666666666, \"#ed7953\"], [0.7777777777777778, \"#fb9f3a\"], [0.8888888888888888, \"#fdca26\"], [1.0, \"#f0f921\"]], \"type\": \"heatmap\"}], \"heatmapgl\": [{\"colorbar\": {\"outlinewidth\": 0, \"ticks\": \"\"}, \"colorscale\": [[0.0, \"#0d0887\"], [0.1111111111111111, \"#46039f\"], [0.2222222222222222, \"#7201a8\"], [0.3333333333333333, \"#9c179e\"], [0.4444444444444444, \"#bd3786\"], [0.5555555555555556, \"#d8576b\"], [0.6666666666666666, \"#ed7953\"], [0.7777777777777778, \"#fb9f3a\"], [0.8888888888888888, \"#fdca26\"], [1.0, \"#f0f921\"]], \"type\": \"heatmapgl\"}], \"histogram\": [{\"marker\": {\"colorbar\": {\"outlinewidth\": 0, \"ticks\": \"\"}}, \"type\": \"histogram\"}], \"histogram2d\": [{\"colorbar\": {\"outlinewidth\": 0, \"ticks\": \"\"}, \"colorscale\": [[0.0, \"#0d0887\"], [0.1111111111111111, \"#46039f\"], [0.2222222222222222, \"#7201a8\"], [0.3333333333333333, \"#9c179e\"], [0.4444444444444444, \"#bd3786\"], [0.5555555555555556, \"#d8576b\"], [0.6666666666666666, \"#ed7953\"], [0.7777777777777778, \"#fb9f3a\"], [0.8888888888888888, \"#fdca26\"], [1.0, \"#f0f921\"]], \"type\": \"histogram2d\"}], \"histogram2dcontour\": [{\"colorbar\": {\"outlinewidth\": 0, \"ticks\": \"\"}, \"colorscale\": [[0.0, \"#0d0887\"], [0.1111111111111111, \"#46039f\"], [0.2222222222222222, \"#7201a8\"], [0.3333333333333333, \"#9c179e\"], [0.4444444444444444, \"#bd3786\"], [0.5555555555555556, \"#d8576b\"], [0.6666666666666666, \"#ed7953\"], [0.7777777777777778, \"#fb9f3a\"], [0.8888888888888888, \"#fdca26\"], [1.0, \"#f0f921\"]], \"type\": \"histogram2dcontour\"}], \"mesh3d\": [{\"colorbar\": {\"outlinewidth\": 0, \"ticks\": \"\"}, \"type\": \"mesh3d\"}], \"parcoords\": [{\"line\": {\"colorbar\": {\"outlinewidth\": 0, \"ticks\": \"\"}}, \"type\": \"parcoords\"}], \"scatter\": [{\"marker\": {\"colorbar\": {\"outlinewidth\": 0, \"ticks\": \"\"}}, \"type\": \"scatter\"}], \"scatter3d\": [{\"line\": {\"colorbar\": {\"outlinewidth\": 0, \"ticks\": \"\"}}, \"marker\": {\"colorbar\": {\"outlinewidth\": 0, \"ticks\": \"\"}}, \"type\": \"scatter3d\"}], \"scattercarpet\": [{\"marker\": {\"colorbar\": {\"outlinewidth\": 0, \"ticks\": \"\"}}, \"type\": \"scattercarpet\"}], \"scattergeo\": [{\"marker\": {\"colorbar\": {\"outlinewidth\": 0, \"ticks\": \"\"}}, \"type\": \"scattergeo\"}], \"scattergl\": [{\"marker\": {\"colorbar\": {\"outlinewidth\": 0, \"ticks\": \"\"}}, \"type\": \"scattergl\"}], \"scattermapbox\": [{\"marker\": {\"colorbar\": {\"outlinewidth\": 0, \"ticks\": \"\"}}, \"type\": \"scattermapbox\"}], \"scatterpolar\": [{\"marker\": {\"colorbar\": {\"outlinewidth\": 0, \"ticks\": \"\"}}, \"type\": \"scatterpolar\"}], \"scatterpolargl\": [{\"marker\": {\"colorbar\": {\"outlinewidth\": 0, \"ticks\": \"\"}}, \"type\": \"scatterpolargl\"}], \"scatterternary\": [{\"marker\": {\"colorbar\": {\"outlinewidth\": 0, \"ticks\": \"\"}}, \"type\": \"scatterternary\"}], \"surface\": [{\"colorbar\": {\"outlinewidth\": 0, \"ticks\": \"\"}, \"colorscale\": [[0.0, \"#0d0887\"], [0.1111111111111111, \"#46039f\"], [0.2222222222222222, \"#7201a8\"], [0.3333333333333333, \"#9c179e\"], [0.4444444444444444, \"#bd3786\"], [0.5555555555555556, \"#d8576b\"], [0.6666666666666666, \"#ed7953\"], [0.7777777777777778, \"#fb9f3a\"], [0.8888888888888888, \"#fdca26\"], [1.0, \"#f0f921\"]], \"type\": \"surface\"}], \"table\": [{\"cells\": {\"fill\": {\"color\": \"#EBF0F8\"}, \"line\": {\"color\": \"white\"}}, \"header\": {\"fill\": {\"color\": \"#C8D4E3\"}, \"line\": {\"color\": \"white\"}}, \"type\": \"table\"}]}, \"layout\": {\"annotationdefaults\": {\"arrowcolor\": \"#2a3f5f\", \"arrowhead\": 0, \"arrowwidth\": 1}, \"colorscale\": {\"diverging\": [[0, \"#8e0152\"], [0.1, \"#c51b7d\"], [0.2, \"#de77ae\"], [0.3, \"#f1b6da\"], [0.4, \"#fde0ef\"], [0.5, \"#f7f7f7\"], [0.6, \"#e6f5d0\"], [0.7, \"#b8e186\"], [0.8, \"#7fbc41\"], [0.9, \"#4d9221\"], [1, \"#276419\"]], \"sequential\": [[0.0, \"#0d0887\"], [0.1111111111111111, \"#46039f\"], [0.2222222222222222, \"#7201a8\"], [0.3333333333333333, \"#9c179e\"], [0.4444444444444444, \"#bd3786\"], [0.5555555555555556, \"#d8576b\"], [0.6666666666666666, \"#ed7953\"], [0.7777777777777778, \"#fb9f3a\"], [0.8888888888888888, \"#fdca26\"], [1.0, \"#f0f921\"]], \"sequentialminus\": [[0.0, \"#0d0887\"], [0.1111111111111111, \"#46039f\"], [0.2222222222222222, \"#7201a8\"], [0.3333333333333333, \"#9c179e\"], [0.4444444444444444, \"#bd3786\"], [0.5555555555555556, \"#d8576b\"], [0.6666666666666666, \"#ed7953\"], [0.7777777777777778, \"#fb9f3a\"], [0.8888888888888888, \"#fdca26\"], [1.0, \"#f0f921\"]]}, \"colorway\": [\"#636efa\", \"#EF553B\", \"#00cc96\", \"#ab63fa\", \"#FFA15A\", \"#19d3f3\", \"#FF6692\", \"#B6E880\", \"#FF97FF\", \"#FECB52\"], \"font\": {\"color\": \"#2a3f5f\"}, \"geo\": {\"bgcolor\": \"white\", \"lakecolor\": \"white\", \"landcolor\": \"#E5ECF6\", \"showlakes\": true, \"showland\": true, \"subunitcolor\": \"white\"}, \"hoverlabel\": {\"align\": \"left\"}, \"hovermode\": \"closest\", \"mapbox\": {\"style\": \"light\"}, \"paper_bgcolor\": \"white\", \"plot_bgcolor\": \"#E5ECF6\", \"polar\": {\"angularaxis\": {\"gridcolor\": \"white\", \"linecolor\": \"white\", \"ticks\": \"\"}, \"bgcolor\": \"#E5ECF6\", \"radialaxis\": {\"gridcolor\": \"white\", \"linecolor\": \"white\", \"ticks\": \"\"}}, \"scene\": {\"xaxis\": {\"backgroundcolor\": \"#E5ECF6\", \"gridcolor\": \"white\", \"gridwidth\": 2, \"linecolor\": \"white\", \"showbackground\": true, \"ticks\": \"\", \"zerolinecolor\": \"white\"}, \"yaxis\": {\"backgroundcolor\": \"#E5ECF6\", \"gridcolor\": \"white\", \"gridwidth\": 2, \"linecolor\": \"white\", \"showbackground\": true, \"ticks\": \"\", \"zerolinecolor\": \"white\"}, \"zaxis\": {\"backgroundcolor\": \"#E5ECF6\", \"gridcolor\": \"white\", \"gridwidth\": 2, \"linecolor\": \"white\", \"showbackground\": true, \"ticks\": \"\", \"zerolinecolor\": \"white\"}}, \"shapedefaults\": {\"line\": {\"color\": \"#2a3f5f\"}}, \"ternary\": {\"aaxis\": {\"gridcolor\": \"white\", \"linecolor\": \"white\", \"ticks\": \"\"}, \"baxis\": {\"gridcolor\": \"white\", \"linecolor\": \"white\", \"ticks\": \"\"}, \"bgcolor\": \"#E5ECF6\", \"caxis\": {\"gridcolor\": \"white\", \"linecolor\": \"white\", \"ticks\": \"\"}}, \"title\": {\"x\": 0.05}, \"xaxis\": {\"automargin\": true, \"gridcolor\": \"white\", \"linecolor\": \"white\", \"ticks\": \"\", \"zerolinecolor\": \"white\", \"zerolinewidth\": 2}, \"yaxis\": {\"automargin\": true, \"gridcolor\": \"white\", \"linecolor\": \"white\", \"ticks\": \"\", \"zerolinecolor\": \"white\", \"zerolinewidth\": 2}}}, \"title\": {\"font\": {\"color\": \"#4D5663\"}, \"text\": \"Boxplot: IsHoliday x Sales\"}, \"xaxis\": {\"gridcolor\": \"#E1E5ED\", \"showgrid\": true, \"tickfont\": {\"color\": \"#4D5663\"}, \"title\": {\"font\": {\"color\": \"#4D5663\"}, \"text\": \"\"}, \"zerolinecolor\": \"#E1E5ED\"}, \"yaxis\": {\"gridcolor\": \"#E1E5ED\", \"showgrid\": true, \"tickfont\": {\"color\": \"#4D5663\"}, \"title\": {\"font\": {\"color\": \"#4D5663\"}, \"text\": \"\"}, \"zerolinecolor\": \"#E1E5ED\"}},\n",
       "                        {\"showLink\": true, \"linkText\": \"Export to plot.ly\", \"plotlyServerURL\": \"https://plot.ly\", \"responsive\": true}\n",
       "                    ).then(function(){\n",
       "                            \n",
       "var gd = document.getElementById('b57ee841-a034-45a8-93e6-c22ee27193e2');\n",
       "var x = new MutationObserver(function (mutations, observer) {{\n",
       "        var display = window.getComputedStyle(gd).display;\n",
       "        if (!display || display === 'none') {{\n",
       "            console.log([gd, 'removed!']);\n",
       "            Plotly.purge(gd);\n",
       "            observer.disconnect();\n",
       "        }}\n",
       "}});\n",
       "\n",
       "// Listen for the removal of the full notebook cells\n",
       "var notebookContainer = gd.closest('#notebook-container');\n",
       "if (notebookContainer) {{\n",
       "    x.observe(notebookContainer, {childList: true});\n",
       "}}\n",
       "\n",
       "// Listen for the clearing of the current output cell\n",
       "var outputEl = gd.closest('.output');\n",
       "if (outputEl) {{\n",
       "    x.observe(outputEl, {childList: true});\n",
       "}}\n",
       "\n",
       "                        })\n",
       "                };\n",
       "                });\n",
       "            </script>\n",
       "        </div>"
      ]
     },
     "metadata": {},
     "output_type": "display_data"
    }
   ],
   "source": [
    "isholiday_sales_pivot.iplot('box', title=f'Boxplot: IsHoliday x Sales')"
   ]
  },
  {
   "cell_type": "markdown",
   "metadata": {},
   "source": [
    "Even though there are some outliers when it's not holiday, the difference between medians are not that much."
   ]
  },
  {
   "cell_type": "code",
   "execution_count": 18,
   "metadata": {},
   "outputs": [
    {
     "data": {
      "text/html": [
       "<div>\n",
       "<style scoped>\n",
       "    .dataframe tbody tr th:only-of-type {\n",
       "        vertical-align: middle;\n",
       "    }\n",
       "\n",
       "    .dataframe tbody tr th {\n",
       "        vertical-align: top;\n",
       "    }\n",
       "\n",
       "    .dataframe thead th {\n",
       "        text-align: right;\n",
       "    }\n",
       "</style>\n",
       "<table border=\"1\" class=\"dataframe\">\n",
       "  <thead>\n",
       "    <tr style=\"text-align: right;\">\n",
       "      <th>Type</th>\n",
       "      <th>A</th>\n",
       "      <th>B</th>\n",
       "      <th>C</th>\n",
       "    </tr>\n",
       "    <tr>\n",
       "      <th>Store</th>\n",
       "      <th></th>\n",
       "      <th></th>\n",
       "      <th></th>\n",
       "    </tr>\n",
       "  </thead>\n",
       "  <tbody>\n",
       "    <tr>\n",
       "      <td>1</td>\n",
       "      <td>151315.0</td>\n",
       "      <td>NaN</td>\n",
       "      <td>NaN</td>\n",
       "    </tr>\n",
       "    <tr>\n",
       "      <td>2</td>\n",
       "      <td>202307.0</td>\n",
       "      <td>NaN</td>\n",
       "      <td>NaN</td>\n",
       "    </tr>\n",
       "    <tr>\n",
       "      <td>3</td>\n",
       "      <td>NaN</td>\n",
       "      <td>37392.0</td>\n",
       "      <td>NaN</td>\n",
       "    </tr>\n",
       "    <tr>\n",
       "      <td>4</td>\n",
       "      <td>205863.0</td>\n",
       "      <td>NaN</td>\n",
       "      <td>NaN</td>\n",
       "    </tr>\n",
       "    <tr>\n",
       "      <td>5</td>\n",
       "      <td>NaN</td>\n",
       "      <td>34875.0</td>\n",
       "      <td>NaN</td>\n",
       "    </tr>\n",
       "    <tr>\n",
       "      <td>6</td>\n",
       "      <td>202505.0</td>\n",
       "      <td>NaN</td>\n",
       "      <td>NaN</td>\n",
       "    </tr>\n",
       "    <tr>\n",
       "      <td>7</td>\n",
       "      <td>NaN</td>\n",
       "      <td>70713.0</td>\n",
       "      <td>NaN</td>\n",
       "    </tr>\n",
       "    <tr>\n",
       "      <td>8</td>\n",
       "      <td>155078.0</td>\n",
       "      <td>NaN</td>\n",
       "      <td>NaN</td>\n",
       "    </tr>\n",
       "    <tr>\n",
       "      <td>9</td>\n",
       "      <td>NaN</td>\n",
       "      <td>125833.0</td>\n",
       "      <td>NaN</td>\n",
       "    </tr>\n",
       "    <tr>\n",
       "      <td>10</td>\n",
       "      <td>NaN</td>\n",
       "      <td>126512.0</td>\n",
       "      <td>NaN</td>\n",
       "    </tr>\n",
       "    <tr>\n",
       "      <td>11</td>\n",
       "      <td>207499.0</td>\n",
       "      <td>NaN</td>\n",
       "      <td>NaN</td>\n",
       "    </tr>\n",
       "    <tr>\n",
       "      <td>12</td>\n",
       "      <td>NaN</td>\n",
       "      <td>112238.0</td>\n",
       "      <td>NaN</td>\n",
       "    </tr>\n",
       "    <tr>\n",
       "      <td>13</td>\n",
       "      <td>219622.0</td>\n",
       "      <td>NaN</td>\n",
       "      <td>NaN</td>\n",
       "    </tr>\n",
       "    <tr>\n",
       "      <td>14</td>\n",
       "      <td>200898.0</td>\n",
       "      <td>NaN</td>\n",
       "      <td>NaN</td>\n",
       "    </tr>\n",
       "    <tr>\n",
       "      <td>15</td>\n",
       "      <td>NaN</td>\n",
       "      <td>123737.0</td>\n",
       "      <td>NaN</td>\n",
       "    </tr>\n",
       "    <tr>\n",
       "      <td>16</td>\n",
       "      <td>NaN</td>\n",
       "      <td>57197.0</td>\n",
       "      <td>NaN</td>\n",
       "    </tr>\n",
       "    <tr>\n",
       "      <td>17</td>\n",
       "      <td>NaN</td>\n",
       "      <td>93188.0</td>\n",
       "      <td>NaN</td>\n",
       "    </tr>\n",
       "    <tr>\n",
       "      <td>18</td>\n",
       "      <td>NaN</td>\n",
       "      <td>120653.0</td>\n",
       "      <td>NaN</td>\n",
       "    </tr>\n",
       "    <tr>\n",
       "      <td>19</td>\n",
       "      <td>203819.0</td>\n",
       "      <td>NaN</td>\n",
       "      <td>NaN</td>\n",
       "    </tr>\n",
       "    <tr>\n",
       "      <td>20</td>\n",
       "      <td>203742.0</td>\n",
       "      <td>NaN</td>\n",
       "      <td>NaN</td>\n",
       "    </tr>\n",
       "    <tr>\n",
       "      <td>21</td>\n",
       "      <td>NaN</td>\n",
       "      <td>140167.0</td>\n",
       "      <td>NaN</td>\n",
       "    </tr>\n",
       "    <tr>\n",
       "      <td>22</td>\n",
       "      <td>NaN</td>\n",
       "      <td>119557.0</td>\n",
       "      <td>NaN</td>\n",
       "    </tr>\n",
       "    <tr>\n",
       "      <td>23</td>\n",
       "      <td>NaN</td>\n",
       "      <td>114533.0</td>\n",
       "      <td>NaN</td>\n",
       "    </tr>\n",
       "    <tr>\n",
       "      <td>24</td>\n",
       "      <td>203819.0</td>\n",
       "      <td>NaN</td>\n",
       "      <td>NaN</td>\n",
       "    </tr>\n",
       "    <tr>\n",
       "      <td>25</td>\n",
       "      <td>NaN</td>\n",
       "      <td>128107.0</td>\n",
       "      <td>NaN</td>\n",
       "    </tr>\n",
       "    <tr>\n",
       "      <td>26</td>\n",
       "      <td>152513.0</td>\n",
       "      <td>NaN</td>\n",
       "      <td>NaN</td>\n",
       "    </tr>\n",
       "    <tr>\n",
       "      <td>27</td>\n",
       "      <td>204184.0</td>\n",
       "      <td>NaN</td>\n",
       "      <td>NaN</td>\n",
       "    </tr>\n",
       "    <tr>\n",
       "      <td>28</td>\n",
       "      <td>206302.0</td>\n",
       "      <td>NaN</td>\n",
       "      <td>NaN</td>\n",
       "    </tr>\n",
       "    <tr>\n",
       "      <td>29</td>\n",
       "      <td>NaN</td>\n",
       "      <td>93638.0</td>\n",
       "      <td>NaN</td>\n",
       "    </tr>\n",
       "    <tr>\n",
       "      <td>30</td>\n",
       "      <td>NaN</td>\n",
       "      <td>NaN</td>\n",
       "      <td>42988.0</td>\n",
       "    </tr>\n",
       "    <tr>\n",
       "      <td>31</td>\n",
       "      <td>203750.0</td>\n",
       "      <td>NaN</td>\n",
       "      <td>NaN</td>\n",
       "    </tr>\n",
       "    <tr>\n",
       "      <td>32</td>\n",
       "      <td>203007.0</td>\n",
       "      <td>NaN</td>\n",
       "      <td>NaN</td>\n",
       "    </tr>\n",
       "    <tr>\n",
       "      <td>33</td>\n",
       "      <td>39690.0</td>\n",
       "      <td>NaN</td>\n",
       "      <td>NaN</td>\n",
       "    </tr>\n",
       "    <tr>\n",
       "      <td>34</td>\n",
       "      <td>158114.0</td>\n",
       "      <td>NaN</td>\n",
       "      <td>NaN</td>\n",
       "    </tr>\n",
       "    <tr>\n",
       "      <td>35</td>\n",
       "      <td>NaN</td>\n",
       "      <td>103681.0</td>\n",
       "      <td>NaN</td>\n",
       "    </tr>\n",
       "    <tr>\n",
       "      <td>36</td>\n",
       "      <td>39910.0</td>\n",
       "      <td>NaN</td>\n",
       "      <td>NaN</td>\n",
       "    </tr>\n",
       "    <tr>\n",
       "      <td>37</td>\n",
       "      <td>NaN</td>\n",
       "      <td>NaN</td>\n",
       "      <td>39910.0</td>\n",
       "    </tr>\n",
       "    <tr>\n",
       "      <td>38</td>\n",
       "      <td>NaN</td>\n",
       "      <td>NaN</td>\n",
       "      <td>39690.0</td>\n",
       "    </tr>\n",
       "    <tr>\n",
       "      <td>39</td>\n",
       "      <td>184109.0</td>\n",
       "      <td>NaN</td>\n",
       "      <td>NaN</td>\n",
       "    </tr>\n",
       "    <tr>\n",
       "      <td>40</td>\n",
       "      <td>155083.0</td>\n",
       "      <td>NaN</td>\n",
       "      <td>NaN</td>\n",
       "    </tr>\n",
       "    <tr>\n",
       "      <td>41</td>\n",
       "      <td>196321.0</td>\n",
       "      <td>NaN</td>\n",
       "      <td>NaN</td>\n",
       "    </tr>\n",
       "    <tr>\n",
       "      <td>42</td>\n",
       "      <td>NaN</td>\n",
       "      <td>NaN</td>\n",
       "      <td>39690.0</td>\n",
       "    </tr>\n",
       "    <tr>\n",
       "      <td>43</td>\n",
       "      <td>NaN</td>\n",
       "      <td>NaN</td>\n",
       "      <td>41062.0</td>\n",
       "    </tr>\n",
       "    <tr>\n",
       "      <td>44</td>\n",
       "      <td>NaN</td>\n",
       "      <td>NaN</td>\n",
       "      <td>39910.0</td>\n",
       "    </tr>\n",
       "    <tr>\n",
       "      <td>45</td>\n",
       "      <td>NaN</td>\n",
       "      <td>118221.0</td>\n",
       "      <td>NaN</td>\n",
       "    </tr>\n",
       "  </tbody>\n",
       "</table>\n",
       "</div>"
      ],
      "text/plain": [
       "Type          A         B        C\n",
       "Store                             \n",
       "1      151315.0       NaN      NaN\n",
       "2      202307.0       NaN      NaN\n",
       "3           NaN   37392.0      NaN\n",
       "4      205863.0       NaN      NaN\n",
       "5           NaN   34875.0      NaN\n",
       "6      202505.0       NaN      NaN\n",
       "7           NaN   70713.0      NaN\n",
       "8      155078.0       NaN      NaN\n",
       "9           NaN  125833.0      NaN\n",
       "10          NaN  126512.0      NaN\n",
       "11     207499.0       NaN      NaN\n",
       "12          NaN  112238.0      NaN\n",
       "13     219622.0       NaN      NaN\n",
       "14     200898.0       NaN      NaN\n",
       "15          NaN  123737.0      NaN\n",
       "16          NaN   57197.0      NaN\n",
       "17          NaN   93188.0      NaN\n",
       "18          NaN  120653.0      NaN\n",
       "19     203819.0       NaN      NaN\n",
       "20     203742.0       NaN      NaN\n",
       "21          NaN  140167.0      NaN\n",
       "22          NaN  119557.0      NaN\n",
       "23          NaN  114533.0      NaN\n",
       "24     203819.0       NaN      NaN\n",
       "25          NaN  128107.0      NaN\n",
       "26     152513.0       NaN      NaN\n",
       "27     204184.0       NaN      NaN\n",
       "28     206302.0       NaN      NaN\n",
       "29          NaN   93638.0      NaN\n",
       "30          NaN       NaN  42988.0\n",
       "31     203750.0       NaN      NaN\n",
       "32     203007.0       NaN      NaN\n",
       "33      39690.0       NaN      NaN\n",
       "34     158114.0       NaN      NaN\n",
       "35          NaN  103681.0      NaN\n",
       "36      39910.0       NaN      NaN\n",
       "37          NaN       NaN  39910.0\n",
       "38          NaN       NaN  39690.0\n",
       "39     184109.0       NaN      NaN\n",
       "40     155083.0       NaN      NaN\n",
       "41     196321.0       NaN      NaN\n",
       "42          NaN       NaN  39690.0\n",
       "43          NaN       NaN  41062.0\n",
       "44          NaN       NaN  39910.0\n",
       "45          NaN  118221.0      NaN"
      ]
     },
     "execution_count": 18,
     "metadata": {},
     "output_type": "execute_result"
    }
   ],
   "source": [
    "type_size_pivot = stores_df.assign(key=stores_df.groupby('Type').cumcount()).pivot('Store','Type','Size')\n",
    "type_size_pivot"
   ]
  },
  {
   "cell_type": "code",
   "execution_count": 19,
   "metadata": {
    "scrolled": false
   },
   "outputs": [
    {
     "data": {
      "application/vnd.plotly.v1+json": {
       "config": {
        "linkText": "Export to plot.ly",
        "plotlyServerURL": "https://plot.ly",
        "showLink": true
       },
       "data": [
        {
         "boxpoints": false,
         "line": {
          "width": 1.3
         },
         "marker": {
          "color": "rgba(255, 153, 51, 1.0)"
         },
         "name": "A",
         "orientation": "v",
         "type": "box",
         "y": [
          151315,
          202307,
          null,
          205863,
          null,
          202505,
          null,
          155078,
          null,
          null,
          207499,
          null,
          219622,
          200898,
          null,
          null,
          null,
          null,
          203819,
          203742,
          null,
          null,
          null,
          203819,
          null,
          152513,
          204184,
          206302,
          null,
          null,
          203750,
          203007,
          39690,
          158114,
          null,
          39910,
          null,
          null,
          184109,
          155083,
          196321,
          null,
          null,
          null,
          null
         ]
        },
        {
         "boxpoints": false,
         "line": {
          "width": 1.3
         },
         "marker": {
          "color": "rgba(55, 128, 191, 1.0)"
         },
         "name": "B",
         "orientation": "v",
         "type": "box",
         "y": [
          null,
          null,
          37392,
          null,
          34875,
          null,
          70713,
          null,
          125833,
          126512,
          null,
          112238,
          null,
          null,
          123737,
          57197,
          93188,
          120653,
          null,
          null,
          140167,
          119557,
          114533,
          null,
          128107,
          null,
          null,
          null,
          93638,
          null,
          null,
          null,
          null,
          null,
          103681,
          null,
          null,
          null,
          null,
          null,
          null,
          null,
          null,
          null,
          118221
         ]
        },
        {
         "boxpoints": false,
         "line": {
          "width": 1.3
         },
         "marker": {
          "color": "rgba(50, 171, 96, 1.0)"
         },
         "name": "C",
         "orientation": "v",
         "type": "box",
         "y": [
          null,
          null,
          null,
          null,
          null,
          null,
          null,
          null,
          null,
          null,
          null,
          null,
          null,
          null,
          null,
          null,
          null,
          null,
          null,
          null,
          null,
          null,
          null,
          null,
          null,
          null,
          null,
          null,
          null,
          42988,
          null,
          null,
          null,
          null,
          null,
          null,
          39910,
          39690,
          null,
          null,
          null,
          39690,
          41062,
          39910,
          null
         ]
        }
       ],
       "layout": {
        "legend": {
         "bgcolor": "#F5F6F9",
         "font": {
          "color": "#4D5663"
         }
        },
        "paper_bgcolor": "#F5F6F9",
        "plot_bgcolor": "#F5F6F9",
        "template": {
         "data": {
          "bar": [
           {
            "error_x": {
             "color": "#2a3f5f"
            },
            "error_y": {
             "color": "#2a3f5f"
            },
            "marker": {
             "line": {
              "color": "#E5ECF6",
              "width": 0.5
             }
            },
            "type": "bar"
           }
          ],
          "barpolar": [
           {
            "marker": {
             "line": {
              "color": "#E5ECF6",
              "width": 0.5
             }
            },
            "type": "barpolar"
           }
          ],
          "carpet": [
           {
            "aaxis": {
             "endlinecolor": "#2a3f5f",
             "gridcolor": "white",
             "linecolor": "white",
             "minorgridcolor": "white",
             "startlinecolor": "#2a3f5f"
            },
            "baxis": {
             "endlinecolor": "#2a3f5f",
             "gridcolor": "white",
             "linecolor": "white",
             "minorgridcolor": "white",
             "startlinecolor": "#2a3f5f"
            },
            "type": "carpet"
           }
          ],
          "choropleth": [
           {
            "colorbar": {
             "outlinewidth": 0,
             "ticks": ""
            },
            "type": "choropleth"
           }
          ],
          "contour": [
           {
            "colorbar": {
             "outlinewidth": 0,
             "ticks": ""
            },
            "colorscale": [
             [
              0,
              "#0d0887"
             ],
             [
              0.1111111111111111,
              "#46039f"
             ],
             [
              0.2222222222222222,
              "#7201a8"
             ],
             [
              0.3333333333333333,
              "#9c179e"
             ],
             [
              0.4444444444444444,
              "#bd3786"
             ],
             [
              0.5555555555555556,
              "#d8576b"
             ],
             [
              0.6666666666666666,
              "#ed7953"
             ],
             [
              0.7777777777777778,
              "#fb9f3a"
             ],
             [
              0.8888888888888888,
              "#fdca26"
             ],
             [
              1,
              "#f0f921"
             ]
            ],
            "type": "contour"
           }
          ],
          "contourcarpet": [
           {
            "colorbar": {
             "outlinewidth": 0,
             "ticks": ""
            },
            "type": "contourcarpet"
           }
          ],
          "heatmap": [
           {
            "colorbar": {
             "outlinewidth": 0,
             "ticks": ""
            },
            "colorscale": [
             [
              0,
              "#0d0887"
             ],
             [
              0.1111111111111111,
              "#46039f"
             ],
             [
              0.2222222222222222,
              "#7201a8"
             ],
             [
              0.3333333333333333,
              "#9c179e"
             ],
             [
              0.4444444444444444,
              "#bd3786"
             ],
             [
              0.5555555555555556,
              "#d8576b"
             ],
             [
              0.6666666666666666,
              "#ed7953"
             ],
             [
              0.7777777777777778,
              "#fb9f3a"
             ],
             [
              0.8888888888888888,
              "#fdca26"
             ],
             [
              1,
              "#f0f921"
             ]
            ],
            "type": "heatmap"
           }
          ],
          "heatmapgl": [
           {
            "colorbar": {
             "outlinewidth": 0,
             "ticks": ""
            },
            "colorscale": [
             [
              0,
              "#0d0887"
             ],
             [
              0.1111111111111111,
              "#46039f"
             ],
             [
              0.2222222222222222,
              "#7201a8"
             ],
             [
              0.3333333333333333,
              "#9c179e"
             ],
             [
              0.4444444444444444,
              "#bd3786"
             ],
             [
              0.5555555555555556,
              "#d8576b"
             ],
             [
              0.6666666666666666,
              "#ed7953"
             ],
             [
              0.7777777777777778,
              "#fb9f3a"
             ],
             [
              0.8888888888888888,
              "#fdca26"
             ],
             [
              1,
              "#f0f921"
             ]
            ],
            "type": "heatmapgl"
           }
          ],
          "histogram": [
           {
            "marker": {
             "colorbar": {
              "outlinewidth": 0,
              "ticks": ""
             }
            },
            "type": "histogram"
           }
          ],
          "histogram2d": [
           {
            "colorbar": {
             "outlinewidth": 0,
             "ticks": ""
            },
            "colorscale": [
             [
              0,
              "#0d0887"
             ],
             [
              0.1111111111111111,
              "#46039f"
             ],
             [
              0.2222222222222222,
              "#7201a8"
             ],
             [
              0.3333333333333333,
              "#9c179e"
             ],
             [
              0.4444444444444444,
              "#bd3786"
             ],
             [
              0.5555555555555556,
              "#d8576b"
             ],
             [
              0.6666666666666666,
              "#ed7953"
             ],
             [
              0.7777777777777778,
              "#fb9f3a"
             ],
             [
              0.8888888888888888,
              "#fdca26"
             ],
             [
              1,
              "#f0f921"
             ]
            ],
            "type": "histogram2d"
           }
          ],
          "histogram2dcontour": [
           {
            "colorbar": {
             "outlinewidth": 0,
             "ticks": ""
            },
            "colorscale": [
             [
              0,
              "#0d0887"
             ],
             [
              0.1111111111111111,
              "#46039f"
             ],
             [
              0.2222222222222222,
              "#7201a8"
             ],
             [
              0.3333333333333333,
              "#9c179e"
             ],
             [
              0.4444444444444444,
              "#bd3786"
             ],
             [
              0.5555555555555556,
              "#d8576b"
             ],
             [
              0.6666666666666666,
              "#ed7953"
             ],
             [
              0.7777777777777778,
              "#fb9f3a"
             ],
             [
              0.8888888888888888,
              "#fdca26"
             ],
             [
              1,
              "#f0f921"
             ]
            ],
            "type": "histogram2dcontour"
           }
          ],
          "mesh3d": [
           {
            "colorbar": {
             "outlinewidth": 0,
             "ticks": ""
            },
            "type": "mesh3d"
           }
          ],
          "parcoords": [
           {
            "line": {
             "colorbar": {
              "outlinewidth": 0,
              "ticks": ""
             }
            },
            "type": "parcoords"
           }
          ],
          "scatter": [
           {
            "marker": {
             "colorbar": {
              "outlinewidth": 0,
              "ticks": ""
             }
            },
            "type": "scatter"
           }
          ],
          "scatter3d": [
           {
            "line": {
             "colorbar": {
              "outlinewidth": 0,
              "ticks": ""
             }
            },
            "marker": {
             "colorbar": {
              "outlinewidth": 0,
              "ticks": ""
             }
            },
            "type": "scatter3d"
           }
          ],
          "scattercarpet": [
           {
            "marker": {
             "colorbar": {
              "outlinewidth": 0,
              "ticks": ""
             }
            },
            "type": "scattercarpet"
           }
          ],
          "scattergeo": [
           {
            "marker": {
             "colorbar": {
              "outlinewidth": 0,
              "ticks": ""
             }
            },
            "type": "scattergeo"
           }
          ],
          "scattergl": [
           {
            "marker": {
             "colorbar": {
              "outlinewidth": 0,
              "ticks": ""
             }
            },
            "type": "scattergl"
           }
          ],
          "scattermapbox": [
           {
            "marker": {
             "colorbar": {
              "outlinewidth": 0,
              "ticks": ""
             }
            },
            "type": "scattermapbox"
           }
          ],
          "scatterpolar": [
           {
            "marker": {
             "colorbar": {
              "outlinewidth": 0,
              "ticks": ""
             }
            },
            "type": "scatterpolar"
           }
          ],
          "scatterpolargl": [
           {
            "marker": {
             "colorbar": {
              "outlinewidth": 0,
              "ticks": ""
             }
            },
            "type": "scatterpolargl"
           }
          ],
          "scatterternary": [
           {
            "marker": {
             "colorbar": {
              "outlinewidth": 0,
              "ticks": ""
             }
            },
            "type": "scatterternary"
           }
          ],
          "surface": [
           {
            "colorbar": {
             "outlinewidth": 0,
             "ticks": ""
            },
            "colorscale": [
             [
              0,
              "#0d0887"
             ],
             [
              0.1111111111111111,
              "#46039f"
             ],
             [
              0.2222222222222222,
              "#7201a8"
             ],
             [
              0.3333333333333333,
              "#9c179e"
             ],
             [
              0.4444444444444444,
              "#bd3786"
             ],
             [
              0.5555555555555556,
              "#d8576b"
             ],
             [
              0.6666666666666666,
              "#ed7953"
             ],
             [
              0.7777777777777778,
              "#fb9f3a"
             ],
             [
              0.8888888888888888,
              "#fdca26"
             ],
             [
              1,
              "#f0f921"
             ]
            ],
            "type": "surface"
           }
          ],
          "table": [
           {
            "cells": {
             "fill": {
              "color": "#EBF0F8"
             },
             "line": {
              "color": "white"
             }
            },
            "header": {
             "fill": {
              "color": "#C8D4E3"
             },
             "line": {
              "color": "white"
             }
            },
            "type": "table"
           }
          ]
         },
         "layout": {
          "annotationdefaults": {
           "arrowcolor": "#2a3f5f",
           "arrowhead": 0,
           "arrowwidth": 1
          },
          "colorscale": {
           "diverging": [
            [
             0,
             "#8e0152"
            ],
            [
             0.1,
             "#c51b7d"
            ],
            [
             0.2,
             "#de77ae"
            ],
            [
             0.3,
             "#f1b6da"
            ],
            [
             0.4,
             "#fde0ef"
            ],
            [
             0.5,
             "#f7f7f7"
            ],
            [
             0.6,
             "#e6f5d0"
            ],
            [
             0.7,
             "#b8e186"
            ],
            [
             0.8,
             "#7fbc41"
            ],
            [
             0.9,
             "#4d9221"
            ],
            [
             1,
             "#276419"
            ]
           ],
           "sequential": [
            [
             0,
             "#0d0887"
            ],
            [
             0.1111111111111111,
             "#46039f"
            ],
            [
             0.2222222222222222,
             "#7201a8"
            ],
            [
             0.3333333333333333,
             "#9c179e"
            ],
            [
             0.4444444444444444,
             "#bd3786"
            ],
            [
             0.5555555555555556,
             "#d8576b"
            ],
            [
             0.6666666666666666,
             "#ed7953"
            ],
            [
             0.7777777777777778,
             "#fb9f3a"
            ],
            [
             0.8888888888888888,
             "#fdca26"
            ],
            [
             1,
             "#f0f921"
            ]
           ],
           "sequentialminus": [
            [
             0,
             "#0d0887"
            ],
            [
             0.1111111111111111,
             "#46039f"
            ],
            [
             0.2222222222222222,
             "#7201a8"
            ],
            [
             0.3333333333333333,
             "#9c179e"
            ],
            [
             0.4444444444444444,
             "#bd3786"
            ],
            [
             0.5555555555555556,
             "#d8576b"
            ],
            [
             0.6666666666666666,
             "#ed7953"
            ],
            [
             0.7777777777777778,
             "#fb9f3a"
            ],
            [
             0.8888888888888888,
             "#fdca26"
            ],
            [
             1,
             "#f0f921"
            ]
           ]
          },
          "colorway": [
           "#636efa",
           "#EF553B",
           "#00cc96",
           "#ab63fa",
           "#FFA15A",
           "#19d3f3",
           "#FF6692",
           "#B6E880",
           "#FF97FF",
           "#FECB52"
          ],
          "font": {
           "color": "#2a3f5f"
          },
          "geo": {
           "bgcolor": "white",
           "lakecolor": "white",
           "landcolor": "#E5ECF6",
           "showlakes": true,
           "showland": true,
           "subunitcolor": "white"
          },
          "hoverlabel": {
           "align": "left"
          },
          "hovermode": "closest",
          "mapbox": {
           "style": "light"
          },
          "paper_bgcolor": "white",
          "plot_bgcolor": "#E5ECF6",
          "polar": {
           "angularaxis": {
            "gridcolor": "white",
            "linecolor": "white",
            "ticks": ""
           },
           "bgcolor": "#E5ECF6",
           "radialaxis": {
            "gridcolor": "white",
            "linecolor": "white",
            "ticks": ""
           }
          },
          "scene": {
           "xaxis": {
            "backgroundcolor": "#E5ECF6",
            "gridcolor": "white",
            "gridwidth": 2,
            "linecolor": "white",
            "showbackground": true,
            "ticks": "",
            "zerolinecolor": "white"
           },
           "yaxis": {
            "backgroundcolor": "#E5ECF6",
            "gridcolor": "white",
            "gridwidth": 2,
            "linecolor": "white",
            "showbackground": true,
            "ticks": "",
            "zerolinecolor": "white"
           },
           "zaxis": {
            "backgroundcolor": "#E5ECF6",
            "gridcolor": "white",
            "gridwidth": 2,
            "linecolor": "white",
            "showbackground": true,
            "ticks": "",
            "zerolinecolor": "white"
           }
          },
          "shapedefaults": {
           "line": {
            "color": "#2a3f5f"
           }
          },
          "ternary": {
           "aaxis": {
            "gridcolor": "white",
            "linecolor": "white",
            "ticks": ""
           },
           "baxis": {
            "gridcolor": "white",
            "linecolor": "white",
            "ticks": ""
           },
           "bgcolor": "#E5ECF6",
           "caxis": {
            "gridcolor": "white",
            "linecolor": "white",
            "ticks": ""
           }
          },
          "title": {
           "x": 0.05
          },
          "xaxis": {
           "automargin": true,
           "gridcolor": "white",
           "linecolor": "white",
           "ticks": "",
           "zerolinecolor": "white",
           "zerolinewidth": 2
          },
          "yaxis": {
           "automargin": true,
           "gridcolor": "white",
           "linecolor": "white",
           "ticks": "",
           "zerolinecolor": "white",
           "zerolinewidth": 2
          }
         }
        },
        "title": {
         "font": {
          "color": "#4D5663"
         },
         "text": "Boxplot: Store Type x Size"
        },
        "xaxis": {
         "gridcolor": "#E1E5ED",
         "showgrid": true,
         "tickfont": {
          "color": "#4D5663"
         },
         "title": {
          "font": {
           "color": "#4D5663"
          },
          "text": ""
         },
         "zerolinecolor": "#E1E5ED"
        },
        "yaxis": {
         "gridcolor": "#E1E5ED",
         "showgrid": true,
         "tickfont": {
          "color": "#4D5663"
         },
         "title": {
          "font": {
           "color": "#4D5663"
          },
          "text": ""
         },
         "zerolinecolor": "#E1E5ED"
        }
       }
      },
      "text/html": [
       "<div>\n",
       "        \n",
       "        \n",
       "            <div id=\"e88ed42a-a58a-446b-9507-6b11a5db327b\" class=\"plotly-graph-div\" style=\"height:525px; width:100%;\"></div>\n",
       "            <script type=\"text/javascript\">\n",
       "                require([\"plotly\"], function(Plotly) {\n",
       "                    window.PLOTLYENV=window.PLOTLYENV || {};\n",
       "                    window.PLOTLYENV.BASE_URL='https://plot.ly';\n",
       "                    \n",
       "                if (document.getElementById(\"e88ed42a-a58a-446b-9507-6b11a5db327b\")) {\n",
       "                    Plotly.newPlot(\n",
       "                        'e88ed42a-a58a-446b-9507-6b11a5db327b',\n",
       "                        [{\"boxpoints\": false, \"line\": {\"width\": 1.3}, \"marker\": {\"color\": \"rgba(255, 153, 51, 1.0)\"}, \"name\": \"A\", \"orientation\": \"v\", \"type\": \"box\", \"y\": [151315.0, 202307.0, null, 205863.0, null, 202505.0, null, 155078.0, null, null, 207499.0, null, 219622.0, 200898.0, null, null, null, null, 203819.0, 203742.0, null, null, null, 203819.0, null, 152513.0, 204184.0, 206302.0, null, null, 203750.0, 203007.0, 39690.0, 158114.0, null, 39910.0, null, null, 184109.0, 155083.0, 196321.0, null, null, null, null]}, {\"boxpoints\": false, \"line\": {\"width\": 1.3}, \"marker\": {\"color\": \"rgba(55, 128, 191, 1.0)\"}, \"name\": \"B\", \"orientation\": \"v\", \"type\": \"box\", \"y\": [null, null, 37392.0, null, 34875.0, null, 70713.0, null, 125833.0, 126512.0, null, 112238.0, null, null, 123737.0, 57197.0, 93188.0, 120653.0, null, null, 140167.0, 119557.0, 114533.0, null, 128107.0, null, null, null, 93638.0, null, null, null, null, null, 103681.0, null, null, null, null, null, null, null, null, null, 118221.0]}, {\"boxpoints\": false, \"line\": {\"width\": 1.3}, \"marker\": {\"color\": \"rgba(50, 171, 96, 1.0)\"}, \"name\": \"C\", \"orientation\": \"v\", \"type\": \"box\", \"y\": [null, null, null, null, null, null, null, null, null, null, null, null, null, null, null, null, null, null, null, null, null, null, null, null, null, null, null, null, null, 42988.0, null, null, null, null, null, null, 39910.0, 39690.0, null, null, null, 39690.0, 41062.0, 39910.0, null]}],\n",
       "                        {\"legend\": {\"bgcolor\": \"#F5F6F9\", \"font\": {\"color\": \"#4D5663\"}}, \"paper_bgcolor\": \"#F5F6F9\", \"plot_bgcolor\": \"#F5F6F9\", \"template\": {\"data\": {\"bar\": [{\"error_x\": {\"color\": \"#2a3f5f\"}, \"error_y\": {\"color\": \"#2a3f5f\"}, \"marker\": {\"line\": {\"color\": \"#E5ECF6\", \"width\": 0.5}}, \"type\": \"bar\"}], \"barpolar\": [{\"marker\": {\"line\": {\"color\": \"#E5ECF6\", \"width\": 0.5}}, \"type\": \"barpolar\"}], \"carpet\": [{\"aaxis\": {\"endlinecolor\": \"#2a3f5f\", \"gridcolor\": \"white\", \"linecolor\": \"white\", \"minorgridcolor\": \"white\", \"startlinecolor\": \"#2a3f5f\"}, \"baxis\": {\"endlinecolor\": \"#2a3f5f\", \"gridcolor\": \"white\", \"linecolor\": \"white\", \"minorgridcolor\": \"white\", \"startlinecolor\": \"#2a3f5f\"}, \"type\": \"carpet\"}], \"choropleth\": [{\"colorbar\": {\"outlinewidth\": 0, \"ticks\": \"\"}, \"type\": \"choropleth\"}], \"contour\": [{\"colorbar\": {\"outlinewidth\": 0, \"ticks\": \"\"}, \"colorscale\": [[0.0, \"#0d0887\"], [0.1111111111111111, \"#46039f\"], [0.2222222222222222, \"#7201a8\"], [0.3333333333333333, \"#9c179e\"], [0.4444444444444444, \"#bd3786\"], [0.5555555555555556, \"#d8576b\"], [0.6666666666666666, \"#ed7953\"], [0.7777777777777778, \"#fb9f3a\"], [0.8888888888888888, \"#fdca26\"], [1.0, \"#f0f921\"]], \"type\": \"contour\"}], \"contourcarpet\": [{\"colorbar\": {\"outlinewidth\": 0, \"ticks\": \"\"}, \"type\": \"contourcarpet\"}], \"heatmap\": [{\"colorbar\": {\"outlinewidth\": 0, \"ticks\": \"\"}, \"colorscale\": [[0.0, \"#0d0887\"], [0.1111111111111111, \"#46039f\"], [0.2222222222222222, \"#7201a8\"], [0.3333333333333333, \"#9c179e\"], [0.4444444444444444, \"#bd3786\"], [0.5555555555555556, \"#d8576b\"], [0.6666666666666666, \"#ed7953\"], [0.7777777777777778, \"#fb9f3a\"], [0.8888888888888888, \"#fdca26\"], [1.0, \"#f0f921\"]], \"type\": \"heatmap\"}], \"heatmapgl\": [{\"colorbar\": {\"outlinewidth\": 0, \"ticks\": \"\"}, \"colorscale\": [[0.0, \"#0d0887\"], [0.1111111111111111, \"#46039f\"], [0.2222222222222222, \"#7201a8\"], [0.3333333333333333, \"#9c179e\"], [0.4444444444444444, \"#bd3786\"], [0.5555555555555556, \"#d8576b\"], [0.6666666666666666, \"#ed7953\"], [0.7777777777777778, \"#fb9f3a\"], [0.8888888888888888, \"#fdca26\"], [1.0, \"#f0f921\"]], \"type\": \"heatmapgl\"}], \"histogram\": [{\"marker\": {\"colorbar\": {\"outlinewidth\": 0, \"ticks\": \"\"}}, \"type\": \"histogram\"}], \"histogram2d\": [{\"colorbar\": {\"outlinewidth\": 0, \"ticks\": \"\"}, \"colorscale\": [[0.0, \"#0d0887\"], [0.1111111111111111, \"#46039f\"], [0.2222222222222222, \"#7201a8\"], [0.3333333333333333, \"#9c179e\"], [0.4444444444444444, \"#bd3786\"], [0.5555555555555556, \"#d8576b\"], [0.6666666666666666, \"#ed7953\"], [0.7777777777777778, \"#fb9f3a\"], [0.8888888888888888, \"#fdca26\"], [1.0, \"#f0f921\"]], \"type\": \"histogram2d\"}], \"histogram2dcontour\": [{\"colorbar\": {\"outlinewidth\": 0, \"ticks\": \"\"}, \"colorscale\": [[0.0, \"#0d0887\"], [0.1111111111111111, \"#46039f\"], [0.2222222222222222, \"#7201a8\"], [0.3333333333333333, \"#9c179e\"], [0.4444444444444444, \"#bd3786\"], [0.5555555555555556, \"#d8576b\"], [0.6666666666666666, \"#ed7953\"], [0.7777777777777778, \"#fb9f3a\"], [0.8888888888888888, \"#fdca26\"], [1.0, \"#f0f921\"]], \"type\": \"histogram2dcontour\"}], \"mesh3d\": [{\"colorbar\": {\"outlinewidth\": 0, \"ticks\": \"\"}, \"type\": \"mesh3d\"}], \"parcoords\": [{\"line\": {\"colorbar\": {\"outlinewidth\": 0, \"ticks\": \"\"}}, \"type\": \"parcoords\"}], \"scatter\": [{\"marker\": {\"colorbar\": {\"outlinewidth\": 0, \"ticks\": \"\"}}, \"type\": \"scatter\"}], \"scatter3d\": [{\"line\": {\"colorbar\": {\"outlinewidth\": 0, \"ticks\": \"\"}}, \"marker\": {\"colorbar\": {\"outlinewidth\": 0, \"ticks\": \"\"}}, \"type\": \"scatter3d\"}], \"scattercarpet\": [{\"marker\": {\"colorbar\": {\"outlinewidth\": 0, \"ticks\": \"\"}}, \"type\": \"scattercarpet\"}], \"scattergeo\": [{\"marker\": {\"colorbar\": {\"outlinewidth\": 0, \"ticks\": \"\"}}, \"type\": \"scattergeo\"}], \"scattergl\": [{\"marker\": {\"colorbar\": {\"outlinewidth\": 0, \"ticks\": \"\"}}, \"type\": \"scattergl\"}], \"scattermapbox\": [{\"marker\": {\"colorbar\": {\"outlinewidth\": 0, \"ticks\": \"\"}}, \"type\": \"scattermapbox\"}], \"scatterpolar\": [{\"marker\": {\"colorbar\": {\"outlinewidth\": 0, \"ticks\": \"\"}}, \"type\": \"scatterpolar\"}], \"scatterpolargl\": [{\"marker\": {\"colorbar\": {\"outlinewidth\": 0, \"ticks\": \"\"}}, \"type\": \"scatterpolargl\"}], \"scatterternary\": [{\"marker\": {\"colorbar\": {\"outlinewidth\": 0, \"ticks\": \"\"}}, \"type\": \"scatterternary\"}], \"surface\": [{\"colorbar\": {\"outlinewidth\": 0, \"ticks\": \"\"}, \"colorscale\": [[0.0, \"#0d0887\"], [0.1111111111111111, \"#46039f\"], [0.2222222222222222, \"#7201a8\"], [0.3333333333333333, \"#9c179e\"], [0.4444444444444444, \"#bd3786\"], [0.5555555555555556, \"#d8576b\"], [0.6666666666666666, \"#ed7953\"], [0.7777777777777778, \"#fb9f3a\"], [0.8888888888888888, \"#fdca26\"], [1.0, \"#f0f921\"]], \"type\": \"surface\"}], \"table\": [{\"cells\": {\"fill\": {\"color\": \"#EBF0F8\"}, \"line\": {\"color\": \"white\"}}, \"header\": {\"fill\": {\"color\": \"#C8D4E3\"}, \"line\": {\"color\": \"white\"}}, \"type\": \"table\"}]}, \"layout\": {\"annotationdefaults\": {\"arrowcolor\": \"#2a3f5f\", \"arrowhead\": 0, \"arrowwidth\": 1}, \"colorscale\": {\"diverging\": [[0, \"#8e0152\"], [0.1, \"#c51b7d\"], [0.2, \"#de77ae\"], [0.3, \"#f1b6da\"], [0.4, \"#fde0ef\"], [0.5, \"#f7f7f7\"], [0.6, \"#e6f5d0\"], [0.7, \"#b8e186\"], [0.8, \"#7fbc41\"], [0.9, \"#4d9221\"], [1, \"#276419\"]], \"sequential\": [[0.0, \"#0d0887\"], [0.1111111111111111, \"#46039f\"], [0.2222222222222222, \"#7201a8\"], [0.3333333333333333, \"#9c179e\"], [0.4444444444444444, \"#bd3786\"], [0.5555555555555556, \"#d8576b\"], [0.6666666666666666, \"#ed7953\"], [0.7777777777777778, \"#fb9f3a\"], [0.8888888888888888, \"#fdca26\"], [1.0, \"#f0f921\"]], \"sequentialminus\": [[0.0, \"#0d0887\"], [0.1111111111111111, \"#46039f\"], [0.2222222222222222, \"#7201a8\"], [0.3333333333333333, \"#9c179e\"], [0.4444444444444444, \"#bd3786\"], [0.5555555555555556, \"#d8576b\"], [0.6666666666666666, \"#ed7953\"], [0.7777777777777778, \"#fb9f3a\"], [0.8888888888888888, \"#fdca26\"], [1.0, \"#f0f921\"]]}, \"colorway\": [\"#636efa\", \"#EF553B\", \"#00cc96\", \"#ab63fa\", \"#FFA15A\", \"#19d3f3\", \"#FF6692\", \"#B6E880\", \"#FF97FF\", \"#FECB52\"], \"font\": {\"color\": \"#2a3f5f\"}, \"geo\": {\"bgcolor\": \"white\", \"lakecolor\": \"white\", \"landcolor\": \"#E5ECF6\", \"showlakes\": true, \"showland\": true, \"subunitcolor\": \"white\"}, \"hoverlabel\": {\"align\": \"left\"}, \"hovermode\": \"closest\", \"mapbox\": {\"style\": \"light\"}, \"paper_bgcolor\": \"white\", \"plot_bgcolor\": \"#E5ECF6\", \"polar\": {\"angularaxis\": {\"gridcolor\": \"white\", \"linecolor\": \"white\", \"ticks\": \"\"}, \"bgcolor\": \"#E5ECF6\", \"radialaxis\": {\"gridcolor\": \"white\", \"linecolor\": \"white\", \"ticks\": \"\"}}, \"scene\": {\"xaxis\": {\"backgroundcolor\": \"#E5ECF6\", \"gridcolor\": \"white\", \"gridwidth\": 2, \"linecolor\": \"white\", \"showbackground\": true, \"ticks\": \"\", \"zerolinecolor\": \"white\"}, \"yaxis\": {\"backgroundcolor\": \"#E5ECF6\", \"gridcolor\": \"white\", \"gridwidth\": 2, \"linecolor\": \"white\", \"showbackground\": true, \"ticks\": \"\", \"zerolinecolor\": \"white\"}, \"zaxis\": {\"backgroundcolor\": \"#E5ECF6\", \"gridcolor\": \"white\", \"gridwidth\": 2, \"linecolor\": \"white\", \"showbackground\": true, \"ticks\": \"\", \"zerolinecolor\": \"white\"}}, \"shapedefaults\": {\"line\": {\"color\": \"#2a3f5f\"}}, \"ternary\": {\"aaxis\": {\"gridcolor\": \"white\", \"linecolor\": \"white\", \"ticks\": \"\"}, \"baxis\": {\"gridcolor\": \"white\", \"linecolor\": \"white\", \"ticks\": \"\"}, \"bgcolor\": \"#E5ECF6\", \"caxis\": {\"gridcolor\": \"white\", \"linecolor\": \"white\", \"ticks\": \"\"}}, \"title\": {\"x\": 0.05}, \"xaxis\": {\"automargin\": true, \"gridcolor\": \"white\", \"linecolor\": \"white\", \"ticks\": \"\", \"zerolinecolor\": \"white\", \"zerolinewidth\": 2}, \"yaxis\": {\"automargin\": true, \"gridcolor\": \"white\", \"linecolor\": \"white\", \"ticks\": \"\", \"zerolinecolor\": \"white\", \"zerolinewidth\": 2}}}, \"title\": {\"font\": {\"color\": \"#4D5663\"}, \"text\": \"Boxplot: Store Type x Size\"}, \"xaxis\": {\"gridcolor\": \"#E1E5ED\", \"showgrid\": true, \"tickfont\": {\"color\": \"#4D5663\"}, \"title\": {\"font\": {\"color\": \"#4D5663\"}, \"text\": \"\"}, \"zerolinecolor\": \"#E1E5ED\"}, \"yaxis\": {\"gridcolor\": \"#E1E5ED\", \"showgrid\": true, \"tickfont\": {\"color\": \"#4D5663\"}, \"title\": {\"font\": {\"color\": \"#4D5663\"}, \"text\": \"\"}, \"zerolinecolor\": \"#E1E5ED\"}},\n",
       "                        {\"showLink\": true, \"linkText\": \"Export to plot.ly\", \"plotlyServerURL\": \"https://plot.ly\", \"responsive\": true}\n",
       "                    ).then(function(){\n",
       "                            \n",
       "var gd = document.getElementById('e88ed42a-a58a-446b-9507-6b11a5db327b');\n",
       "var x = new MutationObserver(function (mutations, observer) {{\n",
       "        var display = window.getComputedStyle(gd).display;\n",
       "        if (!display || display === 'none') {{\n",
       "            console.log([gd, 'removed!']);\n",
       "            Plotly.purge(gd);\n",
       "            observer.disconnect();\n",
       "        }}\n",
       "}});\n",
       "\n",
       "// Listen for the removal of the full notebook cells\n",
       "var notebookContainer = gd.closest('#notebook-container');\n",
       "if (notebookContainer) {{\n",
       "    x.observe(notebookContainer, {childList: true});\n",
       "}}\n",
       "\n",
       "// Listen for the clearing of the current output cell\n",
       "var outputEl = gd.closest('.output');\n",
       "if (outputEl) {{\n",
       "    x.observe(outputEl, {childList: true});\n",
       "}}\n",
       "\n",
       "                        })\n",
       "                };\n",
       "                });\n",
       "            </script>\n",
       "        </div>"
      ]
     },
     "metadata": {},
     "output_type": "display_data"
    }
   ],
   "source": [
    "type_size_pivot.iplot('box', title=f'Boxplot: Store Type x Size')"
   ]
  },
  {
   "cell_type": "code",
   "execution_count": 20,
   "metadata": {},
   "outputs": [
    {
     "data": {
      "text/html": [
       "<div>\n",
       "<style scoped>\n",
       "    .dataframe tbody tr th:only-of-type {\n",
       "        vertical-align: middle;\n",
       "    }\n",
       "\n",
       "    .dataframe tbody tr th {\n",
       "        vertical-align: top;\n",
       "    }\n",
       "\n",
       "    .dataframe thead th {\n",
       "        text-align: right;\n",
       "    }\n",
       "</style>\n",
       "<table border=\"1\" class=\"dataframe\">\n",
       "  <thead>\n",
       "    <tr style=\"text-align: right;\">\n",
       "      <th>Type</th>\n",
       "      <th>A</th>\n",
       "      <th>B</th>\n",
       "      <th>C</th>\n",
       "    </tr>\n",
       "    <tr>\n",
       "      <th>Store</th>\n",
       "      <th></th>\n",
       "      <th></th>\n",
       "      <th></th>\n",
       "    </tr>\n",
       "  </thead>\n",
       "  <tbody>\n",
       "    <tr>\n",
       "      <td>1</td>\n",
       "      <td>2.224028e+08</td>\n",
       "      <td>NaN</td>\n",
       "      <td>NaN</td>\n",
       "    </tr>\n",
       "    <tr>\n",
       "      <td>2</td>\n",
       "      <td>2.753824e+08</td>\n",
       "      <td>NaN</td>\n",
       "      <td>NaN</td>\n",
       "    </tr>\n",
       "    <tr>\n",
       "      <td>3</td>\n",
       "      <td>NaN</td>\n",
       "      <td>5.758674e+07</td>\n",
       "      <td>NaN</td>\n",
       "    </tr>\n",
       "    <tr>\n",
       "      <td>4</td>\n",
       "      <td>2.995440e+08</td>\n",
       "      <td>NaN</td>\n",
       "      <td>NaN</td>\n",
       "    </tr>\n",
       "    <tr>\n",
       "      <td>5</td>\n",
       "      <td>NaN</td>\n",
       "      <td>4.547569e+07</td>\n",
       "      <td>NaN</td>\n",
       "    </tr>\n",
       "    <tr>\n",
       "      <td>6</td>\n",
       "      <td>2.237561e+08</td>\n",
       "      <td>NaN</td>\n",
       "      <td>NaN</td>\n",
       "    </tr>\n",
       "    <tr>\n",
       "      <td>7</td>\n",
       "      <td>NaN</td>\n",
       "      <td>8.159828e+07</td>\n",
       "      <td>NaN</td>\n",
       "    </tr>\n",
       "    <tr>\n",
       "      <td>8</td>\n",
       "      <td>1.299512e+08</td>\n",
       "      <td>NaN</td>\n",
       "      <td>NaN</td>\n",
       "    </tr>\n",
       "    <tr>\n",
       "      <td>9</td>\n",
       "      <td>NaN</td>\n",
       "      <td>7.778922e+07</td>\n",
       "      <td>NaN</td>\n",
       "    </tr>\n",
       "    <tr>\n",
       "      <td>10</td>\n",
       "      <td>NaN</td>\n",
       "      <td>2.716177e+08</td>\n",
       "      <td>NaN</td>\n",
       "    </tr>\n",
       "    <tr>\n",
       "      <td>11</td>\n",
       "      <td>1.939628e+08</td>\n",
       "      <td>NaN</td>\n",
       "      <td>NaN</td>\n",
       "    </tr>\n",
       "    <tr>\n",
       "      <td>12</td>\n",
       "      <td>NaN</td>\n",
       "      <td>1.442872e+08</td>\n",
       "      <td>NaN</td>\n",
       "    </tr>\n",
       "    <tr>\n",
       "      <td>13</td>\n",
       "      <td>2.865177e+08</td>\n",
       "      <td>NaN</td>\n",
       "      <td>NaN</td>\n",
       "    </tr>\n",
       "    <tr>\n",
       "      <td>14</td>\n",
       "      <td>2.889999e+08</td>\n",
       "      <td>NaN</td>\n",
       "      <td>NaN</td>\n",
       "    </tr>\n",
       "    <tr>\n",
       "      <td>15</td>\n",
       "      <td>NaN</td>\n",
       "      <td>8.913368e+07</td>\n",
       "      <td>NaN</td>\n",
       "    </tr>\n",
       "    <tr>\n",
       "      <td>16</td>\n",
       "      <td>NaN</td>\n",
       "      <td>7.425243e+07</td>\n",
       "      <td>NaN</td>\n",
       "    </tr>\n",
       "    <tr>\n",
       "      <td>17</td>\n",
       "      <td>NaN</td>\n",
       "      <td>1.277821e+08</td>\n",
       "      <td>NaN</td>\n",
       "    </tr>\n",
       "    <tr>\n",
       "      <td>18</td>\n",
       "      <td>NaN</td>\n",
       "      <td>1.551147e+08</td>\n",
       "      <td>NaN</td>\n",
       "    </tr>\n",
       "    <tr>\n",
       "      <td>19</td>\n",
       "      <td>2.066349e+08</td>\n",
       "      <td>NaN</td>\n",
       "      <td>NaN</td>\n",
       "    </tr>\n",
       "    <tr>\n",
       "      <td>20</td>\n",
       "      <td>3.013978e+08</td>\n",
       "      <td>NaN</td>\n",
       "      <td>NaN</td>\n",
       "    </tr>\n",
       "    <tr>\n",
       "      <td>21</td>\n",
       "      <td>NaN</td>\n",
       "      <td>1.081179e+08</td>\n",
       "      <td>NaN</td>\n",
       "    </tr>\n",
       "    <tr>\n",
       "      <td>22</td>\n",
       "      <td>NaN</td>\n",
       "      <td>1.470756e+08</td>\n",
       "      <td>NaN</td>\n",
       "    </tr>\n",
       "    <tr>\n",
       "      <td>23</td>\n",
       "      <td>NaN</td>\n",
       "      <td>1.987506e+08</td>\n",
       "      <td>NaN</td>\n",
       "    </tr>\n",
       "    <tr>\n",
       "      <td>24</td>\n",
       "      <td>1.940160e+08</td>\n",
       "      <td>NaN</td>\n",
       "      <td>NaN</td>\n",
       "    </tr>\n",
       "    <tr>\n",
       "      <td>25</td>\n",
       "      <td>NaN</td>\n",
       "      <td>1.010612e+08</td>\n",
       "      <td>NaN</td>\n",
       "    </tr>\n",
       "    <tr>\n",
       "      <td>26</td>\n",
       "      <td>1.434164e+08</td>\n",
       "      <td>NaN</td>\n",
       "      <td>NaN</td>\n",
       "    </tr>\n",
       "    <tr>\n",
       "      <td>27</td>\n",
       "      <td>2.538559e+08</td>\n",
       "      <td>NaN</td>\n",
       "      <td>NaN</td>\n",
       "    </tr>\n",
       "    <tr>\n",
       "      <td>28</td>\n",
       "      <td>1.892637e+08</td>\n",
       "      <td>NaN</td>\n",
       "      <td>NaN</td>\n",
       "    </tr>\n",
       "    <tr>\n",
       "      <td>29</td>\n",
       "      <td>NaN</td>\n",
       "      <td>7.714155e+07</td>\n",
       "      <td>NaN</td>\n",
       "    </tr>\n",
       "    <tr>\n",
       "      <td>30</td>\n",
       "      <td>NaN</td>\n",
       "      <td>NaN</td>\n",
       "      <td>62716885.12</td>\n",
       "    </tr>\n",
       "    <tr>\n",
       "      <td>31</td>\n",
       "      <td>1.996139e+08</td>\n",
       "      <td>NaN</td>\n",
       "      <td>NaN</td>\n",
       "    </tr>\n",
       "    <tr>\n",
       "      <td>32</td>\n",
       "      <td>1.668192e+08</td>\n",
       "      <td>NaN</td>\n",
       "      <td>NaN</td>\n",
       "    </tr>\n",
       "    <tr>\n",
       "      <td>33</td>\n",
       "      <td>3.716022e+07</td>\n",
       "      <td>NaN</td>\n",
       "      <td>NaN</td>\n",
       "    </tr>\n",
       "    <tr>\n",
       "      <td>34</td>\n",
       "      <td>1.382498e+08</td>\n",
       "      <td>NaN</td>\n",
       "      <td>NaN</td>\n",
       "    </tr>\n",
       "    <tr>\n",
       "      <td>35</td>\n",
       "      <td>NaN</td>\n",
       "      <td>1.315207e+08</td>\n",
       "      <td>NaN</td>\n",
       "    </tr>\n",
       "    <tr>\n",
       "      <td>36</td>\n",
       "      <td>5.341221e+07</td>\n",
       "      <td>NaN</td>\n",
       "      <td>NaN</td>\n",
       "    </tr>\n",
       "    <tr>\n",
       "      <td>37</td>\n",
       "      <td>NaN</td>\n",
       "      <td>NaN</td>\n",
       "      <td>74202740.32</td>\n",
       "    </tr>\n",
       "    <tr>\n",
       "      <td>38</td>\n",
       "      <td>NaN</td>\n",
       "      <td>NaN</td>\n",
       "      <td>55159626.42</td>\n",
       "    </tr>\n",
       "    <tr>\n",
       "      <td>39</td>\n",
       "      <td>2.074455e+08</td>\n",
       "      <td>NaN</td>\n",
       "      <td>NaN</td>\n",
       "    </tr>\n",
       "    <tr>\n",
       "      <td>40</td>\n",
       "      <td>1.378703e+08</td>\n",
       "      <td>NaN</td>\n",
       "      <td>NaN</td>\n",
       "    </tr>\n",
       "    <tr>\n",
       "      <td>41</td>\n",
       "      <td>1.813419e+08</td>\n",
       "      <td>NaN</td>\n",
       "      <td>NaN</td>\n",
       "    </tr>\n",
       "    <tr>\n",
       "      <td>42</td>\n",
       "      <td>NaN</td>\n",
       "      <td>NaN</td>\n",
       "      <td>79565752.43</td>\n",
       "    </tr>\n",
       "    <tr>\n",
       "      <td>43</td>\n",
       "      <td>NaN</td>\n",
       "      <td>NaN</td>\n",
       "      <td>90565435.41</td>\n",
       "    </tr>\n",
       "    <tr>\n",
       "      <td>44</td>\n",
       "      <td>NaN</td>\n",
       "      <td>NaN</td>\n",
       "      <td>43293087.84</td>\n",
       "    </tr>\n",
       "    <tr>\n",
       "      <td>45</td>\n",
       "      <td>NaN</td>\n",
       "      <td>1.123953e+08</td>\n",
       "      <td>NaN</td>\n",
       "    </tr>\n",
       "  </tbody>\n",
       "</table>\n",
       "</div>"
      ],
      "text/plain": [
       "Type              A             B            C\n",
       "Store                                         \n",
       "1      2.224028e+08           NaN          NaN\n",
       "2      2.753824e+08           NaN          NaN\n",
       "3               NaN  5.758674e+07          NaN\n",
       "4      2.995440e+08           NaN          NaN\n",
       "5               NaN  4.547569e+07          NaN\n",
       "6      2.237561e+08           NaN          NaN\n",
       "7               NaN  8.159828e+07          NaN\n",
       "8      1.299512e+08           NaN          NaN\n",
       "9               NaN  7.778922e+07          NaN\n",
       "10              NaN  2.716177e+08          NaN\n",
       "11     1.939628e+08           NaN          NaN\n",
       "12              NaN  1.442872e+08          NaN\n",
       "13     2.865177e+08           NaN          NaN\n",
       "14     2.889999e+08           NaN          NaN\n",
       "15              NaN  8.913368e+07          NaN\n",
       "16              NaN  7.425243e+07          NaN\n",
       "17              NaN  1.277821e+08          NaN\n",
       "18              NaN  1.551147e+08          NaN\n",
       "19     2.066349e+08           NaN          NaN\n",
       "20     3.013978e+08           NaN          NaN\n",
       "21              NaN  1.081179e+08          NaN\n",
       "22              NaN  1.470756e+08          NaN\n",
       "23              NaN  1.987506e+08          NaN\n",
       "24     1.940160e+08           NaN          NaN\n",
       "25              NaN  1.010612e+08          NaN\n",
       "26     1.434164e+08           NaN          NaN\n",
       "27     2.538559e+08           NaN          NaN\n",
       "28     1.892637e+08           NaN          NaN\n",
       "29              NaN  7.714155e+07          NaN\n",
       "30              NaN           NaN  62716885.12\n",
       "31     1.996139e+08           NaN          NaN\n",
       "32     1.668192e+08           NaN          NaN\n",
       "33     3.716022e+07           NaN          NaN\n",
       "34     1.382498e+08           NaN          NaN\n",
       "35              NaN  1.315207e+08          NaN\n",
       "36     5.341221e+07           NaN          NaN\n",
       "37              NaN           NaN  74202740.32\n",
       "38              NaN           NaN  55159626.42\n",
       "39     2.074455e+08           NaN          NaN\n",
       "40     1.378703e+08           NaN          NaN\n",
       "41     1.813419e+08           NaN          NaN\n",
       "42              NaN           NaN  79565752.43\n",
       "43              NaN           NaN  90565435.41\n",
       "44              NaN           NaN  43293087.84\n",
       "45              NaN  1.123953e+08          NaN"
      ]
     },
     "execution_count": 20,
     "metadata": {},
     "output_type": "execute_result"
    }
   ],
   "source": [
    "group_store_type_sales = df[['Store','Type','Weekly_Sales']].groupby(['Store', 'Type'])['Weekly_Sales'].sum()\n",
    "group_store_type_sales = pd.DataFrame(group_store_type_sales).reset_index()\n",
    "\n",
    "type_sales_pivot = group_store_type_sales.assign(key=group_store_type_sales.groupby('Type').cumcount()).pivot('Store','Type','Weekly_Sales')\n",
    "type_sales_pivot"
   ]
  },
  {
   "cell_type": "code",
   "execution_count": 21,
   "metadata": {},
   "outputs": [
    {
     "data": {
      "application/vnd.plotly.v1+json": {
       "config": {
        "linkText": "Export to plot.ly",
        "plotlyServerURL": "https://plot.ly",
        "showLink": true
       },
       "data": [
        {
         "boxpoints": false,
         "line": {
          "width": 1.3
         },
         "marker": {
          "color": "rgba(255, 153, 51, 1.0)"
         },
         "name": "A",
         "orientation": "v",
         "type": "box",
         "y": [
          222402808.85000086,
          275382440.98000026,
          null,
          299543953.38000035,
          null,
          223756130.64000005,
          null,
          129951181.12999998,
          null,
          null,
          193962786.79999915,
          null,
          286517703.79999965,
          288999911.3399999,
          null,
          null,
          null,
          null,
          206634862.1,
          301397792.4600001,
          null,
          null,
          null,
          194016021.27999866,
          null,
          143416393.79000002,
          253855916.8799998,
          189263680.58000055,
          null,
          null,
          199613905.49999937,
          166819246.1600009,
          37160221.96000001,
          138249762.99999976,
          null,
          53412214.970000096,
          null,
          null,
          207445542.46999955,
          137870309.78999943,
          181341934.89000058,
          null,
          null,
          null,
          null
         ]
        },
        {
         "boxpoints": false,
         "line": {
          "width": 1.3
         },
         "marker": {
          "color": "rgba(55, 128, 191, 1.0)"
         },
         "name": "B",
         "orientation": "v",
         "type": "box",
         "y": [
          null,
          null,
          57586735.06999995,
          null,
          45475688.89999994,
          null,
          81598275.1399998,
          null,
          77789218.99000005,
          271617713.8900003,
          null,
          144287230.14999977,
          null,
          null,
          89133683.92000036,
          74252425.39999987,
          127782138.83000003,
          155114734.21000016,
          null,
          null,
          108117878.91999996,
          147075648.5699999,
          198750617.8499993,
          null,
          101061179.16999993,
          null,
          null,
          null,
          77141554.30999938,
          null,
          null,
          null,
          null,
          null,
          131520672.0800004,
          null,
          null,
          null,
          null,
          null,
          null,
          null,
          null,
          null,
          112395341.41999944
         ]
        },
        {
         "boxpoints": false,
         "line": {
          "width": 1.3
         },
         "marker": {
          "color": "rgba(50, 171, 96, 1.0)"
         },
         "name": "C",
         "orientation": "v",
         "type": "box",
         "y": [
          null,
          null,
          null,
          null,
          null,
          null,
          null,
          null,
          null,
          null,
          null,
          null,
          null,
          null,
          null,
          null,
          null,
          null,
          null,
          null,
          null,
          null,
          null,
          null,
          null,
          null,
          null,
          null,
          null,
          62716885.12000011,
          null,
          null,
          null,
          null,
          null,
          null,
          74202740.32000022,
          55159626.41999974,
          null,
          null,
          null,
          79565752.43,
          90565435.40999983,
          43293087.83999993,
          null
         ]
        }
       ],
       "layout": {
        "legend": {
         "bgcolor": "#F5F6F9",
         "font": {
          "color": "#4D5663"
         }
        },
        "paper_bgcolor": "#F5F6F9",
        "plot_bgcolor": "#F5F6F9",
        "template": {
         "data": {
          "bar": [
           {
            "error_x": {
             "color": "#2a3f5f"
            },
            "error_y": {
             "color": "#2a3f5f"
            },
            "marker": {
             "line": {
              "color": "#E5ECF6",
              "width": 0.5
             }
            },
            "type": "bar"
           }
          ],
          "barpolar": [
           {
            "marker": {
             "line": {
              "color": "#E5ECF6",
              "width": 0.5
             }
            },
            "type": "barpolar"
           }
          ],
          "carpet": [
           {
            "aaxis": {
             "endlinecolor": "#2a3f5f",
             "gridcolor": "white",
             "linecolor": "white",
             "minorgridcolor": "white",
             "startlinecolor": "#2a3f5f"
            },
            "baxis": {
             "endlinecolor": "#2a3f5f",
             "gridcolor": "white",
             "linecolor": "white",
             "minorgridcolor": "white",
             "startlinecolor": "#2a3f5f"
            },
            "type": "carpet"
           }
          ],
          "choropleth": [
           {
            "colorbar": {
             "outlinewidth": 0,
             "ticks": ""
            },
            "type": "choropleth"
           }
          ],
          "contour": [
           {
            "colorbar": {
             "outlinewidth": 0,
             "ticks": ""
            },
            "colorscale": [
             [
              0,
              "#0d0887"
             ],
             [
              0.1111111111111111,
              "#46039f"
             ],
             [
              0.2222222222222222,
              "#7201a8"
             ],
             [
              0.3333333333333333,
              "#9c179e"
             ],
             [
              0.4444444444444444,
              "#bd3786"
             ],
             [
              0.5555555555555556,
              "#d8576b"
             ],
             [
              0.6666666666666666,
              "#ed7953"
             ],
             [
              0.7777777777777778,
              "#fb9f3a"
             ],
             [
              0.8888888888888888,
              "#fdca26"
             ],
             [
              1,
              "#f0f921"
             ]
            ],
            "type": "contour"
           }
          ],
          "contourcarpet": [
           {
            "colorbar": {
             "outlinewidth": 0,
             "ticks": ""
            },
            "type": "contourcarpet"
           }
          ],
          "heatmap": [
           {
            "colorbar": {
             "outlinewidth": 0,
             "ticks": ""
            },
            "colorscale": [
             [
              0,
              "#0d0887"
             ],
             [
              0.1111111111111111,
              "#46039f"
             ],
             [
              0.2222222222222222,
              "#7201a8"
             ],
             [
              0.3333333333333333,
              "#9c179e"
             ],
             [
              0.4444444444444444,
              "#bd3786"
             ],
             [
              0.5555555555555556,
              "#d8576b"
             ],
             [
              0.6666666666666666,
              "#ed7953"
             ],
             [
              0.7777777777777778,
              "#fb9f3a"
             ],
             [
              0.8888888888888888,
              "#fdca26"
             ],
             [
              1,
              "#f0f921"
             ]
            ],
            "type": "heatmap"
           }
          ],
          "heatmapgl": [
           {
            "colorbar": {
             "outlinewidth": 0,
             "ticks": ""
            },
            "colorscale": [
             [
              0,
              "#0d0887"
             ],
             [
              0.1111111111111111,
              "#46039f"
             ],
             [
              0.2222222222222222,
              "#7201a8"
             ],
             [
              0.3333333333333333,
              "#9c179e"
             ],
             [
              0.4444444444444444,
              "#bd3786"
             ],
             [
              0.5555555555555556,
              "#d8576b"
             ],
             [
              0.6666666666666666,
              "#ed7953"
             ],
             [
              0.7777777777777778,
              "#fb9f3a"
             ],
             [
              0.8888888888888888,
              "#fdca26"
             ],
             [
              1,
              "#f0f921"
             ]
            ],
            "type": "heatmapgl"
           }
          ],
          "histogram": [
           {
            "marker": {
             "colorbar": {
              "outlinewidth": 0,
              "ticks": ""
             }
            },
            "type": "histogram"
           }
          ],
          "histogram2d": [
           {
            "colorbar": {
             "outlinewidth": 0,
             "ticks": ""
            },
            "colorscale": [
             [
              0,
              "#0d0887"
             ],
             [
              0.1111111111111111,
              "#46039f"
             ],
             [
              0.2222222222222222,
              "#7201a8"
             ],
             [
              0.3333333333333333,
              "#9c179e"
             ],
             [
              0.4444444444444444,
              "#bd3786"
             ],
             [
              0.5555555555555556,
              "#d8576b"
             ],
             [
              0.6666666666666666,
              "#ed7953"
             ],
             [
              0.7777777777777778,
              "#fb9f3a"
             ],
             [
              0.8888888888888888,
              "#fdca26"
             ],
             [
              1,
              "#f0f921"
             ]
            ],
            "type": "histogram2d"
           }
          ],
          "histogram2dcontour": [
           {
            "colorbar": {
             "outlinewidth": 0,
             "ticks": ""
            },
            "colorscale": [
             [
              0,
              "#0d0887"
             ],
             [
              0.1111111111111111,
              "#46039f"
             ],
             [
              0.2222222222222222,
              "#7201a8"
             ],
             [
              0.3333333333333333,
              "#9c179e"
             ],
             [
              0.4444444444444444,
              "#bd3786"
             ],
             [
              0.5555555555555556,
              "#d8576b"
             ],
             [
              0.6666666666666666,
              "#ed7953"
             ],
             [
              0.7777777777777778,
              "#fb9f3a"
             ],
             [
              0.8888888888888888,
              "#fdca26"
             ],
             [
              1,
              "#f0f921"
             ]
            ],
            "type": "histogram2dcontour"
           }
          ],
          "mesh3d": [
           {
            "colorbar": {
             "outlinewidth": 0,
             "ticks": ""
            },
            "type": "mesh3d"
           }
          ],
          "parcoords": [
           {
            "line": {
             "colorbar": {
              "outlinewidth": 0,
              "ticks": ""
             }
            },
            "type": "parcoords"
           }
          ],
          "scatter": [
           {
            "marker": {
             "colorbar": {
              "outlinewidth": 0,
              "ticks": ""
             }
            },
            "type": "scatter"
           }
          ],
          "scatter3d": [
           {
            "line": {
             "colorbar": {
              "outlinewidth": 0,
              "ticks": ""
             }
            },
            "marker": {
             "colorbar": {
              "outlinewidth": 0,
              "ticks": ""
             }
            },
            "type": "scatter3d"
           }
          ],
          "scattercarpet": [
           {
            "marker": {
             "colorbar": {
              "outlinewidth": 0,
              "ticks": ""
             }
            },
            "type": "scattercarpet"
           }
          ],
          "scattergeo": [
           {
            "marker": {
             "colorbar": {
              "outlinewidth": 0,
              "ticks": ""
             }
            },
            "type": "scattergeo"
           }
          ],
          "scattergl": [
           {
            "marker": {
             "colorbar": {
              "outlinewidth": 0,
              "ticks": ""
             }
            },
            "type": "scattergl"
           }
          ],
          "scattermapbox": [
           {
            "marker": {
             "colorbar": {
              "outlinewidth": 0,
              "ticks": ""
             }
            },
            "type": "scattermapbox"
           }
          ],
          "scatterpolar": [
           {
            "marker": {
             "colorbar": {
              "outlinewidth": 0,
              "ticks": ""
             }
            },
            "type": "scatterpolar"
           }
          ],
          "scatterpolargl": [
           {
            "marker": {
             "colorbar": {
              "outlinewidth": 0,
              "ticks": ""
             }
            },
            "type": "scatterpolargl"
           }
          ],
          "scatterternary": [
           {
            "marker": {
             "colorbar": {
              "outlinewidth": 0,
              "ticks": ""
             }
            },
            "type": "scatterternary"
           }
          ],
          "surface": [
           {
            "colorbar": {
             "outlinewidth": 0,
             "ticks": ""
            },
            "colorscale": [
             [
              0,
              "#0d0887"
             ],
             [
              0.1111111111111111,
              "#46039f"
             ],
             [
              0.2222222222222222,
              "#7201a8"
             ],
             [
              0.3333333333333333,
              "#9c179e"
             ],
             [
              0.4444444444444444,
              "#bd3786"
             ],
             [
              0.5555555555555556,
              "#d8576b"
             ],
             [
              0.6666666666666666,
              "#ed7953"
             ],
             [
              0.7777777777777778,
              "#fb9f3a"
             ],
             [
              0.8888888888888888,
              "#fdca26"
             ],
             [
              1,
              "#f0f921"
             ]
            ],
            "type": "surface"
           }
          ],
          "table": [
           {
            "cells": {
             "fill": {
              "color": "#EBF0F8"
             },
             "line": {
              "color": "white"
             }
            },
            "header": {
             "fill": {
              "color": "#C8D4E3"
             },
             "line": {
              "color": "white"
             }
            },
            "type": "table"
           }
          ]
         },
         "layout": {
          "annotationdefaults": {
           "arrowcolor": "#2a3f5f",
           "arrowhead": 0,
           "arrowwidth": 1
          },
          "colorscale": {
           "diverging": [
            [
             0,
             "#8e0152"
            ],
            [
             0.1,
             "#c51b7d"
            ],
            [
             0.2,
             "#de77ae"
            ],
            [
             0.3,
             "#f1b6da"
            ],
            [
             0.4,
             "#fde0ef"
            ],
            [
             0.5,
             "#f7f7f7"
            ],
            [
             0.6,
             "#e6f5d0"
            ],
            [
             0.7,
             "#b8e186"
            ],
            [
             0.8,
             "#7fbc41"
            ],
            [
             0.9,
             "#4d9221"
            ],
            [
             1,
             "#276419"
            ]
           ],
           "sequential": [
            [
             0,
             "#0d0887"
            ],
            [
             0.1111111111111111,
             "#46039f"
            ],
            [
             0.2222222222222222,
             "#7201a8"
            ],
            [
             0.3333333333333333,
             "#9c179e"
            ],
            [
             0.4444444444444444,
             "#bd3786"
            ],
            [
             0.5555555555555556,
             "#d8576b"
            ],
            [
             0.6666666666666666,
             "#ed7953"
            ],
            [
             0.7777777777777778,
             "#fb9f3a"
            ],
            [
             0.8888888888888888,
             "#fdca26"
            ],
            [
             1,
             "#f0f921"
            ]
           ],
           "sequentialminus": [
            [
             0,
             "#0d0887"
            ],
            [
             0.1111111111111111,
             "#46039f"
            ],
            [
             0.2222222222222222,
             "#7201a8"
            ],
            [
             0.3333333333333333,
             "#9c179e"
            ],
            [
             0.4444444444444444,
             "#bd3786"
            ],
            [
             0.5555555555555556,
             "#d8576b"
            ],
            [
             0.6666666666666666,
             "#ed7953"
            ],
            [
             0.7777777777777778,
             "#fb9f3a"
            ],
            [
             0.8888888888888888,
             "#fdca26"
            ],
            [
             1,
             "#f0f921"
            ]
           ]
          },
          "colorway": [
           "#636efa",
           "#EF553B",
           "#00cc96",
           "#ab63fa",
           "#FFA15A",
           "#19d3f3",
           "#FF6692",
           "#B6E880",
           "#FF97FF",
           "#FECB52"
          ],
          "font": {
           "color": "#2a3f5f"
          },
          "geo": {
           "bgcolor": "white",
           "lakecolor": "white",
           "landcolor": "#E5ECF6",
           "showlakes": true,
           "showland": true,
           "subunitcolor": "white"
          },
          "hoverlabel": {
           "align": "left"
          },
          "hovermode": "closest",
          "mapbox": {
           "style": "light"
          },
          "paper_bgcolor": "white",
          "plot_bgcolor": "#E5ECF6",
          "polar": {
           "angularaxis": {
            "gridcolor": "white",
            "linecolor": "white",
            "ticks": ""
           },
           "bgcolor": "#E5ECF6",
           "radialaxis": {
            "gridcolor": "white",
            "linecolor": "white",
            "ticks": ""
           }
          },
          "scene": {
           "xaxis": {
            "backgroundcolor": "#E5ECF6",
            "gridcolor": "white",
            "gridwidth": 2,
            "linecolor": "white",
            "showbackground": true,
            "ticks": "",
            "zerolinecolor": "white"
           },
           "yaxis": {
            "backgroundcolor": "#E5ECF6",
            "gridcolor": "white",
            "gridwidth": 2,
            "linecolor": "white",
            "showbackground": true,
            "ticks": "",
            "zerolinecolor": "white"
           },
           "zaxis": {
            "backgroundcolor": "#E5ECF6",
            "gridcolor": "white",
            "gridwidth": 2,
            "linecolor": "white",
            "showbackground": true,
            "ticks": "",
            "zerolinecolor": "white"
           }
          },
          "shapedefaults": {
           "line": {
            "color": "#2a3f5f"
           }
          },
          "ternary": {
           "aaxis": {
            "gridcolor": "white",
            "linecolor": "white",
            "ticks": ""
           },
           "baxis": {
            "gridcolor": "white",
            "linecolor": "white",
            "ticks": ""
           },
           "bgcolor": "#E5ECF6",
           "caxis": {
            "gridcolor": "white",
            "linecolor": "white",
            "ticks": ""
           }
          },
          "title": {
           "x": 0.05
          },
          "xaxis": {
           "automargin": true,
           "gridcolor": "white",
           "linecolor": "white",
           "ticks": "",
           "zerolinecolor": "white",
           "zerolinewidth": 2
          },
          "yaxis": {
           "automargin": true,
           "gridcolor": "white",
           "linecolor": "white",
           "ticks": "",
           "zerolinecolor": "white",
           "zerolinewidth": 2
          }
         }
        },
        "title": {
         "font": {
          "color": "#4D5663"
         },
         "text": "Boxplot: Store Type x Sales"
        },
        "xaxis": {
         "gridcolor": "#E1E5ED",
         "showgrid": true,
         "tickfont": {
          "color": "#4D5663"
         },
         "title": {
          "font": {
           "color": "#4D5663"
          },
          "text": ""
         },
         "zerolinecolor": "#E1E5ED"
        },
        "yaxis": {
         "gridcolor": "#E1E5ED",
         "showgrid": true,
         "tickfont": {
          "color": "#4D5663"
         },
         "title": {
          "font": {
           "color": "#4D5663"
          },
          "text": ""
         },
         "zerolinecolor": "#E1E5ED"
        }
       }
      },
      "text/html": [
       "<div>\n",
       "        \n",
       "        \n",
       "            <div id=\"1cf50999-5a56-47fe-b9e8-4a2011e296e5\" class=\"plotly-graph-div\" style=\"height:525px; width:100%;\"></div>\n",
       "            <script type=\"text/javascript\">\n",
       "                require([\"plotly\"], function(Plotly) {\n",
       "                    window.PLOTLYENV=window.PLOTLYENV || {};\n",
       "                    window.PLOTLYENV.BASE_URL='https://plot.ly';\n",
       "                    \n",
       "                if (document.getElementById(\"1cf50999-5a56-47fe-b9e8-4a2011e296e5\")) {\n",
       "                    Plotly.newPlot(\n",
       "                        '1cf50999-5a56-47fe-b9e8-4a2011e296e5',\n",
       "                        [{\"boxpoints\": false, \"line\": {\"width\": 1.3}, \"marker\": {\"color\": \"rgba(255, 153, 51, 1.0)\"}, \"name\": \"A\", \"orientation\": \"v\", \"type\": \"box\", \"y\": [222402808.85000086, 275382440.98000026, null, 299543953.38000035, null, 223756130.64000005, null, 129951181.12999998, null, null, 193962786.79999915, null, 286517703.79999965, 288999911.3399999, null, null, null, null, 206634862.1, 301397792.4600001, null, null, null, 194016021.27999866, null, 143416393.79000002, 253855916.8799998, 189263680.58000055, null, null, 199613905.49999937, 166819246.1600009, 37160221.96000001, 138249762.99999976, null, 53412214.970000096, null, null, 207445542.46999955, 137870309.78999943, 181341934.89000058, null, null, null, null]}, {\"boxpoints\": false, \"line\": {\"width\": 1.3}, \"marker\": {\"color\": \"rgba(55, 128, 191, 1.0)\"}, \"name\": \"B\", \"orientation\": \"v\", \"type\": \"box\", \"y\": [null, null, 57586735.06999995, null, 45475688.89999994, null, 81598275.1399998, null, 77789218.99000005, 271617713.8900003, null, 144287230.14999977, null, null, 89133683.92000036, 74252425.39999987, 127782138.83000003, 155114734.21000016, null, null, 108117878.91999996, 147075648.5699999, 198750617.8499993, null, 101061179.16999993, null, null, null, 77141554.30999938, null, null, null, null, null, 131520672.0800004, null, null, null, null, null, null, null, null, null, 112395341.41999944]}, {\"boxpoints\": false, \"line\": {\"width\": 1.3}, \"marker\": {\"color\": \"rgba(50, 171, 96, 1.0)\"}, \"name\": \"C\", \"orientation\": \"v\", \"type\": \"box\", \"y\": [null, null, null, null, null, null, null, null, null, null, null, null, null, null, null, null, null, null, null, null, null, null, null, null, null, null, null, null, null, 62716885.12000011, null, null, null, null, null, null, 74202740.32000022, 55159626.41999974, null, null, null, 79565752.43, 90565435.40999983, 43293087.83999993, null]}],\n",
       "                        {\"legend\": {\"bgcolor\": \"#F5F6F9\", \"font\": {\"color\": \"#4D5663\"}}, \"paper_bgcolor\": \"#F5F6F9\", \"plot_bgcolor\": \"#F5F6F9\", \"template\": {\"data\": {\"bar\": [{\"error_x\": {\"color\": \"#2a3f5f\"}, \"error_y\": {\"color\": \"#2a3f5f\"}, \"marker\": {\"line\": {\"color\": \"#E5ECF6\", \"width\": 0.5}}, \"type\": \"bar\"}], \"barpolar\": [{\"marker\": {\"line\": {\"color\": \"#E5ECF6\", \"width\": 0.5}}, \"type\": \"barpolar\"}], \"carpet\": [{\"aaxis\": {\"endlinecolor\": \"#2a3f5f\", \"gridcolor\": \"white\", \"linecolor\": \"white\", \"minorgridcolor\": \"white\", \"startlinecolor\": \"#2a3f5f\"}, \"baxis\": {\"endlinecolor\": \"#2a3f5f\", \"gridcolor\": \"white\", \"linecolor\": \"white\", \"minorgridcolor\": \"white\", \"startlinecolor\": \"#2a3f5f\"}, \"type\": \"carpet\"}], \"choropleth\": [{\"colorbar\": {\"outlinewidth\": 0, \"ticks\": \"\"}, \"type\": \"choropleth\"}], \"contour\": [{\"colorbar\": {\"outlinewidth\": 0, \"ticks\": \"\"}, \"colorscale\": [[0.0, \"#0d0887\"], [0.1111111111111111, \"#46039f\"], [0.2222222222222222, \"#7201a8\"], [0.3333333333333333, \"#9c179e\"], [0.4444444444444444, \"#bd3786\"], [0.5555555555555556, \"#d8576b\"], [0.6666666666666666, \"#ed7953\"], [0.7777777777777778, \"#fb9f3a\"], [0.8888888888888888, \"#fdca26\"], [1.0, \"#f0f921\"]], \"type\": \"contour\"}], \"contourcarpet\": [{\"colorbar\": {\"outlinewidth\": 0, \"ticks\": \"\"}, \"type\": \"contourcarpet\"}], \"heatmap\": [{\"colorbar\": {\"outlinewidth\": 0, \"ticks\": \"\"}, \"colorscale\": [[0.0, \"#0d0887\"], [0.1111111111111111, \"#46039f\"], [0.2222222222222222, \"#7201a8\"], [0.3333333333333333, \"#9c179e\"], [0.4444444444444444, \"#bd3786\"], [0.5555555555555556, \"#d8576b\"], [0.6666666666666666, \"#ed7953\"], [0.7777777777777778, \"#fb9f3a\"], [0.8888888888888888, \"#fdca26\"], [1.0, \"#f0f921\"]], \"type\": \"heatmap\"}], \"heatmapgl\": [{\"colorbar\": {\"outlinewidth\": 0, \"ticks\": \"\"}, \"colorscale\": [[0.0, \"#0d0887\"], [0.1111111111111111, \"#46039f\"], [0.2222222222222222, \"#7201a8\"], [0.3333333333333333, \"#9c179e\"], [0.4444444444444444, \"#bd3786\"], [0.5555555555555556, \"#d8576b\"], [0.6666666666666666, \"#ed7953\"], [0.7777777777777778, \"#fb9f3a\"], [0.8888888888888888, \"#fdca26\"], [1.0, \"#f0f921\"]], \"type\": \"heatmapgl\"}], \"histogram\": [{\"marker\": {\"colorbar\": {\"outlinewidth\": 0, \"ticks\": \"\"}}, \"type\": \"histogram\"}], \"histogram2d\": [{\"colorbar\": {\"outlinewidth\": 0, \"ticks\": \"\"}, \"colorscale\": [[0.0, \"#0d0887\"], [0.1111111111111111, \"#46039f\"], [0.2222222222222222, \"#7201a8\"], [0.3333333333333333, \"#9c179e\"], [0.4444444444444444, \"#bd3786\"], [0.5555555555555556, \"#d8576b\"], [0.6666666666666666, \"#ed7953\"], [0.7777777777777778, \"#fb9f3a\"], [0.8888888888888888, \"#fdca26\"], [1.0, \"#f0f921\"]], \"type\": \"histogram2d\"}], \"histogram2dcontour\": [{\"colorbar\": {\"outlinewidth\": 0, \"ticks\": \"\"}, \"colorscale\": [[0.0, \"#0d0887\"], [0.1111111111111111, \"#46039f\"], [0.2222222222222222, \"#7201a8\"], [0.3333333333333333, \"#9c179e\"], [0.4444444444444444, \"#bd3786\"], [0.5555555555555556, \"#d8576b\"], [0.6666666666666666, \"#ed7953\"], [0.7777777777777778, \"#fb9f3a\"], [0.8888888888888888, \"#fdca26\"], [1.0, \"#f0f921\"]], \"type\": \"histogram2dcontour\"}], \"mesh3d\": [{\"colorbar\": {\"outlinewidth\": 0, \"ticks\": \"\"}, \"type\": \"mesh3d\"}], \"parcoords\": [{\"line\": {\"colorbar\": {\"outlinewidth\": 0, \"ticks\": \"\"}}, \"type\": \"parcoords\"}], \"scatter\": [{\"marker\": {\"colorbar\": {\"outlinewidth\": 0, \"ticks\": \"\"}}, \"type\": \"scatter\"}], \"scatter3d\": [{\"line\": {\"colorbar\": {\"outlinewidth\": 0, \"ticks\": \"\"}}, \"marker\": {\"colorbar\": {\"outlinewidth\": 0, \"ticks\": \"\"}}, \"type\": \"scatter3d\"}], \"scattercarpet\": [{\"marker\": {\"colorbar\": {\"outlinewidth\": 0, \"ticks\": \"\"}}, \"type\": \"scattercarpet\"}], \"scattergeo\": [{\"marker\": {\"colorbar\": {\"outlinewidth\": 0, \"ticks\": \"\"}}, \"type\": \"scattergeo\"}], \"scattergl\": [{\"marker\": {\"colorbar\": {\"outlinewidth\": 0, \"ticks\": \"\"}}, \"type\": \"scattergl\"}], \"scattermapbox\": [{\"marker\": {\"colorbar\": {\"outlinewidth\": 0, \"ticks\": \"\"}}, \"type\": \"scattermapbox\"}], \"scatterpolar\": [{\"marker\": {\"colorbar\": {\"outlinewidth\": 0, \"ticks\": \"\"}}, \"type\": \"scatterpolar\"}], \"scatterpolargl\": [{\"marker\": {\"colorbar\": {\"outlinewidth\": 0, \"ticks\": \"\"}}, \"type\": \"scatterpolargl\"}], \"scatterternary\": [{\"marker\": {\"colorbar\": {\"outlinewidth\": 0, \"ticks\": \"\"}}, \"type\": \"scatterternary\"}], \"surface\": [{\"colorbar\": {\"outlinewidth\": 0, \"ticks\": \"\"}, \"colorscale\": [[0.0, \"#0d0887\"], [0.1111111111111111, \"#46039f\"], [0.2222222222222222, \"#7201a8\"], [0.3333333333333333, \"#9c179e\"], [0.4444444444444444, \"#bd3786\"], [0.5555555555555556, \"#d8576b\"], [0.6666666666666666, \"#ed7953\"], [0.7777777777777778, \"#fb9f3a\"], [0.8888888888888888, \"#fdca26\"], [1.0, \"#f0f921\"]], \"type\": \"surface\"}], \"table\": [{\"cells\": {\"fill\": {\"color\": \"#EBF0F8\"}, \"line\": {\"color\": \"white\"}}, \"header\": {\"fill\": {\"color\": \"#C8D4E3\"}, \"line\": {\"color\": \"white\"}}, \"type\": \"table\"}]}, \"layout\": {\"annotationdefaults\": {\"arrowcolor\": \"#2a3f5f\", \"arrowhead\": 0, \"arrowwidth\": 1}, \"colorscale\": {\"diverging\": [[0, \"#8e0152\"], [0.1, \"#c51b7d\"], [0.2, \"#de77ae\"], [0.3, \"#f1b6da\"], [0.4, \"#fde0ef\"], [0.5, \"#f7f7f7\"], [0.6, \"#e6f5d0\"], [0.7, \"#b8e186\"], [0.8, \"#7fbc41\"], [0.9, \"#4d9221\"], [1, \"#276419\"]], \"sequential\": [[0.0, \"#0d0887\"], [0.1111111111111111, \"#46039f\"], [0.2222222222222222, \"#7201a8\"], [0.3333333333333333, \"#9c179e\"], [0.4444444444444444, \"#bd3786\"], [0.5555555555555556, \"#d8576b\"], [0.6666666666666666, \"#ed7953\"], [0.7777777777777778, \"#fb9f3a\"], [0.8888888888888888, \"#fdca26\"], [1.0, \"#f0f921\"]], \"sequentialminus\": [[0.0, \"#0d0887\"], [0.1111111111111111, \"#46039f\"], [0.2222222222222222, \"#7201a8\"], [0.3333333333333333, \"#9c179e\"], [0.4444444444444444, \"#bd3786\"], [0.5555555555555556, \"#d8576b\"], [0.6666666666666666, \"#ed7953\"], [0.7777777777777778, \"#fb9f3a\"], [0.8888888888888888, \"#fdca26\"], [1.0, \"#f0f921\"]]}, \"colorway\": [\"#636efa\", \"#EF553B\", \"#00cc96\", \"#ab63fa\", \"#FFA15A\", \"#19d3f3\", \"#FF6692\", \"#B6E880\", \"#FF97FF\", \"#FECB52\"], \"font\": {\"color\": \"#2a3f5f\"}, \"geo\": {\"bgcolor\": \"white\", \"lakecolor\": \"white\", \"landcolor\": \"#E5ECF6\", \"showlakes\": true, \"showland\": true, \"subunitcolor\": \"white\"}, \"hoverlabel\": {\"align\": \"left\"}, \"hovermode\": \"closest\", \"mapbox\": {\"style\": \"light\"}, \"paper_bgcolor\": \"white\", \"plot_bgcolor\": \"#E5ECF6\", \"polar\": {\"angularaxis\": {\"gridcolor\": \"white\", \"linecolor\": \"white\", \"ticks\": \"\"}, \"bgcolor\": \"#E5ECF6\", \"radialaxis\": {\"gridcolor\": \"white\", \"linecolor\": \"white\", \"ticks\": \"\"}}, \"scene\": {\"xaxis\": {\"backgroundcolor\": \"#E5ECF6\", \"gridcolor\": \"white\", \"gridwidth\": 2, \"linecolor\": \"white\", \"showbackground\": true, \"ticks\": \"\", \"zerolinecolor\": \"white\"}, \"yaxis\": {\"backgroundcolor\": \"#E5ECF6\", \"gridcolor\": \"white\", \"gridwidth\": 2, \"linecolor\": \"white\", \"showbackground\": true, \"ticks\": \"\", \"zerolinecolor\": \"white\"}, \"zaxis\": {\"backgroundcolor\": \"#E5ECF6\", \"gridcolor\": \"white\", \"gridwidth\": 2, \"linecolor\": \"white\", \"showbackground\": true, \"ticks\": \"\", \"zerolinecolor\": \"white\"}}, \"shapedefaults\": {\"line\": {\"color\": \"#2a3f5f\"}}, \"ternary\": {\"aaxis\": {\"gridcolor\": \"white\", \"linecolor\": \"white\", \"ticks\": \"\"}, \"baxis\": {\"gridcolor\": \"white\", \"linecolor\": \"white\", \"ticks\": \"\"}, \"bgcolor\": \"#E5ECF6\", \"caxis\": {\"gridcolor\": \"white\", \"linecolor\": \"white\", \"ticks\": \"\"}}, \"title\": {\"x\": 0.05}, \"xaxis\": {\"automargin\": true, \"gridcolor\": \"white\", \"linecolor\": \"white\", \"ticks\": \"\", \"zerolinecolor\": \"white\", \"zerolinewidth\": 2}, \"yaxis\": {\"automargin\": true, \"gridcolor\": \"white\", \"linecolor\": \"white\", \"ticks\": \"\", \"zerolinecolor\": \"white\", \"zerolinewidth\": 2}}}, \"title\": {\"font\": {\"color\": \"#4D5663\"}, \"text\": \"Boxplot: Store Type x Sales\"}, \"xaxis\": {\"gridcolor\": \"#E1E5ED\", \"showgrid\": true, \"tickfont\": {\"color\": \"#4D5663\"}, \"title\": {\"font\": {\"color\": \"#4D5663\"}, \"text\": \"\"}, \"zerolinecolor\": \"#E1E5ED\"}, \"yaxis\": {\"gridcolor\": \"#E1E5ED\", \"showgrid\": true, \"tickfont\": {\"color\": \"#4D5663\"}, \"title\": {\"font\": {\"color\": \"#4D5663\"}, \"text\": \"\"}, \"zerolinecolor\": \"#E1E5ED\"}},\n",
       "                        {\"showLink\": true, \"linkText\": \"Export to plot.ly\", \"plotlyServerURL\": \"https://plot.ly\", \"responsive\": true}\n",
       "                    ).then(function(){\n",
       "                            \n",
       "var gd = document.getElementById('1cf50999-5a56-47fe-b9e8-4a2011e296e5');\n",
       "var x = new MutationObserver(function (mutations, observer) {{\n",
       "        var display = window.getComputedStyle(gd).display;\n",
       "        if (!display || display === 'none') {{\n",
       "            console.log([gd, 'removed!']);\n",
       "            Plotly.purge(gd);\n",
       "            observer.disconnect();\n",
       "        }}\n",
       "}});\n",
       "\n",
       "// Listen for the removal of the full notebook cells\n",
       "var notebookContainer = gd.closest('#notebook-container');\n",
       "if (notebookContainer) {{\n",
       "    x.observe(notebookContainer, {childList: true});\n",
       "}}\n",
       "\n",
       "// Listen for the clearing of the current output cell\n",
       "var outputEl = gd.closest('.output');\n",
       "if (outputEl) {{\n",
       "    x.observe(outputEl, {childList: true});\n",
       "}}\n",
       "\n",
       "                        })\n",
       "                };\n",
       "                });\n",
       "            </script>\n",
       "        </div>"
      ]
     },
     "metadata": {},
     "output_type": "display_data"
    }
   ],
   "source": [
    "type_sales_pivot.iplot('box', title=f'Boxplot: Store Type x Sales')"
   ]
  },
  {
   "cell_type": "code",
   "execution_count": 22,
   "metadata": {},
   "outputs": [
    {
     "data": {
      "application/vnd.plotly.v1+json": {
       "config": {
        "linkText": "Export to plot.ly",
        "plotlyServerURL": "https://plot.ly",
        "showLink": true
       },
       "data": [
        {
         "labels": [
          [
           "A"
          ],
          [
           "B"
          ],
          [
           "C"
          ]
         ],
         "marker": {
          "colors": [
           "rgba(255, 153, 51, 1.0)",
           "rgba(55, 128, 191, 1.0)",
           "rgba(50, 171, 96, 1.0)"
          ]
         },
         "name": "",
         "type": "pie",
         "values": [
          22,
          17,
          6
         ]
        }
       ],
       "layout": {
        "legend": {
         "bgcolor": "#F5F6F9",
         "font": {
          "color": "#4D5663"
         }
        },
        "paper_bgcolor": "#F5F6F9",
        "plot_bgcolor": "#F5F6F9",
        "title": "Type vs Count Piechart",
        "titlefont": {
         "color": "#4D5663"
        }
       }
      },
      "text/html": [
       "<div>\n",
       "        \n",
       "        \n",
       "            <div id=\"b743a7a5-40fe-4f28-a580-b7507ebe2f5a\" class=\"plotly-graph-div\" style=\"height:525px; width:100%;\"></div>\n",
       "            <script type=\"text/javascript\">\n",
       "                require([\"plotly\"], function(Plotly) {\n",
       "                    window.PLOTLYENV=window.PLOTLYENV || {};\n",
       "                    window.PLOTLYENV.BASE_URL='https://plot.ly';\n",
       "                    \n",
       "                if (document.getElementById(\"b743a7a5-40fe-4f28-a580-b7507ebe2f5a\")) {\n",
       "                    Plotly.newPlot(\n",
       "                        'b743a7a5-40fe-4f28-a580-b7507ebe2f5a',\n",
       "                        [{\"labels\": [[\"A\"], [\"B\"], [\"C\"]], \"marker\": {\"colors\": [\"rgba(255, 153, 51, 1.0)\", \"rgba(55, 128, 191, 1.0)\", \"rgba(50, 171, 96, 1.0)\"]}, \"name\": \"\", \"type\": \"pie\", \"values\": [22, 17, 6]}],\n",
       "                        {\"legend\": {\"bgcolor\": \"#F5F6F9\", \"font\": {\"color\": \"#4D5663\"}}, \"paper_bgcolor\": \"#F5F6F9\", \"plot_bgcolor\": \"#F5F6F9\", \"title\": \"Type vs Count Piechart\", \"titlefont\": {\"color\": \"#4D5663\"}},\n",
       "                        {\"showLink\": true, \"linkText\": \"Export to plot.ly\", \"plotlyServerURL\": \"https://plot.ly\", \"responsive\": true}\n",
       "                    ).then(function(){\n",
       "                            \n",
       "var gd = document.getElementById('b743a7a5-40fe-4f28-a580-b7507ebe2f5a');\n",
       "var x = new MutationObserver(function (mutations, observer) {{\n",
       "        var display = window.getComputedStyle(gd).display;\n",
       "        if (!display || display === 'none') {{\n",
       "            console.log([gd, 'removed!']);\n",
       "            Plotly.purge(gd);\n",
       "            observer.disconnect();\n",
       "        }}\n",
       "}});\n",
       "\n",
       "// Listen for the removal of the full notebook cells\n",
       "var notebookContainer = gd.closest('#notebook-container');\n",
       "if (notebookContainer) {{\n",
       "    x.observe(notebookContainer, {childList: true});\n",
       "}}\n",
       "\n",
       "// Listen for the clearing of the current output cell\n",
       "var outputEl = gd.closest('.output');\n",
       "if (outputEl) {{\n",
       "    x.observe(outputEl, {childList: true});\n",
       "}}\n",
       "\n",
       "                        })\n",
       "                };\n",
       "                });\n",
       "            </script>\n",
       "        </div>"
      ]
     },
     "metadata": {},
     "output_type": "display_data"
    }
   ],
   "source": [
    "group_type = pd.DataFrame(stores_df.groupby('Type')['Size'].count()).reset_index().rename(columns={'Size':'Count'})\n",
    "group_type.iplot('pie', labels=['Type'], values='Count', title=f'Type vs Count Piechart')"
   ]
  },
  {
   "cell_type": "markdown",
   "metadata": {},
   "source": [
    "Almost half of the Stores are from type A. And they are bigger and sell more than the others."
   ]
  },
  {
   "cell_type": "markdown",
   "metadata": {},
   "source": [
    "## Pre-processing"
   ]
  },
  {
   "cell_type": "markdown",
   "metadata": {},
   "source": [
    "### Fixing Date"
   ]
  },
  {
   "cell_type": "code",
   "execution_count": 23,
   "metadata": {},
   "outputs": [],
   "source": [
    "df['Date'] = pd.to_datetime(df['Date'])\n",
    "df['Year']=df['Date'].dt.year\n",
    "df['Month']=df['Date'].dt.month"
   ]
  },
  {
   "cell_type": "markdown",
   "metadata": {},
   "source": [
    "### Dealing with Null Values"
   ]
  },
  {
   "cell_type": "code",
   "execution_count": 24,
   "metadata": {},
   "outputs": [
    {
     "data": {
      "text/plain": [
       "Store                0\n",
       "Dept                 0\n",
       "Date                 0\n",
       "Weekly_Sales         0\n",
       "IsHoliday            0\n",
       "Temperature          0\n",
       "Fuel_Price           0\n",
       "MarkDown1       270889\n",
       "MarkDown2       310322\n",
       "MarkDown3       284479\n",
       "MarkDown4       286603\n",
       "MarkDown5       270138\n",
       "CPI                  0\n",
       "Unemployment         0\n",
       "Type                 0\n",
       "Size                 0\n",
       "Year                 0\n",
       "Month                0\n",
       "dtype: int64"
      ]
     },
     "execution_count": 24,
     "metadata": {},
     "output_type": "execute_result"
    }
   ],
   "source": [
    "df.isnull().sum()"
   ]
  },
  {
   "cell_type": "code",
   "execution_count": 25,
   "metadata": {},
   "outputs": [],
   "source": [
    "null_per_store = df[['MarkDown1', 'MarkDown2', 'MarkDown3', 'MarkDown4', 'MarkDown5']].isnull().groupby([df['Store']]).sum().astype(int).reset_index()"
   ]
  },
  {
   "cell_type": "code",
   "execution_count": 26,
   "metadata": {},
   "outputs": [],
   "source": [
    "null_per_store['ObservedWeeks'] = df.groupby([df['Store']])['Date'].count().tolist()"
   ]
  },
  {
   "cell_type": "code",
   "execution_count": 27,
   "metadata": {},
   "outputs": [],
   "source": [
    "null_per_store['NullPercentageMarkDown1'] = null_per_store.MarkDown1 * 100 / null_per_store.ObservedWeeks\n",
    "null_per_store['NullPercentageMarkDown2'] = null_per_store.MarkDown2 * 100 / null_per_store.ObservedWeeks\n",
    "null_per_store['NullPercentageMarkDown3'] = null_per_store.MarkDown3 * 100 / null_per_store.ObservedWeeks\n",
    "null_per_store['NullPercentageMarkDown4'] = null_per_store.MarkDown4 * 100 / null_per_store.ObservedWeeks\n",
    "null_per_store['NullPercentageMarkDown5'] = null_per_store.MarkDown5 * 100 / null_per_store.ObservedWeeks\n",
    "null_per_store = null_per_store.drop(['MarkDown1', 'MarkDown2', 'MarkDown3', 'MarkDown4', 'MarkDown5'], axis=1)"
   ]
  },
  {
   "cell_type": "code",
   "execution_count": 28,
   "metadata": {},
   "outputs": [
    {
     "data": {
      "text/html": [
       "<div>\n",
       "<style scoped>\n",
       "    .dataframe tbody tr th:only-of-type {\n",
       "        vertical-align: middle;\n",
       "    }\n",
       "\n",
       "    .dataframe tbody tr th {\n",
       "        vertical-align: top;\n",
       "    }\n",
       "\n",
       "    .dataframe thead th {\n",
       "        text-align: right;\n",
       "    }\n",
       "</style>\n",
       "<table border=\"1\" class=\"dataframe\">\n",
       "  <thead>\n",
       "    <tr style=\"text-align: right;\">\n",
       "      <th></th>\n",
       "      <th>Store</th>\n",
       "      <th>ObservedWeeks</th>\n",
       "      <th>NullPercentageMarkDown1</th>\n",
       "      <th>NullPercentageMarkDown2</th>\n",
       "      <th>NullPercentageMarkDown3</th>\n",
       "      <th>NullPercentageMarkDown4</th>\n",
       "      <th>NullPercentageMarkDown5</th>\n",
       "    </tr>\n",
       "  </thead>\n",
       "  <tbody>\n",
       "    <tr>\n",
       "      <td>0</td>\n",
       "      <td>1</td>\n",
       "      <td>10244</td>\n",
       "      <td>64.30</td>\n",
       "      <td>70.57</td>\n",
       "      <td>64.97</td>\n",
       "      <td>64.30</td>\n",
       "      <td>64.30</td>\n",
       "    </tr>\n",
       "    <tr>\n",
       "      <td>1</td>\n",
       "      <td>2</td>\n",
       "      <td>10238</td>\n",
       "      <td>64.22</td>\n",
       "      <td>70.50</td>\n",
       "      <td>64.92</td>\n",
       "      <td>64.22</td>\n",
       "      <td>64.22</td>\n",
       "    </tr>\n",
       "    <tr>\n",
       "      <td>2</td>\n",
       "      <td>3</td>\n",
       "      <td>9036</td>\n",
       "      <td>64.09</td>\n",
       "      <td>72.53</td>\n",
       "      <td>68.95</td>\n",
       "      <td>65.54</td>\n",
       "      <td>64.09</td>\n",
       "    </tr>\n",
       "    <tr>\n",
       "      <td>3</td>\n",
       "      <td>4</td>\n",
       "      <td>10272</td>\n",
       "      <td>64.21</td>\n",
       "      <td>69.81</td>\n",
       "      <td>65.61</td>\n",
       "      <td>64.91</td>\n",
       "      <td>64.21</td>\n",
       "    </tr>\n",
       "    <tr>\n",
       "      <td>4</td>\n",
       "      <td>5</td>\n",
       "      <td>8999</td>\n",
       "      <td>64.18</td>\n",
       "      <td>74.01</td>\n",
       "      <td>69.77</td>\n",
       "      <td>65.63</td>\n",
       "      <td>64.18</td>\n",
       "    </tr>\n",
       "    <tr>\n",
       "      <td>5</td>\n",
       "      <td>6</td>\n",
       "      <td>10211</td>\n",
       "      <td>64.23</td>\n",
       "      <td>69.11</td>\n",
       "      <td>65.64</td>\n",
       "      <td>64.23</td>\n",
       "      <td>64.23</td>\n",
       "    </tr>\n",
       "    <tr>\n",
       "      <td>6</td>\n",
       "      <td>7</td>\n",
       "      <td>9762</td>\n",
       "      <td>64.09</td>\n",
       "      <td>73.85</td>\n",
       "      <td>65.52</td>\n",
       "      <td>64.09</td>\n",
       "      <td>64.09</td>\n",
       "    </tr>\n",
       "    <tr>\n",
       "      <td>7</td>\n",
       "      <td>8</td>\n",
       "      <td>9895</td>\n",
       "      <td>64.27</td>\n",
       "      <td>70.56</td>\n",
       "      <td>65.65</td>\n",
       "      <td>64.97</td>\n",
       "      <td>64.27</td>\n",
       "    </tr>\n",
       "    <tr>\n",
       "      <td>8</td>\n",
       "      <td>9</td>\n",
       "      <td>8867</td>\n",
       "      <td>63.80</td>\n",
       "      <td>76.59</td>\n",
       "      <td>70.20</td>\n",
       "      <td>65.22</td>\n",
       "      <td>63.80</td>\n",
       "    </tr>\n",
       "    <tr>\n",
       "      <td>9</td>\n",
       "      <td>10</td>\n",
       "      <td>10315</td>\n",
       "      <td>64.65</td>\n",
       "      <td>75.00</td>\n",
       "      <td>67.45</td>\n",
       "      <td>64.65</td>\n",
       "      <td>64.65</td>\n",
       "    </tr>\n",
       "    <tr>\n",
       "      <td>10</td>\n",
       "      <td>11</td>\n",
       "      <td>10062</td>\n",
       "      <td>63.98</td>\n",
       "      <td>69.60</td>\n",
       "      <td>64.68</td>\n",
       "      <td>65.39</td>\n",
       "      <td>63.98</td>\n",
       "    </tr>\n",
       "    <tr>\n",
       "      <td>11</td>\n",
       "      <td>12</td>\n",
       "      <td>9705</td>\n",
       "      <td>64.00</td>\n",
       "      <td>71.73</td>\n",
       "      <td>66.12</td>\n",
       "      <td>64.00</td>\n",
       "      <td>64.00</td>\n",
       "    </tr>\n",
       "    <tr>\n",
       "      <td>12</td>\n",
       "      <td>13</td>\n",
       "      <td>10474</td>\n",
       "      <td>64.40</td>\n",
       "      <td>69.98</td>\n",
       "      <td>65.08</td>\n",
       "      <td>64.40</td>\n",
       "      <td>64.40</td>\n",
       "    </tr>\n",
       "    <tr>\n",
       "      <td>13</td>\n",
       "      <td>14</td>\n",
       "      <td>10040</td>\n",
       "      <td>64.25</td>\n",
       "      <td>71.28</td>\n",
       "      <td>64.94</td>\n",
       "      <td>64.25</td>\n",
       "      <td>64.25</td>\n",
       "    </tr>\n",
       "    <tr>\n",
       "      <td>14</td>\n",
       "      <td>15</td>\n",
       "      <td>9901</td>\n",
       "      <td>64.23</td>\n",
       "      <td>71.26</td>\n",
       "      <td>67.72</td>\n",
       "      <td>64.23</td>\n",
       "      <td>64.23</td>\n",
       "    </tr>\n",
       "    <tr>\n",
       "      <td>15</td>\n",
       "      <td>16</td>\n",
       "      <td>9443</td>\n",
       "      <td>63.13</td>\n",
       "      <td>73.26</td>\n",
       "      <td>70.30</td>\n",
       "      <td>63.13</td>\n",
       "      <td>63.13</td>\n",
       "    </tr>\n",
       "    <tr>\n",
       "      <td>16</td>\n",
       "      <td>17</td>\n",
       "      <td>9864</td>\n",
       "      <td>63.91</td>\n",
       "      <td>73.85</td>\n",
       "      <td>69.59</td>\n",
       "      <td>63.91</td>\n",
       "      <td>63.91</td>\n",
       "    </tr>\n",
       "    <tr>\n",
       "      <td>17</td>\n",
       "      <td>18</td>\n",
       "      <td>9859</td>\n",
       "      <td>63.85</td>\n",
       "      <td>70.20</td>\n",
       "      <td>65.99</td>\n",
       "      <td>63.85</td>\n",
       "      <td>63.85</td>\n",
       "    </tr>\n",
       "    <tr>\n",
       "      <td>18</td>\n",
       "      <td>19</td>\n",
       "      <td>10148</td>\n",
       "      <td>64.31</td>\n",
       "      <td>69.92</td>\n",
       "      <td>66.40</td>\n",
       "      <td>64.31</td>\n",
       "      <td>64.31</td>\n",
       "    </tr>\n",
       "    <tr>\n",
       "      <td>19</td>\n",
       "      <td>20</td>\n",
       "      <td>10214</td>\n",
       "      <td>64.24</td>\n",
       "      <td>68.46</td>\n",
       "      <td>64.92</td>\n",
       "      <td>64.24</td>\n",
       "      <td>64.24</td>\n",
       "    </tr>\n",
       "    <tr>\n",
       "      <td>20</td>\n",
       "      <td>21</td>\n",
       "      <td>9582</td>\n",
       "      <td>64.01</td>\n",
       "      <td>71.05</td>\n",
       "      <td>66.81</td>\n",
       "      <td>64.01</td>\n",
       "      <td>64.01</td>\n",
       "    </tr>\n",
       "    <tr>\n",
       "      <td>21</td>\n",
       "      <td>22</td>\n",
       "      <td>9688</td>\n",
       "      <td>64.12</td>\n",
       "      <td>72.64</td>\n",
       "      <td>67.63</td>\n",
       "      <td>64.12</td>\n",
       "      <td>64.12</td>\n",
       "    </tr>\n",
       "    <tr>\n",
       "      <td>22</td>\n",
       "      <td>23</td>\n",
       "      <td>10050</td>\n",
       "      <td>64.32</td>\n",
       "      <td>71.33</td>\n",
       "      <td>67.09</td>\n",
       "      <td>64.32</td>\n",
       "      <td>64.32</td>\n",
       "    </tr>\n",
       "    <tr>\n",
       "      <td>23</td>\n",
       "      <td>24</td>\n",
       "      <td>10228</td>\n",
       "      <td>64.24</td>\n",
       "      <td>69.14</td>\n",
       "      <td>64.93</td>\n",
       "      <td>64.24</td>\n",
       "      <td>64.24</td>\n",
       "    </tr>\n",
       "    <tr>\n",
       "      <td>24</td>\n",
       "      <td>25</td>\n",
       "      <td>9804</td>\n",
       "      <td>64.22</td>\n",
       "      <td>70.53</td>\n",
       "      <td>67.00</td>\n",
       "      <td>64.22</td>\n",
       "      <td>64.22</td>\n",
       "    </tr>\n",
       "    <tr>\n",
       "      <td>25</td>\n",
       "      <td>26</td>\n",
       "      <td>9854</td>\n",
       "      <td>64.03</td>\n",
       "      <td>71.06</td>\n",
       "      <td>65.42</td>\n",
       "      <td>64.77</td>\n",
       "      <td>64.03</td>\n",
       "    </tr>\n",
       "    <tr>\n",
       "      <td>26</td>\n",
       "      <td>27</td>\n",
       "      <td>10225</td>\n",
       "      <td>64.24</td>\n",
       "      <td>69.86</td>\n",
       "      <td>64.94</td>\n",
       "      <td>64.24</td>\n",
       "      <td>64.24</td>\n",
       "    </tr>\n",
       "    <tr>\n",
       "      <td>27</td>\n",
       "      <td>28</td>\n",
       "      <td>10113</td>\n",
       "      <td>64.21</td>\n",
       "      <td>69.79</td>\n",
       "      <td>66.29</td>\n",
       "      <td>64.21</td>\n",
       "      <td>64.21</td>\n",
       "    </tr>\n",
       "    <tr>\n",
       "      <td>28</td>\n",
       "      <td>29</td>\n",
       "      <td>9455</td>\n",
       "      <td>64.39</td>\n",
       "      <td>73.46</td>\n",
       "      <td>67.18</td>\n",
       "      <td>64.39</td>\n",
       "      <td>64.39</td>\n",
       "    </tr>\n",
       "    <tr>\n",
       "      <td>29</td>\n",
       "      <td>30</td>\n",
       "      <td>7156</td>\n",
       "      <td>65.58</td>\n",
       "      <td>88.57</td>\n",
       "      <td>73.88</td>\n",
       "      <td>87.21</td>\n",
       "      <td>64.16</td>\n",
       "    </tr>\n",
       "    <tr>\n",
       "      <td>30</td>\n",
       "      <td>31</td>\n",
       "      <td>10142</td>\n",
       "      <td>64.37</td>\n",
       "      <td>71.32</td>\n",
       "      <td>65.06</td>\n",
       "      <td>64.37</td>\n",
       "      <td>64.37</td>\n",
       "    </tr>\n",
       "    <tr>\n",
       "      <td>31</td>\n",
       "      <td>32</td>\n",
       "      <td>10202</td>\n",
       "      <td>64.43</td>\n",
       "      <td>70.03</td>\n",
       "      <td>65.13</td>\n",
       "      <td>64.43</td>\n",
       "      <td>64.43</td>\n",
       "    </tr>\n",
       "    <tr>\n",
       "      <td>32</td>\n",
       "      <td>33</td>\n",
       "      <td>6487</td>\n",
       "      <td>64.65</td>\n",
       "      <td>85.59</td>\n",
       "      <td>85.51</td>\n",
       "      <td>94.90</td>\n",
       "      <td>63.19</td>\n",
       "    </tr>\n",
       "    <tr>\n",
       "      <td>33</td>\n",
       "      <td>34</td>\n",
       "      <td>10224</td>\n",
       "      <td>64.71</td>\n",
       "      <td>70.87</td>\n",
       "      <td>66.78</td>\n",
       "      <td>64.71</td>\n",
       "      <td>64.71</td>\n",
       "    </tr>\n",
       "    <tr>\n",
       "      <td>34</td>\n",
       "      <td>35</td>\n",
       "      <td>9528</td>\n",
       "      <td>64.15</td>\n",
       "      <td>79.58</td>\n",
       "      <td>66.28</td>\n",
       "      <td>64.15</td>\n",
       "      <td>64.15</td>\n",
       "    </tr>\n",
       "    <tr>\n",
       "      <td>35</td>\n",
       "      <td>36</td>\n",
       "      <td>6222</td>\n",
       "      <td>65.22</td>\n",
       "      <td>86.50</td>\n",
       "      <td>86.47</td>\n",
       "      <td>92.24</td>\n",
       "      <td>63.77</td>\n",
       "    </tr>\n",
       "    <tr>\n",
       "      <td>36</td>\n",
       "      <td>37</td>\n",
       "      <td>7206</td>\n",
       "      <td>65.92</td>\n",
       "      <td>86.96</td>\n",
       "      <td>70.94</td>\n",
       "      <td>96.36</td>\n",
       "      <td>63.03</td>\n",
       "    </tr>\n",
       "    <tr>\n",
       "      <td>37</td>\n",
       "      <td>38</td>\n",
       "      <td>7362</td>\n",
       "      <td>63.27</td>\n",
       "      <td>87.12</td>\n",
       "      <td>71.19</td>\n",
       "      <td>84.69</td>\n",
       "      <td>63.27</td>\n",
       "    </tr>\n",
       "    <tr>\n",
       "      <td>38</td>\n",
       "      <td>39</td>\n",
       "      <td>9878</td>\n",
       "      <td>64.35</td>\n",
       "      <td>71.33</td>\n",
       "      <td>65.72</td>\n",
       "      <td>64.35</td>\n",
       "      <td>64.35</td>\n",
       "    </tr>\n",
       "    <tr>\n",
       "      <td>39</td>\n",
       "      <td>40</td>\n",
       "      <td>10017</td>\n",
       "      <td>64.07</td>\n",
       "      <td>72.56</td>\n",
       "      <td>66.88</td>\n",
       "      <td>64.07</td>\n",
       "      <td>64.07</td>\n",
       "    </tr>\n",
       "    <tr>\n",
       "      <td>40</td>\n",
       "      <td>41</td>\n",
       "      <td>10088</td>\n",
       "      <td>63.83</td>\n",
       "      <td>70.21</td>\n",
       "      <td>64.52</td>\n",
       "      <td>63.83</td>\n",
       "      <td>63.83</td>\n",
       "    </tr>\n",
       "    <tr>\n",
       "      <td>41</td>\n",
       "      <td>42</td>\n",
       "      <td>6953</td>\n",
       "      <td>64.82</td>\n",
       "      <td>86.93</td>\n",
       "      <td>69.93</td>\n",
       "      <td>92.67</td>\n",
       "      <td>62.59</td>\n",
       "    </tr>\n",
       "    <tr>\n",
       "      <td>42</td>\n",
       "      <td>43</td>\n",
       "      <td>6751</td>\n",
       "      <td>64.30</td>\n",
       "      <td>89.54</td>\n",
       "      <td>69.84</td>\n",
       "      <td>95.75</td>\n",
       "      <td>64.30</td>\n",
       "    </tr>\n",
       "    <tr>\n",
       "      <td>43</td>\n",
       "      <td>44</td>\n",
       "      <td>7169</td>\n",
       "      <td>64.85</td>\n",
       "      <td>89.47</td>\n",
       "      <td>72.72</td>\n",
       "      <td>92.06</td>\n",
       "      <td>63.44</td>\n",
       "    </tr>\n",
       "    <tr>\n",
       "      <td>44</td>\n",
       "      <td>45</td>\n",
       "      <td>9637</td>\n",
       "      <td>64.17</td>\n",
       "      <td>70.47</td>\n",
       "      <td>65.56</td>\n",
       "      <td>64.17</td>\n",
       "      <td>64.17</td>\n",
       "    </tr>\n",
       "  </tbody>\n",
       "</table>\n",
       "</div>"
      ],
      "text/plain": [
       "    Store  ObservedWeeks  NullPercentageMarkDown1  NullPercentageMarkDown2  \\\n",
       "0       1          10244                    64.30                    70.57   \n",
       "1       2          10238                    64.22                    70.50   \n",
       "2       3           9036                    64.09                    72.53   \n",
       "3       4          10272                    64.21                    69.81   \n",
       "4       5           8999                    64.18                    74.01   \n",
       "5       6          10211                    64.23                    69.11   \n",
       "6       7           9762                    64.09                    73.85   \n",
       "7       8           9895                    64.27                    70.56   \n",
       "8       9           8867                    63.80                    76.59   \n",
       "9      10          10315                    64.65                    75.00   \n",
       "10     11          10062                    63.98                    69.60   \n",
       "11     12           9705                    64.00                    71.73   \n",
       "12     13          10474                    64.40                    69.98   \n",
       "13     14          10040                    64.25                    71.28   \n",
       "14     15           9901                    64.23                    71.26   \n",
       "15     16           9443                    63.13                    73.26   \n",
       "16     17           9864                    63.91                    73.85   \n",
       "17     18           9859                    63.85                    70.20   \n",
       "18     19          10148                    64.31                    69.92   \n",
       "19     20          10214                    64.24                    68.46   \n",
       "20     21           9582                    64.01                    71.05   \n",
       "21     22           9688                    64.12                    72.64   \n",
       "22     23          10050                    64.32                    71.33   \n",
       "23     24          10228                    64.24                    69.14   \n",
       "24     25           9804                    64.22                    70.53   \n",
       "25     26           9854                    64.03                    71.06   \n",
       "26     27          10225                    64.24                    69.86   \n",
       "27     28          10113                    64.21                    69.79   \n",
       "28     29           9455                    64.39                    73.46   \n",
       "29     30           7156                    65.58                    88.57   \n",
       "30     31          10142                    64.37                    71.32   \n",
       "31     32          10202                    64.43                    70.03   \n",
       "32     33           6487                    64.65                    85.59   \n",
       "33     34          10224                    64.71                    70.87   \n",
       "34     35           9528                    64.15                    79.58   \n",
       "35     36           6222                    65.22                    86.50   \n",
       "36     37           7206                    65.92                    86.96   \n",
       "37     38           7362                    63.27                    87.12   \n",
       "38     39           9878                    64.35                    71.33   \n",
       "39     40          10017                    64.07                    72.56   \n",
       "40     41          10088                    63.83                    70.21   \n",
       "41     42           6953                    64.82                    86.93   \n",
       "42     43           6751                    64.30                    89.54   \n",
       "43     44           7169                    64.85                    89.47   \n",
       "44     45           9637                    64.17                    70.47   \n",
       "\n",
       "    NullPercentageMarkDown3  NullPercentageMarkDown4  NullPercentageMarkDown5  \n",
       "0                     64.97                    64.30                    64.30  \n",
       "1                     64.92                    64.22                    64.22  \n",
       "2                     68.95                    65.54                    64.09  \n",
       "3                     65.61                    64.91                    64.21  \n",
       "4                     69.77                    65.63                    64.18  \n",
       "5                     65.64                    64.23                    64.23  \n",
       "6                     65.52                    64.09                    64.09  \n",
       "7                     65.65                    64.97                    64.27  \n",
       "8                     70.20                    65.22                    63.80  \n",
       "9                     67.45                    64.65                    64.65  \n",
       "10                    64.68                    65.39                    63.98  \n",
       "11                    66.12                    64.00                    64.00  \n",
       "12                    65.08                    64.40                    64.40  \n",
       "13                    64.94                    64.25                    64.25  \n",
       "14                    67.72                    64.23                    64.23  \n",
       "15                    70.30                    63.13                    63.13  \n",
       "16                    69.59                    63.91                    63.91  \n",
       "17                    65.99                    63.85                    63.85  \n",
       "18                    66.40                    64.31                    64.31  \n",
       "19                    64.92                    64.24                    64.24  \n",
       "20                    66.81                    64.01                    64.01  \n",
       "21                    67.63                    64.12                    64.12  \n",
       "22                    67.09                    64.32                    64.32  \n",
       "23                    64.93                    64.24                    64.24  \n",
       "24                    67.00                    64.22                    64.22  \n",
       "25                    65.42                    64.77                    64.03  \n",
       "26                    64.94                    64.24                    64.24  \n",
       "27                    66.29                    64.21                    64.21  \n",
       "28                    67.18                    64.39                    64.39  \n",
       "29                    73.88                    87.21                    64.16  \n",
       "30                    65.06                    64.37                    64.37  \n",
       "31                    65.13                    64.43                    64.43  \n",
       "32                    85.51                    94.90                    63.19  \n",
       "33                    66.78                    64.71                    64.71  \n",
       "34                    66.28                    64.15                    64.15  \n",
       "35                    86.47                    92.24                    63.77  \n",
       "36                    70.94                    96.36                    63.03  \n",
       "37                    71.19                    84.69                    63.27  \n",
       "38                    65.72                    64.35                    64.35  \n",
       "39                    66.88                    64.07                    64.07  \n",
       "40                    64.52                    63.83                    63.83  \n",
       "41                    69.93                    92.67                    62.59  \n",
       "42                    69.84                    95.75                    64.30  \n",
       "43                    72.72                    92.06                    63.44  \n",
       "44                    65.56                    64.17                    64.17  "
      ]
     },
     "execution_count": 28,
     "metadata": {},
     "output_type": "execute_result"
    }
   ],
   "source": [
    "pd.options.display.float_format = '{:,.2f}'.format\n",
    "null_per_store"
   ]
  },
  {
   "cell_type": "code",
   "execution_count": 29,
   "metadata": {
    "scrolled": false
   },
   "outputs": [
    {
     "data": {
      "application/vnd.jupyter.widget-view+json": {
       "model_id": "49ac10d03974401cb9fa232faacdb00c",
       "version_major": 2,
       "version_minor": 0
      },
      "text/plain": [
       "interactive(children=(Dropdown(description='x', options=('Date',), value='Date'), Dropdown(description='y', op…"
      ]
     },
     "metadata": {},
     "output_type": "display_data"
    }
   ],
   "source": [
    "#null_per_date = df[['MarkDown1', 'MarkDown2', 'MarkDown3', 'MarkDown4', 'MarkDown5']].isnull().groupby([df['Date']]).sum().astype(int).reset_index()\n",
    "def plot_null(x,\n",
    "              y,\n",
    "              store,\n",
    "              markdown,\n",
    "              ):\n",
    "    if store == 'None':\n",
    "        null_per_date = df[markdown].isnull().groupby([df['Date']]).sum().astype(int).reset_index()\n",
    "    else:\n",
    "        null_per_date = df[(df['Store'] == store)][markdown].isnull().groupby([df['Date']]).sum().astype(int).reset_index()\n",
    "    \n",
    "    null_per_date.iplot('line', x=['Date'], y=[markdown])\n",
    "        \n",
    "_ = interact(plot_null,\n",
    "             store=widgets.Dropdown(options=['None']+list(dept_store_df.Store.unique())),\n",
    "             x=['Date'],\n",
    "             y=['NullCounts'],\n",
    "             markdown=['MarkDown1', 'MarkDown2', 'MarkDown3', 'MarkDown4', 'MarkDown5']\n",
    "            )"
   ]
  },
  {
   "cell_type": "markdown",
   "metadata": {},
   "source": [
    "It's pretty clear that since **2011-11-11** we started to see the discounts (Markdown)"
   ]
  },
  {
   "cell_type": "code",
   "execution_count": 30,
   "metadata": {},
   "outputs": [
    {
     "data": {
      "text/plain": [
       "Store                0\n",
       "Dept                 0\n",
       "Date                 0\n",
       "Weekly_Sales         0\n",
       "IsHoliday            0\n",
       "Temperature          0\n",
       "Fuel_Price           0\n",
       "MarkDown1       270138\n",
       "MarkDown2       270138\n",
       "MarkDown3       270138\n",
       "MarkDown4       270138\n",
       "MarkDown5       270138\n",
       "CPI                  0\n",
       "Unemployment         0\n",
       "Type                 0\n",
       "Size                 0\n",
       "Year                 0\n",
       "Month                0\n",
       "dtype: int64"
      ]
     },
     "execution_count": 30,
     "metadata": {},
     "output_type": "execute_result"
    }
   ],
   "source": [
    "df[df['Date'] < pd.Timestamp('2011-11-11')].isnull().sum()"
   ]
  },
  {
   "cell_type": "code",
   "execution_count": 31,
   "metadata": {},
   "outputs": [
    {
     "data": {
      "text/plain": [
       "Store               0\n",
       "Dept                0\n",
       "Date                0\n",
       "Weekly_Sales        0\n",
       "IsHoliday           0\n",
       "Temperature         0\n",
       "Fuel_Price          0\n",
       "MarkDown1         751\n",
       "MarkDown2       40184\n",
       "MarkDown3       14341\n",
       "MarkDown4       16465\n",
       "MarkDown5           0\n",
       "CPI                 0\n",
       "Unemployment        0\n",
       "Type                0\n",
       "Size                0\n",
       "Year                0\n",
       "Month               0\n",
       "dtype: int64"
      ]
     },
     "execution_count": 31,
     "metadata": {},
     "output_type": "execute_result"
    }
   ],
   "source": [
    "df[df['Date'] >= pd.Timestamp('2011-11-11')].isnull().sum()"
   ]
  },
  {
   "cell_type": "code",
   "execution_count": 32,
   "metadata": {},
   "outputs": [],
   "source": [
    "df['MarkDown1'] = df['MarkDown1'].fillna(0)\n",
    "df['MarkDown2'] = df['MarkDown2'].fillna(0)\n",
    "df['MarkDown3'] = df['MarkDown3'].fillna(0)\n",
    "df['MarkDown4'] = df['MarkDown4'].fillna(0)\n",
    "df['MarkDown5'] = df['MarkDown5'].fillna(0)"
   ]
  },
  {
   "cell_type": "code",
   "execution_count": 33,
   "metadata": {},
   "outputs": [
    {
     "data": {
      "text/plain": [
       "Store           0\n",
       "Dept            0\n",
       "Date            0\n",
       "Weekly_Sales    0\n",
       "IsHoliday       0\n",
       "Temperature     0\n",
       "Fuel_Price      0\n",
       "MarkDown1       0\n",
       "MarkDown2       0\n",
       "MarkDown3       0\n",
       "MarkDown4       0\n",
       "MarkDown5       0\n",
       "CPI             0\n",
       "Unemployment    0\n",
       "Type            0\n",
       "Size            0\n",
       "Year            0\n",
       "Month           0\n",
       "dtype: int64"
      ]
     },
     "execution_count": 33,
     "metadata": {},
     "output_type": "execute_result"
    }
   ],
   "source": [
    "df.isnull().sum()"
   ]
  },
  {
   "cell_type": "markdown",
   "metadata": {},
   "source": [
    "**Note**: I could have used SimpleImputer from sklearn.impute, but as far as I know Markdown is discounts, therefore I assume if they are Null it means 0 discount."
   ]
  },
  {
   "cell_type": "markdown",
   "metadata": {},
   "source": [
    "### Final Dataset"
   ]
  },
  {
   "cell_type": "code",
   "execution_count": 34,
   "metadata": {},
   "outputs": [],
   "source": [
    "type_df = pd.get_dummies(df.Type)\n",
    "dataset = pd.concat([df, type_df], axis=1)\n",
    "dataset = dataset.drop(columns='Type')\n",
    "dataset['IsHoliday'] = dataset.IsHoliday.astype(int)"
   ]
  },
  {
   "cell_type": "code",
   "execution_count": 35,
   "metadata": {
    "scrolled": false
   },
   "outputs": [
    {
     "data": {
      "text/html": [
       "<div>\n",
       "<style scoped>\n",
       "    .dataframe tbody tr th:only-of-type {\n",
       "        vertical-align: middle;\n",
       "    }\n",
       "\n",
       "    .dataframe tbody tr th {\n",
       "        vertical-align: top;\n",
       "    }\n",
       "\n",
       "    .dataframe thead th {\n",
       "        text-align: right;\n",
       "    }\n",
       "</style>\n",
       "<table border=\"1\" class=\"dataframe\">\n",
       "  <thead>\n",
       "    <tr style=\"text-align: right;\">\n",
       "      <th></th>\n",
       "      <th>Store</th>\n",
       "      <th>Dept</th>\n",
       "      <th>Date</th>\n",
       "      <th>Weekly_Sales</th>\n",
       "      <th>IsHoliday</th>\n",
       "      <th>Temperature</th>\n",
       "      <th>Fuel_Price</th>\n",
       "      <th>MarkDown1</th>\n",
       "      <th>MarkDown2</th>\n",
       "      <th>MarkDown3</th>\n",
       "      <th>MarkDown4</th>\n",
       "      <th>MarkDown5</th>\n",
       "      <th>CPI</th>\n",
       "      <th>Unemployment</th>\n",
       "      <th>Size</th>\n",
       "      <th>Year</th>\n",
       "      <th>Month</th>\n",
       "      <th>A</th>\n",
       "      <th>B</th>\n",
       "      <th>C</th>\n",
       "    </tr>\n",
       "  </thead>\n",
       "  <tbody>\n",
       "    <tr>\n",
       "      <td>0</td>\n",
       "      <td>1</td>\n",
       "      <td>1</td>\n",
       "      <td>2010-02-05</td>\n",
       "      <td>24,924.50</td>\n",
       "      <td>0</td>\n",
       "      <td>42.31</td>\n",
       "      <td>2.57</td>\n",
       "      <td>0.00</td>\n",
       "      <td>0.00</td>\n",
       "      <td>0.00</td>\n",
       "      <td>0.00</td>\n",
       "      <td>0.00</td>\n",
       "      <td>211.10</td>\n",
       "      <td>8.11</td>\n",
       "      <td>151315</td>\n",
       "      <td>2010</td>\n",
       "      <td>2</td>\n",
       "      <td>1</td>\n",
       "      <td>0</td>\n",
       "      <td>0</td>\n",
       "    </tr>\n",
       "    <tr>\n",
       "      <td>1</td>\n",
       "      <td>1</td>\n",
       "      <td>2</td>\n",
       "      <td>2010-02-05</td>\n",
       "      <td>50,605.27</td>\n",
       "      <td>0</td>\n",
       "      <td>42.31</td>\n",
       "      <td>2.57</td>\n",
       "      <td>0.00</td>\n",
       "      <td>0.00</td>\n",
       "      <td>0.00</td>\n",
       "      <td>0.00</td>\n",
       "      <td>0.00</td>\n",
       "      <td>211.10</td>\n",
       "      <td>8.11</td>\n",
       "      <td>151315</td>\n",
       "      <td>2010</td>\n",
       "      <td>2</td>\n",
       "      <td>1</td>\n",
       "      <td>0</td>\n",
       "      <td>0</td>\n",
       "    </tr>\n",
       "    <tr>\n",
       "      <td>2</td>\n",
       "      <td>1</td>\n",
       "      <td>3</td>\n",
       "      <td>2010-02-05</td>\n",
       "      <td>13,740.12</td>\n",
       "      <td>0</td>\n",
       "      <td>42.31</td>\n",
       "      <td>2.57</td>\n",
       "      <td>0.00</td>\n",
       "      <td>0.00</td>\n",
       "      <td>0.00</td>\n",
       "      <td>0.00</td>\n",
       "      <td>0.00</td>\n",
       "      <td>211.10</td>\n",
       "      <td>8.11</td>\n",
       "      <td>151315</td>\n",
       "      <td>2010</td>\n",
       "      <td>2</td>\n",
       "      <td>1</td>\n",
       "      <td>0</td>\n",
       "      <td>0</td>\n",
       "    </tr>\n",
       "    <tr>\n",
       "      <td>3</td>\n",
       "      <td>1</td>\n",
       "      <td>4</td>\n",
       "      <td>2010-02-05</td>\n",
       "      <td>39,954.04</td>\n",
       "      <td>0</td>\n",
       "      <td>42.31</td>\n",
       "      <td>2.57</td>\n",
       "      <td>0.00</td>\n",
       "      <td>0.00</td>\n",
       "      <td>0.00</td>\n",
       "      <td>0.00</td>\n",
       "      <td>0.00</td>\n",
       "      <td>211.10</td>\n",
       "      <td>8.11</td>\n",
       "      <td>151315</td>\n",
       "      <td>2010</td>\n",
       "      <td>2</td>\n",
       "      <td>1</td>\n",
       "      <td>0</td>\n",
       "      <td>0</td>\n",
       "    </tr>\n",
       "    <tr>\n",
       "      <td>4</td>\n",
       "      <td>1</td>\n",
       "      <td>5</td>\n",
       "      <td>2010-02-05</td>\n",
       "      <td>32,229.38</td>\n",
       "      <td>0</td>\n",
       "      <td>42.31</td>\n",
       "      <td>2.57</td>\n",
       "      <td>0.00</td>\n",
       "      <td>0.00</td>\n",
       "      <td>0.00</td>\n",
       "      <td>0.00</td>\n",
       "      <td>0.00</td>\n",
       "      <td>211.10</td>\n",
       "      <td>8.11</td>\n",
       "      <td>151315</td>\n",
       "      <td>2010</td>\n",
       "      <td>2</td>\n",
       "      <td>1</td>\n",
       "      <td>0</td>\n",
       "      <td>0</td>\n",
       "    </tr>\n",
       "    <tr>\n",
       "      <td>...</td>\n",
       "      <td>...</td>\n",
       "      <td>...</td>\n",
       "      <td>...</td>\n",
       "      <td>...</td>\n",
       "      <td>...</td>\n",
       "      <td>...</td>\n",
       "      <td>...</td>\n",
       "      <td>...</td>\n",
       "      <td>...</td>\n",
       "      <td>...</td>\n",
       "      <td>...</td>\n",
       "      <td>...</td>\n",
       "      <td>...</td>\n",
       "      <td>...</td>\n",
       "      <td>...</td>\n",
       "      <td>...</td>\n",
       "      <td>...</td>\n",
       "      <td>...</td>\n",
       "      <td>...</td>\n",
       "      <td>...</td>\n",
       "    </tr>\n",
       "    <tr>\n",
       "      <td>421565</td>\n",
       "      <td>45</td>\n",
       "      <td>93</td>\n",
       "      <td>2012-10-26</td>\n",
       "      <td>2,487.80</td>\n",
       "      <td>0</td>\n",
       "      <td>58.85</td>\n",
       "      <td>3.88</td>\n",
       "      <td>4,018.91</td>\n",
       "      <td>58.08</td>\n",
       "      <td>100.00</td>\n",
       "      <td>211.94</td>\n",
       "      <td>858.33</td>\n",
       "      <td>192.31</td>\n",
       "      <td>8.67</td>\n",
       "      <td>118221</td>\n",
       "      <td>2012</td>\n",
       "      <td>10</td>\n",
       "      <td>0</td>\n",
       "      <td>1</td>\n",
       "      <td>0</td>\n",
       "    </tr>\n",
       "    <tr>\n",
       "      <td>421566</td>\n",
       "      <td>45</td>\n",
       "      <td>94</td>\n",
       "      <td>2012-10-26</td>\n",
       "      <td>5,203.31</td>\n",
       "      <td>0</td>\n",
       "      <td>58.85</td>\n",
       "      <td>3.88</td>\n",
       "      <td>4,018.91</td>\n",
       "      <td>58.08</td>\n",
       "      <td>100.00</td>\n",
       "      <td>211.94</td>\n",
       "      <td>858.33</td>\n",
       "      <td>192.31</td>\n",
       "      <td>8.67</td>\n",
       "      <td>118221</td>\n",
       "      <td>2012</td>\n",
       "      <td>10</td>\n",
       "      <td>0</td>\n",
       "      <td>1</td>\n",
       "      <td>0</td>\n",
       "    </tr>\n",
       "    <tr>\n",
       "      <td>421567</td>\n",
       "      <td>45</td>\n",
       "      <td>95</td>\n",
       "      <td>2012-10-26</td>\n",
       "      <td>56,017.47</td>\n",
       "      <td>0</td>\n",
       "      <td>58.85</td>\n",
       "      <td>3.88</td>\n",
       "      <td>4,018.91</td>\n",
       "      <td>58.08</td>\n",
       "      <td>100.00</td>\n",
       "      <td>211.94</td>\n",
       "      <td>858.33</td>\n",
       "      <td>192.31</td>\n",
       "      <td>8.67</td>\n",
       "      <td>118221</td>\n",
       "      <td>2012</td>\n",
       "      <td>10</td>\n",
       "      <td>0</td>\n",
       "      <td>1</td>\n",
       "      <td>0</td>\n",
       "    </tr>\n",
       "    <tr>\n",
       "      <td>421568</td>\n",
       "      <td>45</td>\n",
       "      <td>97</td>\n",
       "      <td>2012-10-26</td>\n",
       "      <td>6,817.48</td>\n",
       "      <td>0</td>\n",
       "      <td>58.85</td>\n",
       "      <td>3.88</td>\n",
       "      <td>4,018.91</td>\n",
       "      <td>58.08</td>\n",
       "      <td>100.00</td>\n",
       "      <td>211.94</td>\n",
       "      <td>858.33</td>\n",
       "      <td>192.31</td>\n",
       "      <td>8.67</td>\n",
       "      <td>118221</td>\n",
       "      <td>2012</td>\n",
       "      <td>10</td>\n",
       "      <td>0</td>\n",
       "      <td>1</td>\n",
       "      <td>0</td>\n",
       "    </tr>\n",
       "    <tr>\n",
       "      <td>421569</td>\n",
       "      <td>45</td>\n",
       "      <td>98</td>\n",
       "      <td>2012-10-26</td>\n",
       "      <td>1,076.80</td>\n",
       "      <td>0</td>\n",
       "      <td>58.85</td>\n",
       "      <td>3.88</td>\n",
       "      <td>4,018.91</td>\n",
       "      <td>58.08</td>\n",
       "      <td>100.00</td>\n",
       "      <td>211.94</td>\n",
       "      <td>858.33</td>\n",
       "      <td>192.31</td>\n",
       "      <td>8.67</td>\n",
       "      <td>118221</td>\n",
       "      <td>2012</td>\n",
       "      <td>10</td>\n",
       "      <td>0</td>\n",
       "      <td>1</td>\n",
       "      <td>0</td>\n",
       "    </tr>\n",
       "  </tbody>\n",
       "</table>\n",
       "<p>421570 rows × 20 columns</p>\n",
       "</div>"
      ],
      "text/plain": [
       "        Store  Dept       Date  Weekly_Sales  IsHoliday  Temperature  \\\n",
       "0           1     1 2010-02-05     24,924.50          0        42.31   \n",
       "1           1     2 2010-02-05     50,605.27          0        42.31   \n",
       "2           1     3 2010-02-05     13,740.12          0        42.31   \n",
       "3           1     4 2010-02-05     39,954.04          0        42.31   \n",
       "4           1     5 2010-02-05     32,229.38          0        42.31   \n",
       "...       ...   ...        ...           ...        ...          ...   \n",
       "421565     45    93 2012-10-26      2,487.80          0        58.85   \n",
       "421566     45    94 2012-10-26      5,203.31          0        58.85   \n",
       "421567     45    95 2012-10-26     56,017.47          0        58.85   \n",
       "421568     45    97 2012-10-26      6,817.48          0        58.85   \n",
       "421569     45    98 2012-10-26      1,076.80          0        58.85   \n",
       "\n",
       "        Fuel_Price  MarkDown1  MarkDown2  MarkDown3  MarkDown4  MarkDown5  \\\n",
       "0             2.57       0.00       0.00       0.00       0.00       0.00   \n",
       "1             2.57       0.00       0.00       0.00       0.00       0.00   \n",
       "2             2.57       0.00       0.00       0.00       0.00       0.00   \n",
       "3             2.57       0.00       0.00       0.00       0.00       0.00   \n",
       "4             2.57       0.00       0.00       0.00       0.00       0.00   \n",
       "...            ...        ...        ...        ...        ...        ...   \n",
       "421565        3.88   4,018.91      58.08     100.00     211.94     858.33   \n",
       "421566        3.88   4,018.91      58.08     100.00     211.94     858.33   \n",
       "421567        3.88   4,018.91      58.08     100.00     211.94     858.33   \n",
       "421568        3.88   4,018.91      58.08     100.00     211.94     858.33   \n",
       "421569        3.88   4,018.91      58.08     100.00     211.94     858.33   \n",
       "\n",
       "          CPI  Unemployment    Size  Year  Month  A  B  C  \n",
       "0      211.10          8.11  151315  2010      2  1  0  0  \n",
       "1      211.10          8.11  151315  2010      2  1  0  0  \n",
       "2      211.10          8.11  151315  2010      2  1  0  0  \n",
       "3      211.10          8.11  151315  2010      2  1  0  0  \n",
       "4      211.10          8.11  151315  2010      2  1  0  0  \n",
       "...       ...           ...     ...   ...    ... .. .. ..  \n",
       "421565 192.31          8.67  118221  2012     10  0  1  0  \n",
       "421566 192.31          8.67  118221  2012     10  0  1  0  \n",
       "421567 192.31          8.67  118221  2012     10  0  1  0  \n",
       "421568 192.31          8.67  118221  2012     10  0  1  0  \n",
       "421569 192.31          8.67  118221  2012     10  0  1  0  \n",
       "\n",
       "[421570 rows x 20 columns]"
      ]
     },
     "execution_count": 35,
     "metadata": {},
     "output_type": "execute_result"
    }
   ],
   "source": [
    "dataset"
   ]
  },
  {
   "cell_type": "code",
   "execution_count": 36,
   "metadata": {},
   "outputs": [],
   "source": [
    "# year, month, date, holiday\n",
    "holidays_info = {\n",
    "    'SuperBowl': ['2010-02-12', '2011-02-11', '2012-02-10', '2013-02-08'],\n",
    "    'LaborDay': ['2010-09-10', '2011-09-09', '2012-09-07', '2013-09-06'],\n",
    "    'Thanksgiving': ['2010-11-26', '2011-11-25', '2012-11-23', '2013-11-29'],\n",
    "    'Christmas' : ['2010-12-31', '2011-12-30', '2012-12-28', '2013-12-27']\n",
    "}"
   ]
  },
  {
   "cell_type": "code",
   "execution_count": 37,
   "metadata": {},
   "outputs": [],
   "source": [
    "holidays_info_df = pd.DataFrame([(j, h[0]) for h in holidays_info.items() for j in h[1]], columns=['Date', 'Holiday']).sort_values(by='Date', ascending=True).reset_index(drop=True)"
   ]
  },
  {
   "cell_type": "code",
   "execution_count": 38,
   "metadata": {},
   "outputs": [],
   "source": [
    "holidays_info_df['Date'] = pd.to_datetime(holidays_info_df['Date'])\n",
    "holidays_info_df['Year']=holidays_info_df['Date'].dt.year\n",
    "holidays_info_df['Month']=holidays_info_df['Date'].dt.month"
   ]
  },
  {
   "cell_type": "code",
   "execution_count": 39,
   "metadata": {},
   "outputs": [
    {
     "data": {
      "text/html": [
       "<div>\n",
       "<style scoped>\n",
       "    .dataframe tbody tr th:only-of-type {\n",
       "        vertical-align: middle;\n",
       "    }\n",
       "\n",
       "    .dataframe tbody tr th {\n",
       "        vertical-align: top;\n",
       "    }\n",
       "\n",
       "    .dataframe thead th {\n",
       "        text-align: right;\n",
       "    }\n",
       "</style>\n",
       "<table border=\"1\" class=\"dataframe\">\n",
       "  <thead>\n",
       "    <tr style=\"text-align: right;\">\n",
       "      <th></th>\n",
       "      <th>Date</th>\n",
       "      <th>Holiday</th>\n",
       "      <th>Year</th>\n",
       "      <th>Month</th>\n",
       "    </tr>\n",
       "  </thead>\n",
       "  <tbody>\n",
       "    <tr>\n",
       "      <td>0</td>\n",
       "      <td>2010-02-12</td>\n",
       "      <td>SuperBowl</td>\n",
       "      <td>2010</td>\n",
       "      <td>2</td>\n",
       "    </tr>\n",
       "    <tr>\n",
       "      <td>1</td>\n",
       "      <td>2010-09-10</td>\n",
       "      <td>LaborDay</td>\n",
       "      <td>2010</td>\n",
       "      <td>9</td>\n",
       "    </tr>\n",
       "    <tr>\n",
       "      <td>2</td>\n",
       "      <td>2010-11-26</td>\n",
       "      <td>Thanksgiving</td>\n",
       "      <td>2010</td>\n",
       "      <td>11</td>\n",
       "    </tr>\n",
       "    <tr>\n",
       "      <td>3</td>\n",
       "      <td>2010-12-31</td>\n",
       "      <td>Christmas</td>\n",
       "      <td>2010</td>\n",
       "      <td>12</td>\n",
       "    </tr>\n",
       "    <tr>\n",
       "      <td>4</td>\n",
       "      <td>2011-02-11</td>\n",
       "      <td>SuperBowl</td>\n",
       "      <td>2011</td>\n",
       "      <td>2</td>\n",
       "    </tr>\n",
       "    <tr>\n",
       "      <td>5</td>\n",
       "      <td>2011-09-09</td>\n",
       "      <td>LaborDay</td>\n",
       "      <td>2011</td>\n",
       "      <td>9</td>\n",
       "    </tr>\n",
       "    <tr>\n",
       "      <td>6</td>\n",
       "      <td>2011-11-25</td>\n",
       "      <td>Thanksgiving</td>\n",
       "      <td>2011</td>\n",
       "      <td>11</td>\n",
       "    </tr>\n",
       "    <tr>\n",
       "      <td>7</td>\n",
       "      <td>2011-12-30</td>\n",
       "      <td>Christmas</td>\n",
       "      <td>2011</td>\n",
       "      <td>12</td>\n",
       "    </tr>\n",
       "    <tr>\n",
       "      <td>8</td>\n",
       "      <td>2012-02-10</td>\n",
       "      <td>SuperBowl</td>\n",
       "      <td>2012</td>\n",
       "      <td>2</td>\n",
       "    </tr>\n",
       "    <tr>\n",
       "      <td>9</td>\n",
       "      <td>2012-09-07</td>\n",
       "      <td>LaborDay</td>\n",
       "      <td>2012</td>\n",
       "      <td>9</td>\n",
       "    </tr>\n",
       "    <tr>\n",
       "      <td>10</td>\n",
       "      <td>2012-11-23</td>\n",
       "      <td>Thanksgiving</td>\n",
       "      <td>2012</td>\n",
       "      <td>11</td>\n",
       "    </tr>\n",
       "    <tr>\n",
       "      <td>11</td>\n",
       "      <td>2012-12-28</td>\n",
       "      <td>Christmas</td>\n",
       "      <td>2012</td>\n",
       "      <td>12</td>\n",
       "    </tr>\n",
       "    <tr>\n",
       "      <td>12</td>\n",
       "      <td>2013-02-08</td>\n",
       "      <td>SuperBowl</td>\n",
       "      <td>2013</td>\n",
       "      <td>2</td>\n",
       "    </tr>\n",
       "    <tr>\n",
       "      <td>13</td>\n",
       "      <td>2013-09-06</td>\n",
       "      <td>LaborDay</td>\n",
       "      <td>2013</td>\n",
       "      <td>9</td>\n",
       "    </tr>\n",
       "    <tr>\n",
       "      <td>14</td>\n",
       "      <td>2013-11-29</td>\n",
       "      <td>Thanksgiving</td>\n",
       "      <td>2013</td>\n",
       "      <td>11</td>\n",
       "    </tr>\n",
       "    <tr>\n",
       "      <td>15</td>\n",
       "      <td>2013-12-27</td>\n",
       "      <td>Christmas</td>\n",
       "      <td>2013</td>\n",
       "      <td>12</td>\n",
       "    </tr>\n",
       "  </tbody>\n",
       "</table>\n",
       "</div>"
      ],
      "text/plain": [
       "         Date       Holiday  Year  Month\n",
       "0  2010-02-12     SuperBowl  2010      2\n",
       "1  2010-09-10      LaborDay  2010      9\n",
       "2  2010-11-26  Thanksgiving  2010     11\n",
       "3  2010-12-31     Christmas  2010     12\n",
       "4  2011-02-11     SuperBowl  2011      2\n",
       "5  2011-09-09      LaborDay  2011      9\n",
       "6  2011-11-25  Thanksgiving  2011     11\n",
       "7  2011-12-30     Christmas  2011     12\n",
       "8  2012-02-10     SuperBowl  2012      2\n",
       "9  2012-09-07      LaborDay  2012      9\n",
       "10 2012-11-23  Thanksgiving  2012     11\n",
       "11 2012-12-28     Christmas  2012     12\n",
       "12 2013-02-08     SuperBowl  2013      2\n",
       "13 2013-09-06      LaborDay  2013      9\n",
       "14 2013-11-29  Thanksgiving  2013     11\n",
       "15 2013-12-27     Christmas  2013     12"
      ]
     },
     "execution_count": 39,
     "metadata": {},
     "output_type": "execute_result"
    }
   ],
   "source": [
    "holidays_info_df"
   ]
  },
  {
   "cell_type": "code",
   "execution_count": 40,
   "metadata": {},
   "outputs": [],
   "source": [
    "def get_holiday_countdown(holiday):\n",
    "    year = min(holidays_info_df.Year)\n",
    "    serie = (list(holidays_info_df[(holidays_info_df.Holiday == holiday) & (holidays_info_df.Year == year)].Date)[0] - dataset.Date).dt.days\n",
    "    while serie[serie < 0].any():\n",
    "        serie[serie < 0] = (list(holidays_info_df[(holidays_info_df.Holiday == holiday) & (holidays_info_df.Year == year)].Date)[0] - dataset.Date).dt.days\n",
    "        year = year + 1\n",
    "    print(serie[serie < 0])\n",
    "    return serie\n"
   ]
  },
  {
   "cell_type": "code",
   "execution_count": 41,
   "metadata": {},
   "outputs": [
    {
     "name": "stdout",
     "output_type": "stream",
     "text": [
      "Series([], Name: Date, dtype: int64)\n",
      "Series([], Name: Date, dtype: int64)\n",
      "Series([], Name: Date, dtype: int64)\n",
      "Series([], Name: Date, dtype: int64)\n"
     ]
    }
   ],
   "source": [
    "dataset['ChristmasCountDown'] = get_holiday_countdown('Christmas')\n",
    "dataset['ThanksgivingCountDown'] = get_holiday_countdown('Thanksgiving')\n",
    "dataset['LaborDayCountDown'] = get_holiday_countdown('LaborDay')\n",
    "dataset['SuperBowlCountDown'] = get_holiday_countdown('SuperBowl')"
   ]
  },
  {
   "cell_type": "code",
   "execution_count": 42,
   "metadata": {},
   "outputs": [
    {
     "data": {
      "text/html": [
       "<style  type=\"text/css\" >\n",
       "    #T_adc3721c_45d3_11ea_b018_acde48001122row0_col0 {\n",
       "            background-color:  #b40426;\n",
       "            color:  #f1f1f1;\n",
       "        }    #T_adc3721c_45d3_11ea_b018_acde48001122row0_col1 {\n",
       "            background-color:  #dfdbd9;\n",
       "            color:  #000000;\n",
       "        }    #T_adc3721c_45d3_11ea_b018_acde48001122row0_col2 {\n",
       "            background-color:  #d1dae9;\n",
       "            color:  #000000;\n",
       "        }    #T_adc3721c_45d3_11ea_b018_acde48001122row0_col3 {\n",
       "            background-color:  #dcdddd;\n",
       "            color:  #000000;\n",
       "        }    #T_adc3721c_45d3_11ea_b018_acde48001122row0_col4 {\n",
       "            background-color:  #d6dce4;\n",
       "            color:  #000000;\n",
       "        }    #T_adc3721c_45d3_11ea_b018_acde48001122row0_col5 {\n",
       "            background-color:  #e5d8d1;\n",
       "            color:  #000000;\n",
       "        }    #T_adc3721c_45d3_11ea_b018_acde48001122row0_col6 {\n",
       "            background-color:  #d5dbe5;\n",
       "            color:  #000000;\n",
       "        }    #T_adc3721c_45d3_11ea_b018_acde48001122row0_col7 {\n",
       "            background-color:  #d8dce2;\n",
       "            color:  #000000;\n",
       "        }    #T_adc3721c_45d3_11ea_b018_acde48001122row0_col8 {\n",
       "            background-color:  #dadce0;\n",
       "            color:  #000000;\n",
       "        }    #T_adc3721c_45d3_11ea_b018_acde48001122row0_col9 {\n",
       "            background-color:  #d7dce3;\n",
       "            color:  #000000;\n",
       "        }    #T_adc3721c_45d3_11ea_b018_acde48001122row0_col10 {\n",
       "            background-color:  #dbdcde;\n",
       "            color:  #000000;\n",
       "        }    #T_adc3721c_45d3_11ea_b018_acde48001122row0_col11 {\n",
       "            background-color:  #bed2f6;\n",
       "            color:  #000000;\n",
       "        }    #T_adc3721c_45d3_11ea_b018_acde48001122row0_col12 {\n",
       "            background-color:  #f2cab5;\n",
       "            color:  #000000;\n",
       "        }    #T_adc3721c_45d3_11ea_b018_acde48001122row0_col13 {\n",
       "            background-color:  #c3d5f4;\n",
       "            color:  #000000;\n",
       "        }    #T_adc3721c_45d3_11ea_b018_acde48001122row0_col14 {\n",
       "            background-color:  #dddcdc;\n",
       "            color:  #000000;\n",
       "        }    #T_adc3721c_45d3_11ea_b018_acde48001122row0_col15 {\n",
       "            background-color:  #dcdddd;\n",
       "            color:  #000000;\n",
       "        }    #T_adc3721c_45d3_11ea_b018_acde48001122row0_col16 {\n",
       "            background-color:  #d7dce3;\n",
       "            color:  #000000;\n",
       "        }    #T_adc3721c_45d3_11ea_b018_acde48001122row0_col17 {\n",
       "            background-color:  #bad0f8;\n",
       "            color:  #000000;\n",
       "        }    #T_adc3721c_45d3_11ea_b018_acde48001122row0_col18 {\n",
       "            background-color:  #f6a586;\n",
       "            color:  #000000;\n",
       "        }    #T_adc3721c_45d3_11ea_b018_acde48001122row0_col19 {\n",
       "            background-color:  #dcdddd;\n",
       "            color:  #000000;\n",
       "        }    #T_adc3721c_45d3_11ea_b018_acde48001122row0_col20 {\n",
       "            background-color:  #dcdddd;\n",
       "            color:  #000000;\n",
       "        }    #T_adc3721c_45d3_11ea_b018_acde48001122row0_col21 {\n",
       "            background-color:  #dcdddd;\n",
       "            color:  #000000;\n",
       "        }    #T_adc3721c_45d3_11ea_b018_acde48001122row0_col22 {\n",
       "            background-color:  #dcdddd;\n",
       "            color:  #000000;\n",
       "        }    #T_adc3721c_45d3_11ea_b018_acde48001122row1_col0 {\n",
       "            background-color:  #dfdbd9;\n",
       "            color:  #000000;\n",
       "        }    #T_adc3721c_45d3_11ea_b018_acde48001122row1_col1 {\n",
       "            background-color:  #b40426;\n",
       "            color:  #f1f1f1;\n",
       "        }    #T_adc3721c_45d3_11ea_b018_acde48001122row1_col2 {\n",
       "            background-color:  #edd1c2;\n",
       "            color:  #000000;\n",
       "        }    #T_adc3721c_45d3_11ea_b018_acde48001122row1_col3 {\n",
       "            background-color:  #dcdddd;\n",
       "            color:  #000000;\n",
       "        }    #T_adc3721c_45d3_11ea_b018_acde48001122row1_col4 {\n",
       "            background-color:  #dddcdc;\n",
       "            color:  #000000;\n",
       "        }    #T_adc3721c_45d3_11ea_b018_acde48001122row1_col5 {\n",
       "            background-color:  #dddcdc;\n",
       "            color:  #000000;\n",
       "        }    #T_adc3721c_45d3_11ea_b018_acde48001122row1_col6 {\n",
       "            background-color:  #dcdddd;\n",
       "            color:  #000000;\n",
       "        }    #T_adc3721c_45d3_11ea_b018_acde48001122row1_col7 {\n",
       "            background-color:  #dcdddd;\n",
       "            color:  #000000;\n",
       "        }    #T_adc3721c_45d3_11ea_b018_acde48001122row1_col8 {\n",
       "            background-color:  #dcdddd;\n",
       "            color:  #000000;\n",
       "        }    #T_adc3721c_45d3_11ea_b018_acde48001122row1_col9 {\n",
       "            background-color:  #dcdddd;\n",
       "            color:  #000000;\n",
       "        }    #T_adc3721c_45d3_11ea_b018_acde48001122row1_col10 {\n",
       "            background-color:  #dddcdc;\n",
       "            color:  #000000;\n",
       "        }    #T_adc3721c_45d3_11ea_b018_acde48001122row1_col11 {\n",
       "            background-color:  #dbdcde;\n",
       "            color:  #000000;\n",
       "        }    #T_adc3721c_45d3_11ea_b018_acde48001122row1_col12 {\n",
       "            background-color:  #dddcdc;\n",
       "            color:  #000000;\n",
       "        }    #T_adc3721c_45d3_11ea_b018_acde48001122row1_col13 {\n",
       "            background-color:  #dcdddd;\n",
       "            color:  #000000;\n",
       "        }    #T_adc3721c_45d3_11ea_b018_acde48001122row1_col14 {\n",
       "            background-color:  #dddcdc;\n",
       "            color:  #000000;\n",
       "        }    #T_adc3721c_45d3_11ea_b018_acde48001122row1_col15 {\n",
       "            background-color:  #dcdddd;\n",
       "            color:  #000000;\n",
       "        }    #T_adc3721c_45d3_11ea_b018_acde48001122row1_col16 {\n",
       "            background-color:  #dedcdb;\n",
       "            color:  #000000;\n",
       "        }    #T_adc3721c_45d3_11ea_b018_acde48001122row1_col17 {\n",
       "            background-color:  #d8dce2;\n",
       "            color:  #000000;\n",
       "        }    #T_adc3721c_45d3_11ea_b018_acde48001122row1_col18 {\n",
       "            background-color:  #e0dbd8;\n",
       "            color:  #000000;\n",
       "        }    #T_adc3721c_45d3_11ea_b018_acde48001122row1_col19 {\n",
       "            background-color:  #dcdddd;\n",
       "            color:  #000000;\n",
       "        }    #T_adc3721c_45d3_11ea_b018_acde48001122row1_col20 {\n",
       "            background-color:  #dcdddd;\n",
       "            color:  #000000;\n",
       "        }    #T_adc3721c_45d3_11ea_b018_acde48001122row1_col21 {\n",
       "            background-color:  #dcdddd;\n",
       "            color:  #000000;\n",
       "        }    #T_adc3721c_45d3_11ea_b018_acde48001122row1_col22 {\n",
       "            background-color:  #dcdddd;\n",
       "            color:  #000000;\n",
       "        }    #T_adc3721c_45d3_11ea_b018_acde48001122row2_col0 {\n",
       "            background-color:  #d1dae9;\n",
       "            color:  #000000;\n",
       "        }    #T_adc3721c_45d3_11ea_b018_acde48001122row2_col1 {\n",
       "            background-color:  #edd1c2;\n",
       "            color:  #000000;\n",
       "        }    #T_adc3721c_45d3_11ea_b018_acde48001122row2_col2 {\n",
       "            background-color:  #b40426;\n",
       "            color:  #f1f1f1;\n",
       "        }    #T_adc3721c_45d3_11ea_b018_acde48001122row2_col3 {\n",
       "            background-color:  #dedcdb;\n",
       "            color:  #000000;\n",
       "        }    #T_adc3721c_45d3_11ea_b018_acde48001122row2_col4 {\n",
       "            background-color:  #dcdddd;\n",
       "            color:  #000000;\n",
       "        }    #T_adc3721c_45d3_11ea_b018_acde48001122row2_col5 {\n",
       "            background-color:  #dcdddd;\n",
       "            color:  #000000;\n",
       "        }    #T_adc3721c_45d3_11ea_b018_acde48001122row2_col6 {\n",
       "            background-color:  #e2dad5;\n",
       "            color:  #000000;\n",
       "        }    #T_adc3721c_45d3_11ea_b018_acde48001122row2_col7 {\n",
       "            background-color:  #dfdbd9;\n",
       "            color:  #000000;\n",
       "        }    #T_adc3721c_45d3_11ea_b018_acde48001122row2_col8 {\n",
       "            background-color:  #e1dad6;\n",
       "            color:  #000000;\n",
       "        }    #T_adc3721c_45d3_11ea_b018_acde48001122row2_col9 {\n",
       "            background-color:  #e1dad6;\n",
       "            color:  #000000;\n",
       "        }    #T_adc3721c_45d3_11ea_b018_acde48001122row2_col10 {\n",
       "            background-color:  #e3d9d3;\n",
       "            color:  #000000;\n",
       "        }    #T_adc3721c_45d3_11ea_b018_acde48001122row2_col11 {\n",
       "            background-color:  #dadce0;\n",
       "            color:  #000000;\n",
       "        }    #T_adc3721c_45d3_11ea_b018_acde48001122row2_col12 {\n",
       "            background-color:  #d9dce1;\n",
       "            color:  #000000;\n",
       "        }    #T_adc3721c_45d3_11ea_b018_acde48001122row2_col13 {\n",
       "            background-color:  #f4c5ad;\n",
       "            color:  #000000;\n",
       "        }    #T_adc3721c_45d3_11ea_b018_acde48001122row2_col14 {\n",
       "            background-color:  #dbdcde;\n",
       "            color:  #000000;\n",
       "        }    #T_adc3721c_45d3_11ea_b018_acde48001122row2_col15 {\n",
       "            background-color:  #e0dbd8;\n",
       "            color:  #000000;\n",
       "        }    #T_adc3721c_45d3_11ea_b018_acde48001122row2_col16 {\n",
       "            background-color:  #f1cdba;\n",
       "            color:  #000000;\n",
       "        }    #T_adc3721c_45d3_11ea_b018_acde48001122row2_col17 {\n",
       "            background-color:  #cad8ef;\n",
       "            color:  #000000;\n",
       "        }    #T_adc3721c_45d3_11ea_b018_acde48001122row2_col18 {\n",
       "            background-color:  #cfdaea;\n",
       "            color:  #000000;\n",
       "        }    #T_adc3721c_45d3_11ea_b018_acde48001122row2_col19 {\n",
       "            background-color:  #d9dce1;\n",
       "            color:  #000000;\n",
       "        }    #T_adc3721c_45d3_11ea_b018_acde48001122row2_col20 {\n",
       "            background-color:  #dedcdb;\n",
       "            color:  #000000;\n",
       "        }    #T_adc3721c_45d3_11ea_b018_acde48001122row2_col21 {\n",
       "            background-color:  #dcdddd;\n",
       "            color:  #000000;\n",
       "        }    #T_adc3721c_45d3_11ea_b018_acde48001122row2_col22 {\n",
       "            background-color:  #dbdcde;\n",
       "            color:  #000000;\n",
       "        }    #T_adc3721c_45d3_11ea_b018_acde48001122row3_col0 {\n",
       "            background-color:  #dcdddd;\n",
       "            color:  #000000;\n",
       "        }    #T_adc3721c_45d3_11ea_b018_acde48001122row3_col1 {\n",
       "            background-color:  #dcdddd;\n",
       "            color:  #000000;\n",
       "        }    #T_adc3721c_45d3_11ea_b018_acde48001122row3_col2 {\n",
       "            background-color:  #dedcdb;\n",
       "            color:  #000000;\n",
       "        }    #T_adc3721c_45d3_11ea_b018_acde48001122row3_col3 {\n",
       "            background-color:  #b40426;\n",
       "            color:  #f1f1f1;\n",
       "        }    #T_adc3721c_45d3_11ea_b018_acde48001122row3_col4 {\n",
       "            background-color:  #c6d6f1;\n",
       "            color:  #000000;\n",
       "        }    #T_adc3721c_45d3_11ea_b018_acde48001122row3_col5 {\n",
       "            background-color:  #d2dbe8;\n",
       "            color:  #000000;\n",
       "        }    #T_adc3721c_45d3_11ea_b018_acde48001122row3_col6 {\n",
       "            background-color:  #dcdddd;\n",
       "            color:  #000000;\n",
       "        }    #T_adc3721c_45d3_11ea_b018_acde48001122row3_col7 {\n",
       "            background-color:  #f2cab5;\n",
       "            color:  #000000;\n",
       "        }    #T_adc3721c_45d3_11ea_b018_acde48001122row3_col8 {\n",
       "            background-color:  #f5c2aa;\n",
       "            color:  #000000;\n",
       "        }    #T_adc3721c_45d3_11ea_b018_acde48001122row3_col9 {\n",
       "            background-color:  #dedcdb;\n",
       "            color:  #000000;\n",
       "        }    #T_adc3721c_45d3_11ea_b018_acde48001122row3_col10 {\n",
       "            background-color:  #dadce0;\n",
       "            color:  #000000;\n",
       "        }    #T_adc3721c_45d3_11ea_b018_acde48001122row3_col11 {\n",
       "            background-color:  #dcdddd;\n",
       "            color:  #000000;\n",
       "        }    #T_adc3721c_45d3_11ea_b018_acde48001122row3_col12 {\n",
       "            background-color:  #dedcdb;\n",
       "            color:  #000000;\n",
       "        }    #T_adc3721c_45d3_11ea_b018_acde48001122row3_col13 {\n",
       "            background-color:  #dcdddd;\n",
       "            color:  #000000;\n",
       "        }    #T_adc3721c_45d3_11ea_b018_acde48001122row3_col14 {\n",
       "            background-color:  #d5dbe5;\n",
       "            color:  #000000;\n",
       "        }    #T_adc3721c_45d3_11ea_b018_acde48001122row3_col15 {\n",
       "            background-color:  #ebd3c6;\n",
       "            color:  #000000;\n",
       "        }    #T_adc3721c_45d3_11ea_b018_acde48001122row3_col16 {\n",
       "            background-color:  #dcdddd;\n",
       "            color:  #000000;\n",
       "        }    #T_adc3721c_45d3_11ea_b018_acde48001122row3_col17 {\n",
       "            background-color:  #dcdddd;\n",
       "            color:  #000000;\n",
       "        }    #T_adc3721c_45d3_11ea_b018_acde48001122row3_col18 {\n",
       "            background-color:  #dcdddd;\n",
       "            color:  #000000;\n",
       "        }    #T_adc3721c_45d3_11ea_b018_acde48001122row3_col19 {\n",
       "            background-color:  #cbd8ee;\n",
       "            color:  #000000;\n",
       "        }    #T_adc3721c_45d3_11ea_b018_acde48001122row3_col20 {\n",
       "            background-color:  #dddcdc;\n",
       "            color:  #000000;\n",
       "        }    #T_adc3721c_45d3_11ea_b018_acde48001122row3_col21 {\n",
       "            background-color:  #dcdddd;\n",
       "            color:  #000000;\n",
       "        }    #T_adc3721c_45d3_11ea_b018_acde48001122row3_col22 {\n",
       "            background-color:  #abc8fd;\n",
       "            color:  #000000;\n",
       "        }    #T_adc3721c_45d3_11ea_b018_acde48001122row4_col0 {\n",
       "            background-color:  #d6dce4;\n",
       "            color:  #000000;\n",
       "        }    #T_adc3721c_45d3_11ea_b018_acde48001122row4_col1 {\n",
       "            background-color:  #dddcdc;\n",
       "            color:  #000000;\n",
       "        }    #T_adc3721c_45d3_11ea_b018_acde48001122row4_col2 {\n",
       "            background-color:  #dcdddd;\n",
       "            color:  #000000;\n",
       "        }    #T_adc3721c_45d3_11ea_b018_acde48001122row4_col3 {\n",
       "            background-color:  #c6d6f1;\n",
       "            color:  #000000;\n",
       "        }    #T_adc3721c_45d3_11ea_b018_acde48001122row4_col4 {\n",
       "            background-color:  #b40426;\n",
       "            color:  #f1f1f1;\n",
       "        }    #T_adc3721c_45d3_11ea_b018_acde48001122row4_col5 {\n",
       "            background-color:  #edd1c2;\n",
       "            color:  #000000;\n",
       "        }    #T_adc3721c_45d3_11ea_b018_acde48001122row4_col6 {\n",
       "            background-color:  #d9dce1;\n",
       "            color:  #000000;\n",
       "        }    #T_adc3721c_45d3_11ea_b018_acde48001122row4_col7 {\n",
       "            background-color:  #c3d5f4;\n",
       "            color:  #000000;\n",
       "        }    #T_adc3721c_45d3_11ea_b018_acde48001122row4_col8 {\n",
       "            background-color:  #d5dbe5;\n",
       "            color:  #000000;\n",
       "        }    #T_adc3721c_45d3_11ea_b018_acde48001122row4_col9 {\n",
       "            background-color:  #d6dce4;\n",
       "            color:  #000000;\n",
       "        }    #T_adc3721c_45d3_11ea_b018_acde48001122row4_col10 {\n",
       "            background-color:  #dadce0;\n",
       "            color:  #000000;\n",
       "        }    #T_adc3721c_45d3_11ea_b018_acde48001122row4_col11 {\n",
       "            background-color:  #f1cdba;\n",
       "            color:  #000000;\n",
       "        }    #T_adc3721c_45d3_11ea_b018_acde48001122row4_col12 {\n",
       "            background-color:  #e9d5cb;\n",
       "            color:  #000000;\n",
       "        }    #T_adc3721c_45d3_11ea_b018_acde48001122row4_col13 {\n",
       "            background-color:  #d5dbe5;\n",
       "            color:  #000000;\n",
       "        }    #T_adc3721c_45d3_11ea_b018_acde48001122row4_col14 {\n",
       "            background-color:  #e5d8d1;\n",
       "            color:  #000000;\n",
       "        }    #T_adc3721c_45d3_11ea_b018_acde48001122row4_col15 {\n",
       "            background-color:  #f4c6af;\n",
       "            color:  #000000;\n",
       "        }    #T_adc3721c_45d3_11ea_b018_acde48001122row4_col16 {\n",
       "            background-color:  #dfdbd9;\n",
       "            color:  #000000;\n",
       "        }    #T_adc3721c_45d3_11ea_b018_acde48001122row4_col17 {\n",
       "            background-color:  #cdd9ec;\n",
       "            color:  #000000;\n",
       "        }    #T_adc3721c_45d3_11ea_b018_acde48001122row4_col18 {\n",
       "            background-color:  #edd2c3;\n",
       "            color:  #000000;\n",
       "        }    #T_adc3721c_45d3_11ea_b018_acde48001122row4_col19 {\n",
       "            background-color:  #bad0f8;\n",
       "            color:  #000000;\n",
       "        }    #T_adc3721c_45d3_11ea_b018_acde48001122row4_col20 {\n",
       "            background-color:  #88abfd;\n",
       "            color:  #000000;\n",
       "        }    #T_adc3721c_45d3_11ea_b018_acde48001122row4_col21 {\n",
       "            background-color:  #8fb1fe;\n",
       "            color:  #000000;\n",
       "        }    #T_adc3721c_45d3_11ea_b018_acde48001122row4_col22 {\n",
       "            background-color:  #f3c8b2;\n",
       "            color:  #000000;\n",
       "        }    #T_adc3721c_45d3_11ea_b018_acde48001122row5_col0 {\n",
       "            background-color:  #e5d8d1;\n",
       "            color:  #000000;\n",
       "        }    #T_adc3721c_45d3_11ea_b018_acde48001122row5_col1 {\n",
       "            background-color:  #dddcdc;\n",
       "            color:  #000000;\n",
       "        }    #T_adc3721c_45d3_11ea_b018_acde48001122row5_col2 {\n",
       "            background-color:  #dcdddd;\n",
       "            color:  #000000;\n",
       "        }    #T_adc3721c_45d3_11ea_b018_acde48001122row5_col3 {\n",
       "            background-color:  #d2dbe8;\n",
       "            color:  #000000;\n",
       "        }    #T_adc3721c_45d3_11ea_b018_acde48001122row5_col4 {\n",
       "            background-color:  #edd1c2;\n",
       "            color:  #000000;\n",
       "        }    #T_adc3721c_45d3_11ea_b018_acde48001122row5_col5 {\n",
       "            background-color:  #b40426;\n",
       "            color:  #f1f1f1;\n",
       "        }    #T_adc3721c_45d3_11ea_b018_acde48001122row5_col6 {\n",
       "            background-color:  #f6bea4;\n",
       "            color:  #000000;\n",
       "        }    #T_adc3721c_45d3_11ea_b018_acde48001122row5_col7 {\n",
       "            background-color:  #e0dbd8;\n",
       "            color:  #000000;\n",
       "        }    #T_adc3721c_45d3_11ea_b018_acde48001122row5_col8 {\n",
       "            background-color:  #dfdbd9;\n",
       "            color:  #000000;\n",
       "        }    #T_adc3721c_45d3_11ea_b018_acde48001122row5_col9 {\n",
       "            background-color:  #efcebd;\n",
       "            color:  #000000;\n",
       "        }    #T_adc3721c_45d3_11ea_b018_acde48001122row5_col10 {\n",
       "            background-color:  #f2c9b4;\n",
       "            color:  #000000;\n",
       "        }    #T_adc3721c_45d3_11ea_b018_acde48001122row5_col11 {\n",
       "            background-color:  #c5d6f2;\n",
       "            color:  #000000;\n",
       "        }    #T_adc3721c_45d3_11ea_b018_acde48001122row5_col12 {\n",
       "            background-color:  #d8dce2;\n",
       "            color:  #000000;\n",
       "        }    #T_adc3721c_45d3_11ea_b018_acde48001122row5_col13 {\n",
       "            background-color:  #dddcdc;\n",
       "            color:  #000000;\n",
       "        }    #T_adc3721c_45d3_11ea_b018_acde48001122row5_col14 {\n",
       "            background-color:  #d95847;\n",
       "            color:  #000000;\n",
       "        }    #T_adc3721c_45d3_11ea_b018_acde48001122row5_col15 {\n",
       "            background-color:  #d7dce3;\n",
       "            color:  #000000;\n",
       "        }    #T_adc3721c_45d3_11ea_b018_acde48001122row5_col16 {\n",
       "            background-color:  #d7dce3;\n",
       "            color:  #000000;\n",
       "        }    #T_adc3721c_45d3_11ea_b018_acde48001122row5_col17 {\n",
       "            background-color:  #e1dad6;\n",
       "            color:  #000000;\n",
       "        }    #T_adc3721c_45d3_11ea_b018_acde48001122row5_col18 {\n",
       "            background-color:  #dddcdc;\n",
       "            color:  #000000;\n",
       "        }    #T_adc3721c_45d3_11ea_b018_acde48001122row5_col19 {\n",
       "            background-color:  #e0dbd8;\n",
       "            color:  #000000;\n",
       "        }    #T_adc3721c_45d3_11ea_b018_acde48001122row5_col20 {\n",
       "            background-color:  #d2dbe8;\n",
       "            color:  #000000;\n",
       "        }    #T_adc3721c_45d3_11ea_b018_acde48001122row5_col21 {\n",
       "            background-color:  #cfdaea;\n",
       "            color:  #000000;\n",
       "        }    #T_adc3721c_45d3_11ea_b018_acde48001122row5_col22 {\n",
       "            background-color:  #efcfbf;\n",
       "            color:  #000000;\n",
       "        }    #T_adc3721c_45d3_11ea_b018_acde48001122row6_col0 {\n",
       "            background-color:  #d5dbe5;\n",
       "            color:  #000000;\n",
       "        }    #T_adc3721c_45d3_11ea_b018_acde48001122row6_col1 {\n",
       "            background-color:  #dcdddd;\n",
       "            color:  #000000;\n",
       "        }    #T_adc3721c_45d3_11ea_b018_acde48001122row6_col2 {\n",
       "            background-color:  #e2dad5;\n",
       "            color:  #000000;\n",
       "        }    #T_adc3721c_45d3_11ea_b018_acde48001122row6_col3 {\n",
       "            background-color:  #dcdddd;\n",
       "            color:  #000000;\n",
       "        }    #T_adc3721c_45d3_11ea_b018_acde48001122row6_col4 {\n",
       "            background-color:  #d9dce1;\n",
       "            color:  #000000;\n",
       "        }    #T_adc3721c_45d3_11ea_b018_acde48001122row6_col5 {\n",
       "            background-color:  #f6bea4;\n",
       "            color:  #000000;\n",
       "        }    #T_adc3721c_45d3_11ea_b018_acde48001122row6_col6 {\n",
       "            background-color:  #b40426;\n",
       "            color:  #f1f1f1;\n",
       "        }    #T_adc3721c_45d3_11ea_b018_acde48001122row6_col7 {\n",
       "            background-color:  #f0cdbb;\n",
       "            color:  #000000;\n",
       "        }    #T_adc3721c_45d3_11ea_b018_acde48001122row6_col8 {\n",
       "            background-color:  #dadce0;\n",
       "            color:  #000000;\n",
       "        }    #T_adc3721c_45d3_11ea_b018_acde48001122row6_col9 {\n",
       "            background-color:  #d0473d;\n",
       "            color:  #f1f1f1;\n",
       "        }    #T_adc3721c_45d3_11ea_b018_acde48001122row6_col10 {\n",
       "            background-color:  #f7aa8c;\n",
       "            color:  #000000;\n",
       "        }    #T_adc3721c_45d3_11ea_b018_acde48001122row6_col11 {\n",
       "            background-color:  #dedcdb;\n",
       "            color:  #000000;\n",
       "        }    #T_adc3721c_45d3_11ea_b018_acde48001122row6_col12 {\n",
       "            background-color:  #cedaeb;\n",
       "            color:  #000000;\n",
       "        }    #T_adc3721c_45d3_11ea_b018_acde48001122row6_col13 {\n",
       "            background-color:  #efcebd;\n",
       "            color:  #000000;\n",
       "        }    #T_adc3721c_45d3_11ea_b018_acde48001122row6_col14 {\n",
       "            background-color:  #f4987a;\n",
       "            color:  #000000;\n",
       "        }    #T_adc3721c_45d3_11ea_b018_acde48001122row6_col15 {\n",
       "            background-color:  #d1dae9;\n",
       "            color:  #000000;\n",
       "        }    #T_adc3721c_45d3_11ea_b018_acde48001122row6_col16 {\n",
       "            background-color:  #e7d7ce;\n",
       "            color:  #000000;\n",
       "        }    #T_adc3721c_45d3_11ea_b018_acde48001122row6_col17 {\n",
       "            background-color:  #dcdddd;\n",
       "            color:  #000000;\n",
       "        }    #T_adc3721c_45d3_11ea_b018_acde48001122row6_col18 {\n",
       "            background-color:  #cad8ef;\n",
       "            color:  #000000;\n",
       "        }    #T_adc3721c_45d3_11ea_b018_acde48001122row6_col19 {\n",
       "            background-color:  #e8d6cc;\n",
       "            color:  #000000;\n",
       "        }    #T_adc3721c_45d3_11ea_b018_acde48001122row6_col20 {\n",
       "            background-color:  #e4d9d2;\n",
       "            color:  #000000;\n",
       "        }    #T_adc3721c_45d3_11ea_b018_acde48001122row6_col21 {\n",
       "            background-color:  #d7dce3;\n",
       "            color:  #000000;\n",
       "        }    #T_adc3721c_45d3_11ea_b018_acde48001122row6_col22 {\n",
       "            background-color:  #dadce0;\n",
       "            color:  #000000;\n",
       "        }    #T_adc3721c_45d3_11ea_b018_acde48001122row7_col0 {\n",
       "            background-color:  #d8dce2;\n",
       "            color:  #000000;\n",
       "        }    #T_adc3721c_45d3_11ea_b018_acde48001122row7_col1 {\n",
       "            background-color:  #dcdddd;\n",
       "            color:  #000000;\n",
       "        }    #T_adc3721c_45d3_11ea_b018_acde48001122row7_col2 {\n",
       "            background-color:  #dfdbd9;\n",
       "            color:  #000000;\n",
       "        }    #T_adc3721c_45d3_11ea_b018_acde48001122row7_col3 {\n",
       "            background-color:  #f2cab5;\n",
       "            color:  #000000;\n",
       "        }    #T_adc3721c_45d3_11ea_b018_acde48001122row7_col4 {\n",
       "            background-color:  #c3d5f4;\n",
       "            color:  #000000;\n",
       "        }    #T_adc3721c_45d3_11ea_b018_acde48001122row7_col5 {\n",
       "            background-color:  #e0dbd8;\n",
       "            color:  #000000;\n",
       "        }    #T_adc3721c_45d3_11ea_b018_acde48001122row7_col6 {\n",
       "            background-color:  #f0cdbb;\n",
       "            color:  #000000;\n",
       "        }    #T_adc3721c_45d3_11ea_b018_acde48001122row7_col7 {\n",
       "            background-color:  #b40426;\n",
       "            color:  #f1f1f1;\n",
       "        }    #T_adc3721c_45d3_11ea_b018_acde48001122row7_col8 {\n",
       "            background-color:  #dbdcde;\n",
       "            color:  #000000;\n",
       "        }    #T_adc3721c_45d3_11ea_b018_acde48001122row7_col9 {\n",
       "            background-color:  #ead4c8;\n",
       "            color:  #000000;\n",
       "        }    #T_adc3721c_45d3_11ea_b018_acde48001122row7_col10 {\n",
       "            background-color:  #ecd3c5;\n",
       "            color:  #000000;\n",
       "        }    #T_adc3721c_45d3_11ea_b018_acde48001122row7_col11 {\n",
       "            background-color:  #dcdddd;\n",
       "            color:  #000000;\n",
       "        }    #T_adc3721c_45d3_11ea_b018_acde48001122row7_col12 {\n",
       "            background-color:  #d7dce3;\n",
       "            color:  #000000;\n",
       "        }    #T_adc3721c_45d3_11ea_b018_acde48001122row7_col13 {\n",
       "            background-color:  #e6d7cf;\n",
       "            color:  #000000;\n",
       "        }    #T_adc3721c_45d3_11ea_b018_acde48001122row7_col14 {\n",
       "            background-color:  #ecd3c5;\n",
       "            color:  #000000;\n",
       "        }    #T_adc3721c_45d3_11ea_b018_acde48001122row7_col15 {\n",
       "            background-color:  #dadce0;\n",
       "            color:  #000000;\n",
       "        }    #T_adc3721c_45d3_11ea_b018_acde48001122row7_col16 {\n",
       "            background-color:  #e1dad6;\n",
       "            color:  #000000;\n",
       "        }    #T_adc3721c_45d3_11ea_b018_acde48001122row7_col17 {\n",
       "            background-color:  #dbdcde;\n",
       "            color:  #000000;\n",
       "        }    #T_adc3721c_45d3_11ea_b018_acde48001122row7_col18 {\n",
       "            background-color:  #d5dbe5;\n",
       "            color:  #000000;\n",
       "        }    #T_adc3721c_45d3_11ea_b018_acde48001122row7_col19 {\n",
       "            background-color:  #dedcdb;\n",
       "            color:  #000000;\n",
       "        }    #T_adc3721c_45d3_11ea_b018_acde48001122row7_col20 {\n",
       "            background-color:  #f1cdba;\n",
       "            color:  #000000;\n",
       "        }    #T_adc3721c_45d3_11ea_b018_acde48001122row7_col21 {\n",
       "            background-color:  #e9d5cb;\n",
       "            color:  #000000;\n",
       "        }    #T_adc3721c_45d3_11ea_b018_acde48001122row7_col22 {\n",
       "            background-color:  #c7d7f0;\n",
       "            color:  #000000;\n",
       "        }    #T_adc3721c_45d3_11ea_b018_acde48001122row8_col0 {\n",
       "            background-color:  #dadce0;\n",
       "            color:  #000000;\n",
       "        }    #T_adc3721c_45d3_11ea_b018_acde48001122row8_col1 {\n",
       "            background-color:  #dcdddd;\n",
       "            color:  #000000;\n",
       "        }    #T_adc3721c_45d3_11ea_b018_acde48001122row8_col2 {\n",
       "            background-color:  #e1dad6;\n",
       "            color:  #000000;\n",
       "        }    #T_adc3721c_45d3_11ea_b018_acde48001122row8_col3 {\n",
       "            background-color:  #f5c2aa;\n",
       "            color:  #000000;\n",
       "        }    #T_adc3721c_45d3_11ea_b018_acde48001122row8_col4 {\n",
       "            background-color:  #d5dbe5;\n",
       "            color:  #000000;\n",
       "        }    #T_adc3721c_45d3_11ea_b018_acde48001122row8_col5 {\n",
       "            background-color:  #dfdbd9;\n",
       "            color:  #000000;\n",
       "        }    #T_adc3721c_45d3_11ea_b018_acde48001122row8_col6 {\n",
       "            background-color:  #dadce0;\n",
       "            color:  #000000;\n",
       "        }    #T_adc3721c_45d3_11ea_b018_acde48001122row8_col7 {\n",
       "            background-color:  #dbdcde;\n",
       "            color:  #000000;\n",
       "        }    #T_adc3721c_45d3_11ea_b018_acde48001122row8_col8 {\n",
       "            background-color:  #b40426;\n",
       "            color:  #f1f1f1;\n",
       "        }    #T_adc3721c_45d3_11ea_b018_acde48001122row8_col9 {\n",
       "            background-color:  #dbdcde;\n",
       "            color:  #000000;\n",
       "        }    #T_adc3721c_45d3_11ea_b018_acde48001122row8_col10 {\n",
       "            background-color:  #e2dad5;\n",
       "            color:  #000000;\n",
       "        }    #T_adc3721c_45d3_11ea_b018_acde48001122row8_col11 {\n",
       "            background-color:  #dbdcde;\n",
       "            color:  #000000;\n",
       "        }    #T_adc3721c_45d3_11ea_b018_acde48001122row8_col12 {\n",
       "            background-color:  #dadce0;\n",
       "            color:  #000000;\n",
       "        }    #T_adc3721c_45d3_11ea_b018_acde48001122row8_col13 {\n",
       "            background-color:  #e1dad6;\n",
       "            color:  #000000;\n",
       "        }    #T_adc3721c_45d3_11ea_b018_acde48001122row8_col14 {\n",
       "            background-color:  #dddcdc;\n",
       "            color:  #000000;\n",
       "        }    #T_adc3721c_45d3_11ea_b018_acde48001122row8_col15 {\n",
       "            background-color:  #ead4c8;\n",
       "            color:  #000000;\n",
       "        }    #T_adc3721c_45d3_11ea_b018_acde48001122row8_col16 {\n",
       "            background-color:  #dedcdb;\n",
       "            color:  #000000;\n",
       "        }    #T_adc3721c_45d3_11ea_b018_acde48001122row8_col17 {\n",
       "            background-color:  #dcdddd;\n",
       "            color:  #000000;\n",
       "        }    #T_adc3721c_45d3_11ea_b018_acde48001122row8_col18 {\n",
       "            background-color:  #d9dce1;\n",
       "            color:  #000000;\n",
       "        }    #T_adc3721c_45d3_11ea_b018_acde48001122row8_col19 {\n",
       "            background-color:  #ccd9ed;\n",
       "            color:  #000000;\n",
       "        }    #T_adc3721c_45d3_11ea_b018_acde48001122row8_col20 {\n",
       "            background-color:  #ccd9ed;\n",
       "            color:  #000000;\n",
       "        }    #T_adc3721c_45d3_11ea_b018_acde48001122row8_col21 {\n",
       "            background-color:  #e8d6cc;\n",
       "            color:  #000000;\n",
       "        }    #T_adc3721c_45d3_11ea_b018_acde48001122row8_col22 {\n",
       "            background-color:  #d1dae9;\n",
       "            color:  #000000;\n",
       "        }    #T_adc3721c_45d3_11ea_b018_acde48001122row9_col0 {\n",
       "            background-color:  #d7dce3;\n",
       "            color:  #000000;\n",
       "        }    #T_adc3721c_45d3_11ea_b018_acde48001122row9_col1 {\n",
       "            background-color:  #dcdddd;\n",
       "            color:  #000000;\n",
       "        }    #T_adc3721c_45d3_11ea_b018_acde48001122row9_col2 {\n",
       "            background-color:  #e1dad6;\n",
       "            color:  #000000;\n",
       "        }    #T_adc3721c_45d3_11ea_b018_acde48001122row9_col3 {\n",
       "            background-color:  #dedcdb;\n",
       "            color:  #000000;\n",
       "        }    #T_adc3721c_45d3_11ea_b018_acde48001122row9_col4 {\n",
       "            background-color:  #d6dce4;\n",
       "            color:  #000000;\n",
       "        }    #T_adc3721c_45d3_11ea_b018_acde48001122row9_col5 {\n",
       "            background-color:  #efcebd;\n",
       "            color:  #000000;\n",
       "        }    #T_adc3721c_45d3_11ea_b018_acde48001122row9_col6 {\n",
       "            background-color:  #d0473d;\n",
       "            color:  #f1f1f1;\n",
       "        }    #T_adc3721c_45d3_11ea_b018_acde48001122row9_col7 {\n",
       "            background-color:  #ead4c8;\n",
       "            color:  #000000;\n",
       "        }    #T_adc3721c_45d3_11ea_b018_acde48001122row9_col8 {\n",
       "            background-color:  #dbdcde;\n",
       "            color:  #000000;\n",
       "        }    #T_adc3721c_45d3_11ea_b018_acde48001122row9_col9 {\n",
       "            background-color:  #b40426;\n",
       "            color:  #f1f1f1;\n",
       "        }    #T_adc3721c_45d3_11ea_b018_acde48001122row9_col10 {\n",
       "            background-color:  #f6bda2;\n",
       "            color:  #000000;\n",
       "        }    #T_adc3721c_45d3_11ea_b018_acde48001122row9_col11 {\n",
       "            background-color:  #dcdddd;\n",
       "            color:  #000000;\n",
       "        }    #T_adc3721c_45d3_11ea_b018_acde48001122row9_col12 {\n",
       "            background-color:  #d2dbe8;\n",
       "            color:  #000000;\n",
       "        }    #T_adc3721c_45d3_11ea_b018_acde48001122row9_col13 {\n",
       "            background-color:  #ecd3c5;\n",
       "            color:  #000000;\n",
       "        }    #T_adc3721c_45d3_11ea_b018_acde48001122row9_col14 {\n",
       "            background-color:  #f7b89c;\n",
       "            color:  #000000;\n",
       "        }    #T_adc3721c_45d3_11ea_b018_acde48001122row9_col15 {\n",
       "            background-color:  #cedaeb;\n",
       "            color:  #000000;\n",
       "        }    #T_adc3721c_45d3_11ea_b018_acde48001122row9_col16 {\n",
       "            background-color:  #e4d9d2;\n",
       "            color:  #000000;\n",
       "        }    #T_adc3721c_45d3_11ea_b018_acde48001122row9_col17 {\n",
       "            background-color:  #dbdcde;\n",
       "            color:  #000000;\n",
       "        }    #T_adc3721c_45d3_11ea_b018_acde48001122row9_col18 {\n",
       "            background-color:  #cfdaea;\n",
       "            color:  #000000;\n",
       "        }    #T_adc3721c_45d3_11ea_b018_acde48001122row9_col19 {\n",
       "            background-color:  #ead4c8;\n",
       "            color:  #000000;\n",
       "        }    #T_adc3721c_45d3_11ea_b018_acde48001122row9_col20 {\n",
       "            background-color:  #e7d7ce;\n",
       "            color:  #000000;\n",
       "        }    #T_adc3721c_45d3_11ea_b018_acde48001122row9_col21 {\n",
       "            background-color:  #d8dce2;\n",
       "            color:  #000000;\n",
       "        }    #T_adc3721c_45d3_11ea_b018_acde48001122row9_col22 {\n",
       "            background-color:  #d4dbe6;\n",
       "            color:  #000000;\n",
       "        }    #T_adc3721c_45d3_11ea_b018_acde48001122row10_col0 {\n",
       "            background-color:  #dbdcde;\n",
       "            color:  #000000;\n",
       "        }    #T_adc3721c_45d3_11ea_b018_acde48001122row10_col1 {\n",
       "            background-color:  #dddcdc;\n",
       "            color:  #000000;\n",
       "        }    #T_adc3721c_45d3_11ea_b018_acde48001122row10_col2 {\n",
       "            background-color:  #e3d9d3;\n",
       "            color:  #000000;\n",
       "        }    #T_adc3721c_45d3_11ea_b018_acde48001122row10_col3 {\n",
       "            background-color:  #dadce0;\n",
       "            color:  #000000;\n",
       "        }    #T_adc3721c_45d3_11ea_b018_acde48001122row10_col4 {\n",
       "            background-color:  #dadce0;\n",
       "            color:  #000000;\n",
       "        }    #T_adc3721c_45d3_11ea_b018_acde48001122row10_col5 {\n",
       "            background-color:  #f2c9b4;\n",
       "            color:  #000000;\n",
       "        }    #T_adc3721c_45d3_11ea_b018_acde48001122row10_col6 {\n",
       "            background-color:  #f7aa8c;\n",
       "            color:  #000000;\n",
       "        }    #T_adc3721c_45d3_11ea_b018_acde48001122row10_col7 {\n",
       "            background-color:  #ecd3c5;\n",
       "            color:  #000000;\n",
       "        }    #T_adc3721c_45d3_11ea_b018_acde48001122row10_col8 {\n",
       "            background-color:  #e2dad5;\n",
       "            color:  #000000;\n",
       "        }    #T_adc3721c_45d3_11ea_b018_acde48001122row10_col9 {\n",
       "            background-color:  #f6bda2;\n",
       "            color:  #000000;\n",
       "        }    #T_adc3721c_45d3_11ea_b018_acde48001122row10_col10 {\n",
       "            background-color:  #b40426;\n",
       "            color:  #f1f1f1;\n",
       "        }    #T_adc3721c_45d3_11ea_b018_acde48001122row10_col11 {\n",
       "            background-color:  #e5d8d1;\n",
       "            color:  #000000;\n",
       "        }    #T_adc3721c_45d3_11ea_b018_acde48001122row10_col12 {\n",
       "            background-color:  #ccd9ed;\n",
       "            color:  #000000;\n",
       "        }    #T_adc3721c_45d3_11ea_b018_acde48001122row10_col13 {\n",
       "            background-color:  #eed0c0;\n",
       "            color:  #000000;\n",
       "        }    #T_adc3721c_45d3_11ea_b018_acde48001122row10_col14 {\n",
       "            background-color:  #f7ac8e;\n",
       "            color:  #000000;\n",
       "        }    #T_adc3721c_45d3_11ea_b018_acde48001122row10_col15 {\n",
       "            background-color:  #e3d9d3;\n",
       "            color:  #000000;\n",
       "        }    #T_adc3721c_45d3_11ea_b018_acde48001122row10_col16 {\n",
       "            background-color:  #ead4c8;\n",
       "            color:  #000000;\n",
       "        }    #T_adc3721c_45d3_11ea_b018_acde48001122row10_col17 {\n",
       "            background-color:  #d4dbe6;\n",
       "            color:  #000000;\n",
       "        }    #T_adc3721c_45d3_11ea_b018_acde48001122row10_col18 {\n",
       "            background-color:  #cfdaea;\n",
       "            color:  #000000;\n",
       "        }    #T_adc3721c_45d3_11ea_b018_acde48001122row10_col19 {\n",
       "            background-color:  #d5dbe5;\n",
       "            color:  #000000;\n",
       "        }    #T_adc3721c_45d3_11ea_b018_acde48001122row10_col20 {\n",
       "            background-color:  #e7d7ce;\n",
       "            color:  #000000;\n",
       "        }    #T_adc3721c_45d3_11ea_b018_acde48001122row10_col21 {\n",
       "            background-color:  #e3d9d3;\n",
       "            color:  #000000;\n",
       "        }    #T_adc3721c_45d3_11ea_b018_acde48001122row10_col22 {\n",
       "            background-color:  #d2dbe8;\n",
       "            color:  #000000;\n",
       "        }    #T_adc3721c_45d3_11ea_b018_acde48001122row11_col0 {\n",
       "            background-color:  #bed2f6;\n",
       "            color:  #000000;\n",
       "        }    #T_adc3721c_45d3_11ea_b018_acde48001122row11_col1 {\n",
       "            background-color:  #dbdcde;\n",
       "            color:  #000000;\n",
       "        }    #T_adc3721c_45d3_11ea_b018_acde48001122row11_col2 {\n",
       "            background-color:  #dadce0;\n",
       "            color:  #000000;\n",
       "        }    #T_adc3721c_45d3_11ea_b018_acde48001122row11_col3 {\n",
       "            background-color:  #dcdddd;\n",
       "            color:  #000000;\n",
       "        }    #T_adc3721c_45d3_11ea_b018_acde48001122row11_col4 {\n",
       "            background-color:  #f1cdba;\n",
       "            color:  #000000;\n",
       "        }    #T_adc3721c_45d3_11ea_b018_acde48001122row11_col5 {\n",
       "            background-color:  #c5d6f2;\n",
       "            color:  #000000;\n",
       "        }    #T_adc3721c_45d3_11ea_b018_acde48001122row11_col6 {\n",
       "            background-color:  #dedcdb;\n",
       "            color:  #000000;\n",
       "        }    #T_adc3721c_45d3_11ea_b018_acde48001122row11_col7 {\n",
       "            background-color:  #dcdddd;\n",
       "            color:  #000000;\n",
       "        }    #T_adc3721c_45d3_11ea_b018_acde48001122row11_col8 {\n",
       "            background-color:  #dbdcde;\n",
       "            color:  #000000;\n",
       "        }    #T_adc3721c_45d3_11ea_b018_acde48001122row11_col9 {\n",
       "            background-color:  #dcdddd;\n",
       "            color:  #000000;\n",
       "        }    #T_adc3721c_45d3_11ea_b018_acde48001122row11_col10 {\n",
       "            background-color:  #e5d8d1;\n",
       "            color:  #000000;\n",
       "        }    #T_adc3721c_45d3_11ea_b018_acde48001122row11_col11 {\n",
       "            background-color:  #b40426;\n",
       "            color:  #f1f1f1;\n",
       "        }    #T_adc3721c_45d3_11ea_b018_acde48001122row11_col12 {\n",
       "            background-color:  #afcafc;\n",
       "            color:  #000000;\n",
       "        }    #T_adc3721c_45d3_11ea_b018_acde48001122row11_col13 {\n",
       "            background-color:  #dcdddd;\n",
       "            color:  #000000;\n",
       "        }    #T_adc3721c_45d3_11ea_b018_acde48001122row11_col14 {\n",
       "            background-color:  #e6d7cf;\n",
       "            color:  #000000;\n",
       "        }    #T_adc3721c_45d3_11ea_b018_acde48001122row11_col15 {\n",
       "            background-color:  #dddcdc;\n",
       "            color:  #000000;\n",
       "        }    #T_adc3721c_45d3_11ea_b018_acde48001122row11_col16 {\n",
       "            background-color:  #e7d7ce;\n",
       "            color:  #000000;\n",
       "        }    #T_adc3721c_45d3_11ea_b018_acde48001122row11_col17 {\n",
       "            background-color:  #d2dbe8;\n",
       "            color:  #000000;\n",
       "        }    #T_adc3721c_45d3_11ea_b018_acde48001122row11_col18 {\n",
       "            background-color:  #dbdcde;\n",
       "            color:  #000000;\n",
       "        }    #T_adc3721c_45d3_11ea_b018_acde48001122row11_col19 {\n",
       "            background-color:  #dbdcde;\n",
       "            color:  #000000;\n",
       "        }    #T_adc3721c_45d3_11ea_b018_acde48001122row11_col20 {\n",
       "            background-color:  #dbdcde;\n",
       "            color:  #000000;\n",
       "        }    #T_adc3721c_45d3_11ea_b018_acde48001122row11_col21 {\n",
       "            background-color:  #dcdddd;\n",
       "            color:  #000000;\n",
       "        }    #T_adc3721c_45d3_11ea_b018_acde48001122row11_col22 {\n",
       "            background-color:  #dcdddd;\n",
       "            color:  #000000;\n",
       "        }    #T_adc3721c_45d3_11ea_b018_acde48001122row12_col0 {\n",
       "            background-color:  #f2cab5;\n",
       "            color:  #000000;\n",
       "        }    #T_adc3721c_45d3_11ea_b018_acde48001122row12_col1 {\n",
       "            background-color:  #dddcdc;\n",
       "            color:  #000000;\n",
       "        }    #T_adc3721c_45d3_11ea_b018_acde48001122row12_col2 {\n",
       "            background-color:  #d9dce1;\n",
       "            color:  #000000;\n",
       "        }    #T_adc3721c_45d3_11ea_b018_acde48001122row12_col3 {\n",
       "            background-color:  #dedcdb;\n",
       "            color:  #000000;\n",
       "        }    #T_adc3721c_45d3_11ea_b018_acde48001122row12_col4 {\n",
       "            background-color:  #e9d5cb;\n",
       "            color:  #000000;\n",
       "        }    #T_adc3721c_45d3_11ea_b018_acde48001122row12_col5 {\n",
       "            background-color:  #d8dce2;\n",
       "            color:  #000000;\n",
       "        }    #T_adc3721c_45d3_11ea_b018_acde48001122row12_col6 {\n",
       "            background-color:  #cedaeb;\n",
       "            color:  #000000;\n",
       "        }    #T_adc3721c_45d3_11ea_b018_acde48001122row12_col7 {\n",
       "            background-color:  #d7dce3;\n",
       "            color:  #000000;\n",
       "        }    #T_adc3721c_45d3_11ea_b018_acde48001122row12_col8 {\n",
       "            background-color:  #dadce0;\n",
       "            color:  #000000;\n",
       "        }    #T_adc3721c_45d3_11ea_b018_acde48001122row12_col9 {\n",
       "            background-color:  #d2dbe8;\n",
       "            color:  #000000;\n",
       "        }    #T_adc3721c_45d3_11ea_b018_acde48001122row12_col10 {\n",
       "            background-color:  #ccd9ed;\n",
       "            color:  #000000;\n",
       "        }    #T_adc3721c_45d3_11ea_b018_acde48001122row12_col11 {\n",
       "            background-color:  #afcafc;\n",
       "            color:  #000000;\n",
       "        }    #T_adc3721c_45d3_11ea_b018_acde48001122row12_col12 {\n",
       "            background-color:  #b40426;\n",
       "            color:  #f1f1f1;\n",
       "        }    #T_adc3721c_45d3_11ea_b018_acde48001122row12_col13 {\n",
       "            background-color:  #d3dbe7;\n",
       "            color:  #000000;\n",
       "        }    #T_adc3721c_45d3_11ea_b018_acde48001122row12_col14 {\n",
       "            background-color:  #bad0f8;\n",
       "            color:  #000000;\n",
       "        }    #T_adc3721c_45d3_11ea_b018_acde48001122row12_col15 {\n",
       "            background-color:  #dbdcde;\n",
       "            color:  #000000;\n",
       "        }    #T_adc3721c_45d3_11ea_b018_acde48001122row12_col16 {\n",
       "            background-color:  #cfdaea;\n",
       "            color:  #000000;\n",
       "        }    #T_adc3721c_45d3_11ea_b018_acde48001122row12_col17 {\n",
       "            background-color:  #dbdcde;\n",
       "            color:  #000000;\n",
       "        }    #T_adc3721c_45d3_11ea_b018_acde48001122row12_col18 {\n",
       "            background-color:  #f0cdbb;\n",
       "            color:  #000000;\n",
       "        }    #T_adc3721c_45d3_11ea_b018_acde48001122row12_col19 {\n",
       "            background-color:  #dedcdb;\n",
       "            color:  #000000;\n",
       "        }    #T_adc3721c_45d3_11ea_b018_acde48001122row12_col20 {\n",
       "            background-color:  #e1dad6;\n",
       "            color:  #000000;\n",
       "        }    #T_adc3721c_45d3_11ea_b018_acde48001122row12_col21 {\n",
       "            background-color:  #dcdddd;\n",
       "            color:  #000000;\n",
       "        }    #T_adc3721c_45d3_11ea_b018_acde48001122row12_col22 {\n",
       "            background-color:  #dedcdb;\n",
       "            color:  #000000;\n",
       "        }    #T_adc3721c_45d3_11ea_b018_acde48001122row13_col0 {\n",
       "            background-color:  #c3d5f4;\n",
       "            color:  #000000;\n",
       "        }    #T_adc3721c_45d3_11ea_b018_acde48001122row13_col1 {\n",
       "            background-color:  #dcdddd;\n",
       "            color:  #000000;\n",
       "        }    #T_adc3721c_45d3_11ea_b018_acde48001122row13_col2 {\n",
       "            background-color:  #f4c5ad;\n",
       "            color:  #000000;\n",
       "        }    #T_adc3721c_45d3_11ea_b018_acde48001122row13_col3 {\n",
       "            background-color:  #dcdddd;\n",
       "            color:  #000000;\n",
       "        }    #T_adc3721c_45d3_11ea_b018_acde48001122row13_col4 {\n",
       "            background-color:  #d5dbe5;\n",
       "            color:  #000000;\n",
       "        }    #T_adc3721c_45d3_11ea_b018_acde48001122row13_col5 {\n",
       "            background-color:  #dddcdc;\n",
       "            color:  #000000;\n",
       "        }    #T_adc3721c_45d3_11ea_b018_acde48001122row13_col6 {\n",
       "            background-color:  #efcebd;\n",
       "            color:  #000000;\n",
       "        }    #T_adc3721c_45d3_11ea_b018_acde48001122row13_col7 {\n",
       "            background-color:  #e6d7cf;\n",
       "            color:  #000000;\n",
       "        }    #T_adc3721c_45d3_11ea_b018_acde48001122row13_col8 {\n",
       "            background-color:  #e1dad6;\n",
       "            color:  #000000;\n",
       "        }    #T_adc3721c_45d3_11ea_b018_acde48001122row13_col9 {\n",
       "            background-color:  #ecd3c5;\n",
       "            color:  #000000;\n",
       "        }    #T_adc3721c_45d3_11ea_b018_acde48001122row13_col10 {\n",
       "            background-color:  #eed0c0;\n",
       "            color:  #000000;\n",
       "        }    #T_adc3721c_45d3_11ea_b018_acde48001122row13_col11 {\n",
       "            background-color:  #dcdddd;\n",
       "            color:  #000000;\n",
       "        }    #T_adc3721c_45d3_11ea_b018_acde48001122row13_col12 {\n",
       "            background-color:  #d3dbe7;\n",
       "            color:  #000000;\n",
       "        }    #T_adc3721c_45d3_11ea_b018_acde48001122row13_col13 {\n",
       "            background-color:  #b40426;\n",
       "            color:  #f1f1f1;\n",
       "        }    #T_adc3721c_45d3_11ea_b018_acde48001122row13_col14 {\n",
       "            background-color:  #dcdddd;\n",
       "            color:  #000000;\n",
       "        }    #T_adc3721c_45d3_11ea_b018_acde48001122row13_col15 {\n",
       "            background-color:  #dcdddd;\n",
       "            color:  #000000;\n",
       "        }    #T_adc3721c_45d3_11ea_b018_acde48001122row13_col16 {\n",
       "            background-color:  #dc5d4a;\n",
       "            color:  #000000;\n",
       "        }    #T_adc3721c_45d3_11ea_b018_acde48001122row13_col17 {\n",
       "            background-color:  #94b6ff;\n",
       "            color:  #000000;\n",
       "        }    #T_adc3721c_45d3_11ea_b018_acde48001122row13_col18 {\n",
       "            background-color:  #86a9fc;\n",
       "            color:  #000000;\n",
       "        }    #T_adc3721c_45d3_11ea_b018_acde48001122row13_col19 {\n",
       "            background-color:  #dcdddd;\n",
       "            color:  #000000;\n",
       "        }    #T_adc3721c_45d3_11ea_b018_acde48001122row13_col20 {\n",
       "            background-color:  #dcdddd;\n",
       "            color:  #000000;\n",
       "        }    #T_adc3721c_45d3_11ea_b018_acde48001122row13_col21 {\n",
       "            background-color:  #dcdddd;\n",
       "            color:  #000000;\n",
       "        }    #T_adc3721c_45d3_11ea_b018_acde48001122row13_col22 {\n",
       "            background-color:  #dcdddd;\n",
       "            color:  #000000;\n",
       "        }    #T_adc3721c_45d3_11ea_b018_acde48001122row14_col0 {\n",
       "            background-color:  #dddcdc;\n",
       "            color:  #000000;\n",
       "        }    #T_adc3721c_45d3_11ea_b018_acde48001122row14_col1 {\n",
       "            background-color:  #dddcdc;\n",
       "            color:  #000000;\n",
       "        }    #T_adc3721c_45d3_11ea_b018_acde48001122row14_col2 {\n",
       "            background-color:  #dbdcde;\n",
       "            color:  #000000;\n",
       "        }    #T_adc3721c_45d3_11ea_b018_acde48001122row14_col3 {\n",
       "            background-color:  #d5dbe5;\n",
       "            color:  #000000;\n",
       "        }    #T_adc3721c_45d3_11ea_b018_acde48001122row14_col4 {\n",
       "            background-color:  #e5d8d1;\n",
       "            color:  #000000;\n",
       "        }    #T_adc3721c_45d3_11ea_b018_acde48001122row14_col5 {\n",
       "            background-color:  #d95847;\n",
       "            color:  #000000;\n",
       "        }    #T_adc3721c_45d3_11ea_b018_acde48001122row14_col6 {\n",
       "            background-color:  #f4987a;\n",
       "            color:  #000000;\n",
       "        }    #T_adc3721c_45d3_11ea_b018_acde48001122row14_col7 {\n",
       "            background-color:  #ecd3c5;\n",
       "            color:  #000000;\n",
       "        }    #T_adc3721c_45d3_11ea_b018_acde48001122row14_col8 {\n",
       "            background-color:  #dddcdc;\n",
       "            color:  #000000;\n",
       "        }    #T_adc3721c_45d3_11ea_b018_acde48001122row14_col9 {\n",
       "            background-color:  #f7b89c;\n",
       "            color:  #000000;\n",
       "        }    #T_adc3721c_45d3_11ea_b018_acde48001122row14_col10 {\n",
       "            background-color:  #f7ac8e;\n",
       "            color:  #000000;\n",
       "        }    #T_adc3721c_45d3_11ea_b018_acde48001122row14_col11 {\n",
       "            background-color:  #e6d7cf;\n",
       "            color:  #000000;\n",
       "        }    #T_adc3721c_45d3_11ea_b018_acde48001122row14_col12 {\n",
       "            background-color:  #bad0f8;\n",
       "            color:  #000000;\n",
       "        }    #T_adc3721c_45d3_11ea_b018_acde48001122row14_col13 {\n",
       "            background-color:  #dcdddd;\n",
       "            color:  #000000;\n",
       "        }    #T_adc3721c_45d3_11ea_b018_acde48001122row14_col14 {\n",
       "            background-color:  #b40426;\n",
       "            color:  #f1f1f1;\n",
       "        }    #T_adc3721c_45d3_11ea_b018_acde48001122row14_col15 {\n",
       "            background-color:  #c0d4f5;\n",
       "            color:  #000000;\n",
       "        }    #T_adc3721c_45d3_11ea_b018_acde48001122row14_col16 {\n",
       "            background-color:  #dcdddd;\n",
       "            color:  #000000;\n",
       "        }    #T_adc3721c_45d3_11ea_b018_acde48001122row14_col17 {\n",
       "            background-color:  #dcdddd;\n",
       "            color:  #000000;\n",
       "        }    #T_adc3721c_45d3_11ea_b018_acde48001122row14_col18 {\n",
       "            background-color:  #dddcdc;\n",
       "            color:  #000000;\n",
       "        }    #T_adc3721c_45d3_11ea_b018_acde48001122row14_col19 {\n",
       "            background-color:  #f1cdba;\n",
       "            color:  #000000;\n",
       "        }    #T_adc3721c_45d3_11ea_b018_acde48001122row14_col20 {\n",
       "            background-color:  #e0dbd8;\n",
       "            color:  #000000;\n",
       "        }    #T_adc3721c_45d3_11ea_b018_acde48001122row14_col21 {\n",
       "            background-color:  #d4dbe6;\n",
       "            color:  #000000;\n",
       "        }    #T_adc3721c_45d3_11ea_b018_acde48001122row14_col22 {\n",
       "            background-color:  #e1dad6;\n",
       "            color:  #000000;\n",
       "        }    #T_adc3721c_45d3_11ea_b018_acde48001122row15_col0 {\n",
       "            background-color:  #dcdddd;\n",
       "            color:  #000000;\n",
       "        }    #T_adc3721c_45d3_11ea_b018_acde48001122row15_col1 {\n",
       "            background-color:  #dcdddd;\n",
       "            color:  #000000;\n",
       "        }    #T_adc3721c_45d3_11ea_b018_acde48001122row15_col2 {\n",
       "            background-color:  #e0dbd8;\n",
       "            color:  #000000;\n",
       "        }    #T_adc3721c_45d3_11ea_b018_acde48001122row15_col3 {\n",
       "            background-color:  #ebd3c6;\n",
       "            color:  #000000;\n",
       "        }    #T_adc3721c_45d3_11ea_b018_acde48001122row15_col4 {\n",
       "            background-color:  #f4c6af;\n",
       "            color:  #000000;\n",
       "        }    #T_adc3721c_45d3_11ea_b018_acde48001122row15_col5 {\n",
       "            background-color:  #d7dce3;\n",
       "            color:  #000000;\n",
       "        }    #T_adc3721c_45d3_11ea_b018_acde48001122row15_col6 {\n",
       "            background-color:  #d1dae9;\n",
       "            color:  #000000;\n",
       "        }    #T_adc3721c_45d3_11ea_b018_acde48001122row15_col7 {\n",
       "            background-color:  #dadce0;\n",
       "            color:  #000000;\n",
       "        }    #T_adc3721c_45d3_11ea_b018_acde48001122row15_col8 {\n",
       "            background-color:  #ead4c8;\n",
       "            color:  #000000;\n",
       "        }    #T_adc3721c_45d3_11ea_b018_acde48001122row15_col9 {\n",
       "            background-color:  #cedaeb;\n",
       "            color:  #000000;\n",
       "        }    #T_adc3721c_45d3_11ea_b018_acde48001122row15_col10 {\n",
       "            background-color:  #e3d9d3;\n",
       "            color:  #000000;\n",
       "        }    #T_adc3721c_45d3_11ea_b018_acde48001122row15_col11 {\n",
       "            background-color:  #dddcdc;\n",
       "            color:  #000000;\n",
       "        }    #T_adc3721c_45d3_11ea_b018_acde48001122row15_col12 {\n",
       "            background-color:  #dbdcde;\n",
       "            color:  #000000;\n",
       "        }    #T_adc3721c_45d3_11ea_b018_acde48001122row15_col13 {\n",
       "            background-color:  #dcdddd;\n",
       "            color:  #000000;\n",
       "        }    #T_adc3721c_45d3_11ea_b018_acde48001122row15_col14 {\n",
       "            background-color:  #c0d4f5;\n",
       "            color:  #000000;\n",
       "        }    #T_adc3721c_45d3_11ea_b018_acde48001122row15_col15 {\n",
       "            background-color:  #b40426;\n",
       "            color:  #f1f1f1;\n",
       "        }    #T_adc3721c_45d3_11ea_b018_acde48001122row15_col16 {\n",
       "            background-color:  #dcdddd;\n",
       "            color:  #000000;\n",
       "        }    #T_adc3721c_45d3_11ea_b018_acde48001122row15_col17 {\n",
       "            background-color:  #dcdddd;\n",
       "            color:  #000000;\n",
       "        }    #T_adc3721c_45d3_11ea_b018_acde48001122row15_col18 {\n",
       "            background-color:  #dcdddd;\n",
       "            color:  #000000;\n",
       "        }    #T_adc3721c_45d3_11ea_b018_acde48001122row15_col19 {\n",
       "            background-color:  #3b4cc0;\n",
       "            color:  #f1f1f1;\n",
       "        }    #T_adc3721c_45d3_11ea_b018_acde48001122row15_col20 {\n",
       "            background-color:  #84a7fc;\n",
       "            color:  #000000;\n",
       "        }    #T_adc3721c_45d3_11ea_b018_acde48001122row15_col21 {\n",
       "            background-color:  #f4c5ad;\n",
       "            color:  #000000;\n",
       "        }    #T_adc3721c_45d3_11ea_b018_acde48001122row15_col22 {\n",
       "            background-color:  #9abbff;\n",
       "            color:  #000000;\n",
       "        }    #T_adc3721c_45d3_11ea_b018_acde48001122row16_col0 {\n",
       "            background-color:  #d7dce3;\n",
       "            color:  #000000;\n",
       "        }    #T_adc3721c_45d3_11ea_b018_acde48001122row16_col1 {\n",
       "            background-color:  #dedcdb;\n",
       "            color:  #000000;\n",
       "        }    #T_adc3721c_45d3_11ea_b018_acde48001122row16_col2 {\n",
       "            background-color:  #f1cdba;\n",
       "            color:  #000000;\n",
       "        }    #T_adc3721c_45d3_11ea_b018_acde48001122row16_col3 {\n",
       "            background-color:  #dcdddd;\n",
       "            color:  #000000;\n",
       "        }    #T_adc3721c_45d3_11ea_b018_acde48001122row16_col4 {\n",
       "            background-color:  #dfdbd9;\n",
       "            color:  #000000;\n",
       "        }    #T_adc3721c_45d3_11ea_b018_acde48001122row16_col5 {\n",
       "            background-color:  #d7dce3;\n",
       "            color:  #000000;\n",
       "        }    #T_adc3721c_45d3_11ea_b018_acde48001122row16_col6 {\n",
       "            background-color:  #e7d7ce;\n",
       "            color:  #000000;\n",
       "        }    #T_adc3721c_45d3_11ea_b018_acde48001122row16_col7 {\n",
       "            background-color:  #e1dad6;\n",
       "            color:  #000000;\n",
       "        }    #T_adc3721c_45d3_11ea_b018_acde48001122row16_col8 {\n",
       "            background-color:  #dedcdb;\n",
       "            color:  #000000;\n",
       "        }    #T_adc3721c_45d3_11ea_b018_acde48001122row16_col9 {\n",
       "            background-color:  #e4d9d2;\n",
       "            color:  #000000;\n",
       "        }    #T_adc3721c_45d3_11ea_b018_acde48001122row16_col10 {\n",
       "            background-color:  #ead4c8;\n",
       "            color:  #000000;\n",
       "        }    #T_adc3721c_45d3_11ea_b018_acde48001122row16_col11 {\n",
       "            background-color:  #e7d7ce;\n",
       "            color:  #000000;\n",
       "        }    #T_adc3721c_45d3_11ea_b018_acde48001122row16_col12 {\n",
       "            background-color:  #cfdaea;\n",
       "            color:  #000000;\n",
       "        }    #T_adc3721c_45d3_11ea_b018_acde48001122row16_col13 {\n",
       "            background-color:  #dc5d4a;\n",
       "            color:  #000000;\n",
       "        }    #T_adc3721c_45d3_11ea_b018_acde48001122row16_col14 {\n",
       "            background-color:  #dcdddd;\n",
       "            color:  #000000;\n",
       "        }    #T_adc3721c_45d3_11ea_b018_acde48001122row16_col15 {\n",
       "            background-color:  #dcdddd;\n",
       "            color:  #000000;\n",
       "        }    #T_adc3721c_45d3_11ea_b018_acde48001122row16_col16 {\n",
       "            background-color:  #b40426;\n",
       "            color:  #f1f1f1;\n",
       "        }    #T_adc3721c_45d3_11ea_b018_acde48001122row16_col17 {\n",
       "            background-color:  #5673e0;\n",
       "            color:  #000000;\n",
       "        }    #T_adc3721c_45d3_11ea_b018_acde48001122row16_col18 {\n",
       "            background-color:  #a7c5fe;\n",
       "            color:  #000000;\n",
       "        }    #T_adc3721c_45d3_11ea_b018_acde48001122row16_col19 {\n",
       "            background-color:  #dcdddd;\n",
       "            color:  #000000;\n",
       "        }    #T_adc3721c_45d3_11ea_b018_acde48001122row16_col20 {\n",
       "            background-color:  #dcdddd;\n",
       "            color:  #000000;\n",
       "        }    #T_adc3721c_45d3_11ea_b018_acde48001122row16_col21 {\n",
       "            background-color:  #dcdddd;\n",
       "            color:  #000000;\n",
       "        }    #T_adc3721c_45d3_11ea_b018_acde48001122row16_col22 {\n",
       "            background-color:  #dcdddd;\n",
       "            color:  #000000;\n",
       "        }    #T_adc3721c_45d3_11ea_b018_acde48001122row17_col0 {\n",
       "            background-color:  #bad0f8;\n",
       "            color:  #000000;\n",
       "        }    #T_adc3721c_45d3_11ea_b018_acde48001122row17_col1 {\n",
       "            background-color:  #d8dce2;\n",
       "            color:  #000000;\n",
       "        }    #T_adc3721c_45d3_11ea_b018_acde48001122row17_col2 {\n",
       "            background-color:  #cad8ef;\n",
       "            color:  #000000;\n",
       "        }    #T_adc3721c_45d3_11ea_b018_acde48001122row17_col3 {\n",
       "            background-color:  #dcdddd;\n",
       "            color:  #000000;\n",
       "        }    #T_adc3721c_45d3_11ea_b018_acde48001122row17_col4 {\n",
       "            background-color:  #cdd9ec;\n",
       "            color:  #000000;\n",
       "        }    #T_adc3721c_45d3_11ea_b018_acde48001122row17_col5 {\n",
       "            background-color:  #e1dad6;\n",
       "            color:  #000000;\n",
       "        }    #T_adc3721c_45d3_11ea_b018_acde48001122row17_col6 {\n",
       "            background-color:  #dcdddd;\n",
       "            color:  #000000;\n",
       "        }    #T_adc3721c_45d3_11ea_b018_acde48001122row17_col7 {\n",
       "            background-color:  #dbdcde;\n",
       "            color:  #000000;\n",
       "        }    #T_adc3721c_45d3_11ea_b018_acde48001122row17_col8 {\n",
       "            background-color:  #dcdddd;\n",
       "            color:  #000000;\n",
       "        }    #T_adc3721c_45d3_11ea_b018_acde48001122row17_col9 {\n",
       "            background-color:  #dbdcde;\n",
       "            color:  #000000;\n",
       "        }    #T_adc3721c_45d3_11ea_b018_acde48001122row17_col10 {\n",
       "            background-color:  #d4dbe6;\n",
       "            color:  #000000;\n",
       "        }    #T_adc3721c_45d3_11ea_b018_acde48001122row17_col11 {\n",
       "            background-color:  #d2dbe8;\n",
       "            color:  #000000;\n",
       "        }    #T_adc3721c_45d3_11ea_b018_acde48001122row17_col12 {\n",
       "            background-color:  #dbdcde;\n",
       "            color:  #000000;\n",
       "        }    #T_adc3721c_45d3_11ea_b018_acde48001122row17_col13 {\n",
       "            background-color:  #94b6ff;\n",
       "            color:  #000000;\n",
       "        }    #T_adc3721c_45d3_11ea_b018_acde48001122row17_col14 {\n",
       "            background-color:  #dcdddd;\n",
       "            color:  #000000;\n",
       "        }    #T_adc3721c_45d3_11ea_b018_acde48001122row17_col15 {\n",
       "            background-color:  #dcdddd;\n",
       "            color:  #000000;\n",
       "        }    #T_adc3721c_45d3_11ea_b018_acde48001122row17_col16 {\n",
       "            background-color:  #5673e0;\n",
       "            color:  #000000;\n",
       "        }    #T_adc3721c_45d3_11ea_b018_acde48001122row17_col17 {\n",
       "            background-color:  #b40426;\n",
       "            color:  #f1f1f1;\n",
       "        }    #T_adc3721c_45d3_11ea_b018_acde48001122row17_col18 {\n",
       "            background-color:  #b5cdfa;\n",
       "            color:  #000000;\n",
       "        }    #T_adc3721c_45d3_11ea_b018_acde48001122row17_col19 {\n",
       "            background-color:  #dcdddd;\n",
       "            color:  #000000;\n",
       "        }    #T_adc3721c_45d3_11ea_b018_acde48001122row17_col20 {\n",
       "            background-color:  #dcdddd;\n",
       "            color:  #000000;\n",
       "        }    #T_adc3721c_45d3_11ea_b018_acde48001122row17_col21 {\n",
       "            background-color:  #dcdddd;\n",
       "            color:  #000000;\n",
       "        }    #T_adc3721c_45d3_11ea_b018_acde48001122row17_col22 {\n",
       "            background-color:  #dcdddd;\n",
       "            color:  #000000;\n",
       "        }    #T_adc3721c_45d3_11ea_b018_acde48001122row18_col0 {\n",
       "            background-color:  #f6a586;\n",
       "            color:  #000000;\n",
       "        }    #T_adc3721c_45d3_11ea_b018_acde48001122row18_col1 {\n",
       "            background-color:  #e0dbd8;\n",
       "            color:  #000000;\n",
       "        }    #T_adc3721c_45d3_11ea_b018_acde48001122row18_col2 {\n",
       "            background-color:  #cfdaea;\n",
       "            color:  #000000;\n",
       "        }    #T_adc3721c_45d3_11ea_b018_acde48001122row18_col3 {\n",
       "            background-color:  #dcdddd;\n",
       "            color:  #000000;\n",
       "        }    #T_adc3721c_45d3_11ea_b018_acde48001122row18_col4 {\n",
       "            background-color:  #edd2c3;\n",
       "            color:  #000000;\n",
       "        }    #T_adc3721c_45d3_11ea_b018_acde48001122row18_col5 {\n",
       "            background-color:  #dddcdc;\n",
       "            color:  #000000;\n",
       "        }    #T_adc3721c_45d3_11ea_b018_acde48001122row18_col6 {\n",
       "            background-color:  #cad8ef;\n",
       "            color:  #000000;\n",
       "        }    #T_adc3721c_45d3_11ea_b018_acde48001122row18_col7 {\n",
       "            background-color:  #d5dbe5;\n",
       "            color:  #000000;\n",
       "        }    #T_adc3721c_45d3_11ea_b018_acde48001122row18_col8 {\n",
       "            background-color:  #d9dce1;\n",
       "            color:  #000000;\n",
       "        }    #T_adc3721c_45d3_11ea_b018_acde48001122row18_col9 {\n",
       "            background-color:  #cfdaea;\n",
       "            color:  #000000;\n",
       "        }    #T_adc3721c_45d3_11ea_b018_acde48001122row18_col10 {\n",
       "            background-color:  #cfdaea;\n",
       "            color:  #000000;\n",
       "        }    #T_adc3721c_45d3_11ea_b018_acde48001122row18_col11 {\n",
       "            background-color:  #dbdcde;\n",
       "            color:  #000000;\n",
       "        }    #T_adc3721c_45d3_11ea_b018_acde48001122row18_col12 {\n",
       "            background-color:  #f0cdbb;\n",
       "            color:  #000000;\n",
       "        }    #T_adc3721c_45d3_11ea_b018_acde48001122row18_col13 {\n",
       "            background-color:  #86a9fc;\n",
       "            color:  #000000;\n",
       "        }    #T_adc3721c_45d3_11ea_b018_acde48001122row18_col14 {\n",
       "            background-color:  #dddcdc;\n",
       "            color:  #000000;\n",
       "        }    #T_adc3721c_45d3_11ea_b018_acde48001122row18_col15 {\n",
       "            background-color:  #dcdddd;\n",
       "            color:  #000000;\n",
       "        }    #T_adc3721c_45d3_11ea_b018_acde48001122row18_col16 {\n",
       "            background-color:  #a7c5fe;\n",
       "            color:  #000000;\n",
       "        }    #T_adc3721c_45d3_11ea_b018_acde48001122row18_col17 {\n",
       "            background-color:  #b5cdfa;\n",
       "            color:  #000000;\n",
       "        }    #T_adc3721c_45d3_11ea_b018_acde48001122row18_col18 {\n",
       "            background-color:  #b40426;\n",
       "            color:  #f1f1f1;\n",
       "        }    #T_adc3721c_45d3_11ea_b018_acde48001122row18_col19 {\n",
       "            background-color:  #dcdddd;\n",
       "            color:  #000000;\n",
       "        }    #T_adc3721c_45d3_11ea_b018_acde48001122row18_col20 {\n",
       "            background-color:  #dcdddd;\n",
       "            color:  #000000;\n",
       "        }    #T_adc3721c_45d3_11ea_b018_acde48001122row18_col21 {\n",
       "            background-color:  #dcdddd;\n",
       "            color:  #000000;\n",
       "        }    #T_adc3721c_45d3_11ea_b018_acde48001122row18_col22 {\n",
       "            background-color:  #dcdddd;\n",
       "            color:  #000000;\n",
       "        }    #T_adc3721c_45d3_11ea_b018_acde48001122row19_col0 {\n",
       "            background-color:  #dcdddd;\n",
       "            color:  #000000;\n",
       "        }    #T_adc3721c_45d3_11ea_b018_acde48001122row19_col1 {\n",
       "            background-color:  #dcdddd;\n",
       "            color:  #000000;\n",
       "        }    #T_adc3721c_45d3_11ea_b018_acde48001122row19_col2 {\n",
       "            background-color:  #d9dce1;\n",
       "            color:  #000000;\n",
       "        }    #T_adc3721c_45d3_11ea_b018_acde48001122row19_col3 {\n",
       "            background-color:  #cbd8ee;\n",
       "            color:  #000000;\n",
       "        }    #T_adc3721c_45d3_11ea_b018_acde48001122row19_col4 {\n",
       "            background-color:  #bad0f8;\n",
       "            color:  #000000;\n",
       "        }    #T_adc3721c_45d3_11ea_b018_acde48001122row19_col5 {\n",
       "            background-color:  #e0dbd8;\n",
       "            color:  #000000;\n",
       "        }    #T_adc3721c_45d3_11ea_b018_acde48001122row19_col6 {\n",
       "            background-color:  #e8d6cc;\n",
       "            color:  #000000;\n",
       "        }    #T_adc3721c_45d3_11ea_b018_acde48001122row19_col7 {\n",
       "            background-color:  #dedcdb;\n",
       "            color:  #000000;\n",
       "        }    #T_adc3721c_45d3_11ea_b018_acde48001122row19_col8 {\n",
       "            background-color:  #ccd9ed;\n",
       "            color:  #000000;\n",
       "        }    #T_adc3721c_45d3_11ea_b018_acde48001122row19_col9 {\n",
       "            background-color:  #ead4c8;\n",
       "            color:  #000000;\n",
       "        }    #T_adc3721c_45d3_11ea_b018_acde48001122row19_col10 {\n",
       "            background-color:  #d5dbe5;\n",
       "            color:  #000000;\n",
       "        }    #T_adc3721c_45d3_11ea_b018_acde48001122row19_col11 {\n",
       "            background-color:  #dbdcde;\n",
       "            color:  #000000;\n",
       "        }    #T_adc3721c_45d3_11ea_b018_acde48001122row19_col12 {\n",
       "            background-color:  #dedcdb;\n",
       "            color:  #000000;\n",
       "        }    #T_adc3721c_45d3_11ea_b018_acde48001122row19_col13 {\n",
       "            background-color:  #dcdddd;\n",
       "            color:  #000000;\n",
       "        }    #T_adc3721c_45d3_11ea_b018_acde48001122row19_col14 {\n",
       "            background-color:  #f1cdba;\n",
       "            color:  #000000;\n",
       "        }    #T_adc3721c_45d3_11ea_b018_acde48001122row19_col15 {\n",
       "            background-color:  #3b4cc0;\n",
       "            color:  #f1f1f1;\n",
       "        }    #T_adc3721c_45d3_11ea_b018_acde48001122row19_col16 {\n",
       "            background-color:  #dcdddd;\n",
       "            color:  #000000;\n",
       "        }    #T_adc3721c_45d3_11ea_b018_acde48001122row19_col17 {\n",
       "            background-color:  #dcdddd;\n",
       "            color:  #000000;\n",
       "        }    #T_adc3721c_45d3_11ea_b018_acde48001122row19_col18 {\n",
       "            background-color:  #dcdddd;\n",
       "            color:  #000000;\n",
       "        }    #T_adc3721c_45d3_11ea_b018_acde48001122row19_col19 {\n",
       "            background-color:  #b40426;\n",
       "            color:  #f1f1f1;\n",
       "        }    #T_adc3721c_45d3_11ea_b018_acde48001122row19_col20 {\n",
       "            background-color:  #f18d6f;\n",
       "            color:  #000000;\n",
       "        }    #T_adc3721c_45d3_11ea_b018_acde48001122row19_col21 {\n",
       "            background-color:  #b7cff9;\n",
       "            color:  #000000;\n",
       "        }    #T_adc3721c_45d3_11ea_b018_acde48001122row19_col22 {\n",
       "            background-color:  #f7a889;\n",
       "            color:  #000000;\n",
       "        }    #T_adc3721c_45d3_11ea_b018_acde48001122row20_col0 {\n",
       "            background-color:  #dcdddd;\n",
       "            color:  #000000;\n",
       "        }    #T_adc3721c_45d3_11ea_b018_acde48001122row20_col1 {\n",
       "            background-color:  #dcdddd;\n",
       "            color:  #000000;\n",
       "        }    #T_adc3721c_45d3_11ea_b018_acde48001122row20_col2 {\n",
       "            background-color:  #dedcdb;\n",
       "            color:  #000000;\n",
       "        }    #T_adc3721c_45d3_11ea_b018_acde48001122row20_col3 {\n",
       "            background-color:  #dddcdc;\n",
       "            color:  #000000;\n",
       "        }    #T_adc3721c_45d3_11ea_b018_acde48001122row20_col4 {\n",
       "            background-color:  #88abfd;\n",
       "            color:  #000000;\n",
       "        }    #T_adc3721c_45d3_11ea_b018_acde48001122row20_col5 {\n",
       "            background-color:  #d2dbe8;\n",
       "            color:  #000000;\n",
       "        }    #T_adc3721c_45d3_11ea_b018_acde48001122row20_col6 {\n",
       "            background-color:  #e4d9d2;\n",
       "            color:  #000000;\n",
       "        }    #T_adc3721c_45d3_11ea_b018_acde48001122row20_col7 {\n",
       "            background-color:  #f1cdba;\n",
       "            color:  #000000;\n",
       "        }    #T_adc3721c_45d3_11ea_b018_acde48001122row20_col8 {\n",
       "            background-color:  #ccd9ed;\n",
       "            color:  #000000;\n",
       "        }    #T_adc3721c_45d3_11ea_b018_acde48001122row20_col9 {\n",
       "            background-color:  #e7d7ce;\n",
       "            color:  #000000;\n",
       "        }    #T_adc3721c_45d3_11ea_b018_acde48001122row20_col10 {\n",
       "            background-color:  #e7d7ce;\n",
       "            color:  #000000;\n",
       "        }    #T_adc3721c_45d3_11ea_b018_acde48001122row20_col11 {\n",
       "            background-color:  #dbdcde;\n",
       "            color:  #000000;\n",
       "        }    #T_adc3721c_45d3_11ea_b018_acde48001122row20_col12 {\n",
       "            background-color:  #e1dad6;\n",
       "            color:  #000000;\n",
       "        }    #T_adc3721c_45d3_11ea_b018_acde48001122row20_col13 {\n",
       "            background-color:  #dcdddd;\n",
       "            color:  #000000;\n",
       "        }    #T_adc3721c_45d3_11ea_b018_acde48001122row20_col14 {\n",
       "            background-color:  #e0dbd8;\n",
       "            color:  #000000;\n",
       "        }    #T_adc3721c_45d3_11ea_b018_acde48001122row20_col15 {\n",
       "            background-color:  #84a7fc;\n",
       "            color:  #000000;\n",
       "        }    #T_adc3721c_45d3_11ea_b018_acde48001122row20_col16 {\n",
       "            background-color:  #dcdddd;\n",
       "            color:  #000000;\n",
       "        }    #T_adc3721c_45d3_11ea_b018_acde48001122row20_col17 {\n",
       "            background-color:  #dcdddd;\n",
       "            color:  #000000;\n",
       "        }    #T_adc3721c_45d3_11ea_b018_acde48001122row20_col18 {\n",
       "            background-color:  #dcdddd;\n",
       "            color:  #000000;\n",
       "        }    #T_adc3721c_45d3_11ea_b018_acde48001122row20_col19 {\n",
       "            background-color:  #f18d6f;\n",
       "            color:  #000000;\n",
       "        }    #T_adc3721c_45d3_11ea_b018_acde48001122row20_col20 {\n",
       "            background-color:  #b40426;\n",
       "            color:  #f1f1f1;\n",
       "        }    #T_adc3721c_45d3_11ea_b018_acde48001122row20_col21 {\n",
       "            background-color:  #dadce0;\n",
       "            color:  #000000;\n",
       "        }    #T_adc3721c_45d3_11ea_b018_acde48001122row20_col22 {\n",
       "            background-color:  #e7d7ce;\n",
       "            color:  #000000;\n",
       "        }    #T_adc3721c_45d3_11ea_b018_acde48001122row21_col0 {\n",
       "            background-color:  #dcdddd;\n",
       "            color:  #000000;\n",
       "        }    #T_adc3721c_45d3_11ea_b018_acde48001122row21_col1 {\n",
       "            background-color:  #dcdddd;\n",
       "            color:  #000000;\n",
       "        }    #T_adc3721c_45d3_11ea_b018_acde48001122row21_col2 {\n",
       "            background-color:  #dcdddd;\n",
       "            color:  #000000;\n",
       "        }    #T_adc3721c_45d3_11ea_b018_acde48001122row21_col3 {\n",
       "            background-color:  #dcdddd;\n",
       "            color:  #000000;\n",
       "        }    #T_adc3721c_45d3_11ea_b018_acde48001122row21_col4 {\n",
       "            background-color:  #8fb1fe;\n",
       "            color:  #000000;\n",
       "        }    #T_adc3721c_45d3_11ea_b018_acde48001122row21_col5 {\n",
       "            background-color:  #cfdaea;\n",
       "            color:  #000000;\n",
       "        }    #T_adc3721c_45d3_11ea_b018_acde48001122row21_col6 {\n",
       "            background-color:  #d7dce3;\n",
       "            color:  #000000;\n",
       "        }    #T_adc3721c_45d3_11ea_b018_acde48001122row21_col7 {\n",
       "            background-color:  #e9d5cb;\n",
       "            color:  #000000;\n",
       "        }    #T_adc3721c_45d3_11ea_b018_acde48001122row21_col8 {\n",
       "            background-color:  #e8d6cc;\n",
       "            color:  #000000;\n",
       "        }    #T_adc3721c_45d3_11ea_b018_acde48001122row21_col9 {\n",
       "            background-color:  #d8dce2;\n",
       "            color:  #000000;\n",
       "        }    #T_adc3721c_45d3_11ea_b018_acde48001122row21_col10 {\n",
       "            background-color:  #e3d9d3;\n",
       "            color:  #000000;\n",
       "        }    #T_adc3721c_45d3_11ea_b018_acde48001122row21_col11 {\n",
       "            background-color:  #dcdddd;\n",
       "            color:  #000000;\n",
       "        }    #T_adc3721c_45d3_11ea_b018_acde48001122row21_col12 {\n",
       "            background-color:  #dcdddd;\n",
       "            color:  #000000;\n",
       "        }    #T_adc3721c_45d3_11ea_b018_acde48001122row21_col13 {\n",
       "            background-color:  #dcdddd;\n",
       "            color:  #000000;\n",
       "        }    #T_adc3721c_45d3_11ea_b018_acde48001122row21_col14 {\n",
       "            background-color:  #d4dbe6;\n",
       "            color:  #000000;\n",
       "        }    #T_adc3721c_45d3_11ea_b018_acde48001122row21_col15 {\n",
       "            background-color:  #f4c5ad;\n",
       "            color:  #000000;\n",
       "        }    #T_adc3721c_45d3_11ea_b018_acde48001122row21_col16 {\n",
       "            background-color:  #dcdddd;\n",
       "            color:  #000000;\n",
       "        }    #T_adc3721c_45d3_11ea_b018_acde48001122row21_col17 {\n",
       "            background-color:  #dcdddd;\n",
       "            color:  #000000;\n",
       "        }    #T_adc3721c_45d3_11ea_b018_acde48001122row21_col18 {\n",
       "            background-color:  #dcdddd;\n",
       "            color:  #000000;\n",
       "        }    #T_adc3721c_45d3_11ea_b018_acde48001122row21_col19 {\n",
       "            background-color:  #b7cff9;\n",
       "            color:  #000000;\n",
       "        }    #T_adc3721c_45d3_11ea_b018_acde48001122row21_col20 {\n",
       "            background-color:  #dadce0;\n",
       "            color:  #000000;\n",
       "        }    #T_adc3721c_45d3_11ea_b018_acde48001122row21_col21 {\n",
       "            background-color:  #b40426;\n",
       "            color:  #f1f1f1;\n",
       "        }    #T_adc3721c_45d3_11ea_b018_acde48001122row21_col22 {\n",
       "            background-color:  #9abbff;\n",
       "            color:  #000000;\n",
       "        }    #T_adc3721c_45d3_11ea_b018_acde48001122row22_col0 {\n",
       "            background-color:  #dcdddd;\n",
       "            color:  #000000;\n",
       "        }    #T_adc3721c_45d3_11ea_b018_acde48001122row22_col1 {\n",
       "            background-color:  #dcdddd;\n",
       "            color:  #000000;\n",
       "        }    #T_adc3721c_45d3_11ea_b018_acde48001122row22_col2 {\n",
       "            background-color:  #dbdcde;\n",
       "            color:  #000000;\n",
       "        }    #T_adc3721c_45d3_11ea_b018_acde48001122row22_col3 {\n",
       "            background-color:  #abc8fd;\n",
       "            color:  #000000;\n",
       "        }    #T_adc3721c_45d3_11ea_b018_acde48001122row22_col4 {\n",
       "            background-color:  #f3c8b2;\n",
       "            color:  #000000;\n",
       "        }    #T_adc3721c_45d3_11ea_b018_acde48001122row22_col5 {\n",
       "            background-color:  #efcfbf;\n",
       "            color:  #000000;\n",
       "        }    #T_adc3721c_45d3_11ea_b018_acde48001122row22_col6 {\n",
       "            background-color:  #dadce0;\n",
       "            color:  #000000;\n",
       "        }    #T_adc3721c_45d3_11ea_b018_acde48001122row22_col7 {\n",
       "            background-color:  #c7d7f0;\n",
       "            color:  #000000;\n",
       "        }    #T_adc3721c_45d3_11ea_b018_acde48001122row22_col8 {\n",
       "            background-color:  #d1dae9;\n",
       "            color:  #000000;\n",
       "        }    #T_adc3721c_45d3_11ea_b018_acde48001122row22_col9 {\n",
       "            background-color:  #d4dbe6;\n",
       "            color:  #000000;\n",
       "        }    #T_adc3721c_45d3_11ea_b018_acde48001122row22_col10 {\n",
       "            background-color:  #d2dbe8;\n",
       "            color:  #000000;\n",
       "        }    #T_adc3721c_45d3_11ea_b018_acde48001122row22_col11 {\n",
       "            background-color:  #dcdddd;\n",
       "            color:  #000000;\n",
       "        }    #T_adc3721c_45d3_11ea_b018_acde48001122row22_col12 {\n",
       "            background-color:  #dedcdb;\n",
       "            color:  #000000;\n",
       "        }    #T_adc3721c_45d3_11ea_b018_acde48001122row22_col13 {\n",
       "            background-color:  #dcdddd;\n",
       "            color:  #000000;\n",
       "        }    #T_adc3721c_45d3_11ea_b018_acde48001122row22_col14 {\n",
       "            background-color:  #e1dad6;\n",
       "            color:  #000000;\n",
       "        }    #T_adc3721c_45d3_11ea_b018_acde48001122row22_col15 {\n",
       "            background-color:  #9abbff;\n",
       "            color:  #000000;\n",
       "        }    #T_adc3721c_45d3_11ea_b018_acde48001122row22_col16 {\n",
       "            background-color:  #dcdddd;\n",
       "            color:  #000000;\n",
       "        }    #T_adc3721c_45d3_11ea_b018_acde48001122row22_col17 {\n",
       "            background-color:  #dcdddd;\n",
       "            color:  #000000;\n",
       "        }    #T_adc3721c_45d3_11ea_b018_acde48001122row22_col18 {\n",
       "            background-color:  #dcdddd;\n",
       "            color:  #000000;\n",
       "        }    #T_adc3721c_45d3_11ea_b018_acde48001122row22_col19 {\n",
       "            background-color:  #f7a889;\n",
       "            color:  #000000;\n",
       "        }    #T_adc3721c_45d3_11ea_b018_acde48001122row22_col20 {\n",
       "            background-color:  #e7d7ce;\n",
       "            color:  #000000;\n",
       "        }    #T_adc3721c_45d3_11ea_b018_acde48001122row22_col21 {\n",
       "            background-color:  #9abbff;\n",
       "            color:  #000000;\n",
       "        }    #T_adc3721c_45d3_11ea_b018_acde48001122row22_col22 {\n",
       "            background-color:  #b40426;\n",
       "            color:  #f1f1f1;\n",
       "        }</style><table id=\"T_adc3721c_45d3_11ea_b018_acde48001122\" ><thead>    <tr>        <th class=\"blank level0\" ></th>        <th class=\"col_heading level0 col0\" >Store</th>        <th class=\"col_heading level0 col1\" >Dept</th>        <th class=\"col_heading level0 col2\" >Weekly_Sales</th>        <th class=\"col_heading level0 col3\" >IsHoliday</th>        <th class=\"col_heading level0 col4\" >Temperature</th>        <th class=\"col_heading level0 col5\" >Fuel_Price</th>        <th class=\"col_heading level0 col6\" >MarkDown1</th>        <th class=\"col_heading level0 col7\" >MarkDown2</th>        <th class=\"col_heading level0 col8\" >MarkDown3</th>        <th class=\"col_heading level0 col9\" >MarkDown4</th>        <th class=\"col_heading level0 col10\" >MarkDown5</th>        <th class=\"col_heading level0 col11\" >CPI</th>        <th class=\"col_heading level0 col12\" >Unemployment</th>        <th class=\"col_heading level0 col13\" >Size</th>        <th class=\"col_heading level0 col14\" >Year</th>        <th class=\"col_heading level0 col15\" >Month</th>        <th class=\"col_heading level0 col16\" >A</th>        <th class=\"col_heading level0 col17\" >B</th>        <th class=\"col_heading level0 col18\" >C</th>        <th class=\"col_heading level0 col19\" >ChristmasCountDown</th>        <th class=\"col_heading level0 col20\" >ThanksgivingCountDown</th>        <th class=\"col_heading level0 col21\" >LaborDayCountDown</th>        <th class=\"col_heading level0 col22\" >SuperBowlCountDown</th>    </tr></thead><tbody>\n",
       "                <tr>\n",
       "                        <th id=\"T_adc3721c_45d3_11ea_b018_acde48001122level0_row0\" class=\"row_heading level0 row0\" >Store</th>\n",
       "                        <td id=\"T_adc3721c_45d3_11ea_b018_acde48001122row0_col0\" class=\"data row0 col0\" >1</td>\n",
       "                        <td id=\"T_adc3721c_45d3_11ea_b018_acde48001122row0_col1\" class=\"data row0 col1\" >0.0240037</td>\n",
       "                        <td id=\"T_adc3721c_45d3_11ea_b018_acde48001122row0_col2\" class=\"data row0 col2\" >-0.085195</td>\n",
       "                        <td id=\"T_adc3721c_45d3_11ea_b018_acde48001122row0_col3\" class=\"data row0 col3\" >-0.000547988</td>\n",
       "                        <td id=\"T_adc3721c_45d3_11ea_b018_acde48001122row0_col4\" class=\"data row0 col4\" >-0.0500969</td>\n",
       "                        <td id=\"T_adc3721c_45d3_11ea_b018_acde48001122row0_col5\" class=\"data row0 col5\" >0.0652902</td>\n",
       "                        <td id=\"T_adc3721c_45d3_11ea_b018_acde48001122row0_col6\" class=\"data row0 col6\" >-0.0598441</td>\n",
       "                        <td id=\"T_adc3721c_45d3_11ea_b018_acde48001122row0_col7\" class=\"data row0 col7\" >-0.0338291</td>\n",
       "                        <td id=\"T_adc3721c_45d3_11ea_b018_acde48001122row0_col8\" class=\"data row0 col8\" >-0.0203307</td>\n",
       "                        <td id=\"T_adc3721c_45d3_11ea_b018_acde48001122row0_col9\" class=\"data row0 col9\" >-0.0427245</td>\n",
       "                        <td id=\"T_adc3721c_45d3_11ea_b018_acde48001122row0_col10\" class=\"data row0 col10\" >-0.0124515</td>\n",
       "                        <td id=\"T_adc3721c_45d3_11ea_b018_acde48001122row0_col11\" class=\"data row0 col11\" >-0.211088</td>\n",
       "                        <td id=\"T_adc3721c_45d3_11ea_b018_acde48001122row0_col12\" class=\"data row0 col12\" >0.208552</td>\n",
       "                        <td id=\"T_adc3721c_45d3_11ea_b018_acde48001122row0_col13\" class=\"data row0 col13\" >-0.182881</td>\n",
       "                        <td id=\"T_adc3721c_45d3_11ea_b018_acde48001122row0_col14\" class=\"data row0 col14\" >0.00299702</td>\n",
       "                        <td id=\"T_adc3721c_45d3_11ea_b018_acde48001122row0_col15\" class=\"data row0 col15\" >0.00101059</td>\n",
       "                        <td id=\"T_adc3721c_45d3_11ea_b018_acde48001122row0_col16\" class=\"data row0 col16\" >-0.0371191</td>\n",
       "                        <td id=\"T_adc3721c_45d3_11ea_b018_acde48001122row0_col17\" class=\"data row0 col17\" >-0.233461</td>\n",
       "                        <td id=\"T_adc3721c_45d3_11ea_b018_acde48001122row0_col18\" class=\"data row0 col18\" >0.439004</td>\n",
       "                        <td id=\"T_adc3721c_45d3_11ea_b018_acde48001122row0_col19\" class=\"data row0 col19\" >-0.00103064</td>\n",
       "                        <td id=\"T_adc3721c_45d3_11ea_b018_acde48001122row0_col20\" class=\"data row0 col20\" >-0.00144318</td>\n",
       "                        <td id=\"T_adc3721c_45d3_11ea_b018_acde48001122row0_col21\" class=\"data row0 col21\" >-0.00155944</td>\n",
       "                        <td id=\"T_adc3721c_45d3_11ea_b018_acde48001122row0_col22\" class=\"data row0 col22\" >0.00041832</td>\n",
       "            </tr>\n",
       "            <tr>\n",
       "                        <th id=\"T_adc3721c_45d3_11ea_b018_acde48001122level0_row1\" class=\"row_heading level0 row1\" >Dept</th>\n",
       "                        <td id=\"T_adc3721c_45d3_11ea_b018_acde48001122row1_col0\" class=\"data row1 col0\" >0.0240037</td>\n",
       "                        <td id=\"T_adc3721c_45d3_11ea_b018_acde48001122row1_col1\" class=\"data row1 col1\" >1</td>\n",
       "                        <td id=\"T_adc3721c_45d3_11ea_b018_acde48001122row1_col2\" class=\"data row1 col2\" >0.148032</td>\n",
       "                        <td id=\"T_adc3721c_45d3_11ea_b018_acde48001122row1_col3\" class=\"data row1 col3\" >0.000916102</td>\n",
       "                        <td id=\"T_adc3721c_45d3_11ea_b018_acde48001122row1_col4\" class=\"data row1 col4\" >0.00443652</td>\n",
       "                        <td id=\"T_adc3721c_45d3_11ea_b018_acde48001122row1_col5\" class=\"data row1 col5\" >0.00357198</td>\n",
       "                        <td id=\"T_adc3721c_45d3_11ea_b018_acde48001122row1_col6\" class=\"data row1 col6\" >0.00149414</td>\n",
       "                        <td id=\"T_adc3721c_45d3_11ea_b018_acde48001122row1_col7\" class=\"data row1 col7\" >0.000586856</td>\n",
       "                        <td id=\"T_adc3721c_45d3_11ea_b018_acde48001122row1_col8\" class=\"data row1 col8\" >0.00147547</td>\n",
       "                        <td id=\"T_adc3721c_45d3_11ea_b018_acde48001122row1_col9\" class=\"data row1 col9\" >0.00193731</td>\n",
       "                        <td id=\"T_adc3721c_45d3_11ea_b018_acde48001122row1_col10\" class=\"data row1 col10\" >0.00266803</td>\n",
       "                        <td id=\"T_adc3721c_45d3_11ea_b018_acde48001122row1_col11\" class=\"data row1 col11\" >-0.00747739</td>\n",
       "                        <td id=\"T_adc3721c_45d3_11ea_b018_acde48001122row1_col12\" class=\"data row1 col12\" >0.00783677</td>\n",
       "                        <td id=\"T_adc3721c_45d3_11ea_b018_acde48001122row1_col13\" class=\"data row1 col13\" >-0.00296646</td>\n",
       "                        <td id=\"T_adc3721c_45d3_11ea_b018_acde48001122row1_col14\" class=\"data row1 col14\" >0.00373789</td>\n",
       "                        <td id=\"T_adc3721c_45d3_11ea_b018_acde48001122row1_col15\" class=\"data row1 col15\" >0.000903763</td>\n",
       "                        <td id=\"T_adc3721c_45d3_11ea_b018_acde48001122row1_col16\" class=\"data row1 col16\" >0.0121339</td>\n",
       "                        <td id=\"T_adc3721c_45d3_11ea_b018_acde48001122row1_col17\" class=\"data row1 col17\" >-0.0299676</td>\n",
       "                        <td id=\"T_adc3721c_45d3_11ea_b018_acde48001122row1_col18\" class=\"data row1 col18\" >0.0283237</td>\n",
       "                        <td id=\"T_adc3721c_45d3_11ea_b018_acde48001122row1_col19\" class=\"data row1 col19\" >-0.000881863</td>\n",
       "                        <td id=\"T_adc3721c_45d3_11ea_b018_acde48001122row1_col20\" class=\"data row1 col20\" >0.000208983</td>\n",
       "                        <td id=\"T_adc3721c_45d3_11ea_b018_acde48001122row1_col21\" class=\"data row1 col21\" >-0.00214943</td>\n",
       "                        <td id=\"T_adc3721c_45d3_11ea_b018_acde48001122row1_col22\" class=\"data row1 col22\" >-0.00029886</td>\n",
       "            </tr>\n",
       "            <tr>\n",
       "                        <th id=\"T_adc3721c_45d3_11ea_b018_acde48001122level0_row2\" class=\"row_heading level0 row2\" >Weekly_Sales</th>\n",
       "                        <td id=\"T_adc3721c_45d3_11ea_b018_acde48001122row2_col0\" class=\"data row2 col0\" >-0.085195</td>\n",
       "                        <td id=\"T_adc3721c_45d3_11ea_b018_acde48001122row2_col1\" class=\"data row2 col1\" >0.148032</td>\n",
       "                        <td id=\"T_adc3721c_45d3_11ea_b018_acde48001122row2_col2\" class=\"data row2 col2\" >1</td>\n",
       "                        <td id=\"T_adc3721c_45d3_11ea_b018_acde48001122row2_col3\" class=\"data row2 col3\" >0.0127742</td>\n",
       "                        <td id=\"T_adc3721c_45d3_11ea_b018_acde48001122row2_col4\" class=\"data row2 col4\" >-0.00231245</td>\n",
       "                        <td id=\"T_adc3721c_45d3_11ea_b018_acde48001122row2_col5\" class=\"data row2 col5\" >-0.000120296</td>\n",
       "                        <td id=\"T_adc3721c_45d3_11ea_b018_acde48001122row2_col6\" class=\"data row2 col6\" >0.0471723</td>\n",
       "                        <td id=\"T_adc3721c_45d3_11ea_b018_acde48001122row2_col7\" class=\"data row2 col7\" >0.0207165</td>\n",
       "                        <td id=\"T_adc3721c_45d3_11ea_b018_acde48001122row2_col8\" class=\"data row2 col8\" >0.038562</td>\n",
       "                        <td id=\"T_adc3721c_45d3_11ea_b018_acde48001122row2_col9\" class=\"data row2 col9\" >0.0374672</td>\n",
       "                        <td id=\"T_adc3721c_45d3_11ea_b018_acde48001122row2_col10\" class=\"data row2 col10\" >0.0504653</td>\n",
       "                        <td id=\"T_adc3721c_45d3_11ea_b018_acde48001122row2_col11\" class=\"data row2 col11\" >-0.0209213</td>\n",
       "                        <td id=\"T_adc3721c_45d3_11ea_b018_acde48001122row2_col12\" class=\"data row2 col12\" >-0.0258637</td>\n",
       "                        <td id=\"T_adc3721c_45d3_11ea_b018_acde48001122row2_col13\" class=\"data row2 col13\" >0.243828</td>\n",
       "                        <td id=\"T_adc3721c_45d3_11ea_b018_acde48001122row2_col14\" class=\"data row2 col14\" >-0.0101114</td>\n",
       "                        <td id=\"T_adc3721c_45d3_11ea_b018_acde48001122row2_col15\" class=\"data row2 col15\" >0.0284094</td>\n",
       "                        <td id=\"T_adc3721c_45d3_11ea_b018_acde48001122row2_col16\" class=\"data row2 col16\" >0.185417</td>\n",
       "                        <td id=\"T_adc3721c_45d3_11ea_b018_acde48001122row2_col17\" class=\"data row2 col17\" >-0.131219</td>\n",
       "                        <td id=\"T_adc3721c_45d3_11ea_b018_acde48001122row2_col18\" class=\"data row2 col18\" >-0.0953882</td>\n",
       "                        <td id=\"T_adc3721c_45d3_11ea_b018_acde48001122row2_col19\" class=\"data row2 col19\" >-0.0276734</td>\n",
       "                        <td id=\"T_adc3721c_45d3_11ea_b018_acde48001122row2_col20\" class=\"data row2 col20\" >0.0109238</td>\n",
       "                        <td id=\"T_adc3721c_45d3_11ea_b018_acde48001122row2_col21\" class=\"data row2 col21\" >0.00146379</td>\n",
       "                        <td id=\"T_adc3721c_45d3_11ea_b018_acde48001122row2_col22\" class=\"data row2 col22\" >-0.0120038</td>\n",
       "            </tr>\n",
       "            <tr>\n",
       "                        <th id=\"T_adc3721c_45d3_11ea_b018_acde48001122level0_row3\" class=\"row_heading level0 row3\" >IsHoliday</th>\n",
       "                        <td id=\"T_adc3721c_45d3_11ea_b018_acde48001122row3_col0\" class=\"data row3 col0\" >-0.000547988</td>\n",
       "                        <td id=\"T_adc3721c_45d3_11ea_b018_acde48001122row3_col1\" class=\"data row3 col1\" >0.000916102</td>\n",
       "                        <td id=\"T_adc3721c_45d3_11ea_b018_acde48001122row3_col2\" class=\"data row3 col2\" >0.0127742</td>\n",
       "                        <td id=\"T_adc3721c_45d3_11ea_b018_acde48001122row3_col3\" class=\"data row3 col3\" >1</td>\n",
       "                        <td id=\"T_adc3721c_45d3_11ea_b018_acde48001122row3_col4\" class=\"data row3 col4\" >-0.155949</td>\n",
       "                        <td id=\"T_adc3721c_45d3_11ea_b018_acde48001122row3_col5\" class=\"data row3 col5\" >-0.0782811</td>\n",
       "                        <td id=\"T_adc3721c_45d3_11ea_b018_acde48001122row3_col6\" class=\"data row3 col6\" >-0.00352061</td>\n",
       "                        <td id=\"T_adc3721c_45d3_11ea_b018_acde48001122row3_col7\" class=\"data row3 col7\" >0.207604</td>\n",
       "                        <td id=\"T_adc3721c_45d3_11ea_b018_acde48001122row3_col8\" class=\"data row3 col8\" >0.266471</td>\n",
       "                        <td id=\"T_adc3721c_45d3_11ea_b018_acde48001122row3_col9\" class=\"data row3 col9\" >0.0115653</td>\n",
       "                        <td id=\"T_adc3721c_45d3_11ea_b018_acde48001122row3_col10\" class=\"data row3 col10\" >-0.0152354</td>\n",
       "                        <td id=\"T_adc3721c_45d3_11ea_b018_acde48001122row3_col11\" class=\"data row3 col11\" >-0.00194351</td>\n",
       "                        <td id=\"T_adc3721c_45d3_11ea_b018_acde48001122row3_col12\" class=\"data row3 col12\" >0.0104595</td>\n",
       "                        <td id=\"T_adc3721c_45d3_11ea_b018_acde48001122row3_col13\" class=\"data row3 col13\" >0.000593038</td>\n",
       "                        <td id=\"T_adc3721c_45d3_11ea_b018_acde48001122row3_col14\" class=\"data row3 col14\" >-0.0567457</td>\n",
       "                        <td id=\"T_adc3721c_45d3_11ea_b018_acde48001122row3_col15\" class=\"data row3 col15\" >0.123376</td>\n",
       "                        <td id=\"T_adc3721c_45d3_11ea_b018_acde48001122row3_col16\" class=\"data row3 col16\" >0.000451024</td>\n",
       "                        <td id=\"T_adc3721c_45d3_11ea_b018_acde48001122row3_col17\" class=\"data row3 col17\" >0.000166554</td>\n",
       "                        <td id=\"T_adc3721c_45d3_11ea_b018_acde48001122row3_col18\" class=\"data row3 col18\" >-0.00101733</td>\n",
       "                        <td id=\"T_adc3721c_45d3_11ea_b018_acde48001122row3_col19\" class=\"data row3 col19\" >-0.128184</td>\n",
       "                        <td id=\"T_adc3721c_45d3_11ea_b018_acde48001122row3_col20\" class=\"data row3 col20\" >0.00299834</td>\n",
       "                        <td id=\"T_adc3721c_45d3_11ea_b018_acde48001122row3_col21\" class=\"data row3 col21\" >0.000823528</td>\n",
       "                        <td id=\"T_adc3721c_45d3_11ea_b018_acde48001122row3_col22\" class=\"data row3 col22\" >-0.320952</td>\n",
       "            </tr>\n",
       "            <tr>\n",
       "                        <th id=\"T_adc3721c_45d3_11ea_b018_acde48001122level0_row4\" class=\"row_heading level0 row4\" >Temperature</th>\n",
       "                        <td id=\"T_adc3721c_45d3_11ea_b018_acde48001122row4_col0\" class=\"data row4 col0\" >-0.0500969</td>\n",
       "                        <td id=\"T_adc3721c_45d3_11ea_b018_acde48001122row4_col1\" class=\"data row4 col1\" >0.00443652</td>\n",
       "                        <td id=\"T_adc3721c_45d3_11ea_b018_acde48001122row4_col2\" class=\"data row4 col2\" >-0.00231245</td>\n",
       "                        <td id=\"T_adc3721c_45d3_11ea_b018_acde48001122row4_col3\" class=\"data row4 col3\" >-0.155949</td>\n",
       "                        <td id=\"T_adc3721c_45d3_11ea_b018_acde48001122row4_col4\" class=\"data row4 col4\" >1</td>\n",
       "                        <td id=\"T_adc3721c_45d3_11ea_b018_acde48001122row4_col5\" class=\"data row4 col5\" >0.143859</td>\n",
       "                        <td id=\"T_adc3721c_45d3_11ea_b018_acde48001122row4_col6\" class=\"data row4 col6\" >-0.0264151</td>\n",
       "                        <td id=\"T_adc3721c_45d3_11ea_b018_acde48001122row4_col7\" class=\"data row4 col7\" >-0.179672</td>\n",
       "                        <td id=\"T_adc3721c_45d3_11ea_b018_acde48001122row4_col8\" class=\"data row4 col8\" >-0.0560263</td>\n",
       "                        <td id=\"T_adc3721c_45d3_11ea_b018_acde48001122row4_col9\" class=\"data row4 col9\" >-0.0502809</td>\n",
       "                        <td id=\"T_adc3721c_45d3_11ea_b018_acde48001122row4_col10\" class=\"data row4 col10\" >-0.0147524</td>\n",
       "                        <td id=\"T_adc3721c_45d3_11ea_b018_acde48001122row4_col11\" class=\"data row4 col11\" >0.182112</td>\n",
       "                        <td id=\"T_adc3721c_45d3_11ea_b018_acde48001122row4_col12\" class=\"data row4 col12\" >0.0967302</td>\n",
       "                        <td id=\"T_adc3721c_45d3_11ea_b018_acde48001122row4_col13\" class=\"data row4 col13\" >-0.0583129</td>\n",
       "                        <td id=\"T_adc3721c_45d3_11ea_b018_acde48001122row4_col14\" class=\"data row4 col14\" >0.0658144</td>\n",
       "                        <td id=\"T_adc3721c_45d3_11ea_b018_acde48001122row4_col15\" class=\"data row4 col15\" >0.235983</td>\n",
       "                        <td id=\"T_adc3721c_45d3_11ea_b018_acde48001122row4_col16\" class=\"data row4 col16\" >0.0244925</td>\n",
       "                        <td id=\"T_adc3721c_45d3_11ea_b018_acde48001122row4_col17\" class=\"data row4 col17\" >-0.109032</td>\n",
       "                        <td id=\"T_adc3721c_45d3_11ea_b018_acde48001122row4_col18\" class=\"data row4 col18\" >0.135651</td>\n",
       "                        <td id=\"T_adc3721c_45d3_11ea_b018_acde48001122row4_col19\" class=\"data row4 col19\" >-0.236276</td>\n",
       "                        <td id=\"T_adc3721c_45d3_11ea_b018_acde48001122row4_col20\" class=\"data row4 col20\" >-0.524235</td>\n",
       "                        <td id=\"T_adc3721c_45d3_11ea_b018_acde48001122row4_col21\" class=\"data row4 col21\" >-0.48642</td>\n",
       "                        <td id=\"T_adc3721c_45d3_11ea_b018_acde48001122row4_col22\" class=\"data row4 col22\" >0.221513</td>\n",
       "            </tr>\n",
       "            <tr>\n",
       "                        <th id=\"T_adc3721c_45d3_11ea_b018_acde48001122level0_row5\" class=\"row_heading level0 row5\" >Fuel_Price</th>\n",
       "                        <td id=\"T_adc3721c_45d3_11ea_b018_acde48001122row5_col0\" class=\"data row5 col0\" >0.0652902</td>\n",
       "                        <td id=\"T_adc3721c_45d3_11ea_b018_acde48001122row5_col1\" class=\"data row5 col1\" >0.00357198</td>\n",
       "                        <td id=\"T_adc3721c_45d3_11ea_b018_acde48001122row5_col2\" class=\"data row5 col2\" >-0.000120296</td>\n",
       "                        <td id=\"T_adc3721c_45d3_11ea_b018_acde48001122row5_col3\" class=\"data row5 col3\" >-0.0782811</td>\n",
       "                        <td id=\"T_adc3721c_45d3_11ea_b018_acde48001122row5_col4\" class=\"data row5 col4\" >0.143859</td>\n",
       "                        <td id=\"T_adc3721c_45d3_11ea_b018_acde48001122row5_col5\" class=\"data row5 col5\" >1</td>\n",
       "                        <td id=\"T_adc3721c_45d3_11ea_b018_acde48001122row5_col6\" class=\"data row5 col6\" >0.297056</td>\n",
       "                        <td id=\"T_adc3721c_45d3_11ea_b018_acde48001122row5_col7\" class=\"data row5 col7\" >0.0291532</td>\n",
       "                        <td id=\"T_adc3721c_45d3_11ea_b018_acde48001122row5_col8\" class=\"data row5 col8\" >0.0186149</td>\n",
       "                        <td id=\"T_adc3721c_45d3_11ea_b018_acde48001122row5_col9\" class=\"data row5 col9\" >0.166622</td>\n",
       "                        <td id=\"T_adc3721c_45d3_11ea_b018_acde48001122row5_col10\" class=\"data row5 col10\" >0.21542</td>\n",
       "                        <td id=\"T_adc3721c_45d3_11ea_b018_acde48001122row5_col11\" class=\"data row5 col11\" >-0.16421</td>\n",
       "                        <td id=\"T_adc3721c_45d3_11ea_b018_acde48001122row5_col12\" class=\"data row5 col12\" >-0.0338527</td>\n",
       "                        <td id=\"T_adc3721c_45d3_11ea_b018_acde48001122row5_col13\" class=\"data row5 col13\" >0.00336119</td>\n",
       "                        <td id=\"T_adc3721c_45d3_11ea_b018_acde48001122row5_col14\" class=\"data row5 col14\" >0.779633</td>\n",
       "                        <td id=\"T_adc3721c_45d3_11ea_b018_acde48001122row5_col15\" class=\"data row5 col15\" >-0.0408763</td>\n",
       "                        <td id=\"T_adc3721c_45d3_11ea_b018_acde48001122row5_col16\" class=\"data row5 col16\" >-0.0379733</td>\n",
       "                        <td id=\"T_adc3721c_45d3_11ea_b018_acde48001122row5_col17\" class=\"data row5 col17\" >0.0373165</td>\n",
       "                        <td id=\"T_adc3721c_45d3_11ea_b018_acde48001122row5_col18\" class=\"data row5 col18\" >0.00265207</td>\n",
       "                        <td id=\"T_adc3721c_45d3_11ea_b018_acde48001122row5_col19\" class=\"data row5 col19\" >0.0311396</td>\n",
       "                        <td id=\"T_adc3721c_45d3_11ea_b018_acde48001122row5_col20\" class=\"data row5 col20\" >-0.0808692</td>\n",
       "                        <td id=\"T_adc3721c_45d3_11ea_b018_acde48001122row5_col21\" class=\"data row5 col21\" >-0.0951786</td>\n",
       "                        <td id=\"T_adc3721c_45d3_11ea_b018_acde48001122row5_col22\" class=\"data row5 col22\" >0.161818</td>\n",
       "            </tr>\n",
       "            <tr>\n",
       "                        <th id=\"T_adc3721c_45d3_11ea_b018_acde48001122level0_row6\" class=\"row_heading level0 row6\" >MarkDown1</th>\n",
       "                        <td id=\"T_adc3721c_45d3_11ea_b018_acde48001122row6_col0\" class=\"data row6 col0\" >-0.0598441</td>\n",
       "                        <td id=\"T_adc3721c_45d3_11ea_b018_acde48001122row6_col1\" class=\"data row6 col1\" >0.00149414</td>\n",
       "                        <td id=\"T_adc3721c_45d3_11ea_b018_acde48001122row6_col2\" class=\"data row6 col2\" >0.0471723</td>\n",
       "                        <td id=\"T_adc3721c_45d3_11ea_b018_acde48001122row6_col3\" class=\"data row6 col3\" >-0.00352061</td>\n",
       "                        <td id=\"T_adc3721c_45d3_11ea_b018_acde48001122row6_col4\" class=\"data row6 col4\" >-0.0264151</td>\n",
       "                        <td id=\"T_adc3721c_45d3_11ea_b018_acde48001122row6_col5\" class=\"data row6 col5\" >0.297056</td>\n",
       "                        <td id=\"T_adc3721c_45d3_11ea_b018_acde48001122row6_col6\" class=\"data row6 col6\" >1</td>\n",
       "                        <td id=\"T_adc3721c_45d3_11ea_b018_acde48001122row6_col7\" class=\"data row6 col7\" >0.174868</td>\n",
       "                        <td id=\"T_adc3721c_45d3_11ea_b018_acde48001122row6_col8\" class=\"data row6 col8\" >-0.0144109</td>\n",
       "                        <td id=\"T_adc3721c_45d3_11ea_b018_acde48001122row6_col9\" class=\"data row6 col9\" >0.838904</td>\n",
       "                        <td id=\"T_adc3721c_45d3_11ea_b018_acde48001122row6_col10\" class=\"data row6 col10\" >0.41505</td>\n",
       "                        <td id=\"T_adc3721c_45d3_11ea_b018_acde48001122row6_col11\" class=\"data row6 col11\" >0.0109148</td>\n",
       "                        <td id=\"T_adc3721c_45d3_11ea_b018_acde48001122row6_col12\" class=\"data row6 col12\" >-0.105168</td>\n",
       "                        <td id=\"T_adc3721c_45d3_11ea_b018_acde48001122row6_col13\" class=\"data row6 col13\" >0.169788</td>\n",
       "                        <td id=\"T_adc3721c_45d3_11ea_b018_acde48001122row6_col14\" class=\"data row6 col14\" >0.501044</td>\n",
       "                        <td id=\"T_adc3721c_45d3_11ea_b018_acde48001122row6_col15\" class=\"data row6 col15\" >-0.0892057</td>\n",
       "                        <td id=\"T_adc3721c_45d3_11ea_b018_acde48001122row6_col16\" class=\"data row6 col16\" >0.0865552</td>\n",
       "                        <td id=\"T_adc3721c_45d3_11ea_b018_acde48001122row6_col17\" class=\"data row6 col17\" >-0.00481437</td>\n",
       "                        <td id=\"T_adc3721c_45d3_11ea_b018_acde48001122row6_col18\" class=\"data row6 col18\" >-0.135776</td>\n",
       "                        <td id=\"T_adc3721c_45d3_11ea_b018_acde48001122row6_col19\" class=\"data row6 col19\" >0.0935719</td>\n",
       "                        <td id=\"T_adc3721c_45d3_11ea_b018_acde48001122row6_col20\" class=\"data row6 col20\" >0.058851</td>\n",
       "                        <td id=\"T_adc3721c_45d3_11ea_b018_acde48001122row6_col21\" class=\"data row6 col21\" >-0.0369964</td>\n",
       "                        <td id=\"T_adc3721c_45d3_11ea_b018_acde48001122row6_col22\" class=\"data row6 col22\" >-0.0178527</td>\n",
       "            </tr>\n",
       "            <tr>\n",
       "                        <th id=\"T_adc3721c_45d3_11ea_b018_acde48001122level0_row7\" class=\"row_heading level0 row7\" >MarkDown2</th>\n",
       "                        <td id=\"T_adc3721c_45d3_11ea_b018_acde48001122row7_col0\" class=\"data row7 col0\" >-0.0338291</td>\n",
       "                        <td id=\"T_adc3721c_45d3_11ea_b018_acde48001122row7_col1\" class=\"data row7 col1\" >0.000586856</td>\n",
       "                        <td id=\"T_adc3721c_45d3_11ea_b018_acde48001122row7_col2\" class=\"data row7 col2\" >0.0207165</td>\n",
       "                        <td id=\"T_adc3721c_45d3_11ea_b018_acde48001122row7_col3\" class=\"data row7 col3\" >0.207604</td>\n",
       "                        <td id=\"T_adc3721c_45d3_11ea_b018_acde48001122row7_col4\" class=\"data row7 col4\" >-0.179672</td>\n",
       "                        <td id=\"T_adc3721c_45d3_11ea_b018_acde48001122row7_col5\" class=\"data row7 col5\" >0.0291532</td>\n",
       "                        <td id=\"T_adc3721c_45d3_11ea_b018_acde48001122row7_col6\" class=\"data row7 col6\" >0.174868</td>\n",
       "                        <td id=\"T_adc3721c_45d3_11ea_b018_acde48001122row7_col7\" class=\"data row7 col7\" >1</td>\n",
       "                        <td id=\"T_adc3721c_45d3_11ea_b018_acde48001122row7_col8\" class=\"data row7 col8\" >-0.00608023</td>\n",
       "                        <td id=\"T_adc3721c_45d3_11ea_b018_acde48001122row7_col9\" class=\"data row7 col9\" >0.11325</td>\n",
       "                        <td id=\"T_adc3721c_45d3_11ea_b018_acde48001122row7_col10\" class=\"data row7 col10\" >0.131735</td>\n",
       "                        <td id=\"T_adc3721c_45d3_11ea_b018_acde48001122row7_col11\" class=\"data row7 col11\" >-0.0035539</td>\n",
       "                        <td id=\"T_adc3721c_45d3_11ea_b018_acde48001122row7_col12\" class=\"data row7 col12\" >-0.0414273</td>\n",
       "                        <td id=\"T_adc3721c_45d3_11ea_b018_acde48001122row7_col13\" class=\"data row7 col13\" >0.0783722</td>\n",
       "                        <td id=\"T_adc3721c_45d3_11ea_b018_acde48001122row7_col14\" class=\"data row7 col14\" >0.131867</td>\n",
       "                        <td id=\"T_adc3721c_45d3_11ea_b018_acde48001122row7_col15\" class=\"data row7 col15\" >-0.0193597</td>\n",
       "                        <td id=\"T_adc3721c_45d3_11ea_b018_acde48001122row7_col16\" class=\"data row7 col16\" >0.0408727</td>\n",
       "                        <td id=\"T_adc3721c_45d3_11ea_b018_acde48001122row7_col17\" class=\"data row7 col17\" >-0.00821431</td>\n",
       "                        <td id=\"T_adc3721c_45d3_11ea_b018_acde48001122row7_col18\" class=\"data row7 col18\" >-0.0545108</td>\n",
       "                        <td id=\"T_adc3721c_45d3_11ea_b018_acde48001122row7_col19\" class=\"data row7 col19\" >0.0128122</td>\n",
       "                        <td id=\"T_adc3721c_45d3_11ea_b018_acde48001122row7_col20\" class=\"data row7 col20\" >0.184276</td>\n",
       "                        <td id=\"T_adc3721c_45d3_11ea_b018_acde48001122row7_col21\" class=\"data row7 col21\" >0.102285</td>\n",
       "                        <td id=\"T_adc3721c_45d3_11ea_b018_acde48001122row7_col22\" class=\"data row7 col22\" >-0.149188</td>\n",
       "            </tr>\n",
       "            <tr>\n",
       "                        <th id=\"T_adc3721c_45d3_11ea_b018_acde48001122level0_row8\" class=\"row_heading level0 row8\" >MarkDown3</th>\n",
       "                        <td id=\"T_adc3721c_45d3_11ea_b018_acde48001122row8_col0\" class=\"data row8 col0\" >-0.0203307</td>\n",
       "                        <td id=\"T_adc3721c_45d3_11ea_b018_acde48001122row8_col1\" class=\"data row8 col1\" >0.00147547</td>\n",
       "                        <td id=\"T_adc3721c_45d3_11ea_b018_acde48001122row8_col2\" class=\"data row8 col2\" >0.038562</td>\n",
       "                        <td id=\"T_adc3721c_45d3_11ea_b018_acde48001122row8_col3\" class=\"data row8 col3\" >0.266471</td>\n",
       "                        <td id=\"T_adc3721c_45d3_11ea_b018_acde48001122row8_col4\" class=\"data row8 col4\" >-0.0560263</td>\n",
       "                        <td id=\"T_adc3721c_45d3_11ea_b018_acde48001122row8_col5\" class=\"data row8 col5\" >0.0186149</td>\n",
       "                        <td id=\"T_adc3721c_45d3_11ea_b018_acde48001122row8_col6\" class=\"data row8 col6\" >-0.0144109</td>\n",
       "                        <td id=\"T_adc3721c_45d3_11ea_b018_acde48001122row8_col7\" class=\"data row8 col7\" >-0.00608023</td>\n",
       "                        <td id=\"T_adc3721c_45d3_11ea_b018_acde48001122row8_col8\" class=\"data row8 col8\" >1</td>\n",
       "                        <td id=\"T_adc3721c_45d3_11ea_b018_acde48001122row8_col9\" class=\"data row8 col9\" >-0.0120201</td>\n",
       "                        <td id=\"T_adc3721c_45d3_11ea_b018_acde48001122row8_col10\" class=\"data row8 col10\" >0.0424712</td>\n",
       "                        <td id=\"T_adc3721c_45d3_11ea_b018_acde48001122row8_col11\" class=\"data row8 col11\" >-0.00583883</td>\n",
       "                        <td id=\"T_adc3721c_45d3_11ea_b018_acde48001122row8_col12\" class=\"data row8 col12\" >-0.0180776</td>\n",
       "                        <td id=\"T_adc3721c_45d3_11ea_b018_acde48001122row8_col13\" class=\"data row8 col13\" >0.0336414</td>\n",
       "                        <td id=\"T_adc3721c_45d3_11ea_b018_acde48001122row8_col14\" class=\"data row8 col14\" >0.00678897</td>\n",
       "                        <td id=\"T_adc3721c_45d3_11ea_b018_acde48001122row8_col15\" class=\"data row8 col15\" >0.116031</td>\n",
       "                        <td id=\"T_adc3721c_45d3_11ea_b018_acde48001122row8_col16\" class=\"data row8 col16\" >0.0150833</td>\n",
       "                        <td id=\"T_adc3721c_45d3_11ea_b018_acde48001122row8_col17\" class=\"data row8 col17\" >0.00188985</td>\n",
       "                        <td id=\"T_adc3721c_45d3_11ea_b018_acde48001122row8_col18\" class=\"data row8 col18\" >-0.0280724</td>\n",
       "                        <td id=\"T_adc3721c_45d3_11ea_b018_acde48001122row8_col19\" class=\"data row8 col19\" >-0.122323</td>\n",
       "                        <td id=\"T_adc3721c_45d3_11ea_b018_acde48001122row8_col20\" class=\"data row8 col20\" >-0.11615</td>\n",
       "                        <td id=\"T_adc3721c_45d3_11ea_b018_acde48001122row8_col21\" class=\"data row8 col21\" >0.0883175</td>\n",
       "                        <td id=\"T_adc3721c_45d3_11ea_b018_acde48001122row8_col22\" class=\"data row8 col22\" >-0.0912552</td>\n",
       "            </tr>\n",
       "            <tr>\n",
       "                        <th id=\"T_adc3721c_45d3_11ea_b018_acde48001122level0_row9\" class=\"row_heading level0 row9\" >MarkDown4</th>\n",
       "                        <td id=\"T_adc3721c_45d3_11ea_b018_acde48001122row9_col0\" class=\"data row9 col0\" >-0.0427245</td>\n",
       "                        <td id=\"T_adc3721c_45d3_11ea_b018_acde48001122row9_col1\" class=\"data row9 col1\" >0.00193731</td>\n",
       "                        <td id=\"T_adc3721c_45d3_11ea_b018_acde48001122row9_col2\" class=\"data row9 col2\" >0.0374672</td>\n",
       "                        <td id=\"T_adc3721c_45d3_11ea_b018_acde48001122row9_col3\" class=\"data row9 col3\" >0.0115653</td>\n",
       "                        <td id=\"T_adc3721c_45d3_11ea_b018_acde48001122row9_col4\" class=\"data row9 col4\" >-0.0502809</td>\n",
       "                        <td id=\"T_adc3721c_45d3_11ea_b018_acde48001122row9_col5\" class=\"data row9 col5\" >0.166622</td>\n",
       "                        <td id=\"T_adc3721c_45d3_11ea_b018_acde48001122row9_col6\" class=\"data row9 col6\" >0.838904</td>\n",
       "                        <td id=\"T_adc3721c_45d3_11ea_b018_acde48001122row9_col7\" class=\"data row9 col7\" >0.11325</td>\n",
       "                        <td id=\"T_adc3721c_45d3_11ea_b018_acde48001122row9_col8\" class=\"data row9 col8\" >-0.0120201</td>\n",
       "                        <td id=\"T_adc3721c_45d3_11ea_b018_acde48001122row9_col9\" class=\"data row9 col9\" >1</td>\n",
       "                        <td id=\"T_adc3721c_45d3_11ea_b018_acde48001122row9_col10\" class=\"data row9 col10\" >0.30337</td>\n",
       "                        <td id=\"T_adc3721c_45d3_11ea_b018_acde48001122row9_col11\" class=\"data row9 col11\" >-0.00204714</td>\n",
       "                        <td id=\"T_adc3721c_45d3_11ea_b018_acde48001122row9_col12\" class=\"data row9 col12\" >-0.0765128</td>\n",
       "                        <td id=\"T_adc3721c_45d3_11ea_b018_acde48001122row9_col13\" class=\"data row9 col13\" >0.127334</td>\n",
       "                        <td id=\"T_adc3721c_45d3_11ea_b018_acde48001122row9_col14\" class=\"data row9 col14\" >0.33534</td>\n",
       "                        <td id=\"T_adc3721c_45d3_11ea_b018_acde48001122row9_col15\" class=\"data row9 col15\" >-0.105569</td>\n",
       "                        <td id=\"T_adc3721c_45d3_11ea_b018_acde48001122row9_col16\" class=\"data row9 col16\" >0.063737</td>\n",
       "                        <td id=\"T_adc3721c_45d3_11ea_b018_acde48001122row9_col17\" class=\"data row9 col17\" >-0.00801238</td>\n",
       "                        <td id=\"T_adc3721c_45d3_11ea_b018_acde48001122row9_col18\" class=\"data row9 col18\" >-0.0927597</td>\n",
       "                        <td id=\"T_adc3721c_45d3_11ea_b018_acde48001122row9_col19\" class=\"data row9 col19\" >0.114168</td>\n",
       "                        <td id=\"T_adc3721c_45d3_11ea_b018_acde48001122row9_col20\" class=\"data row9 col20\" >0.0847859</td>\n",
       "                        <td id=\"T_adc3721c_45d3_11ea_b018_acde48001122row9_col21\" class=\"data row9 col21\" >-0.0331103</td>\n",
       "                        <td id=\"T_adc3721c_45d3_11ea_b018_acde48001122row9_col22\" class=\"data row9 col22\" >-0.0662277</td>\n",
       "            </tr>\n",
       "            <tr>\n",
       "                        <th id=\"T_adc3721c_45d3_11ea_b018_acde48001122level0_row10\" class=\"row_heading level0 row10\" >MarkDown5</th>\n",
       "                        <td id=\"T_adc3721c_45d3_11ea_b018_acde48001122row10_col0\" class=\"data row10 col0\" >-0.0124515</td>\n",
       "                        <td id=\"T_adc3721c_45d3_11ea_b018_acde48001122row10_col1\" class=\"data row10 col1\" >0.00266803</td>\n",
       "                        <td id=\"T_adc3721c_45d3_11ea_b018_acde48001122row10_col2\" class=\"data row10 col2\" >0.0504653</td>\n",
       "                        <td id=\"T_adc3721c_45d3_11ea_b018_acde48001122row10_col3\" class=\"data row10 col3\" >-0.0152354</td>\n",
       "                        <td id=\"T_adc3721c_45d3_11ea_b018_acde48001122row10_col4\" class=\"data row10 col4\" >-0.0147524</td>\n",
       "                        <td id=\"T_adc3721c_45d3_11ea_b018_acde48001122row10_col5\" class=\"data row10 col5\" >0.21542</td>\n",
       "                        <td id=\"T_adc3721c_45d3_11ea_b018_acde48001122row10_col6\" class=\"data row10 col6\" >0.41505</td>\n",
       "                        <td id=\"T_adc3721c_45d3_11ea_b018_acde48001122row10_col7\" class=\"data row10 col7\" >0.131735</td>\n",
       "                        <td id=\"T_adc3721c_45d3_11ea_b018_acde48001122row10_col8\" class=\"data row10 col8\" >0.0424712</td>\n",
       "                        <td id=\"T_adc3721c_45d3_11ea_b018_acde48001122row10_col9\" class=\"data row10 col9\" >0.30337</td>\n",
       "                        <td id=\"T_adc3721c_45d3_11ea_b018_acde48001122row10_col10\" class=\"data row10 col10\" >1</td>\n",
       "                        <td id=\"T_adc3721c_45d3_11ea_b018_acde48001122row10_col11\" class=\"data row10 col11\" >0.0679059</td>\n",
       "                        <td id=\"T_adc3721c_45d3_11ea_b018_acde48001122row10_col12\" class=\"data row10 col12\" >-0.120406</td>\n",
       "                        <td id=\"T_adc3721c_45d3_11ea_b018_acde48001122row10_col13\" class=\"data row10 col13\" >0.153011</td>\n",
       "                        <td id=\"T_adc3721c_45d3_11ea_b018_acde48001122row10_col14\" class=\"data row10 col14\" >0.402964</td>\n",
       "                        <td id=\"T_adc3721c_45d3_11ea_b018_acde48001122row10_col15\" class=\"data row10 col15\" >0.0557697</td>\n",
       "                        <td id=\"T_adc3721c_45d3_11ea_b018_acde48001122row10_col16\" class=\"data row10 col16\" >0.117877</td>\n",
       "                        <td id=\"T_adc3721c_45d3_11ea_b018_acde48001122row10_col17\" class=\"data row10 col17\" >-0.0639097</td>\n",
       "                        <td id=\"T_adc3721c_45d3_11ea_b018_acde48001122row10_col18\" class=\"data row10 col18\" >-0.0921852</td>\n",
       "                        <td id=\"T_adc3721c_45d3_11ea_b018_acde48001122row10_col19\" class=\"data row10 col19\" >-0.0557366</td>\n",
       "                        <td id=\"T_adc3721c_45d3_11ea_b018_acde48001122row10_col20\" class=\"data row10 col20\" >0.0808486</td>\n",
       "                        <td id=\"T_adc3721c_45d3_11ea_b018_acde48001122row10_col21\" class=\"data row10 col21\" >0.0531156</td>\n",
       "                        <td id=\"T_adc3721c_45d3_11ea_b018_acde48001122row10_col22\" class=\"data row10 col22\" >-0.076561</td>\n",
       "            </tr>\n",
       "            <tr>\n",
       "                        <th id=\"T_adc3721c_45d3_11ea_b018_acde48001122level0_row11\" class=\"row_heading level0 row11\" >CPI</th>\n",
       "                        <td id=\"T_adc3721c_45d3_11ea_b018_acde48001122row11_col0\" class=\"data row11 col0\" >-0.211088</td>\n",
       "                        <td id=\"T_adc3721c_45d3_11ea_b018_acde48001122row11_col1\" class=\"data row11 col1\" >-0.00747739</td>\n",
       "                        <td id=\"T_adc3721c_45d3_11ea_b018_acde48001122row11_col2\" class=\"data row11 col2\" >-0.0209213</td>\n",
       "                        <td id=\"T_adc3721c_45d3_11ea_b018_acde48001122row11_col3\" class=\"data row11 col3\" >-0.00194351</td>\n",
       "                        <td id=\"T_adc3721c_45d3_11ea_b018_acde48001122row11_col4\" class=\"data row11 col4\" >0.182112</td>\n",
       "                        <td id=\"T_adc3721c_45d3_11ea_b018_acde48001122row11_col5\" class=\"data row11 col5\" >-0.16421</td>\n",
       "                        <td id=\"T_adc3721c_45d3_11ea_b018_acde48001122row11_col6\" class=\"data row11 col6\" >0.0109148</td>\n",
       "                        <td id=\"T_adc3721c_45d3_11ea_b018_acde48001122row11_col7\" class=\"data row11 col7\" >-0.0035539</td>\n",
       "                        <td id=\"T_adc3721c_45d3_11ea_b018_acde48001122row11_col8\" class=\"data row11 col8\" >-0.00583883</td>\n",
       "                        <td id=\"T_adc3721c_45d3_11ea_b018_acde48001122row11_col9\" class=\"data row11 col9\" >-0.00204714</td>\n",
       "                        <td id=\"T_adc3721c_45d3_11ea_b018_acde48001122row11_col10\" class=\"data row11 col10\" >0.0679059</td>\n",
       "                        <td id=\"T_adc3721c_45d3_11ea_b018_acde48001122row11_col11\" class=\"data row11 col11\" >1</td>\n",
       "                        <td id=\"T_adc3721c_45d3_11ea_b018_acde48001122row11_col12\" class=\"data row11 col12\" >-0.299953</td>\n",
       "                        <td id=\"T_adc3721c_45d3_11ea_b018_acde48001122row11_col13\" class=\"data row11 col13\" >-0.00331436</td>\n",
       "                        <td id=\"T_adc3721c_45d3_11ea_b018_acde48001122row11_col14\" class=\"data row11 col14\" >0.0745445</td>\n",
       "                        <td id=\"T_adc3721c_45d3_11ea_b018_acde48001122row11_col15\" class=\"data row11 col15\" >0.00528187</td>\n",
       "                        <td id=\"T_adc3721c_45d3_11ea_b018_acde48001122row11_col16\" class=\"data row11 col16\" >0.0837392</td>\n",
       "                        <td id=\"T_adc3721c_45d3_11ea_b018_acde48001122row11_col17\" class=\"data row11 col17\" >-0.0818168</td>\n",
       "                        <td id=\"T_adc3721c_45d3_11ea_b018_acde48001122row11_col18\" class=\"data row11 col18\" >-0.00661491</td>\n",
       "                        <td id=\"T_adc3721c_45d3_11ea_b018_acde48001122row11_col19\" class=\"data row11 col19\" >-0.00634242</td>\n",
       "                        <td id=\"T_adc3721c_45d3_11ea_b018_acde48001122row11_col20\" class=\"data row11 col20\" >-0.00911208</td>\n",
       "                        <td id=\"T_adc3721c_45d3_11ea_b018_acde48001122row11_col21\" class=\"data row11 col21\" >0.000985794</td>\n",
       "                        <td id=\"T_adc3721c_45d3_11ea_b018_acde48001122row11_col22\" class=\"data row11 col22\" >-0.00213786</td>\n",
       "            </tr>\n",
       "            <tr>\n",
       "                        <th id=\"T_adc3721c_45d3_11ea_b018_acde48001122level0_row12\" class=\"row_heading level0 row12\" >Unemployment</th>\n",
       "                        <td id=\"T_adc3721c_45d3_11ea_b018_acde48001122row12_col0\" class=\"data row12 col0\" >0.208552</td>\n",
       "                        <td id=\"T_adc3721c_45d3_11ea_b018_acde48001122row12_col1\" class=\"data row12 col1\" >0.00783677</td>\n",
       "                        <td id=\"T_adc3721c_45d3_11ea_b018_acde48001122row12_col2\" class=\"data row12 col2\" >-0.0258637</td>\n",
       "                        <td id=\"T_adc3721c_45d3_11ea_b018_acde48001122row12_col3\" class=\"data row12 col3\" >0.0104595</td>\n",
       "                        <td id=\"T_adc3721c_45d3_11ea_b018_acde48001122row12_col4\" class=\"data row12 col4\" >0.0967302</td>\n",
       "                        <td id=\"T_adc3721c_45d3_11ea_b018_acde48001122row12_col5\" class=\"data row12 col5\" >-0.0338527</td>\n",
       "                        <td id=\"T_adc3721c_45d3_11ea_b018_acde48001122row12_col6\" class=\"data row12 col6\" >-0.105168</td>\n",
       "                        <td id=\"T_adc3721c_45d3_11ea_b018_acde48001122row12_col7\" class=\"data row12 col7\" >-0.0414273</td>\n",
       "                        <td id=\"T_adc3721c_45d3_11ea_b018_acde48001122row12_col8\" class=\"data row12 col8\" >-0.0180776</td>\n",
       "                        <td id=\"T_adc3721c_45d3_11ea_b018_acde48001122row12_col9\" class=\"data row12 col9\" >-0.0765128</td>\n",
       "                        <td id=\"T_adc3721c_45d3_11ea_b018_acde48001122row12_col10\" class=\"data row12 col10\" >-0.120406</td>\n",
       "                        <td id=\"T_adc3721c_45d3_11ea_b018_acde48001122row12_col11\" class=\"data row12 col11\" >-0.299953</td>\n",
       "                        <td id=\"T_adc3721c_45d3_11ea_b018_acde48001122row12_col12\" class=\"data row12 col12\" >1</td>\n",
       "                        <td id=\"T_adc3721c_45d3_11ea_b018_acde48001122row12_col13\" class=\"data row12 col13\" >-0.0682383</td>\n",
       "                        <td id=\"T_adc3721c_45d3_11ea_b018_acde48001122row12_col14\" class=\"data row12 col14\" >-0.237161</td>\n",
       "                        <td id=\"T_adc3721c_45d3_11ea_b018_acde48001122row12_col15\" class=\"data row12 col15\" >-0.0124437</td>\n",
       "                        <td id=\"T_adc3721c_45d3_11ea_b018_acde48001122row12_col16\" class=\"data row12 col16\" >-0.0925738</td>\n",
       "                        <td id=\"T_adc3721c_45d3_11ea_b018_acde48001122row12_col17\" class=\"data row12 col17\" >-0.0134355</td>\n",
       "                        <td id=\"T_adc3721c_45d3_11ea_b018_acde48001122row12_col18\" class=\"data row12 col18\" >0.175263</td>\n",
       "                        <td id=\"T_adc3721c_45d3_11ea_b018_acde48001122row12_col19\" class=\"data row12 col19\" >0.0154904</td>\n",
       "                        <td id=\"T_adc3721c_45d3_11ea_b018_acde48001122row12_col20\" class=\"data row12 col20\" >0.0345801</td>\n",
       "                        <td id=\"T_adc3721c_45d3_11ea_b018_acde48001122row12_col21\" class=\"data row12 col21\" >-0.000760669</td>\n",
       "                        <td id=\"T_adc3721c_45d3_11ea_b018_acde48001122row12_col22\" class=\"data row12 col22\" >0.0150841</td>\n",
       "            </tr>\n",
       "            <tr>\n",
       "                        <th id=\"T_adc3721c_45d3_11ea_b018_acde48001122level0_row13\" class=\"row_heading level0 row13\" >Size</th>\n",
       "                        <td id=\"T_adc3721c_45d3_11ea_b018_acde48001122row13_col0\" class=\"data row13 col0\" >-0.182881</td>\n",
       "                        <td id=\"T_adc3721c_45d3_11ea_b018_acde48001122row13_col1\" class=\"data row13 col1\" >-0.00296646</td>\n",
       "                        <td id=\"T_adc3721c_45d3_11ea_b018_acde48001122row13_col2\" class=\"data row13 col2\" >0.243828</td>\n",
       "                        <td id=\"T_adc3721c_45d3_11ea_b018_acde48001122row13_col3\" class=\"data row13 col3\" >0.000593038</td>\n",
       "                        <td id=\"T_adc3721c_45d3_11ea_b018_acde48001122row13_col4\" class=\"data row13 col4\" >-0.0583129</td>\n",
       "                        <td id=\"T_adc3721c_45d3_11ea_b018_acde48001122row13_col5\" class=\"data row13 col5\" >0.00336119</td>\n",
       "                        <td id=\"T_adc3721c_45d3_11ea_b018_acde48001122row13_col6\" class=\"data row13 col6\" >0.169788</td>\n",
       "                        <td id=\"T_adc3721c_45d3_11ea_b018_acde48001122row13_col7\" class=\"data row13 col7\" >0.0783722</td>\n",
       "                        <td id=\"T_adc3721c_45d3_11ea_b018_acde48001122row13_col8\" class=\"data row13 col8\" >0.0336414</td>\n",
       "                        <td id=\"T_adc3721c_45d3_11ea_b018_acde48001122row13_col9\" class=\"data row13 col9\" >0.127334</td>\n",
       "                        <td id=\"T_adc3721c_45d3_11ea_b018_acde48001122row13_col10\" class=\"data row13 col10\" >0.153011</td>\n",
       "                        <td id=\"T_adc3721c_45d3_11ea_b018_acde48001122row13_col11\" class=\"data row13 col11\" >-0.00331436</td>\n",
       "                        <td id=\"T_adc3721c_45d3_11ea_b018_acde48001122row13_col12\" class=\"data row13 col12\" >-0.0682383</td>\n",
       "                        <td id=\"T_adc3721c_45d3_11ea_b018_acde48001122row13_col13\" class=\"data row13 col13\" >1</td>\n",
       "                        <td id=\"T_adc3721c_45d3_11ea_b018_acde48001122row13_col14\" class=\"data row13 col14\" >-0.00497502</td>\n",
       "                        <td id=\"T_adc3721c_45d3_11ea_b018_acde48001122row13_col15\" class=\"data row13 col15\" >-0.00120995</td>\n",
       "                        <td id=\"T_adc3721c_45d3_11ea_b018_acde48001122row13_col16\" class=\"data row13 col16\" >0.762998</td>\n",
       "                        <td id=\"T_adc3721c_45d3_11ea_b018_acde48001122row13_col17\" class=\"data row13 col17\" >-0.455646</td>\n",
       "                        <td id=\"T_adc3721c_45d3_11ea_b018_acde48001122row13_col18\" class=\"data row13 col18\" >-0.528852</td>\n",
       "                        <td id=\"T_adc3721c_45d3_11ea_b018_acde48001122row13_col19\" class=\"data row13 col19\" >0.00129183</td>\n",
       "                        <td id=\"T_adc3721c_45d3_11ea_b018_acde48001122row13_col20\" class=\"data row13 col20\" >0.000617343</td>\n",
       "                        <td id=\"T_adc3721c_45d3_11ea_b018_acde48001122row13_col21\" class=\"data row13 col21\" >-0.000934282</td>\n",
       "                        <td id=\"T_adc3721c_45d3_11ea_b018_acde48001122row13_col22\" class=\"data row13 col22\" >0.000377139</td>\n",
       "            </tr>\n",
       "            <tr>\n",
       "                        <th id=\"T_adc3721c_45d3_11ea_b018_acde48001122level0_row14\" class=\"row_heading level0 row14\" >Year</th>\n",
       "                        <td id=\"T_adc3721c_45d3_11ea_b018_acde48001122row14_col0\" class=\"data row14 col0\" >0.00299702</td>\n",
       "                        <td id=\"T_adc3721c_45d3_11ea_b018_acde48001122row14_col1\" class=\"data row14 col1\" >0.00373789</td>\n",
       "                        <td id=\"T_adc3721c_45d3_11ea_b018_acde48001122row14_col2\" class=\"data row14 col2\" >-0.0101114</td>\n",
       "                        <td id=\"T_adc3721c_45d3_11ea_b018_acde48001122row14_col3\" class=\"data row14 col3\" >-0.0567457</td>\n",
       "                        <td id=\"T_adc3721c_45d3_11ea_b018_acde48001122row14_col4\" class=\"data row14 col4\" >0.0658144</td>\n",
       "                        <td id=\"T_adc3721c_45d3_11ea_b018_acde48001122row14_col5\" class=\"data row14 col5\" >0.779633</td>\n",
       "                        <td id=\"T_adc3721c_45d3_11ea_b018_acde48001122row14_col6\" class=\"data row14 col6\" >0.501044</td>\n",
       "                        <td id=\"T_adc3721c_45d3_11ea_b018_acde48001122row14_col7\" class=\"data row14 col7\" >0.131867</td>\n",
       "                        <td id=\"T_adc3721c_45d3_11ea_b018_acde48001122row14_col8\" class=\"data row14 col8\" >0.00678897</td>\n",
       "                        <td id=\"T_adc3721c_45d3_11ea_b018_acde48001122row14_col9\" class=\"data row14 col9\" >0.33534</td>\n",
       "                        <td id=\"T_adc3721c_45d3_11ea_b018_acde48001122row14_col10\" class=\"data row14 col10\" >0.402964</td>\n",
       "                        <td id=\"T_adc3721c_45d3_11ea_b018_acde48001122row14_col11\" class=\"data row14 col11\" >0.0745445</td>\n",
       "                        <td id=\"T_adc3721c_45d3_11ea_b018_acde48001122row14_col12\" class=\"data row14 col12\" >-0.237161</td>\n",
       "                        <td id=\"T_adc3721c_45d3_11ea_b018_acde48001122row14_col13\" class=\"data row14 col13\" >-0.00497502</td>\n",
       "                        <td id=\"T_adc3721c_45d3_11ea_b018_acde48001122row14_col14\" class=\"data row14 col14\" >1</td>\n",
       "                        <td id=\"T_adc3721c_45d3_11ea_b018_acde48001122row14_col15\" class=\"data row14 col15\" >-0.194288</td>\n",
       "                        <td id=\"T_adc3721c_45d3_11ea_b018_acde48001122row14_col16\" class=\"data row14 col16\" >-0.00244807</td>\n",
       "                        <td id=\"T_adc3721c_45d3_11ea_b018_acde48001122row14_col17\" class=\"data row14 col17\" >-0.000732012</td>\n",
       "                        <td id=\"T_adc3721c_45d3_11ea_b018_acde48001122row14_col18\" class=\"data row14 col18\" >0.00524379</td>\n",
       "                        <td id=\"T_adc3721c_45d3_11ea_b018_acde48001122row14_col19\" class=\"data row14 col19\" >0.181797</td>\n",
       "                        <td id=\"T_adc3721c_45d3_11ea_b018_acde48001122row14_col20\" class=\"data row14 col20\" >0.0306546</td>\n",
       "                        <td id=\"T_adc3721c_45d3_11ea_b018_acde48001122row14_col21\" class=\"data row14 col21\" >-0.0612728</td>\n",
       "                        <td id=\"T_adc3721c_45d3_11ea_b018_acde48001122row14_col22\" class=\"data row14 col22\" >0.0359905</td>\n",
       "            </tr>\n",
       "            <tr>\n",
       "                        <th id=\"T_adc3721c_45d3_11ea_b018_acde48001122level0_row15\" class=\"row_heading level0 row15\" >Month</th>\n",
       "                        <td id=\"T_adc3721c_45d3_11ea_b018_acde48001122row15_col0\" class=\"data row15 col0\" >0.00101059</td>\n",
       "                        <td id=\"T_adc3721c_45d3_11ea_b018_acde48001122row15_col1\" class=\"data row15 col1\" >0.000903763</td>\n",
       "                        <td id=\"T_adc3721c_45d3_11ea_b018_acde48001122row15_col2\" class=\"data row15 col2\" >0.0284094</td>\n",
       "                        <td id=\"T_adc3721c_45d3_11ea_b018_acde48001122row15_col3\" class=\"data row15 col3\" >0.123376</td>\n",
       "                        <td id=\"T_adc3721c_45d3_11ea_b018_acde48001122row15_col4\" class=\"data row15 col4\" >0.235983</td>\n",
       "                        <td id=\"T_adc3721c_45d3_11ea_b018_acde48001122row15_col5\" class=\"data row15 col5\" >-0.0408763</td>\n",
       "                        <td id=\"T_adc3721c_45d3_11ea_b018_acde48001122row15_col6\" class=\"data row15 col6\" >-0.0892057</td>\n",
       "                        <td id=\"T_adc3721c_45d3_11ea_b018_acde48001122row15_col7\" class=\"data row15 col7\" >-0.0193597</td>\n",
       "                        <td id=\"T_adc3721c_45d3_11ea_b018_acde48001122row15_col8\" class=\"data row15 col8\" >0.116031</td>\n",
       "                        <td id=\"T_adc3721c_45d3_11ea_b018_acde48001122row15_col9\" class=\"data row15 col9\" >-0.105569</td>\n",
       "                        <td id=\"T_adc3721c_45d3_11ea_b018_acde48001122row15_col10\" class=\"data row15 col10\" >0.0557697</td>\n",
       "                        <td id=\"T_adc3721c_45d3_11ea_b018_acde48001122row15_col11\" class=\"data row15 col11\" >0.00528187</td>\n",
       "                        <td id=\"T_adc3721c_45d3_11ea_b018_acde48001122row15_col12\" class=\"data row15 col12\" >-0.0124437</td>\n",
       "                        <td id=\"T_adc3721c_45d3_11ea_b018_acde48001122row15_col13\" class=\"data row15 col13\" >-0.00120995</td>\n",
       "                        <td id=\"T_adc3721c_45d3_11ea_b018_acde48001122row15_col14\" class=\"data row15 col14\" >-0.194288</td>\n",
       "                        <td id=\"T_adc3721c_45d3_11ea_b018_acde48001122row15_col15\" class=\"data row15 col15\" >1</td>\n",
       "                        <td id=\"T_adc3721c_45d3_11ea_b018_acde48001122row15_col16\" class=\"data row15 col16\" >3.72357e-05</td>\n",
       "                        <td id=\"T_adc3721c_45d3_11ea_b018_acde48001122row15_col17\" class=\"data row15 col17\" >1.85166e-05</td>\n",
       "                        <td id=\"T_adc3721c_45d3_11ea_b018_acde48001122row15_col18\" class=\"data row15 col18\" >-9.16947e-05</td>\n",
       "                        <td id=\"T_adc3721c_45d3_11ea_b018_acde48001122row15_col19\" class=\"data row15 col19\" >-0.995999</td>\n",
       "                        <td id=\"T_adc3721c_45d3_11ea_b018_acde48001122row15_col20\" class=\"data row15 col20\" >-0.551574</td>\n",
       "                        <td id=\"T_adc3721c_45d3_11ea_b018_acde48001122row15_col21\" class=\"data row15 col21\" >0.248093</td>\n",
       "                        <td id=\"T_adc3721c_45d3_11ea_b018_acde48001122row15_col22\" class=\"data row15 col22\" >-0.423893</td>\n",
       "            </tr>\n",
       "            <tr>\n",
       "                        <th id=\"T_adc3721c_45d3_11ea_b018_acde48001122level0_row16\" class=\"row_heading level0 row16\" >A</th>\n",
       "                        <td id=\"T_adc3721c_45d3_11ea_b018_acde48001122row16_col0\" class=\"data row16 col0\" >-0.0371191</td>\n",
       "                        <td id=\"T_adc3721c_45d3_11ea_b018_acde48001122row16_col1\" class=\"data row16 col1\" >0.0121339</td>\n",
       "                        <td id=\"T_adc3721c_45d3_11ea_b018_acde48001122row16_col2\" class=\"data row16 col2\" >0.185417</td>\n",
       "                        <td id=\"T_adc3721c_45d3_11ea_b018_acde48001122row16_col3\" class=\"data row16 col3\" >0.000451024</td>\n",
       "                        <td id=\"T_adc3721c_45d3_11ea_b018_acde48001122row16_col4\" class=\"data row16 col4\" >0.0244925</td>\n",
       "                        <td id=\"T_adc3721c_45d3_11ea_b018_acde48001122row16_col5\" class=\"data row16 col5\" >-0.0379733</td>\n",
       "                        <td id=\"T_adc3721c_45d3_11ea_b018_acde48001122row16_col6\" class=\"data row16 col6\" >0.0865552</td>\n",
       "                        <td id=\"T_adc3721c_45d3_11ea_b018_acde48001122row16_col7\" class=\"data row16 col7\" >0.0408727</td>\n",
       "                        <td id=\"T_adc3721c_45d3_11ea_b018_acde48001122row16_col8\" class=\"data row16 col8\" >0.0150833</td>\n",
       "                        <td id=\"T_adc3721c_45d3_11ea_b018_acde48001122row16_col9\" class=\"data row16 col9\" >0.063737</td>\n",
       "                        <td id=\"T_adc3721c_45d3_11ea_b018_acde48001122row16_col10\" class=\"data row16 col10\" >0.117877</td>\n",
       "                        <td id=\"T_adc3721c_45d3_11ea_b018_acde48001122row16_col11\" class=\"data row16 col11\" >0.0837392</td>\n",
       "                        <td id=\"T_adc3721c_45d3_11ea_b018_acde48001122row16_col12\" class=\"data row16 col12\" >-0.0925738</td>\n",
       "                        <td id=\"T_adc3721c_45d3_11ea_b018_acde48001122row16_col13\" class=\"data row16 col13\" >0.762998</td>\n",
       "                        <td id=\"T_adc3721c_45d3_11ea_b018_acde48001122row16_col14\" class=\"data row16 col14\" >-0.00244807</td>\n",
       "                        <td id=\"T_adc3721c_45d3_11ea_b018_acde48001122row16_col15\" class=\"data row16 col15\" >3.72357e-05</td>\n",
       "                        <td id=\"T_adc3721c_45d3_11ea_b018_acde48001122row16_col16\" class=\"data row16 col16\" >1</td>\n",
       "                        <td id=\"T_adc3721c_45d3_11ea_b018_acde48001122row16_col17\" class=\"data row16 col17\" >-0.813861</td>\n",
       "                        <td id=\"T_adc3721c_45d3_11ea_b018_acde48001122row16_col18\" class=\"data row16 col18\" >-0.342812</td>\n",
       "                        <td id=\"T_adc3721c_45d3_11ea_b018_acde48001122row16_col19\" class=\"data row16 col19\" >2.74937e-05</td>\n",
       "                        <td id=\"T_adc3721c_45d3_11ea_b018_acde48001122row16_col20\" class=\"data row16 col20\" >-0.000212509</td>\n",
       "                        <td id=\"T_adc3721c_45d3_11ea_b018_acde48001122row16_col21\" class=\"data row16 col21\" >-0.00061761</td>\n",
       "                        <td id=\"T_adc3721c_45d3_11ea_b018_acde48001122row16_col22\" class=\"data row16 col22\" >-0.000146276</td>\n",
       "            </tr>\n",
       "            <tr>\n",
       "                        <th id=\"T_adc3721c_45d3_11ea_b018_acde48001122level0_row17\" class=\"row_heading level0 row17\" >B</th>\n",
       "                        <td id=\"T_adc3721c_45d3_11ea_b018_acde48001122row17_col0\" class=\"data row17 col0\" >-0.233461</td>\n",
       "                        <td id=\"T_adc3721c_45d3_11ea_b018_acde48001122row17_col1\" class=\"data row17 col1\" >-0.0299676</td>\n",
       "                        <td id=\"T_adc3721c_45d3_11ea_b018_acde48001122row17_col2\" class=\"data row17 col2\" >-0.131219</td>\n",
       "                        <td id=\"T_adc3721c_45d3_11ea_b018_acde48001122row17_col3\" class=\"data row17 col3\" >0.000166554</td>\n",
       "                        <td id=\"T_adc3721c_45d3_11ea_b018_acde48001122row17_col4\" class=\"data row17 col4\" >-0.109032</td>\n",
       "                        <td id=\"T_adc3721c_45d3_11ea_b018_acde48001122row17_col5\" class=\"data row17 col5\" >0.0373165</td>\n",
       "                        <td id=\"T_adc3721c_45d3_11ea_b018_acde48001122row17_col6\" class=\"data row17 col6\" >-0.00481437</td>\n",
       "                        <td id=\"T_adc3721c_45d3_11ea_b018_acde48001122row17_col7\" class=\"data row17 col7\" >-0.00821431</td>\n",
       "                        <td id=\"T_adc3721c_45d3_11ea_b018_acde48001122row17_col8\" class=\"data row17 col8\" >0.00188985</td>\n",
       "                        <td id=\"T_adc3721c_45d3_11ea_b018_acde48001122row17_col9\" class=\"data row17 col9\" >-0.00801238</td>\n",
       "                        <td id=\"T_adc3721c_45d3_11ea_b018_acde48001122row17_col10\" class=\"data row17 col10\" >-0.0639097</td>\n",
       "                        <td id=\"T_adc3721c_45d3_11ea_b018_acde48001122row17_col11\" class=\"data row17 col11\" >-0.0818168</td>\n",
       "                        <td id=\"T_adc3721c_45d3_11ea_b018_acde48001122row17_col12\" class=\"data row17 col12\" >-0.0134355</td>\n",
       "                        <td id=\"T_adc3721c_45d3_11ea_b018_acde48001122row17_col13\" class=\"data row17 col13\" >-0.455646</td>\n",
       "                        <td id=\"T_adc3721c_45d3_11ea_b018_acde48001122row17_col14\" class=\"data row17 col14\" >-0.000732012</td>\n",
       "                        <td id=\"T_adc3721c_45d3_11ea_b018_acde48001122row17_col15\" class=\"data row17 col15\" >1.85166e-05</td>\n",
       "                        <td id=\"T_adc3721c_45d3_11ea_b018_acde48001122row17_col16\" class=\"data row17 col16\" >-0.813861</td>\n",
       "                        <td id=\"T_adc3721c_45d3_11ea_b018_acde48001122row17_col17\" class=\"data row17 col17\" >1</td>\n",
       "                        <td id=\"T_adc3721c_45d3_11ea_b018_acde48001122row17_col18\" class=\"data row17 col18\" >-0.266848</td>\n",
       "                        <td id=\"T_adc3721c_45d3_11ea_b018_acde48001122row17_col19\" class=\"data row17 col19\" >-6.1084e-05</td>\n",
       "                        <td id=\"T_adc3721c_45d3_11ea_b018_acde48001122row17_col20\" class=\"data row17 col20\" >0.000566319</td>\n",
       "                        <td id=\"T_adc3721c_45d3_11ea_b018_acde48001122row17_col21\" class=\"data row17 col21\" >0.0016644</td>\n",
       "                        <td id=\"T_adc3721c_45d3_11ea_b018_acde48001122row17_col22\" class=\"data row17 col22\" >-0.000761155</td>\n",
       "            </tr>\n",
       "            <tr>\n",
       "                        <th id=\"T_adc3721c_45d3_11ea_b018_acde48001122level0_row18\" class=\"row_heading level0 row18\" >C</th>\n",
       "                        <td id=\"T_adc3721c_45d3_11ea_b018_acde48001122row18_col0\" class=\"data row18 col0\" >0.439004</td>\n",
       "                        <td id=\"T_adc3721c_45d3_11ea_b018_acde48001122row18_col1\" class=\"data row18 col1\" >0.0283237</td>\n",
       "                        <td id=\"T_adc3721c_45d3_11ea_b018_acde48001122row18_col2\" class=\"data row18 col2\" >-0.0953882</td>\n",
       "                        <td id=\"T_adc3721c_45d3_11ea_b018_acde48001122row18_col3\" class=\"data row18 col3\" >-0.00101733</td>\n",
       "                        <td id=\"T_adc3721c_45d3_11ea_b018_acde48001122row18_col4\" class=\"data row18 col4\" >0.135651</td>\n",
       "                        <td id=\"T_adc3721c_45d3_11ea_b018_acde48001122row18_col5\" class=\"data row18 col5\" >0.00265207</td>\n",
       "                        <td id=\"T_adc3721c_45d3_11ea_b018_acde48001122row18_col6\" class=\"data row18 col6\" >-0.135776</td>\n",
       "                        <td id=\"T_adc3721c_45d3_11ea_b018_acde48001122row18_col7\" class=\"data row18 col7\" >-0.0545108</td>\n",
       "                        <td id=\"T_adc3721c_45d3_11ea_b018_acde48001122row18_col8\" class=\"data row18 col8\" >-0.0280724</td>\n",
       "                        <td id=\"T_adc3721c_45d3_11ea_b018_acde48001122row18_col9\" class=\"data row18 col9\" >-0.0927597</td>\n",
       "                        <td id=\"T_adc3721c_45d3_11ea_b018_acde48001122row18_col10\" class=\"data row18 col10\" >-0.0921852</td>\n",
       "                        <td id=\"T_adc3721c_45d3_11ea_b018_acde48001122row18_col11\" class=\"data row18 col11\" >-0.00661491</td>\n",
       "                        <td id=\"T_adc3721c_45d3_11ea_b018_acde48001122row18_col12\" class=\"data row18 col12\" >0.175263</td>\n",
       "                        <td id=\"T_adc3721c_45d3_11ea_b018_acde48001122row18_col13\" class=\"data row18 col13\" >-0.528852</td>\n",
       "                        <td id=\"T_adc3721c_45d3_11ea_b018_acde48001122row18_col14\" class=\"data row18 col14\" >0.00524379</td>\n",
       "                        <td id=\"T_adc3721c_45d3_11ea_b018_acde48001122row18_col15\" class=\"data row18 col15\" >-9.16947e-05</td>\n",
       "                        <td id=\"T_adc3721c_45d3_11ea_b018_acde48001122row18_col16\" class=\"data row18 col16\" >-0.342812</td>\n",
       "                        <td id=\"T_adc3721c_45d3_11ea_b018_acde48001122row18_col17\" class=\"data row18 col17\" >-0.266848</td>\n",
       "                        <td id=\"T_adc3721c_45d3_11ea_b018_acde48001122row18_col18\" class=\"data row18 col18\" >1</td>\n",
       "                        <td id=\"T_adc3721c_45d3_11ea_b018_acde48001122row18_col19\" class=\"data row18 col19\" >5.31542e-05</td>\n",
       "                        <td id=\"T_adc3721c_45d3_11ea_b018_acde48001122row18_col20\" class=\"data row18 col20\" >-0.000563106</td>\n",
       "                        <td id=\"T_adc3721c_45d3_11ea_b018_acde48001122row18_col21\" class=\"data row18 col21\" >-0.00166648</td>\n",
       "                        <td id=\"T_adc3721c_45d3_11ea_b018_acde48001122row18_col22\" class=\"data row18 col22\" >0.00147318</td>\n",
       "            </tr>\n",
       "            <tr>\n",
       "                        <th id=\"T_adc3721c_45d3_11ea_b018_acde48001122level0_row19\" class=\"row_heading level0 row19\" >ChristmasCountDown</th>\n",
       "                        <td id=\"T_adc3721c_45d3_11ea_b018_acde48001122row19_col0\" class=\"data row19 col0\" >-0.00103064</td>\n",
       "                        <td id=\"T_adc3721c_45d3_11ea_b018_acde48001122row19_col1\" class=\"data row19 col1\" >-0.000881863</td>\n",
       "                        <td id=\"T_adc3721c_45d3_11ea_b018_acde48001122row19_col2\" class=\"data row19 col2\" >-0.0276734</td>\n",
       "                        <td id=\"T_adc3721c_45d3_11ea_b018_acde48001122row19_col3\" class=\"data row19 col3\" >-0.128184</td>\n",
       "                        <td id=\"T_adc3721c_45d3_11ea_b018_acde48001122row19_col4\" class=\"data row19 col4\" >-0.236276</td>\n",
       "                        <td id=\"T_adc3721c_45d3_11ea_b018_acde48001122row19_col5\" class=\"data row19 col5\" >0.0311396</td>\n",
       "                        <td id=\"T_adc3721c_45d3_11ea_b018_acde48001122row19_col6\" class=\"data row19 col6\" >0.0935719</td>\n",
       "                        <td id=\"T_adc3721c_45d3_11ea_b018_acde48001122row19_col7\" class=\"data row19 col7\" >0.0128122</td>\n",
       "                        <td id=\"T_adc3721c_45d3_11ea_b018_acde48001122row19_col8\" class=\"data row19 col8\" >-0.122323</td>\n",
       "                        <td id=\"T_adc3721c_45d3_11ea_b018_acde48001122row19_col9\" class=\"data row19 col9\" >0.114168</td>\n",
       "                        <td id=\"T_adc3721c_45d3_11ea_b018_acde48001122row19_col10\" class=\"data row19 col10\" >-0.0557366</td>\n",
       "                        <td id=\"T_adc3721c_45d3_11ea_b018_acde48001122row19_col11\" class=\"data row19 col11\" >-0.00634242</td>\n",
       "                        <td id=\"T_adc3721c_45d3_11ea_b018_acde48001122row19_col12\" class=\"data row19 col12\" >0.0154904</td>\n",
       "                        <td id=\"T_adc3721c_45d3_11ea_b018_acde48001122row19_col13\" class=\"data row19 col13\" >0.00129183</td>\n",
       "                        <td id=\"T_adc3721c_45d3_11ea_b018_acde48001122row19_col14\" class=\"data row19 col14\" >0.181797</td>\n",
       "                        <td id=\"T_adc3721c_45d3_11ea_b018_acde48001122row19_col15\" class=\"data row19 col15\" >-0.995999</td>\n",
       "                        <td id=\"T_adc3721c_45d3_11ea_b018_acde48001122row19_col16\" class=\"data row19 col16\" >2.74937e-05</td>\n",
       "                        <td id=\"T_adc3721c_45d3_11ea_b018_acde48001122row19_col17\" class=\"data row19 col17\" >-6.1084e-05</td>\n",
       "                        <td id=\"T_adc3721c_45d3_11ea_b018_acde48001122row19_col18\" class=\"data row19 col18\" >5.31542e-05</td>\n",
       "                        <td id=\"T_adc3721c_45d3_11ea_b018_acde48001122row19_col19\" class=\"data row19 col19\" >1</td>\n",
       "                        <td id=\"T_adc3721c_45d3_11ea_b018_acde48001122row19_col20\" class=\"data row19 col20\" >0.55641</td>\n",
       "                        <td id=\"T_adc3721c_45d3_11ea_b018_acde48001122row19_col21\" class=\"data row19 col21\" >-0.253394</td>\n",
       "                        <td id=\"T_adc3721c_45d3_11ea_b018_acde48001122row19_col22\" class=\"data row19 col22\" >0.424448</td>\n",
       "            </tr>\n",
       "            <tr>\n",
       "                        <th id=\"T_adc3721c_45d3_11ea_b018_acde48001122level0_row20\" class=\"row_heading level0 row20\" >ThanksgivingCountDown</th>\n",
       "                        <td id=\"T_adc3721c_45d3_11ea_b018_acde48001122row20_col0\" class=\"data row20 col0\" >-0.00144318</td>\n",
       "                        <td id=\"T_adc3721c_45d3_11ea_b018_acde48001122row20_col1\" class=\"data row20 col1\" >0.000208983</td>\n",
       "                        <td id=\"T_adc3721c_45d3_11ea_b018_acde48001122row20_col2\" class=\"data row20 col2\" >0.0109238</td>\n",
       "                        <td id=\"T_adc3721c_45d3_11ea_b018_acde48001122row20_col3\" class=\"data row20 col3\" >0.00299834</td>\n",
       "                        <td id=\"T_adc3721c_45d3_11ea_b018_acde48001122row20_col4\" class=\"data row20 col4\" >-0.524235</td>\n",
       "                        <td id=\"T_adc3721c_45d3_11ea_b018_acde48001122row20_col5\" class=\"data row20 col5\" >-0.0808692</td>\n",
       "                        <td id=\"T_adc3721c_45d3_11ea_b018_acde48001122row20_col6\" class=\"data row20 col6\" >0.058851</td>\n",
       "                        <td id=\"T_adc3721c_45d3_11ea_b018_acde48001122row20_col7\" class=\"data row20 col7\" >0.184276</td>\n",
       "                        <td id=\"T_adc3721c_45d3_11ea_b018_acde48001122row20_col8\" class=\"data row20 col8\" >-0.11615</td>\n",
       "                        <td id=\"T_adc3721c_45d3_11ea_b018_acde48001122row20_col9\" class=\"data row20 col9\" >0.0847859</td>\n",
       "                        <td id=\"T_adc3721c_45d3_11ea_b018_acde48001122row20_col10\" class=\"data row20 col10\" >0.0808486</td>\n",
       "                        <td id=\"T_adc3721c_45d3_11ea_b018_acde48001122row20_col11\" class=\"data row20 col11\" >-0.00911208</td>\n",
       "                        <td id=\"T_adc3721c_45d3_11ea_b018_acde48001122row20_col12\" class=\"data row20 col12\" >0.0345801</td>\n",
       "                        <td id=\"T_adc3721c_45d3_11ea_b018_acde48001122row20_col13\" class=\"data row20 col13\" >0.000617343</td>\n",
       "                        <td id=\"T_adc3721c_45d3_11ea_b018_acde48001122row20_col14\" class=\"data row20 col14\" >0.0306546</td>\n",
       "                        <td id=\"T_adc3721c_45d3_11ea_b018_acde48001122row20_col15\" class=\"data row20 col15\" >-0.551574</td>\n",
       "                        <td id=\"T_adc3721c_45d3_11ea_b018_acde48001122row20_col16\" class=\"data row20 col16\" >-0.000212509</td>\n",
       "                        <td id=\"T_adc3721c_45d3_11ea_b018_acde48001122row20_col17\" class=\"data row20 col17\" >0.000566319</td>\n",
       "                        <td id=\"T_adc3721c_45d3_11ea_b018_acde48001122row20_col18\" class=\"data row20 col18\" >-0.000563106</td>\n",
       "                        <td id=\"T_adc3721c_45d3_11ea_b018_acde48001122row20_col19\" class=\"data row20 col19\" >0.55641</td>\n",
       "                        <td id=\"T_adc3721c_45d3_11ea_b018_acde48001122row20_col20\" class=\"data row20 col20\" >1</td>\n",
       "                        <td id=\"T_adc3721c_45d3_11ea_b018_acde48001122row20_col21\" class=\"data row20 col21\" >-0.019938</td>\n",
       "                        <td id=\"T_adc3721c_45d3_11ea_b018_acde48001122row20_col22\" class=\"data row20 col22\" >0.0862139</td>\n",
       "            </tr>\n",
       "            <tr>\n",
       "                        <th id=\"T_adc3721c_45d3_11ea_b018_acde48001122level0_row21\" class=\"row_heading level0 row21\" >LaborDayCountDown</th>\n",
       "                        <td id=\"T_adc3721c_45d3_11ea_b018_acde48001122row21_col0\" class=\"data row21 col0\" >-0.00155944</td>\n",
       "                        <td id=\"T_adc3721c_45d3_11ea_b018_acde48001122row21_col1\" class=\"data row21 col1\" >-0.00214943</td>\n",
       "                        <td id=\"T_adc3721c_45d3_11ea_b018_acde48001122row21_col2\" class=\"data row21 col2\" >0.00146379</td>\n",
       "                        <td id=\"T_adc3721c_45d3_11ea_b018_acde48001122row21_col3\" class=\"data row21 col3\" >0.000823528</td>\n",
       "                        <td id=\"T_adc3721c_45d3_11ea_b018_acde48001122row21_col4\" class=\"data row21 col4\" >-0.48642</td>\n",
       "                        <td id=\"T_adc3721c_45d3_11ea_b018_acde48001122row21_col5\" class=\"data row21 col5\" >-0.0951786</td>\n",
       "                        <td id=\"T_adc3721c_45d3_11ea_b018_acde48001122row21_col6\" class=\"data row21 col6\" >-0.0369964</td>\n",
       "                        <td id=\"T_adc3721c_45d3_11ea_b018_acde48001122row21_col7\" class=\"data row21 col7\" >0.102285</td>\n",
       "                        <td id=\"T_adc3721c_45d3_11ea_b018_acde48001122row21_col8\" class=\"data row21 col8\" >0.0883175</td>\n",
       "                        <td id=\"T_adc3721c_45d3_11ea_b018_acde48001122row21_col9\" class=\"data row21 col9\" >-0.0331103</td>\n",
       "                        <td id=\"T_adc3721c_45d3_11ea_b018_acde48001122row21_col10\" class=\"data row21 col10\" >0.0531156</td>\n",
       "                        <td id=\"T_adc3721c_45d3_11ea_b018_acde48001122row21_col11\" class=\"data row21 col11\" >0.000985794</td>\n",
       "                        <td id=\"T_adc3721c_45d3_11ea_b018_acde48001122row21_col12\" class=\"data row21 col12\" >-0.000760669</td>\n",
       "                        <td id=\"T_adc3721c_45d3_11ea_b018_acde48001122row21_col13\" class=\"data row21 col13\" >-0.000934282</td>\n",
       "                        <td id=\"T_adc3721c_45d3_11ea_b018_acde48001122row21_col14\" class=\"data row21 col14\" >-0.0612728</td>\n",
       "                        <td id=\"T_adc3721c_45d3_11ea_b018_acde48001122row21_col15\" class=\"data row21 col15\" >0.248093</td>\n",
       "                        <td id=\"T_adc3721c_45d3_11ea_b018_acde48001122row21_col16\" class=\"data row21 col16\" >-0.00061761</td>\n",
       "                        <td id=\"T_adc3721c_45d3_11ea_b018_acde48001122row21_col17\" class=\"data row21 col17\" >0.0016644</td>\n",
       "                        <td id=\"T_adc3721c_45d3_11ea_b018_acde48001122row21_col18\" class=\"data row21 col18\" >-0.00166648</td>\n",
       "                        <td id=\"T_adc3721c_45d3_11ea_b018_acde48001122row21_col19\" class=\"data row21 col19\" >-0.253394</td>\n",
       "                        <td id=\"T_adc3721c_45d3_11ea_b018_acde48001122row21_col20\" class=\"data row21 col20\" >-0.019938</td>\n",
       "                        <td id=\"T_adc3721c_45d3_11ea_b018_acde48001122row21_col21\" class=\"data row21 col21\" >1</td>\n",
       "                        <td id=\"T_adc3721c_45d3_11ea_b018_acde48001122row21_col22\" class=\"data row21 col22\" >-0.424171</td>\n",
       "            </tr>\n",
       "            <tr>\n",
       "                        <th id=\"T_adc3721c_45d3_11ea_b018_acde48001122level0_row22\" class=\"row_heading level0 row22\" >SuperBowlCountDown</th>\n",
       "                        <td id=\"T_adc3721c_45d3_11ea_b018_acde48001122row22_col0\" class=\"data row22 col0\" >0.00041832</td>\n",
       "                        <td id=\"T_adc3721c_45d3_11ea_b018_acde48001122row22_col1\" class=\"data row22 col1\" >-0.00029886</td>\n",
       "                        <td id=\"T_adc3721c_45d3_11ea_b018_acde48001122row22_col2\" class=\"data row22 col2\" >-0.0120038</td>\n",
       "                        <td id=\"T_adc3721c_45d3_11ea_b018_acde48001122row22_col3\" class=\"data row22 col3\" >-0.320952</td>\n",
       "                        <td id=\"T_adc3721c_45d3_11ea_b018_acde48001122row22_col4\" class=\"data row22 col4\" >0.221513</td>\n",
       "                        <td id=\"T_adc3721c_45d3_11ea_b018_acde48001122row22_col5\" class=\"data row22 col5\" >0.161818</td>\n",
       "                        <td id=\"T_adc3721c_45d3_11ea_b018_acde48001122row22_col6\" class=\"data row22 col6\" >-0.0178527</td>\n",
       "                        <td id=\"T_adc3721c_45d3_11ea_b018_acde48001122row22_col7\" class=\"data row22 col7\" >-0.149188</td>\n",
       "                        <td id=\"T_adc3721c_45d3_11ea_b018_acde48001122row22_col8\" class=\"data row22 col8\" >-0.0912552</td>\n",
       "                        <td id=\"T_adc3721c_45d3_11ea_b018_acde48001122row22_col9\" class=\"data row22 col9\" >-0.0662277</td>\n",
       "                        <td id=\"T_adc3721c_45d3_11ea_b018_acde48001122row22_col10\" class=\"data row22 col10\" >-0.076561</td>\n",
       "                        <td id=\"T_adc3721c_45d3_11ea_b018_acde48001122row22_col11\" class=\"data row22 col11\" >-0.00213786</td>\n",
       "                        <td id=\"T_adc3721c_45d3_11ea_b018_acde48001122row22_col12\" class=\"data row22 col12\" >0.0150841</td>\n",
       "                        <td id=\"T_adc3721c_45d3_11ea_b018_acde48001122row22_col13\" class=\"data row22 col13\" >0.000377139</td>\n",
       "                        <td id=\"T_adc3721c_45d3_11ea_b018_acde48001122row22_col14\" class=\"data row22 col14\" >0.0359905</td>\n",
       "                        <td id=\"T_adc3721c_45d3_11ea_b018_acde48001122row22_col15\" class=\"data row22 col15\" >-0.423893</td>\n",
       "                        <td id=\"T_adc3721c_45d3_11ea_b018_acde48001122row22_col16\" class=\"data row22 col16\" >-0.000146276</td>\n",
       "                        <td id=\"T_adc3721c_45d3_11ea_b018_acde48001122row22_col17\" class=\"data row22 col17\" >-0.000761155</td>\n",
       "                        <td id=\"T_adc3721c_45d3_11ea_b018_acde48001122row22_col18\" class=\"data row22 col18\" >0.00147318</td>\n",
       "                        <td id=\"T_adc3721c_45d3_11ea_b018_acde48001122row22_col19\" class=\"data row22 col19\" >0.424448</td>\n",
       "                        <td id=\"T_adc3721c_45d3_11ea_b018_acde48001122row22_col20\" class=\"data row22 col20\" >0.0862139</td>\n",
       "                        <td id=\"T_adc3721c_45d3_11ea_b018_acde48001122row22_col21\" class=\"data row22 col21\" >-0.424171</td>\n",
       "                        <td id=\"T_adc3721c_45d3_11ea_b018_acde48001122row22_col22\" class=\"data row22 col22\" >1</td>\n",
       "            </tr>\n",
       "    </tbody></table>"
      ],
      "text/plain": [
       "<pandas.io.formats.style.Styler at 0x11d85db50>"
      ]
     },
     "execution_count": 42,
     "metadata": {},
     "output_type": "execute_result"
    }
   ],
   "source": [
    "corr = dataset.corr()\n",
    "corr.style.background_gradient(cmap='coolwarm', axis=None)"
   ]
  },
  {
   "cell_type": "code",
   "execution_count": 44,
   "metadata": {},
   "outputs": [
    {
     "data": {
      "application/vnd.jupyter.widget-view+json": {
       "model_id": "ef44acdc1bed4c9cb672a3397420642b",
       "version_major": 2,
       "version_minor": 0
      },
      "text/plain": [
       "interactive(children=(Dropdown(description='column1', options=('Store', 'Dept', 'Weekly_Sales', 'IsHoliday', '…"
      ]
     },
     "metadata": {},
     "output_type": "display_data"
    }
   ],
   "source": [
    "@interact\n",
    "def correlation(column1=list(dataset.select_dtypes('number').columns),\n",
    "                column2=list(dataset.select_dtypes('number').columns)\n",
    "               ):\n",
    "    print('Correlation: ', dataset[column1].corr(dataset[column2]))"
   ]
  },
  {
   "cell_type": "code",
   "execution_count": null,
   "metadata": {},
   "outputs": [],
   "source": [
    "dataset['Weekly_Sales_t_1'] = dataset['Weekly_Sales'].shift(1)\n",
    "dataset['Weekly_Sales_t_2'] = dataset['Weekly_Sales'].shift(2)\n",
    "dataset['Weekly_Sales_t_3'] = dataset['Weekly_Sales'].shift(3)"
   ]
  },
  {
   "cell_type": "code",
   "execution_count": 45,
   "metadata": {},
   "outputs": [],
   "source": [
    "dataset.to_csv('final_dataset.csv', index=False)"
   ]
  },
  {
   "cell_type": "code",
   "execution_count": null,
   "metadata": {},
   "outputs": [],
   "source": []
  }
 ],
 "metadata": {
  "kernelspec": {
   "display_name": "Datascience",
   "language": "python",
   "name": "datascience"
  },
  "language_info": {
   "codemirror_mode": {
    "name": "ipython",
    "version": 3
   },
   "file_extension": ".py",
   "mimetype": "text/x-python",
   "name": "python",
   "nbconvert_exporter": "python",
   "pygments_lexer": "ipython3",
   "version": "3.7.4"
  }
 },
 "nbformat": 4,
 "nbformat_minor": 2
}
